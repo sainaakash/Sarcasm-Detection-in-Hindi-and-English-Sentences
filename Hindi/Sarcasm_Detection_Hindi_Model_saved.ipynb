{
  "nbformat": 4,
  "nbformat_minor": 0,
  "metadata": {
    "colab": {
      "provenance": []
    },
    "kernelspec": {
      "display_name": "Python 3",
      "name": "python3"
    },
    "language_info": {
      "name": "python"
    }
  },
  "cells": [
    {
      "cell_type": "code",
      "metadata": {
        "id": "zNyDBrV9KfPC"
      },
      "source": [
        "import tensorflow as tf\n",
        "from tensorflow.keras.preprocessing.text import Tokenizer\n",
        "from tensorflow.keras.preprocessing.sequence import pad_sequences\n",
        "import random\n",
        "from sklearn.model_selection import train_test_split"
      ],
      "execution_count": null,
      "outputs": []
    },
    {
      "cell_type": "code",
      "metadata": {
        "id": "XHgvl_tq9jvZ"
      },
      "source": [
        "import pandas as pd\n",
        "import numpy as np\n",
        "import matplotlib.pyplot as plt\n",
        "%matplotlib inline"
      ],
      "execution_count": null,
      "outputs": []
    },
    {
      "cell_type": "code",
      "metadata": {
        "colab": {
          "base_uri": "https://localhost:8080/"
        },
        "id": "bjusqOmqUDfr",
        "outputId": "e09c3de4-8c6c-4d90-efb0-59faa9ae714f"
      },
      "source": [
        "!ls \"/content/drive/My Drive/Dataset/\""
      ],
      "execution_count": null,
      "outputs": [
        {
          "output_type": "stream",
          "name": "stdout",
          "text": [
            "ls: cannot access '/content/drive/My Drive/Dataset/': No such file or directory\n"
          ]
        }
      ]
    },
    {
      "cell_type": "code",
      "metadata": {
        "id": "d24XFUDyUfVF"
      },
      "source": [
        "train_data = pd.read_excel('/content/drive/My Drive/Dataset/MergeResult.xlsx')"
      ],
      "execution_count": null,
      "outputs": []
    },
    {
      "cell_type": "code",
      "metadata": {
        "colab": {
          "base_uri": "https://localhost:8080/",
          "height": 847
        },
        "id": "ejMlSXCOUn-C",
        "outputId": "e29f96d3-843e-4e08-fc86-b371596a90c5"
      },
      "source": [
        "train_data"
      ],
      "execution_count": null,
      "outputs": [
        {
          "output_type": "execute_result",
          "data": {
            "text/html": [
              "<div>\n",
              "<style scoped>\n",
              "    .dataframe tbody tr th:only-of-type {\n",
              "        vertical-align: middle;\n",
              "    }\n",
              "\n",
              "    .dataframe tbody tr th {\n",
              "        vertical-align: top;\n",
              "    }\n",
              "\n",
              "    .dataframe thead th {\n",
              "        text-align: right;\n",
              "    }\n",
              "</style>\n",
              "<table border=\"1\" class=\"dataframe\">\n",
              "  <thead>\n",
              "    <tr style=\"text-align: right;\">\n",
              "      <th></th>\n",
              "      <th>username</th>\n",
              "      <th>acctdesc</th>\n",
              "      <th>location</th>\n",
              "      <th>following</th>\n",
              "      <th>followers</th>\n",
              "      <th>totaltweets</th>\n",
              "      <th>usercreatedts</th>\n",
              "      <th>tweetcreatedts</th>\n",
              "      <th>Sarcastic</th>\n",
              "      <th>text</th>\n",
              "      <th>hashtags</th>\n",
              "    </tr>\n",
              "  </thead>\n",
              "  <tbody>\n",
              "    <tr>\n",
              "      <th>0</th>\n",
              "      <td>Jatsland</td>\n",
              "      <td>→ \\nℳera☺ Attitude मेरी 😎शान है,\\n\\nAur ℳerä द...</td>\n",
              "      <td>आपणो राजस्थान {नागौरी}</td>\n",
              "      <td>124</td>\n",
              "      <td>2884</td>\n",
              "      <td>70421</td>\n",
              "      <td>2014-05-08 05:11:58</td>\n",
              "      <td>2020-06-22 14:36:47</td>\n",
              "      <td>0</td>\n",
              "      <td>🍃🌼🍃🌼🍃🌼🍃🌼🍃🌼🍃\\n\\nकभी न बुझती है \\nवो प्यास है #ज...</td>\n",
              "      <td>[{'text': 'जिंदगी', 'indices': [60, 67]}, {'te...</td>\n",
              "    </tr>\n",
              "    <tr>\n",
              "      <th>1</th>\n",
              "      <td>lifestyleship7</td>\n",
              "      <td>Daily Lifestyle से संबंधित Educational, Busine...</td>\n",
              "      <td>India</td>\n",
              "      <td>0</td>\n",
              "      <td>1</td>\n",
              "      <td>13</td>\n",
              "      <td>2020-06-15 11:17:47</td>\n",
              "      <td>2020-06-22 14:29:26</td>\n",
              "      <td>0</td>\n",
              "      <td>डिप्रेशन के शुरुआती आठ लक्षण, उदाहरण और इलाज\\n...</td>\n",
              "      <td>[{'text': 'depression', 'indices': [75, 86]}, ...</td>\n",
              "    </tr>\n",
              "    <tr>\n",
              "      <th>2</th>\n",
              "      <td>Benish_shex</td>\n",
              "      <td>I may not be perfect but atlest I m not fake.....</td>\n",
              "      <td>Karachi, Pakistan</td>\n",
              "      <td>186</td>\n",
              "      <td>154</td>\n",
              "      <td>5232</td>\n",
              "      <td>2016-05-26 08:01:53</td>\n",
              "      <td>2020-06-22 14:26:56</td>\n",
              "      <td>0</td>\n",
              "      <td>@FaiziJee98 Aaj apki saalgirah hy nahi 🙊😛 or j...</td>\n",
              "      <td>[{'text': 'happy', 'indices': [72, 78]}, {'tex...</td>\n",
              "    </tr>\n",
              "    <tr>\n",
              "      <th>3</th>\n",
              "      <td>Priyanshi_001</td>\n",
              "      <td>#My_life_my_rules_and_my_attitude.... \\n\\n#जी_...</td>\n",
              "      <td>🌹💫💕💫🌹</td>\n",
              "      <td>7</td>\n",
              "      <td>1111</td>\n",
              "      <td>51312</td>\n",
              "      <td>2019-05-06 03:31:52</td>\n",
              "      <td>2020-06-22 14:23:01</td>\n",
              "      <td>0</td>\n",
              "      <td>🍃🌼🍃🌼🍃🌼🍃🌼🍃🌼🍃\\n\\nकभी न बुझती है \\nवो प्यास है #ज...</td>\n",
              "      <td>[{'text': 'जिंदगी', 'indices': [60, 67]}, {'te...</td>\n",
              "    </tr>\n",
              "    <tr>\n",
              "      <th>4</th>\n",
              "      <td>ParthikaH</td>\n",
              "      <td>I mAKe My OwN wAy</td>\n",
              "      <td>India 🇮🇳</td>\n",
              "      <td>62</td>\n",
              "      <td>9</td>\n",
              "      <td>28</td>\n",
              "      <td>2019-06-18 18:17:23</td>\n",
              "      <td>2020-06-22 14:21:30</td>\n",
              "      <td>0</td>\n",
              "      <td>#Happy rathyatra https://t.co/flLVnffvOJ</td>\n",
              "      <td>[{'text': 'Happy', 'indices': [0, 6]}]</td>\n",
              "    </tr>\n",
              "    <tr>\n",
              "      <th>...</th>\n",
              "      <td>...</td>\n",
              "      <td>...</td>\n",
              "      <td>...</td>\n",
              "      <td>...</td>\n",
              "      <td>...</td>\n",
              "      <td>...</td>\n",
              "      <td>...</td>\n",
              "      <td>...</td>\n",
              "      <td>...</td>\n",
              "      <td>...</td>\n",
              "      <td>...</td>\n",
              "    </tr>\n",
              "    <tr>\n",
              "      <th>16174</th>\n",
              "      <td>voice_les</td>\n",
              "      <td>मजबूर, मजदूर, लाचार और किसानों पर सच्चाई से लि...</td>\n",
              "      <td>Patna, India</td>\n",
              "      <td>1128</td>\n",
              "      <td>1093</td>\n",
              "      <td>9914</td>\n",
              "      <td>2015-01-06 21:43:32</td>\n",
              "      <td>2020-06-15 09:14:14</td>\n",
              "      <td>1</td>\n",
              "      <td>बड़े शौक से हमारी मजबूरी का मजाक उड़ाते हो।\\nम...</td>\n",
              "      <td>[{'text': 'कटाक्ष', 'indices': [86, 93]}]</td>\n",
              "    </tr>\n",
              "    <tr>\n",
              "      <th>16175</th>\n",
              "      <td>alokverma17</td>\n",
              "      <td>Keynote Speaker, Consultant. Blogger. Facilita...</td>\n",
              "      <td>Gurgaon, Haryana</td>\n",
              "      <td>247</td>\n",
              "      <td>164</td>\n",
              "      <td>345</td>\n",
              "      <td>2009-12-05 16:49:02</td>\n",
              "      <td>2020-06-15 09:12:47</td>\n",
              "      <td>1</td>\n",
              "      <td>सुख के सब साथी \\nदुख में न कोई ...\\n\\nकिसी के ...</td>\n",
              "      <td>[{'text': 'SushantNoMore', 'indices': [140, 15...</td>\n",
              "    </tr>\n",
              "    <tr>\n",
              "      <th>16176</th>\n",
              "      <td>_Harsh_Jr</td>\n",
              "      <td>Nikal Pehli Fursaat Mein 😎 ||\\nHarHarMahadev 🙏...</td>\n",
              "      <td>Erangel</td>\n",
              "      <td>114</td>\n",
              "      <td>143</td>\n",
              "      <td>448</td>\n",
              "      <td>2020-04-08 13:01:51</td>\n",
              "      <td>2020-06-15 06:01:59</td>\n",
              "      <td>1</td>\n",
              "      <td>Sone Ki Chain Important Nhi Hoti\\nBalki\\nChain...</td>\n",
              "      <td>[{'text': 'Sarcasm', 'indices': [72, 80]}]</td>\n",
              "    </tr>\n",
              "    <tr>\n",
              "      <th>16177</th>\n",
              "      <td>BUDHLADA_</td>\n",
              "      <td>NATION BUILDER AND CHANGE MAKER THROUGH TECHNO...</td>\n",
              "      <td>India</td>\n",
              "      <td>94</td>\n",
              "      <td>30</td>\n",
              "      <td>1894</td>\n",
              "      <td>2017-09-30 05:18:20</td>\n",
              "      <td>2020-06-15 05:37:45</td>\n",
              "      <td>1</td>\n",
              "      <td>@IACAbhi @myvivek1989 kya baat kr rhe ho..\\n\\n...</td>\n",
              "      <td>[{'text': 'SARCASM', 'indices': [111, 119]}]</td>\n",
              "    </tr>\n",
              "    <tr>\n",
              "      <th>16178</th>\n",
              "      <td>Ad_lover_Dv</td>\n",
              "      <td>Aage baat karne ke liye kiripya iss link par c...</td>\n",
              "      <td>New Delhi, India</td>\n",
              "      <td>2</td>\n",
              "      <td>10</td>\n",
              "      <td>396</td>\n",
              "      <td>2019-07-25 05:11:08</td>\n",
              "      <td>2020-06-15 03:04:55</td>\n",
              "      <td>1</td>\n",
              "      <td>Corona se Bachne Ke Liye Ghar par rahe\\n.\\n.\\n...</td>\n",
              "      <td>[{'text': 'memes', 'indices': [139, 145]}, {'t...</td>\n",
              "    </tr>\n",
              "  </tbody>\n",
              "</table>\n",
              "<p>16179 rows × 11 columns</p>\n",
              "</div>"
            ],
            "text/plain": [
              "             username  ...                                           hashtags\n",
              "0            Jatsland  ...  [{'text': 'जिंदगी', 'indices': [60, 67]}, {'te...\n",
              "1      lifestyleship7  ...  [{'text': 'depression', 'indices': [75, 86]}, ...\n",
              "2         Benish_shex  ...  [{'text': 'happy', 'indices': [72, 78]}, {'tex...\n",
              "3       Priyanshi_001  ...  [{'text': 'जिंदगी', 'indices': [60, 67]}, {'te...\n",
              "4           ParthikaH  ...             [{'text': 'Happy', 'indices': [0, 6]}]\n",
              "...               ...  ...                                                ...\n",
              "16174       voice_les  ...          [{'text': 'कटाक्ष', 'indices': [86, 93]}]\n",
              "16175     alokverma17  ...  [{'text': 'SushantNoMore', 'indices': [140, 15...\n",
              "16176       _Harsh_Jr  ...         [{'text': 'Sarcasm', 'indices': [72, 80]}]\n",
              "16177       BUDHLADA_  ...       [{'text': 'SARCASM', 'indices': [111, 119]}]\n",
              "16178     Ad_lover_Dv  ...  [{'text': 'memes', 'indices': [139, 145]}, {'t...\n",
              "\n",
              "[16179 rows x 11 columns]"
            ]
          },
          "metadata": {
            "tags": []
          },
          "execution_count": 5
        }
      ]
    },
    {
      "cell_type": "code",
      "metadata": {
        "colab": {
          "base_uri": "https://localhost:8080/"
        },
        "id": "FH2evapYPt9e",
        "outputId": "3608ebbf-ba1c-4c6c-dce4-64347cee3f57"
      },
      "source": [
        "train_data['username']"
      ],
      "execution_count": null,
      "outputs": [
        {
          "output_type": "execute_result",
          "data": {
            "text/plain": [
              "0              Jatsland\n",
              "1        lifestyleship7\n",
              "2           Benish_shex\n",
              "3         Priyanshi_001\n",
              "4             ParthikaH\n",
              "              ...      \n",
              "16174         voice_les\n",
              "16175       alokverma17\n",
              "16176         _Harsh_Jr\n",
              "16177         BUDHLADA_\n",
              "16178       Ad_lover_Dv\n",
              "Name: username, Length: 16179, dtype: object"
            ]
          },
          "metadata": {
            "tags": []
          },
          "execution_count": 6
        }
      ]
    },
    {
      "cell_type": "code",
      "metadata": {
        "id": "R6lyhrdB39IE"
      },
      "source": [
        "from sklearn.utils import shuffle\n",
        "train_data_new = shuffle(train_data)"
      ],
      "execution_count": null,
      "outputs": []
    },
    {
      "cell_type": "code",
      "metadata": {
        "colab": {
          "base_uri": "https://localhost:8080/",
          "height": 810
        },
        "id": "J3zJoKL84NnT",
        "outputId": "c2154f5e-e456-49cf-8698-dd66f83929a8"
      },
      "source": [
        "train_data_new"
      ],
      "execution_count": null,
      "outputs": [
        {
          "output_type": "execute_result",
          "data": {
            "text/html": [
              "<div>\n",
              "<style scoped>\n",
              "    .dataframe tbody tr th:only-of-type {\n",
              "        vertical-align: middle;\n",
              "    }\n",
              "\n",
              "    .dataframe tbody tr th {\n",
              "        vertical-align: top;\n",
              "    }\n",
              "\n",
              "    .dataframe thead th {\n",
              "        text-align: right;\n",
              "    }\n",
              "</style>\n",
              "<table border=\"1\" class=\"dataframe\">\n",
              "  <thead>\n",
              "    <tr style=\"text-align: right;\">\n",
              "      <th></th>\n",
              "      <th>username</th>\n",
              "      <th>acctdesc</th>\n",
              "      <th>location</th>\n",
              "      <th>following</th>\n",
              "      <th>followers</th>\n",
              "      <th>totaltweets</th>\n",
              "      <th>usercreatedts</th>\n",
              "      <th>tweetcreatedts</th>\n",
              "      <th>Sarcastic</th>\n",
              "      <th>text</th>\n",
              "      <th>hashtags</th>\n",
              "    </tr>\n",
              "  </thead>\n",
              "  <tbody>\n",
              "    <tr>\n",
              "      <th>7978</th>\n",
              "      <td>ivijyendrasingh</td>\n",
              "      <td>राष्ट्रवादी हु , शायर हु खुद के जज़्बातों की कल...</td>\n",
              "      <td>विदिशा</td>\n",
              "      <td>4891</td>\n",
              "      <td>4964</td>\n",
              "      <td>298011</td>\n",
              "      <td>2013-12-15 09:07:23</td>\n",
              "      <td>2020-06-14 14:08:55</td>\n",
              "      <td>0</td>\n",
              "      <td>कुछ नहीं है हारने को\\n         लेकिन\\n#SMILE क...</td>\n",
              "      <td>[{'text': 'SMILE', 'indices': [57, 63]}]</td>\n",
              "    </tr>\n",
              "    <tr>\n",
              "      <th>14514</th>\n",
              "      <td>UntoldStorY06</td>\n",
              "      <td>Cricketer, Prankster, Lyricist , Theatre Freak...</td>\n",
              "      <td>Ufa, Russia</td>\n",
              "      <td>379</td>\n",
              "      <td>7963</td>\n",
              "      <td>290714</td>\n",
              "      <td>2013-11-30 12:47:34</td>\n",
              "      <td>2020-06-20 16:36:16</td>\n",
              "      <td>1</td>\n",
              "      <td>आज ट्विटर पर किसी यूजर के ट्वीट में एक शब्द दे...</td>\n",
              "      <td>[]</td>\n",
              "    </tr>\n",
              "    <tr>\n",
              "      <th>1821</th>\n",
              "      <td>SaritaDineshTBM</td>\n",
              "      <td>NaN</td>\n",
              "      <td>Rajasthan, India</td>\n",
              "      <td>60</td>\n",
              "      <td>59</td>\n",
              "      <td>1612</td>\n",
              "      <td>2015-10-13 08:35:25</td>\n",
              "      <td>2020-06-14 17:45:09</td>\n",
              "      <td>0</td>\n",
              "      <td>राजस्थान विश्वविद्यालय की आन बान शान वर्तमान छ...</td>\n",
              "      <td>[]</td>\n",
              "    </tr>\n",
              "    <tr>\n",
              "      <th>5921</th>\n",
              "      <td>IAmGulista</td>\n",
              "      <td>हम चुपके से दबे पाँव,तेरी कहानी से निकल जाएँगे.</td>\n",
              "      <td>Lucknow, India</td>\n",
              "      <td>132</td>\n",
              "      <td>16623</td>\n",
              "      <td>1611</td>\n",
              "      <td>2017-03-16 05:48:31</td>\n",
              "      <td>2020-06-14 15:42:19</td>\n",
              "      <td>0</td>\n",
              "      <td>🤔🤔🤔🤔🤔🤔🤔🤔🤔\\nइतनी नफ़रत कहाँ से लाते हो तुम लोग ...</td>\n",
              "      <td>[]</td>\n",
              "    </tr>\n",
              "    <tr>\n",
              "      <th>13418</th>\n",
              "      <td>akkysingh_</td>\n",
              "      <td>Backbencher wale memer hai hum..😅            |...</td>\n",
              "      <td>Hapur, India</td>\n",
              "      <td>3</td>\n",
              "      <td>13</td>\n",
              "      <td>169</td>\n",
              "      <td>2019-12-20 09:14:26</td>\n",
              "      <td>2020-06-18 17:42:15</td>\n",
              "      <td>1</td>\n",
              "      <td>Pehle Log muh se bol kar taana marte the, \\n  ...</td>\n",
              "      <td>[{'text': 'sarcasm', 'indices': [163, 171]}, {...</td>\n",
              "    </tr>\n",
              "    <tr>\n",
              "      <th>...</th>\n",
              "      <td>...</td>\n",
              "      <td>...</td>\n",
              "      <td>...</td>\n",
              "      <td>...</td>\n",
              "      <td>...</td>\n",
              "      <td>...</td>\n",
              "      <td>...</td>\n",
              "      <td>...</td>\n",
              "      <td>...</td>\n",
              "      <td>...</td>\n",
              "      <td>...</td>\n",
              "    </tr>\n",
              "    <tr>\n",
              "      <th>14702</th>\n",
              "      <td>Vijaypurswani5</td>\n",
              "      <td>भारत माता की जय🚩🚩, हिंदू शेर हूँ, मेरा जीवन दे...</td>\n",
              "      <td>Bhopal, India</td>\n",
              "      <td>1417</td>\n",
              "      <td>796</td>\n",
              "      <td>14535</td>\n",
              "      <td>2019-06-09 07:08:50</td>\n",
              "      <td>2020-06-18 09:36:28</td>\n",
              "      <td>1</td>\n",
              "      <td>अगर आज नेहरू जी होते तो शी जिनपिंग की बीवी को ...</td>\n",
              "      <td>[]</td>\n",
              "    </tr>\n",
              "    <tr>\n",
              "      <th>2618</th>\n",
              "      <td>SumerDaryapurk1</td>\n",
              "      <td>🇮🇳हिन्दुस्तानी🇮🇳\\nचाय कभी भी \\nपढ़ाई से नफरत 😭...</td>\n",
              "      <td>NaN</td>\n",
              "      <td>190</td>\n",
              "      <td>72</td>\n",
              "      <td>2438</td>\n",
              "      <td>2019-09-22 06:45:56</td>\n",
              "      <td>2020-06-20 18:41:36</td>\n",
              "      <td>0</td>\n",
              "      <td>Jo dost baap hu mai tera wale dialogs bolte ha...</td>\n",
              "      <td>[{'text': 'HAPPY', 'indices': [59, 65]}]</td>\n",
              "    </tr>\n",
              "    <tr>\n",
              "      <th>2008</th>\n",
              "      <td>Rti14Soni</td>\n",
              "      <td>Name -Aarti Soni Home town Jaipur Rajasthan oc...</td>\n",
              "      <td>pune Maharstra</td>\n",
              "      <td>2</td>\n",
              "      <td>0</td>\n",
              "      <td>2</td>\n",
              "      <td>2019-11-21 10:32:29</td>\n",
              "      <td>2020-06-14 11:01:59</td>\n",
              "      <td>0</td>\n",
              "      <td>#dear #ShushantSinghRajput #aaj yakeen hua jen...</td>\n",
              "      <td>[{'text': 'dear', 'indices': [0, 5]}, {'text':...</td>\n",
              "    </tr>\n",
              "    <tr>\n",
              "      <th>788</th>\n",
              "      <td>sidhantRR</td>\n",
              "      <td>♡ Don't be too sweet otherwise they will eat y...</td>\n",
              "      <td>🇮🇳</td>\n",
              "      <td>252</td>\n",
              "      <td>5313</td>\n",
              "      <td>222922</td>\n",
              "      <td>2018-02-22 06:09:45</td>\n",
              "      <td>2020-06-19 17:07:57</td>\n",
              "      <td>0</td>\n",
              "      <td>#नींद खुली है जबसे\\n      #दुख रही है #आँखें_म...</td>\n",
              "      <td>[{'text': 'नींद', 'indices': [17, 22]}, {'text...</td>\n",
              "    </tr>\n",
              "    <tr>\n",
              "      <th>1878</th>\n",
              "      <td>MdSaadkhan1725</td>\n",
              "      <td>Social Activist | Writer | Blogs | Write Witho...</td>\n",
              "      <td>India</td>\n",
              "      <td>888</td>\n",
              "      <td>1318</td>\n",
              "      <td>2003</td>\n",
              "      <td>2019-09-09 13:50:59</td>\n",
              "      <td>2020-06-14 15:45:32</td>\n",
              "      <td>0</td>\n",
              "      <td>🤔🤔🤔🤔🤔🤔🤔🤔🤔\\nइतनी नफ़रत कहाँ से लाते हो तुम लोग ...</td>\n",
              "      <td>[]</td>\n",
              "    </tr>\n",
              "  </tbody>\n",
              "</table>\n",
              "<p>16179 rows × 11 columns</p>\n",
              "</div>"
            ],
            "text/plain": [
              "              username  ...                                           hashtags\n",
              "7978   ivijyendrasingh  ...           [{'text': 'SMILE', 'indices': [57, 63]}]\n",
              "14514    UntoldStorY06  ...                                                 []\n",
              "1821   SaritaDineshTBM  ...                                                 []\n",
              "5921        IAmGulista  ...                                                 []\n",
              "13418       akkysingh_  ...  [{'text': 'sarcasm', 'indices': [163, 171]}, {...\n",
              "...                ...  ...                                                ...\n",
              "14702   Vijaypurswani5  ...                                                 []\n",
              "2618   SumerDaryapurk1  ...           [{'text': 'HAPPY', 'indices': [59, 65]}]\n",
              "2008         Rti14Soni  ...  [{'text': 'dear', 'indices': [0, 5]}, {'text':...\n",
              "788          sidhantRR  ...  [{'text': 'नींद', 'indices': [17, 22]}, {'text...\n",
              "1878    MdSaadkhan1725  ...                                                 []\n",
              "\n",
              "[16179 rows x 11 columns]"
            ]
          },
          "metadata": {
            "tags": []
          },
          "execution_count": 8
        }
      ]
    },
    {
      "cell_type": "code",
      "metadata": {
        "id": "0BlcBMJz2RCl"
      },
      "source": [
        "train_data_new = pd.DataFrame(train_data)"
      ],
      "execution_count": null,
      "outputs": []
    },
    {
      "cell_type": "code",
      "metadata": {
        "colab": {
          "base_uri": "https://localhost:8080/",
          "height": 419
        },
        "id": "zFoWqTwb3F3G",
        "outputId": "fd02e8fa-5cc5-4b75-e081-0fc155e5de45"
      },
      "source": [
        "train_data_new.drop(['username','acctdesc','location','following','followers','totaltweets','usercreatedts','tweetcreatedts','hashtags'], axis = 1)"
      ],
      "execution_count": null,
      "outputs": [
        {
          "output_type": "execute_result",
          "data": {
            "text/html": [
              "<div>\n",
              "<style scoped>\n",
              "    .dataframe tbody tr th:only-of-type {\n",
              "        vertical-align: middle;\n",
              "    }\n",
              "\n",
              "    .dataframe tbody tr th {\n",
              "        vertical-align: top;\n",
              "    }\n",
              "\n",
              "    .dataframe thead th {\n",
              "        text-align: right;\n",
              "    }\n",
              "</style>\n",
              "<table border=\"1\" class=\"dataframe\">\n",
              "  <thead>\n",
              "    <tr style=\"text-align: right;\">\n",
              "      <th></th>\n",
              "      <th>Sarcastic</th>\n",
              "      <th>text</th>\n",
              "    </tr>\n",
              "  </thead>\n",
              "  <tbody>\n",
              "    <tr>\n",
              "      <th>0</th>\n",
              "      <td>0</td>\n",
              "      <td>🍃🌼🍃🌼🍃🌼🍃🌼🍃🌼🍃\\n\\nकभी न बुझती है \\nवो प्यास है #ज...</td>\n",
              "    </tr>\n",
              "    <tr>\n",
              "      <th>1</th>\n",
              "      <td>0</td>\n",
              "      <td>डिप्रेशन के शुरुआती आठ लक्षण, उदाहरण और इलाज\\n...</td>\n",
              "    </tr>\n",
              "    <tr>\n",
              "      <th>2</th>\n",
              "      <td>0</td>\n",
              "      <td>@FaiziJee98 Aaj apki saalgirah hy nahi 🙊😛 or j...</td>\n",
              "    </tr>\n",
              "    <tr>\n",
              "      <th>3</th>\n",
              "      <td>0</td>\n",
              "      <td>🍃🌼🍃🌼🍃🌼🍃🌼🍃🌼🍃\\n\\nकभी न बुझती है \\nवो प्यास है #ज...</td>\n",
              "    </tr>\n",
              "    <tr>\n",
              "      <th>4</th>\n",
              "      <td>0</td>\n",
              "      <td>#Happy rathyatra https://t.co/flLVnffvOJ</td>\n",
              "    </tr>\n",
              "    <tr>\n",
              "      <th>...</th>\n",
              "      <td>...</td>\n",
              "      <td>...</td>\n",
              "    </tr>\n",
              "    <tr>\n",
              "      <th>16174</th>\n",
              "      <td>1</td>\n",
              "      <td>बड़े शौक से हमारी मजबूरी का मजाक उड़ाते हो।\\nम...</td>\n",
              "    </tr>\n",
              "    <tr>\n",
              "      <th>16175</th>\n",
              "      <td>1</td>\n",
              "      <td>सुख के सब साथी \\nदुख में न कोई ...\\n\\nकिसी के ...</td>\n",
              "    </tr>\n",
              "    <tr>\n",
              "      <th>16176</th>\n",
              "      <td>1</td>\n",
              "      <td>Sone Ki Chain Important Nhi Hoti\\nBalki\\nChain...</td>\n",
              "    </tr>\n",
              "    <tr>\n",
              "      <th>16177</th>\n",
              "      <td>1</td>\n",
              "      <td>@IACAbhi @myvivek1989 kya baat kr rhe ho..\\n\\n...</td>\n",
              "    </tr>\n",
              "    <tr>\n",
              "      <th>16178</th>\n",
              "      <td>1</td>\n",
              "      <td>Corona se Bachne Ke Liye Ghar par rahe\\n.\\n.\\n...</td>\n",
              "    </tr>\n",
              "  </tbody>\n",
              "</table>\n",
              "<p>16179 rows × 2 columns</p>\n",
              "</div>"
            ],
            "text/plain": [
              "       Sarcastic                                               text\n",
              "0              0  🍃🌼🍃🌼🍃🌼🍃🌼🍃🌼🍃\\n\\nकभी न बुझती है \\nवो प्यास है #ज...\n",
              "1              0  डिप्रेशन के शुरुआती आठ लक्षण, उदाहरण और इलाज\\n...\n",
              "2              0  @FaiziJee98 Aaj apki saalgirah hy nahi 🙊😛 or j...\n",
              "3              0  🍃🌼🍃🌼🍃🌼🍃🌼🍃🌼🍃\\n\\nकभी न बुझती है \\nवो प्यास है #ज...\n",
              "4              0           #Happy rathyatra https://t.co/flLVnffvOJ\n",
              "...          ...                                                ...\n",
              "16174          1  बड़े शौक से हमारी मजबूरी का मजाक उड़ाते हो।\\nम...\n",
              "16175          1  सुख के सब साथी \\nदुख में न कोई ...\\n\\nकिसी के ...\n",
              "16176          1  Sone Ki Chain Important Nhi Hoti\\nBalki\\nChain...\n",
              "16177          1  @IACAbhi @myvivek1989 kya baat kr rhe ho..\\n\\n...\n",
              "16178          1  Corona se Bachne Ke Liye Ghar par rahe\\n.\\n.\\n...\n",
              "\n",
              "[16179 rows x 2 columns]"
            ]
          },
          "metadata": {
            "tags": []
          },
          "execution_count": 10
        }
      ]
    },
    {
      "cell_type": "code",
      "metadata": {
        "id": "ckRlqbdvScKw"
      },
      "source": [
        "sarcastic = train_data_new[train_data_new['Sarcastic']==1]"
      ],
      "execution_count": null,
      "outputs": []
    },
    {
      "cell_type": "code",
      "metadata": {
        "id": "546IHCfp3pjc"
      },
      "source": [
        "non_sarcastic = train_data_new[train_data_new['Sarcastic']==0]"
      ],
      "execution_count": null,
      "outputs": []
    },
    {
      "cell_type": "code",
      "metadata": {
        "colab": {
          "base_uri": "https://localhost:8080/"
        },
        "id": "28IgNp_k0Cnb",
        "outputId": "6ba50d59-0f11-42b0-d588-d89cb837d19d"
      },
      "source": [
        "len(sarcastic)"
      ],
      "execution_count": null,
      "outputs": [
        {
          "output_type": "execute_result",
          "data": {
            "text/plain": [
              "6051"
            ]
          },
          "metadata": {
            "tags": []
          },
          "execution_count": 13
        }
      ]
    },
    {
      "cell_type": "code",
      "metadata": {
        "colab": {
          "base_uri": "https://localhost:8080/"
        },
        "id": "CQZtU48e0EQq",
        "outputId": "59ba3fd2-ad39-414d-e972-d0f7aee9c0fb"
      },
      "source": [
        "len(non_sarcastic)"
      ],
      "execution_count": null,
      "outputs": [
        {
          "output_type": "execute_result",
          "data": {
            "text/plain": [
              "10128"
            ]
          },
          "metadata": {
            "tags": []
          },
          "execution_count": 14
        }
      ]
    },
    {
      "cell_type": "code",
      "metadata": {
        "colab": {
          "base_uri": "https://localhost:8080/",
          "height": 333
        },
        "id": "kHYv_jZO3vpB",
        "outputId": "7feffeb2-40f1-4117-9547-10e8d9a3918e"
      },
      "source": [
        "import seaborn as sns\n",
        "sns.countplot(train_data_new['Sarcastic'], label = \"Count\");"
      ],
      "execution_count": null,
      "outputs": [
        {
          "output_type": "stream",
          "text": [
            "/usr/local/lib/python3.7/dist-packages/seaborn/_decorators.py:43: FutureWarning: Pass the following variable as a keyword arg: x. From version 0.12, the only valid positional argument will be `data`, and passing other arguments without an explicit keyword will result in an error or misinterpretation.\n",
            "  FutureWarning\n"
          ],
          "name": "stderr"
        },
        {
          "output_type": "display_data",
          "data": {
            "image/png": "[encoded data removed]",
            "text/plain": [
              "<Figure size 432x288 with 1 Axes>"
            ]
          },
          "metadata": {
            "tags": [],
            "needs_background": "light"
          }
        }
      ]
    },
    {
      "cell_type": "code",
      "metadata": {
        "id": "hA1KIgW9K_3U"
      },
      "source": [
        "sentences = train_data['text'].tolist()"
      ],
      "execution_count": null,
      "outputs": []
    },
    {
      "cell_type": "code",
      "metadata": {
        "colab": {
          "base_uri": "https://localhost:8080/"
        },
        "id": "cZojikzTK_0k",
        "outputId": "a2962bc4-b48a-4b3b-bf8a-bcdac355fa24"
      },
      "source": [
        "sentences"
      ],
      "execution_count": null,
      "outputs": [
        {
          "output_type": "execute_result",
          "data": {
            "text/plain": [
              "['🍃🌼🍃🌼🍃🌼🍃🌼🍃🌼🍃\\n\\nकभी न बुझती है \\nवो प्यास है #जिंदगी\\n#निराशा को मिटाती \\nएक आस है जिंदगी,\\nमिल जाती है #खुशियाँ \\nकिसी को जहाँ भर की\\nतो किसी के लिए \\nहर #पल_उदास है जिंदगी।\\n\\n#जिन्दगी \\n\\n🍃🌼🍃🌼🍃🌼🍃🌼🍃🌼🍃',\n",
              " 'डिप्रेशन के शुरुआती आठ लक्षण, उदाहरण और इलाज\\n.\\n\\nhttps://t.co/dDyXBM5OVZ…/\\n\\n#depression #anxiety #mentalhealth #mentalhealthawareness #love #sad #mentalillness #selfcare #ptsd #depressed https://t.co/K4PhW4Au4r',\n",
              " '@FaiziJee98 Aaj apki saalgirah hy nahi 🙊😛 or jis din hogi us din k liye #happy #wala #birthday😄😄🎂🍫',\n",
              " '🍃🌼🍃🌼🍃🌼🍃🌼🍃🌼🍃\\n\\nकभी न बुझती है \\nवो प्यास है #जिंदगी\\n#निराशा को मिटाती \\nएक आस है जिंदगी,\\nमिल जाती है #खुशियाँ \\nकिसी को जहाँ भर की\\nतो किसी के लिए \\nहर #पल_उदास है जिंदगी।\\n\\n#जिन्दगी \\n\\n🍃🌼🍃🌼🍃🌼🍃🌼🍃🌼🍃',\n",
              " '#Happy rathyatra https://t.co/flLVnffvOJ',\n",
              " 'यह सोचकर #दुखी न हों कि,\\n\\n                 #लोग आपको नहीं #समझते.\\n\\nक्योंकि...\\n\\n               #कांटे से #वजन को...\\n\\n                                 #मापा जा सकता है, \\n\\n                 #गुणवत्ता को नहीं !!',\n",
              " 'मेरा प्यारा सा #भांजा क्या #Smile है हाय अल्लाह😘😘\\nकोई प्यारा सा नाम बताओ आप लोग \\nजो छोटा हो पर #Quite हो\\n😘😘 https://t.co/oH48DiYezV',\n",
              " 'जो जानते है वो समझते हैं कि #Boys की मुहब्बत एक #uncut_diamond है, और #girls की #smile एक जौहरी| \\nॐ शान्ति |\\n#eveningvibes',\n",
              " 'Paah paah paah paaaaaah🔥🧯\\n#Smile #smallstreamer #SMworldWide #SMworldWide #SMworldWide #SMworldWide #SMworldWide #ShameOnAajTak #SHATTAWALE https://t.co/nzFT6Em2Ly',\n",
              " 'प्रेम एक ऐसा अनुभव है जो इंसान को कभी हारने नही देता !!\\n\\n#खुशियां \\n#राजकिशोर_रजक https://t.co/jp3K9NKLRn',\n",
              " 'यह सोचकर #दुखी न हों कि,\\n\\n                 #लोग आपको नहीं #समझते.\\n\\nक्योंकि...\\n\\n               #कांटे से #वजन को...\\n\\n                                 #मापा जा सकता है, \\n\\n                 #गुणवत्ता को नहीं !!',\n",
              " 'यह सोचकर #दुखी न हों कि,\\n\\n                 #लोग आपको नहीं #समझते.\\n\\nक्योंकि...\\n\\n               #कांटे से #वजन को...\\n\\n                                 #मापा जा सकता है, \\n\\n                 #गुणवत्ता को नहीं !!',\n",
              " 'किसी का चेहरे की मुस्कराहट\\n की वजह बनें,\\n#खुशी ही नहीं नहीं #सुकून भी   मिलेगा।\\n\\nसुप्रभात 😊💐🙏 https://t.co/SuFnvel4Gu',\n",
              " 'हर वो शायरी जिसमें हमने तुझे महबूब लिखा, \\nजमाने ने सुना और कहा वाह क्या खूब लिखा..!\\n#love #Sad #FolloForFolloBack',\n",
              " 'यह सोचकर #दुखी न हों कि,\\n\\n                 #लोग आपको नहीं #समझते.\\n\\nक्योंकि...\\n\\n               #कांटे से #वजन को...\\n\\n                                 #मापा जा सकता है, \\n\\n                 #गुणवत्ता को नहीं !!',\n",
              " '🍃🌼🍃🌼🍃🌼🍃🌼🍃🌼🍃\\n\\nकभी न बुझती है \\nवो प्यास है #जिंदगी\\n#निराशा को मिटाती \\nएक आस है जिंदगी,\\nमिल जाती है #खुशियाँ \\nकिसी को जहाँ भर की\\nतो किसी के लिए \\nहर #पल_उदास है जिंदगी।\\n\\n#जिन्दगी \\n\\n🍃🌼🍃🌼🍃🌼🍃🌼🍃🌼🍃',\n",
              " 'इतना क्यों सिखाए जा रही हो जिंदगी \\nहमें कोन सी सदियाँ गुजांरनी है यहाँ। \\n\\nगुलज़ार \\n\\n@Gulzar079Kalra\\n@GulzarPremi #शायरी #Shayari #shayri #shayariindia #shayar #हिंदी #काव्यांश #काव्य_कृति #काव्य #Hindi #hindipoetry #शायरांश #sad #sadness #pain #life #PatienceChallenge https://t.co/c4EAQmjv7p',\n",
              " 'मेरे जोशबंदों अब\\nतल्ख़ियां उतारिए\\nहंसिए हंसाइए \\nथोड़ा मुस्कुराइए\\n😅😄🤣🙏\\n#Smile #jock https://t.co/gstGv7ulUA',\n",
              " 'समय एक जैसा नहीं रहता है, हर इंसान एक परिस्थिति में नहीं जीवन यापन करता है। खुश रहिये हर परिस्थिति में , खुश रहने की वजह ढुड़िये। लोगो मे भी खुशी बाँटिये।\\n\\n#happylife\\n#Smile\\n#LOVE2HUMANITY https://t.co/2VMxXT3Bzn',\n",
              " 'इतना क्यों सिखाए जा रही हो जिंदगी \\nहमें कोन सी सदियाँ गुजांरनी है यहाँ। \\n\\nगुलज़ार \\n\\n@Gulzar079Kalra\\n@GulzarPremi #शायरी #Shayari #shayri #shayariindia #shayar #हिंदी #काव्यांश #काव्य_कृति #काव्य #Hindi #hindipoetry #शायरांश #sad #sadness #pain #life #PatienceChallenge https://t.co/c4EAQmjv7p',\n",
              " 'मेरे जोशबंदों अब\\nतल्ख़ियां उतारिए\\nहंसिए हंसाइए \\nथोड़ा मुस्कुराइए\\n😅😄🤣🙏\\n#Smile #jock https://t.co/gstGv7ulUA',\n",
              " '🍃🌼🍃🌼🍃🌼🍃🌼🍃🌼🍃\\n\\nकभी न बुझती है \\nवो प्यास है #जिंदगी\\n#निराशा को मिटाती \\nएक आस है जिंदगी,\\nमिल जाती है #खुशियाँ \\nकिसी को जहाँ भर की\\nतो किसी के लिए \\nहर #पल_उदास है जिंदगी।\\n\\n#जिन्दगी \\n\\n🍃🌼🍃🌼🍃🌼🍃🌼🍃🌼🍃',\n",
              " 'यह सोचकर #दुखी न हों कि,\\n\\n                 #लोग आपको नहीं #समझते.\\n\\nक्योंकि...\\n\\n               #कांटे से #वजन को...\\n\\n                                 #मापा जा सकता है, \\n\\n                 #गुणवत्ता को नहीं !!',\n",
              " 'यह सोचकर #दुखी न हों कि,\\n\\n                 #लोग आपको नहीं #समझते.\\n\\nक्योंकि...\\n\\n               #कांटे से #वजन को...\\n\\n                                 #मापा जा सकता है, \\n\\n                 #गुणवत्ता को नहीं !!',\n",
              " 'किसी का चेहरे की मुस्कराहट\\n की वजह बनें,\\n#खुशी ही नहीं नहीं #सुकून भी   मिलेगा।\\n\\nसुप्रभात 😊💐🙏 https://t.co/SuFnvel4Gu',\n",
              " 'फ़िक्र तो उसे होती है, जिसे मुहब्बत हो,\\nतुम तो सिर्फ खेल रहे थे जज़्बातों से।\\n#sad',\n",
              " 'नफरत करोगे तो अधुरा किस्सा हूँ मै ,\\nमुहब्बत करोगी तो ,तुम्हारा ही हिस्सा हु मै।\\n#love #sad',\n",
              " 'यह सोचकर #दुखी न हों कि,\\n\\n                 #लोग आपको नहीं #समझते.\\n\\nक्योंकि...\\n\\n               #कांटे से #वजन को...\\n\\n                                 #मापा जा सकता है, \\n\\n                 #गुणवत्ता को नहीं !!',\n",
              " 'यह सोचकर #दुखी न हों कि,\\n\\n                 #लोग आपको नहीं #समझते.\\n\\nक्योंकि...\\n\\n               #कांटे से #वजन को...\\n\\n                                 #मापा जा सकता है, \\n\\n                 #गुणवत्ता को नहीं !!',\n",
              " 'कमजोर लीडरशिप के कारण हुआ शिअद का बुरा हाल: परमिंदर ढींढसा\\nhttps://t.co/NGIlGUsg8x\\n#Punjab #SAD #AkaliDal #ShiromaniAklaliDal #Leader #WeakLeadership #ParminerSinghDhindsa https://t.co/1Z3na9oWeF',\n",
              " 'नफरत कमाना भी आसान नहीं हैं इस दुनिया में,\\nबहुत सी खुबिया रखनी पड़ती हैं,\\nकिसी की आँखों में खटकने के लिए। 💐\\n\\n#friend #friends #fun #funny #smile #bff #bf #gf #love #instagood #igers #friendship #party #chill #happy… https://t.co/ShDj4E0mJb',\n",
              " 'भरोसा प्यार दोनो किया था,\\nइसमें कोई खता तो नहीं,\\nवो मेरे कुछ अपने ही थे,\\nजो आग लगाकर देखने आए,\\nकहीं कुछ बचा तो नहीं।।\\n#sad',\n",
              " 'Jaane tu Mera kya hai 💔 #Song #lyrics @RunaRizvi @geneliad #imrankhan #genelia https://t.co/TPUEVdfEno #SONGS #Broken #brokenheart #BrokenHeartsGallery #broken_heart_tales #heartbreak #heartbreaking #sadsong #Sad',\n",
              " 'यह सोचकर #दुखी न हों कि,\\n\\n                 #लोग आपको नहीं #समझते.\\n\\nक्योंकि...\\n\\n               #कांटे से #वजन को...\\n\\n                                 #मापा जा सकता है, \\n\\n                 #गुणवत्ता को नहीं !!',\n",
              " '@dynamiccreativ9 #दुख चाहे #कितना भी #आये...\\n#लेकिन दुख की #परछाई कभी...\\nअपने #बच्चो पर नही #आने देते है...\\n#ऐसे होते है पिता...🌺🌺🌺\\nफिर बच्चे कैसे भूल #जाते है यार 🤦🏿\\u200d♀️🤦🏿\\u200d♀️😒😒',\n",
              " '@dynamiccreativ9 #दुख चाहे #कितना भी #आये...\\n#लेकिन दुख की #परछाई कभी...\\nअपने #बच्चो पर नही #आने देते है...\\n#ऐसे होते है पिता...🌺🌺🌺\\nफिर बच्चे कैसे भूल #जाते है यार 🤦🏿\\u200d♀️🤦🏿\\u200d♀️😒😒',\n",
              " 'Waah ray waah #Happy ???? https://t.co/idN3h8TpMn',\n",
              " '🍃🌼🍃🌼🍃🌼🍃🌼🍃🌼🍃\\n\\nकभी न बुझती है \\nवो प्यास है #जिंदगी\\n#निराशा को मिटाती \\nएक आस है जिंदगी,\\nमिल जाती है #खुशियाँ \\nकिसी को जहाँ भर की\\nतो किसी के लिए \\nहर #पल_उदास है जिंदगी।\\n\\n#जिन्दगी \\n\\n🍃🌼🍃🌼🍃🌼🍃🌼🍃🌼🍃',\n",
              " 'मैं खुद तो हो जाऊंगा \" मगर तुम्हे कभी नही होने दूंगा 😔\\n\\nवोह एक लफ्ज़ जिसे #उदास कहते हैं...\\n           ❤️❤️❤️❤️\\n\\n@Aaliya_shama786 https://t.co/1wThWVBUEl',\n",
              " '🍃🌼🍃🌼🍃🌼🍃🌼🍃🌼🍃\\n\\nकभी न बुझती है \\nवो प्यास है #जिंदगी\\n#निराशा को मिटाती \\nएक आस है जिंदगी,\\nमिल जाती है #खुशियाँ \\nकिसी को जहाँ भर की\\nतो किसी के लिए \\nहर #पल_उदास है जिंदगी।\\n\\n#जिन्दगी \\n\\n🍃🌼🍃🌼🍃🌼🍃🌼🍃🌼🍃',\n",
              " 'भादरा के दबंग विधायक बलवान जी पुनिया को जन्मदिन की हार्दिक शुभकामनाएं #HAPPY🎂🎂🎂BIRTHDAY @BalwanPoonia_  युवाओं के भविष्य 🙏🙏🙏',\n",
              " '#दरबार ऐसा, #हाजरी लगाते ही #दुख-दर्द होतें है दूर, #जहर का असर भी हो जाता है बेअसर, जाने पूरी कहानी\\nhttps://t.co/S4wMYKpTF6',\n",
              " 'फादर का कोई डे नही होता,\\nबल्कि अपना प्रत्येक दिन\\nपापा के कारण होता है ❤\\n#Happy Fathers Day❤ https://t.co/Jd3W0d7nE1',\n",
              " 'फादर का कोई डे नही होता,\\nबल्कि अपना प्रत्येक दिन\\nपापा के कारण होता है ❤\\n#Happy Fathers Day❤ https://t.co/pznVnLwJUn',\n",
              " 'यह सोचकर #दुखी न हों कि,\\n\\n                 #लोग आपको नहीं #समझते.\\n\\nक्योंकि...\\n\\n               #कांटे से #वजन को...\\n\\n                                 #मापा जा सकता है, \\n\\n                 #गुणवत्ता को नहीं !!',\n",
              " 'भादरा के दबंग विधायक बलवान जी पुनिया को जन्मदिन की हार्दिक शुभकामनाएं #HAPPY🎂🎂🎂BIRTHDAY @BalwanPoonia_  युवाओं के भविष्य 🙏🙏🙏',\n",
              " 'Kaha hai wo? Kyu nahi aaya abi tak? Kahi hum marr to nahi gayai un k liyai 😭\\n💔💔\\n\\n#brokenheart  💔 #alone #Sad 😭',\n",
              " 'यह सोचकर #दुखी न हों कि,\\n\\n                 #लोग आपको नहीं #समझते.\\n\\nक्योंकि...\\n\\n               #कांटे से #वजन को...\\n\\n                                 #मापा जा सकता है, \\n\\n                 #गुणवत्ता को नहीं !!',\n",
              " '#Happy  #HappyFathersDay2020 #FathersDay to all मेरे #पिताजी *शान्त ,स्नेह से सरोबार\\nपिताजी*पापा**बाबा*डैडी *एक मज़बूत दीवाल #happyfathersday  to all \\n कुछ लोग कहते हैं ये सब डे मना के क्या करना पर इस एक दिन का ऐहसास पूरे साल वज़ूद में रहता है ना @shrikanttuli @ItsMadhurima19',\n",
              " \"आज जो हम युं, महके महके घुम रहे है ना,\\n\\nहकीकत मे वो हमारे, पिताजी के पसीने की, खुशबू है।\\n\\n#Happy Father's Day# https://t.co/qTtpFEr8Vs\",\n",
              " 'यह सोचकर #दुखी न हों कि,\\n\\n                 #लोग आपको नहीं #समझते.\\n\\nक्योंकि...\\n\\n               #कांटे से #वजन को...\\n\\n                                 #मापा जा सकता है, \\n\\n                 #गुणवत्ता को नहीं !!',\n",
              " 'भादरा के दबंग विधायक बलवान जी पुनिया को जन्मदिन की हार्दिक शुभकामनाएं #HAPPY🎂🎂🎂BIRTHDAY @BalwanPoonia_  युवाओं के भविष्य 🙏🙏🙏',\n",
              " 'खुश हुआ करते थे तुम्हारी #मुस्कान देखकर...\\n #कमबख्त मास्क ने वो #खुशी भी छीन ली\\n╔════════════════════════╗💢💞..............💢💞 ╚════════════════════ https://t.co/4Jq4m3Uxoa',\n",
              " 'किसी का चेहरे की मुस्कराहट\\n की वजह बनें,\\n#खुशी ही नहीं नहीं #सुकून भी   मिलेगा।\\n\\nसुप्रभात 😊💐🙏 https://t.co/SuFnvel4Gu',\n",
              " 'इतना क्यों सिखाए जा रही हो जिंदगी \\nहमें कोन सी सदियाँ गुजांरनी है यहाँ। \\n\\nगुलज़ार \\n\\n@Gulzar079Kalra\\n@GulzarPremi #शायरी #Shayari #shayri #shayariindia #shayar #हिंदी #काव्यांश #काव्य_कृति #काव्य #Hindi #hindipoetry #शायरांश #sad #sadness #pain #life #PatienceChallenge https://t.co/c4EAQmjv7p',\n",
              " 'इतना क्यों सिखाए जा रही हो जिंदगी \\nहमें कोन सी सदियाँ गुजांरनी है यहाँ। \\n\\nगुलज़ार \\n\\n@Gulzar079Kalra\\n@GulzarPremi #शायरी #Shayari #shayri #shayariindia #shayar #हिंदी #काव्यांश #काव्य_कृति #काव्य #Hindi #hindipoetry #शायरांश #sad #sadness #pain #life #PatienceChallenge https://t.co/c4EAQmjv7p',\n",
              " 'किसी का चेहरे की मुस्कराहट\\n की वजह बनें,\\n#खुशी ही नहीं नहीं #सुकून भी   मिलेगा।\\n\\nसुप्रभात 😊💐🙏 https://t.co/SuFnvel4Gu',\n",
              " '#SSCGD2018 !दो बरस बीत गया..!\\n \"SSC GD 2018\"\\n\"झुलसाता जेठ मास \\n शरद चांदनी #उदास \\n सिसकी भरते सावन का \\n अंतर्घट रीत गया \\n दो बरस बीत गया..!अब तो भर्ती करा लो साहब \\n@crpfindia @PIBHomeAffairs @AmitShah @hafizgandhi @HansrajMeena @SharmaKadambini @constablegd @malignantsoldr',\n",
              " 'भादरा के दबंग विधायक बलवान जी पुनिया को जन्मदिन की हार्दिक शुभकामनाएं #HAPPY🎂🎂🎂BIRTHDAY @BalwanPoonia_  युवाओं के भविष्य 🙏🙏🙏',\n",
              " 'यह सोचकर #दुखी न हों कि,\\n\\n                 #लोग आपको नहीं #समझते.\\n\\nक्योंकि...\\n\\n               #कांटे से #वजन को...\\n\\n                                 #मापा जा सकता है, \\n\\n                 #गुणवत्ता को नहीं !!',\n",
              " 'यह सोचकर #दुखी न हों कि,\\n\\n                 #लोग आपको नहीं #समझते.\\n\\nक्योंकि...\\n\\n               #कांटे से #वजन को...\\n\\n                                 #मापा जा सकता है, \\n\\n                 #गुणवत्ता को नहीं !!',\n",
              " 'यह सोचकर #दुखी न हों कि,\\n\\n                 #लोग आपको नहीं #समझते.\\n\\nक्योंकि...\\n\\n               #कांटे से #वजन को...\\n\\n                                 #मापा जा सकता है, \\n\\n                 #गुणवत्ता को नहीं !!',\n",
              " '8 दिन हो गए लेकिन तुम्हें नहीं भुला पा रहे हैं Sushant 💔😷😔 #smile 👇\\n#BoycottKhans https://t.co/PtvvzmEJo1',\n",
              " 'लाई है किस मक़ाम पे ये ज़िंदगी मुझे…\\nमहसूस हो रही है ख़ुद अपनी कमी मुझे…\\n#sad #love',\n",
              " 'यह सोचकर #दुखी न हों कि,\\n\\n                 #लोग आपको नहीं #समझते.\\n\\nक्योंकि...\\n\\n               #कांटे से #वजन को...\\n\\n                                 #मापा जा सकता है, \\n\\n                 #गुणवत्ता को नहीं !!',\n",
              " 'खत्म कर के अपनी ख्वाहिशों को हमारे सपनों को सजाता है,\\nवो पिता ही तो है जो खुद पीछे रहकर हमें आगे बढ़ाता है,\\nअपना सब कुछ कुर्बान कर देता है\\nसारे सुख हमारे नाम कर देता है\\nबेटा मेरा उड़े आसमान में\\nये सोचकर पापा अपने पंख तक नीलाम कर देता है\\n\\n#happy #FathersDay to All Fathers https://t.co/3UceCu14m8',\n",
              " 'किसी का चेहरे की मुस्कराहट\\n की वजह बनें,\\n#खुशी ही नहीं नहीं #सुकून भी   मिलेगा।\\n\\nसुप्रभात 😊💐🙏 https://t.co/SuFnvel4Gu',\n",
              " 'भादरा के दबंग विधायक बलवान जी पुनिया को जन्मदिन की हार्दिक शुभकामनाएं #HAPPY🎂🎂🎂BIRTHDAY @BalwanPoonia_  युवाओं के भविष्य 🙏🙏🙏',\n",
              " 'Are bhai bhai bhai \\n\\n#love\\n#Instagram #photooftheday\\n#beautiful #happy\\n#tbt\\n#like4like\\n#followme\\n#picoftheday\\n#follow\\n\\n#summer\\n#art\\n#instadaily\\n#friends\\n#repost\\n#nature\\n#girl\\n#fun\\n#style\\n#smile\\n#food\\n#instalike\\n#likeforlike\\n#family\\n#travel\\n#fitness https://t.co/8eYJkWQZ4J',\n",
              " 'किसी का चेहरे की मुस्कराहट\\n की वजह बनें,\\n#खुशी ही नहीं नहीं #सुकून भी   मिलेगा।\\n\\nसुप्रभात 😊💐🙏 https://t.co/SuFnvel4Gu',\n",
              " 'भादरा के दबंग विधायक बलवान जी पुनिया को जन्मदिन की हार्दिक शुभकामनाएं #HAPPY🎂🎂🎂BIRTHDAY @BalwanPoonia_  युवाओं के भविष्य 🙏🙏🙏',\n",
              " 'भादरा के दबंग विधायक बलवान जी पुनिया को जन्मदिन की हार्दिक शुभकामनाएं #HAPPY🎂🎂🎂BIRTHDAY @BalwanPoonia_  युवाओं के भविष्य 🙏🙏🙏',\n",
              " 'यह सोचकर #दुखी न हों कि,\\n\\n                 #लोग आपको नहीं #समझते.\\n\\nक्योंकि...\\n\\n               #कांटे से #वजन को...\\n\\n                                 #मापा जा सकता है, \\n\\n                 #गुणवत्ता को नहीं !!',\n",
              " 'यह सोचकर #दुखी न हों कि,\\n\\n                 #लोग आपको नहीं #समझते.\\n\\nक्योंकि...\\n\\n               #कांटे से #वजन को...\\n\\n                                 #मापा जा सकता है, \\n\\n                 #गुणवत्ता को नहीं !!',\n",
              " 'यह सोचकर #दुखी न हों कि,\\n\\n                 #लोग आपको नहीं #समझते.\\n\\nक्योंकि...\\n\\n               #कांटे से #वजन को...\\n\\n                                 #मापा जा सकता है, \\n\\n                 #गुणवत्ता को नहीं !!',\n",
              " 'मैं खुद तो हो जाऊंगा \" मगर तुम्हे कभी नही होने दूंगा 😔\\n\\nवोह एक लफ्ज़ जिसे #उदास कहते हैं...\\n           ❤️❤️❤️❤️\\n\\n@Aaliya_shama786 https://t.co/1wThWVBUEl',\n",
              " 'मैं खुद तो हो जाऊंगा \" मगर तुम्हे कभी नही होने दूंगा 😔\\n\\nवोह एक लफ्ज़ जिसे #उदास कहते हैं...\\n           ❤️❤️❤️❤️\\n\\n@Aaliya_shama786 https://t.co/1wThWVBUEl',\n",
              " '......मुबारकबाद.....\\n\\n#जन्मदिन कि #हार्दिक #बधाई #एवं #शुभकामनाएं #भैया #जी........\\n\\n      #जिए #हजारों #साल....\\n\\n       #भगवान से #यही #दुआ# करते है.....\\n@actorvijayभैया\\n#Happy #Birthday to #you #Bhaiya\\n\\n#आपका #अपना #भाई \\n#सिंगर #भाई #बिट्टु #यादव \\n#राज्य #बिहार(#पटना) https://t.co/8cjJcm8Ry2',\n",
              " 'मैं खुद तो हो जाऊंगा \" मगर तुम्हे कभी नही होने दूंगा 😔\\n\\nवोह एक लफ्ज़ जिसे #उदास कहते हैं...\\n           ❤️❤️❤️❤️\\n\\n@Aaliya_shama786 https://t.co/1wThWVBUEl',\n",
              " \"Social Media वो गोली है जिसे 3 टाइम लिए बिना दुनिया 'Covidistan' सी दिखती है.\\n\\n#TweeterWorld #SocialMedia #COVIDー19 #COVID19 #coronavirus #SocialDistancing #FunniestTweets #Smile\",\n",
              " 'कभी यहां बात करते हो कभी वहां बात किया करते हो । \\nआप लोगों तो बड़े घराने की लड़कियां हैं मैडम हम से कहा बात करती हो ।\\n\\n#Love #Vijay #Sad',\n",
              " 'यह सोचकर #दुखी न हों कि,\\n\\n                 #लोग आपको नहीं #समझते.\\n\\nक्योंकि...\\n\\n               #कांटे से #वजन को...\\n\\n                                 #मापा जा सकता है, \\n\\n                 #गुणवत्ता को नहीं !!',\n",
              " 'किसी का चेहरे की मुस्कराहट\\n की वजह बनें,\\n#खुशी ही नहीं नहीं #सुकून भी   मिलेगा।\\n\\nसुप्रभात 😊💐🙏 https://t.co/SuFnvel4Gu',\n",
              " 'यह सोचकर #दुखी न हों कि,\\n\\n                 #लोग आपको नहीं #समझते.\\n\\nक्योंकि...\\n\\n               #कांटे से #वजन को...\\n\\n                                 #मापा जा सकता है, \\n\\n                 #गुणवत्ता को नहीं !!',\n",
              " '*आप रोज कहते हो कुछ देर में बात करेंगे*\\n\\n*कुछ देर में हमारी आँख ही न खुली तो आप क्या करेंगे*\\n🌹\\n#Shayari #IndianArmy \\n#Hindipanktiyaan \\n#sad',\n",
              " 'किसी का चेहरे की मुस्कराहट\\n की वजह बनें,\\n#खुशी ही नहीं नहीं #सुकून भी   मिलेगा।\\n\\nसुप्रभात 😊💐🙏 https://t.co/SuFnvel4Gu',\n",
              " 'यह सोचकर #दुखी न हों कि,\\n\\n                 #लोग आपको नहीं #समझते.\\n\\nक्योंकि...\\n\\n               #कांटे से #वजन को...\\n\\n                                 #मापा जा सकता है, \\n\\n                 #गुणवत्ता को नहीं !!',\n",
              " 'सबका साहस सबकी इज्जत  सबका सम्मान है पिता।\\nसबकी ताकत सबकी  पूँजी सबकी  पहचान है पिता।।\\nघर की एक एक ईंट में शामिल उनका खून पसीना।\\n सारे घर की रौनक उनसे सारे घर की शान है पिता।।\\nसबका शोहरत सबका रुतबा सबका मान पिता।\\nसबको हिम्मत देने वाले सबके अभिमान है पिता।।\\n\\n#Happy fathers Day https://t.co/g7pwXC6tdc',\n",
              " 'खत्म कर के अपनी ख्वाहिशों को हमारे सपनों को सजाता है,\\nवो पिता ही तो है जो खुद पीछे रहकर हमें आगे बढ़ाता है,\\nअपना सब कुछ कुर्बान कर देता है\\nसारे सुख हमारे नाम कर देता है\\nबेटा मेरा उड़े आसमान में\\nये सोचकर पापा अपने पंख तक नीलाम कर देता है\\n\\n#happy #FathersDay to All Fathers https://t.co/3UceCu14m8',\n",
              " 'मैं खुद तो हो जाऊंगा \" मगर तुम्हे कभी नही होने दूंगा 😔\\n\\nवोह एक लफ्ज़ जिसे #उदास कहते हैं...\\n           ❤️❤️❤️❤️\\n\\n@Aaliya_shama786 https://t.co/1wThWVBUEl',\n",
              " 'किसी का चेहरे की मुस्कराहट\\n की वजह बनें,\\n#खुशी ही नहीं नहीं #सुकून भी   मिलेगा।\\n\\nसुप्रभात 😊💐🙏 https://t.co/SuFnvel4Gu',\n",
              " 'किसी का चेहरे की मुस्कराहट\\n की वजह बनें,\\n#खुशी ही नहीं नहीं #सुकून भी   मिलेगा।\\n\\nसुप्रभात 😊💐🙏 https://t.co/SuFnvel4Gu',\n",
              " 'मैं खुद तो हो जाऊंगा \" मगर तुम्हे कभी नही होने दूंगा 😔\\n\\nवोह एक लफ्ज़ जिसे #उदास कहते हैं...\\n           ❤️❤️❤️❤️\\n\\n@Aaliya_shama786 https://t.co/1wThWVBUEl',\n",
              " 'यह सोचकर #दुखी न हों कि,\\n\\n                 #लोग आपको नहीं #समझते.\\n\\nक्योंकि...\\n\\n               #कांटे से #वजन को...\\n\\n                                 #मापा जा सकता है, \\n\\n                 #गुणवत्ता को नहीं !!',\n",
              " 'किसी का चेहरे की मुस्कराहट\\n की वजह बनें,\\n#खुशी ही नहीं नहीं #सुकून भी   मिलेगा।\\n\\nसुप्रभात 😊💐🙏 https://t.co/SuFnvel4Gu',\n",
              " 'किसी का चेहरे की मुस्कराहट\\n की वजह बनें,\\n#खुशी ही नहीं नहीं #सुकून भी   मिलेगा।\\n\\nसुप्रभात 😊💐🙏 https://t.co/SuFnvel4Gu',\n",
              " 'मैं खुद तो हो जाऊंगा \" मगर तुम्हे कभी नही होने दूंगा 😔\\n\\nवोह एक लफ्ज़ जिसे #उदास कहते हैं...\\n           ❤️❤️❤️❤️\\n\\n@Aaliya_shama786 https://t.co/1wThWVBUEl',\n",
              " 'मैं खुद तो हो जाऊंगा \" मगर तुम्हे कभी नही होने दूंगा 😔\\n\\nवोह एक लफ्ज़ जिसे #उदास कहते हैं...\\n           ❤️❤️❤️❤️\\n\\n@Aaliya_shama786 https://t.co/1wThWVBUEl',\n",
              " '🎈🎉🎂\\n#जन्मदिवस# की हार्दिक बधाई एवं अनन्त शुभकामनाएं....\\n💐🎂🎂💐🌹@amarjeetcg #happy birthday @amarjeetcg https://t.co/bdaNHHFF17',\n",
              " 'किसी का चेहरे की मुस्कराहट\\n की वजह बनें,\\n#खुशी ही नहीं नहीं #सुकून भी   मिलेगा।\\n\\nसुप्रभात 😊💐🙏 https://t.co/SuFnvel4Gu',\n",
              " '8 दिन हो गए लेकिन तुम्हें नहीं भुला पा रहे हैं Sushant 💔😷😔 #smile 👇\\n#BoycottKhans https://t.co/PtvvzmEJo1',\n",
              " '🎈🎉🎂\\n#जन्मदिवस# की हार्दिक बधाई एवं अनन्त शुभकामनाएं....\\n💐🎂🎂💐🌹@amarjeetcg #happy birthday @amarjeetcg https://t.co/bdaNHHFF17',\n",
              " '#नादान होते है वो,\\nजो #वफा कि #तलाश करते है,                                                      ये नही सोचते कि,\\nअपनी #सांस भी एक दिन #बेवफा हो जाती है।\\n#Sad #शायरी',\n",
              " 'यह सोचकर #दुखी न हों कि,\\n\\n                 #लोग आपको नहीं #समझते.\\n\\nक्योंकि...\\n\\n               #कांटे से #वजन को...\\n\\n                                 #मापा जा सकता है, \\n\\n                 #गुणवत्ता को नहीं !!',\n",
              " 'यह सोचकर #दुखी न हों कि,\\n\\n                 #लोग आपको नहीं #समझते.\\n\\nक्योंकि...\\n\\n               #कांटे से #वजन को...\\n\\n                                 #मापा जा सकता है, \\n\\n                 #गुणवत्ता को नहीं !!',\n",
              " 'किसी का चेहरे की मुस्कराहट\\n की वजह बनें,\\n#खुशी ही नहीं नहीं #सुकून भी   मिलेगा।\\n\\nसुप्रभात 😊💐🙏 https://t.co/SuFnvel4Gu',\n",
              " 'कुछ लोग हमारी हैसियत पूछते लगे उनकी शक्सियत बिक जाए इतनी हैसियत है हमारी \\n#love #followback #Twitterers #tweegram #photooftheday #20likes #amazing #smile #follow4follow #like4like #look #instalike #igers #picoftheday #food #instadaily #instafollow #followme #BoycottKaranJohar https://t.co/iBCM0g2FwD',\n",
              " 'यह सोचकर #दुखी न हों कि,\\n\\n                 #लोग आपको नहीं #समझते.\\n\\nक्योंकि...\\n\\n               #कांटे से #वजन को...\\n\\n                                 #मापा जा सकता है, \\n\\n                 #गुणवत्ता को नहीं !!',\n",
              " 'किसी का चेहरे की मुस्कराहट\\n की वजह बनें,\\n#खुशी ही नहीं नहीं #सुकून भी   मिलेगा।\\n\\nसुप्रभात 😊💐🙏 https://t.co/SuFnvel4Gu',\n",
              " 'किसी का चेहरे की मुस्कराहट\\n की वजह बनें,\\n#खुशी ही नहीं नहीं #सुकून भी   मिलेगा।\\n\\nसुप्रभात 😊💐🙏 https://t.co/SuFnvel4Gu',\n",
              " 'किसी का चेहरे की मुस्कराहट\\n की वजह बनें,\\n#खुशी ही नहीं नहीं #सुकून भी   मिलेगा।\\n\\nसुप्रभात 😊💐🙏 https://t.co/SuFnvel4Gu',\n",
              " 'किसी का चेहरे की मुस्कराहट\\n की वजह बनें,\\n#खुशी ही नहीं नहीं #सुकून भी   मिलेगा।\\n\\nसुप्रभात 😊💐🙏 https://t.co/SuFnvel4Gu',\n",
              " 'In Frame : bharatisangle\\n.\\n.\\n. .\\n#photography #fashion #model #instagood #instadaily #india #positivevibes #picoftheday #instapic #mumbai #instagram #photooftheday #igers #potrait #chennai #happy #chennaimodel… https://t.co/oFKAiVV2Jn',\n",
              " 'यह सोचकर #दुखी न हों कि,\\n\\n                 #लोग आपको नहीं #समझते.\\n\\nक्योंकि...\\n\\n               #कांटे से #वजन को...\\n\\n                                 #मापा जा सकता है, \\n\\n                 #गुणवत्ता को नहीं !!',\n",
              " 'यही तो मसला है रिश्तेदारों का \\nवो बात नहीं करते \\nसीधा जहर उगलते है।\\n\\n Chugli se achi hai meri chai🍵\\n\\n#tealover #morning #vibes #positivevibes #love #happy #motivationalquote #motivation💪 #likeforfollow #LikeForLikes https://t.co/QDyQk2P1y6',\n",
              " 'यह सोचकर #दुखी न हों कि,\\n\\n                 #लोग आपको नहीं #समझते.\\n\\nक्योंकि...\\n\\n               #कांटे से #वजन को...\\n\\n                                 #मापा जा सकता है, \\n\\n                 #गुणवत्ता को नहीं !!',\n",
              " 'खत्म कर के अपनी ख्वाहिशों को हमारे सपनों को सजाता है,\\nवो पिता ही तो है जो खुद पीछे रहकर हमें आगे बढ़ाता है,\\nअपना सब कुछ कुर्बान कर देता है\\nसारे सुख हमारे नाम कर देता है\\nबेटा मेरा उड़े आसमान में\\nये सोचकर पापा अपने पंख तक नीलाम कर देता है\\n\\n#happy #FathersDay to All Fathers https://t.co/3UceCu14m8',\n",
              " 'किसी का चेहरे की मुस्कराहट\\n की वजह बनें,\\n#खुशी ही नहीं नहीं #सुकून भी   मिलेगा।\\n\\nसुप्रभात 😊💐🙏 https://t.co/SuFnvel4Gu',\n",
              " 'किसी का चेहरे की मुस्कराहट\\n की वजह बनें,\\n#खुशी ही नहीं नहीं #सुकून भी   मिलेगा।\\n\\nसुप्रभात 😊💐🙏 https://t.co/SuFnvel4Gu',\n",
              " 'मैं खुद तो हो जाऊंगा \" मगर तुम्हे कभी नही होने दूंगा 😔\\n\\nवोह एक लफ्ज़ जिसे #उदास कहते हैं...\\n           ❤️❤️❤️❤️\\n\\n@Aaliya_shama786 https://t.co/1wThWVBUEl',\n",
              " 'मैं खुद तो हो जाऊंगा \" मगर तुम्हे कभी नही होने दूंगा 😔\\n\\nवोह एक लफ्ज़ जिसे #उदास कहते हैं...\\n           ❤️❤️❤️❤️\\n\\n@Aaliya_shama786 https://t.co/1wThWVBUEl',\n",
              " 'अगर #कोई आपके साथ #छल करता है\\nतो उससे #दुखी नहीं होना चाहिऐ\\n\\nक्यूंकि #उससे आपको #सबक मिलता है\\n\\nकि #कौन साथ रहने #लायक है\\nऔर #कौन साथ छोङने #लायक है\\n\\n🌳🌷🙏\\n#शुभरात्रि  #मन_की_बात https://t.co/CQmAHSqvdQ',\n",
              " 'किसी का चेहरे की मुस्कराहट\\n की वजह बनें,\\n#खुशी ही नहीं नहीं #सुकून भी   मिलेगा।\\n\\nसुप्रभात 😊💐🙏 https://t.co/SuFnvel4Gu',\n",
              " 'किसी का चेहरे की मुस्कराहट\\n की वजह बनें,\\n#खुशी ही नहीं नहीं #सुकून भी   मिलेगा।\\n\\nसुप्रभात 😊💐🙏 https://t.co/SuFnvel4Gu',\n",
              " 'एक बार अर्जुन ने श्री कृष्ण से कहा:\\nइस दीवार पर कुछ ऐसा लिखो की \\nख़ुशी में पढूं तो #दुःख हो और \\nदुःख में पढूं तो #ख़ुशी हो....।\\n\\nश्री कृष्ण ने लिखा.....\\n\\n\"ये वक़्त भी गुज़र जाएगा\"\\n\\nजय श्री कृष्णा.....🙏🙏🙏 https://t.co/mJN2Of5lN1',\n",
              " 'मैं खुद तो हो जाऊंगा \" मगर तुम्हे कभी नही होने दूंगा 😔\\n\\nवोह एक लफ्ज़ जिसे #उदास कहते हैं...\\n           ❤️❤️❤️❤️\\n\\n@Aaliya_shama786 https://t.co/1wThWVBUEl',\n",
              " 'किसी का चेहरे की मुस्कराहट\\n की वजह बनें,\\n#खुशी ही नहीं नहीं #सुकून भी   मिलेगा।\\n\\nसुप्रभात 😊💐🙏 https://t.co/SuFnvel4Gu',\n",
              " 'किसी का चेहरे की मुस्कराहट\\n की वजह बनें,\\n#खुशी ही नहीं नहीं #सुकून भी   मिलेगा।\\n\\nसुप्रभात 😊💐🙏 https://t.co/SuFnvel4Gu',\n",
              " 'Tujhe Mila .�\"\"�👑🔥😉😎\\n•\\n•\\n🌟 #publicfigure #bangladesh #bangladeshi #instagram #trending #tiktok #fyp #viral #friends #smile #instagood #life #popularpic #likeforlike  #happy #handsome #tbt #fashion #instalike #amazing #style #100likes #adidas #instacool #instafollow https://t.co/l9S8GYcOfP',\n",
              " 'यह सोचकर #दुखी न हों कि,\\n\\n                 #लोग आपको नहीं #समझते.\\n\\nक्योंकि...\\n\\n               #कांटे से #वजन को...\\n\\n                                 #मापा जा सकता है, \\n\\n                 #गुणवत्ता को नहीं !!',\n",
              " 'किसी का चेहरे की मुस्कराहट\\n की वजह बनें,\\n#खुशी ही नहीं नहीं #सुकून भी   मिलेगा।\\n\\nसुप्रभात 😊💐🙏 https://t.co/SuFnvel4Gu',\n",
              " 'किसी का चेहरे की मुस्कराहट\\n की वजह बनें,\\n#खुशी ही नहीं नहीं #सुकून भी   मिलेगा।\\n\\nसुप्रभात 😊💐🙏 https://t.co/SuFnvel4Gu',\n",
              " 'अगर #कोई आपके साथ #छल करता है\\nतो उससे #दुखी नहीं होना चाहिऐ\\n\\nक्यूंकि #उससे आपको #सबक मिलता है\\n\\nकि #कौन साथ रहने #लायक है\\nऔर #कौन साथ छोङने #लायक है\\n\\n🌳🌷🙏\\n#शुभरात्रि  #मन_की_बात https://t.co/CQmAHSqvdQ',\n",
              " 'मैं खुद तो हो जाऊंगा \" मगर तुम्हे कभी नही होने दूंगा 😔\\n\\nवोह एक लफ्ज़ जिसे #उदास कहते हैं...\\n           ❤️❤️❤️❤️\\n\\n@Aaliya_shama786 https://t.co/1wThWVBUEl',\n",
              " 'मैं खुद तो हो जाऊंगा \" मगर तुम्हे कभी नही होने दूंगा 😔\\n\\nवोह एक लफ्ज़ जिसे #उदास कहते हैं...\\n           ❤️❤️❤️❤️\\n\\n@Aaliya_shama786 https://t.co/1wThWVBUEl',\n",
              " 'किसी का चेहरे की मुस्कराहट\\n की वजह बनें,\\n#खुशी ही नहीं नहीं #सुकून भी   मिलेगा।\\n\\nसुप्रभात 😊💐🙏 https://t.co/SuFnvel4Gu',\n",
              " 'मैं खुद तो हो जाऊंगा \" मगर तुम्हे कभी नही होने दूंगा 😔\\n\\nवोह एक लफ्ज़ जिसे #उदास कहते हैं...\\n           ❤️❤️❤️❤️\\n\\n@Aaliya_shama786 https://t.co/1wThWVBUEl',\n",
              " '#SSCGD2018 !दो बरस बीत गया..!\\n \"SSC GD 2018\"\\n\"झुलसाता जेठ मास \\n शरद चांदनी #उदास \\n सिसकी भरते सावन का \\n अंतर्घट रीत गया \\n दो बरस बीत गया..!अब तो भर्ती करा लो साहब \\n@crpfindia @PIBHomeAffairs @AmitShah @hafizgandhi @HansrajMeena @SharmaKadambini @constablegd @malignantsoldr',\n",
              " '#SSCGD2018 !दो बरस बीत गया..!\\n \"SSC GD 2018\"\\n\"झुलसाता जेठ मास \\n शरद चांदनी #उदास \\n सिसकी भरते सावन का \\n अंतर्घट रीत गया \\n दो बरस बीत गया..!अब तो भर्ती करा लो साहब \\n@crpfindia @PIBHomeAffairs @AmitShah @hafizgandhi @HansrajMeena @SharmaKadambini @constablegd @malignantsoldr',\n",
              " 'भादरा के दबंग विधायक बलवान जी पुनिया को जन्मदिन की हार्दिक शुभकामनाएं #HAPPY🎂🎂🎂BIRTHDAY @BalwanPoonia_  युवाओं के भविष्य 🙏🙏🙏',\n",
              " '#SSCGD2018 !दो बरस बीत गया..!\\n \"SSC GD 2018\"\\n\"झुलसाता जेठ मास \\n शरद चांदनी #उदास \\n सिसकी भरते सावन का \\n अंतर्घट रीत गया \\n दो बरस बीत गया..!अब तो भर्ती करा लो साहब \\n@crpfindia @PIBHomeAffairs @AmitShah @hafizgandhi @HansrajMeena @SharmaKadambini @constablegd @malignantsoldr',\n",
              " 'खत्म कर के अपनी ख्वाहिशों को हमारे सपनों को सजाता है,\\nवो पिता ही तो है जो खुद पीछे रहकर हमें आगे बढ़ाता है,\\nअपना सब कुछ कुर्बान कर देता है\\nसारे सुख हमारे नाम कर देता है\\nबेटा मेरा उड़े आसमान में\\nये सोचकर पापा अपने पंख तक नीलाम कर देता है\\n\\n#happy #FathersDay to All Fathers https://t.co/3UceCu14m8',\n",
              " '#SSCGD2018 !दो बरस बीत गया..!\\n \"SSC GD 2018\"\\n\"झुलसाता जेठ मास \\n शरद चांदनी #उदास \\n सिसकी भरते सावन का \\n अंतर्घट रीत गया \\n दो बरस बीत गया..!अब तो भर्ती करा लो साहब \\n@crpfindia @PIBHomeAffairs @AmitShah @hafizgandhi @HansrajMeena @SharmaKadambini @constablegd @malignantsoldr',\n",
              " '#SSCGD2018 !दो बरस बीत गया..!\\n \"SSC GD 2018\"\\n\"झुलसाता जेठ मास \\n शरद चांदनी #उदास \\n सिसकी भरते सावन का \\n अंतर्घट रीत गया \\n दो बरस बीत गया..!अब तो भर्ती करा लो साहब \\n@crpfindia @PIBHomeAffairs @AmitShah @hafizgandhi @HansrajMeena @SharmaKadambini @constablegd @malignantsoldr',\n",
              " '#SSCGD2018 !दो बरस बीत गया..!\\n \"SSC GD 2018\"\\n\"झुलसाता जेठ मास \\n शरद चांदनी #उदास \\n सिसकी भरते सावन का \\n अंतर्घट रीत गया \\n दो बरस बीत गया..!अब तो भर्ती करा लो साहब \\n@crpfindia @PIBHomeAffairs @AmitShah @hafizgandhi @HansrajMeena @SharmaKadambini @constablegd @malignantsoldr',\n",
              " '#HappyBirthdayToMe \\nआज मेरा जन्मदिन🍮 है। कोई #WISH नहीं करोगे।\\n👉इसी #खुशी में मै आज #100+ को #प्रमोट कर रही हूं।\\n 👉तो भिर डर किस बात की मुझे #follow और #retweet करके अपना हदेल #कॉमेंट में डाल दो।\\n \\n🚩💫मुझे #follow करना ना भूले।💫 https://t.co/1BjuhSMIiE',\n",
              " '#CAPF_GD_60210\\n\\n!दो बरस बीत गया..!\\n \"SSC GD 2018\"\\n\"झुलसाता जेठ मास \\n शरद चांदनी #उदास \\n सिसकी भरते सावन का \\n अंतर्घट रीत गया \\n दो बरस बीत गया..!अब तो भर्ती करा लो साहब @crpfindia ,@AmitShah @PMOIndia ,@DefenceMinIndia @PIB_India',\n",
              " 'किसी का चेहरे की मुस्कराहट\\n की वजह बनें,\\n#खुशी ही नहीं नहीं #सुकून भी   मिलेगा।\\n\\nसुप्रभात 😊💐🙏 https://t.co/SuFnvel4Gu',\n",
              " 'किसी का चेहरे की मुस्कराहट\\n की वजह बनें,\\n#खुशी ही नहीं नहीं #सुकून भी   मिलेगा।\\n\\nसुप्रभात 😊💐🙏 https://t.co/SuFnvel4Gu',\n",
              " 'यह सोचकर #दुखी न हों कि,\\n\\n                 #लोग आपको नहीं #समझते.\\n\\nक्योंकि...\\n\\n               #कांटे से #वजन को...\\n\\n                                 #मापा जा सकता है, \\n\\n                 #गुणवत्ता को नहीं !!',\n",
              " 'यह सोचकर #दुखी न हों कि,\\n\\n                 #लोग आपको नहीं #समझते.\\n\\nक्योंकि...\\n\\n               #कांटे से #वजन को...\\n\\n                                 #मापा जा सकता है, \\n\\n                 #गुणवत्ता को नहीं !!',\n",
              " 'यह सोचकर #दुखी न हों कि,\\n\\n                 #लोग आपको नहीं #समझते.\\n\\nक्योंकि...\\n\\n               #कांटे से #वजन को...\\n\\n                                 #मापा जा सकता है, \\n\\n                 #गुणवत्ता को नहीं !!',\n",
              " 'मैं खुद तो हो जाऊंगा \" मगर तुम्हे कभी नही होने दूंगा 😔\\n\\nवोह एक लफ्ज़ जिसे #उदास कहते हैं...\\n           ❤️❤️❤️❤️\\n\\n@Aaliya_shama786 https://t.co/1wThWVBUEl',\n",
              " 'यह सोचकर #दुखी न हों कि,\\n\\n                 #लोग आपको नहीं #समझते.\\n\\nक्योंकि...\\n\\n               #कांटे से #वजन को...\\n\\n                                 #मापा जा सकता है, \\n\\n                 #गुणवत्ता को नहीं !!',\n",
              " 'यह सोचकर #दुखी न हों कि,\\n\\n                 #लोग आपको नहीं #समझते.\\n\\nक्योंकि...\\n\\n               #कांटे से #वजन को...\\n\\n                                 #मापा जा सकता है, \\n\\n                 #गुणवत्ता को नहीं !!',\n",
              " 'यह सोचकर #दुखी न हों कि,\\n\\n                 #लोग आपको नहीं #समझते.\\n\\nक्योंकि...\\n\\n               #कांटे से #वजन को...\\n\\n                                 #मापा जा सकता है, \\n\\n                 #गुणवत्ता को नहीं !!',\n",
              " 'किसी का चेहरे की मुस्कराहट\\n की वजह बनें,\\n#खुशी ही नहीं नहीं #सुकून भी   मिलेगा।\\n\\nसुप्रभात 😊💐🙏 https://t.co/SuFnvel4Gu',\n",
              " '#Happy thalapathy vijay anna',\n",
              " '#खुशी\\nउड़ती हुई तितली🦋 के जैसी है\\n\\nजिसे पकड़ने के लिए हम जितना दौड़ेंगे ये उतना ही हमसे दूर चली जायेगी..\\nऔर\\n\\nयदि हम शान्त मुद्रा मे 1जगह स्थिर हो जायेंगे तो\\nये खुद पे खुद आपके कंधे के पास बैठ जायेगी\\n\\nखुशी के पीछे भागिए मत...\\nमहसुस कीजिए!🙏\\n\\n#जयश्रीराम\\n#जिन्दगी\\n#ThursdayThoughts',\n",
              " 'यह सोचकर #दुखी न हों कि,\\n\\n                 #लोग आपको नहीं #समझते.\\n\\nक्योंकि...\\n\\n               #कांटे से #वजन को...\\n\\n                                 #मापा जा सकता है, \\n\\n                 #गुणवत्ता को नहीं !!',\n",
              " 'यह सोचकर #दुखी न हों कि,\\n\\n                 #लोग आपको नहीं #समझते.\\n\\nक्योंकि...\\n\\n               #कांटे से #वजन को...\\n\\n                                 #मापा जा सकता है, \\n\\n                 #गुणवत्ता को नहीं !!',\n",
              " 'यह सोचकर #दुखी न हों कि,\\n\\n                 #लोग आपको नहीं #समझते.\\n\\nक्योंकि...\\n\\n               #कांटे से #वजन को...\\n\\n                                 #मापा जा सकता है, \\n\\n                 #गुणवत्ता को नहीं !!',\n",
              " 'मैं खुद तो हो जाऊंगा \" मगर तुम्हे कभी नही होने दूंगा 😔\\n\\nवोह एक लफ्ज़ जिसे #उदास कहते हैं...\\n           ❤️❤️❤️❤️\\n\\n@Aaliya_shama786 https://t.co/1wThWVBUEl',\n",
              " 'अब तो घरवालों ने भी मुझे सुबह जल्दी उठाना\\nछोड़ दिया है 🌄\\n\\n 🙃अब वे भी जानते हैं कि बिस्तर से उठा दिया\\nतो #mobile में घुस जाएगा 😂\\n\\n#goodmorning #Trending #trend #india #MondayMorning #Smile #smartphone',\n",
              " 'किसी का चेहरे की मुस्कराहट\\n की वजह बनें,\\n#खुशी ही नहीं नहीं #सुकून भी   मिलेगा।\\n\\nसुप्रभात 😊💐🙏 https://t.co/SuFnvel4Gu',\n",
              " 'किसी का चेहरे की मुस्कराहट\\n की वजह बनें,\\n#खुशी ही नहीं नहीं #सुकून भी   मिलेगा।\\n\\nसुप्रभात 😊💐🙏 https://t.co/SuFnvel4Gu',\n",
              " 'किसी का चेहरे की मुस्कराहट\\n की वजह बनें,\\n#खुशी ही नहीं नहीं #सुकून भी   मिलेगा।\\n\\nसुप्रभात 😊💐🙏 https://t.co/SuFnvel4Gu',\n",
              " 'किसी का चेहरे की मुस्कराहट\\n की वजह बनें,\\n#खुशी ही नहीं नहीं #सुकून भी   मिलेगा।\\n\\nसुप्रभात 😊💐🙏 https://t.co/SuFnvel4Gu',\n",
              " 'किसी का चेहरे की मुस्कराहट\\n की वजह बनें,\\n#खुशी ही नहीं नहीं #सुकून भी   मिलेगा।\\n\\nसुप्रभात 😊💐🙏 https://t.co/SuFnvel4Gu',\n",
              " 'किसी का चेहरे की मुस्कराहट\\n की वजह बनें,\\n#खुशी ही नहीं नहीं #सुकून भी   मिलेगा।\\n\\nसुप्रभात 😊💐🙏 https://t.co/SuFnvel4Gu',\n",
              " 'किसी का चेहरे की मुस्कराहट\\n की वजह बनें,\\n#खुशी ही नहीं नहीं #सुकून भी   मिलेगा।\\n\\nसुप्रभात 😊💐🙏 https://t.co/SuFnvel4Gu',\n",
              " 'अब तो घरवालों ने भी मुझे सुबह जल्दी उठाना\\nछोड़ दिया है 🌄\\n\\n 🙃अब वे भी जानते हैं कि बिस्तर से उठा दिया\\nतो #mobile में घुस जाएगा 😂\\n\\n#goodmorning #Trending #trend #india #MondayMorning #Smile #smartphone',\n",
              " '#Happy  #HappyFathersDay2020 #FathersDay to all मेरे #पिताजी *शान्त ,स्नेह से सरोबार\\nपिताजी*पापा**बाबा*डैडी *एक मज़बूत दीवाल #happyfathersday  to all \\n कुछ लोग कहते हैं ये सब डे मना के क्या करना पर इस एक दिन का ऐहसास पूरे साल वज़ूद में रहता है ना @shrikanttuli @ItsMadhurima19',\n",
              " 'यह सोचकर #दुखी न हों कि,\\n\\n                 #लोग आपको नहीं #समझते.\\n\\nक्योंकि...\\n\\n               #कांटे से #वजन को...\\n\\n                                 #मापा जा सकता है, \\n\\n                 #गुणवत्ता को नहीं !!',\n",
              " '#Sad\\nनमक की तरह हो गई है ज़िन्दगी \\nलोग स्वाद अनुसार इस्तेमाल कर लेते है 😷😡',\n",
              " 'मैं खुद तो हो जाऊंगा \" मगर तुम्हे कभी नही होने दूंगा 😔\\n\\nवोह एक लफ्ज़ जिसे #उदास कहते हैं...\\n           ❤️❤️❤️❤️\\n\\n@Aaliya_shama786 https://t.co/1wThWVBUEl',\n",
              " 'मैं खुद तो हो जाऊंगा \" मगर तुम्हे कभी नही होने दूंगा 😔\\n\\nवोह एक लफ्ज़ जिसे #उदास कहते हैं...\\n           ❤️❤️❤️❤️\\n\\n@Aaliya_shama786 https://t.co/1wThWVBUEl',\n",
              " 'मैं खुद तो हो जाऊंगा \" मगर तुम्हे कभी नही होने दूंगा 😔\\n\\nवोह एक लफ्ज़ जिसे #उदास कहते हैं...\\n           ❤️❤️❤️❤️\\n\\n@Aaliya_shama786 https://t.co/1wThWVBUEl',\n",
              " 'मैं खुद तो हो जाऊंगा \" मगर तुम्हे कभी नही होने दूंगा 😔\\n\\nवोह एक लफ्ज़ जिसे #उदास कहते हैं...\\n           ❤️❤️❤️❤️\\n\\n@Aaliya_shama786 https://t.co/1wThWVBUEl',\n",
              " 'मैं खुद तो हो जाऊंगा \" मगर तुम्हे कभी नही होने दूंगा 😔\\n\\nवोह एक लफ्ज़ जिसे #उदास कहते हैं...\\n           ❤️❤️❤️❤️\\n\\n@Aaliya_shama786 https://t.co/1wThWVBUEl',\n",
              " 'Chardi Jawaani 🔥\\nChandigarh khaa geya🤦🏻\\u200d♂️\\n\\n@BabbuMaan \\n#kidha_paaji🚩\\n#staysafe 🙏🏻\\n#khush #reha #karo🤗\\n#only #smile #matters😇',\n",
              " 'अब तो घरवालों ने भी मुझे सुबह जल्दी उठाना\\nछोड़ दिया है 🌄\\n\\n 🙃अब वे भी जानते हैं कि बिस्तर से उठा दिया\\nतो #mobile में घुस जाएगा 😂\\n\\n#goodmorning #Trending #trend #india #MondayMorning #Smile #smartphone',\n",
              " 'अगर #कोई आपके साथ #छल करता है\\nतो उससे #दुखी नहीं होना चाहिऐ\\n\\nक्यूंकि #उससे आपको #सबक मिलता है\\n\\nकि #कौन साथ रहने #लायक है\\nऔर #कौन साथ छोङने #लायक है\\n\\n🌳🌷🙏\\n#शुभरात्रि  #मन_की_बात https://t.co/CQmAHSqvdQ',\n",
              " 'यह सोचकर #दुखी न हों कि,\\n\\n                 #लोग आपको नहीं #समझते.\\n\\nक्योंकि...\\n\\n               #कांटे से #वजन को...\\n\\n                                 #मापा जा सकता है, \\n\\n                 #गुणवत्ता को नहीं !!',\n",
              " \"👉 #happy Father's day क्या आप भी महसूस करते हैं कि ये बातें आपके दिल में हैं लेकिन कभी जुबां पर नही ला सके\\n👉 *तो इन शब्दों को समर्पित कीजिये अपने पिता के नाम*\\n\\nhttps://t.co/9eIAKqJBGk\\n\\n🎥 *चैनल को Like, share व SUBSCRIBE जरूर करें* 🎥 https://t.co/YOJuoCDE3o\",\n",
              " 'खत्म कर के अपनी ख्वाहिशों को हमारे सपनों को सजाता है,\\nवो पिता ही तो है जो खुद पीछे रहकर हमें आगे बढ़ाता है,\\nअपना सब कुछ कुर्बान कर देता है\\nसारे सुख हमारे नाम कर देता है\\nबेटा मेरा उड़े आसमान में\\nये सोचकर पापा अपने पंख तक नीलाम कर देता है\\n\\n#happy #FathersDay to All Fathers https://t.co/3UceCu14m8',\n",
              " 'यह सोचकर #दुखी न हों कि,\\n\\n                 #लोग आपको नहीं #समझते.\\n\\nक्योंकि...\\n\\n               #कांटे से #वजन को...\\n\\n                                 #मापा जा सकता है, \\n\\n                 #गुणवत्ता को नहीं !!',\n",
              " 'यह सोचकर #दुखी न हों कि,\\n\\n                 #लोग आपको नहीं #समझते.\\n\\nक्योंकि...\\n\\n               #कांटे से #वजन को...\\n\\n                                 #मापा जा सकता है, \\n\\n                 #गुणवत्ता को नहीं !!',\n",
              " 'यह सोचकर #दुखी न हों कि,\\n\\n                 #लोग आपको नहीं #समझते.\\n\\nक्योंकि...\\n\\n               #कांटे से #वजन को...\\n\\n                                 #मापा जा सकता है, \\n\\n                 #गुणवत्ता को नहीं !!',\n",
              " 'सबका साहस सबकी इज्जत  सबका सम्मान है पिता।\\nसबकी ताकत सबकी  पूँजी सबकी  पहचान है पिता।।\\nघर की एक एक ईंट में शामिल उनका खून पसीना।\\n सारे घर की रौनक उनसे सारे घर की शान है पिता।।\\nसबका शोहरत सबका रुतबा सबका मान पिता।\\nसबको हिम्मत देने वाले सबके अभिमान है पिता।।\\n\\n#Happy fathers Day https://t.co/g7pwXC6tdc',\n",
              " 'आज का सुविचार\\n\\n#ManishSai #happy #life #gratitude #gratitudequotes #quotes #studygram #quotes #quotestagram #daily_thoughts_and_quotes #dailythoughts #inspirationalquotes #motivationalquotes #daily #dailymotivation… https://t.co/njrnmHDdDI',\n",
              " 'आज का सुविचार\\n\\n#ManishSai #happy #life #gratitude #gratitudequotes #quotes #studygram #quotes #quotestagram #daily_thoughts_and_quotes #dailythoughts #inspirationalquotes #motivationalquotes #daily #dailymotivation… https://t.co/njrnmHDdDI',\n",
              " 'आज का सुविचार\\n\\n#ManishSai #happy #life #gratitude #gratitudequotes #quotes #studygram #quotes #quotestagram #daily_thoughts_and_quotes #dailythoughts #inspirationalquotes #motivationalquotes #daily #dailymotivation… https://t.co/njrnmHDdDI',\n",
              " \"बेटियों के लिए बाप क्या है ये सिर्फ बेटियां ही समझ सकती हैं\\n\\n#Happy father's day\",\n",
              " 'मेरी शौहरत मेरे पिता की वजह से है.\\n#happy #fathers #day https://t.co/WEfv89S3GP',\n",
              " 'अगर #कोई आपके साथ #छल करता है\\nतो उससे #दुखी नहीं होना चाहिऐ\\n\\nक्यूंकि #उससे आपको #सबक मिलता है\\n\\nकि #कौन साथ रहने #लायक है\\nऔर #कौन साथ छोङने #लायक है\\n\\n🌳🌷🙏\\n#शुभरात्रि  #मन_की_बात https://t.co/CQmAHSqvdQ',\n",
              " '#आदि से #अनंत तक बस यही रही है #परंपरा \\nकायर भोगे #दुख सदा वीर भोग्य #वसुंधरा\\n\\n#राजा #रामचंद्र #की #जय 🚩🚩🚩🚩🚩 https://t.co/d3sYXk8hG1',\n",
              " \"@sonamakapoor सबको अपने माँ बाप पर गर्व होना चाहिए।क्योंकि ये आप के पूर्व जन्म का फल है कि आप इतनी अच्छी फैमिली में पैदा हुई।इसमे लोगो को कोई दिक्कत नही होनी चाहिए।लेकिन अब आप अपनी मेहनत की खा रहीं है।#happy Father's day...\",\n",
              " 'Aaj kal bahut muskura rahe ho tum, \\nLagta hai phir se mere mohabbat ke girfta mein ho tum....\\nA.R🌹💎👑🙏🇮🇳\\n#poetryworld #poetry #mypoetry #love #smile https://t.co/tzdEHOBzuW',\n",
              " '#Happy #Anniversary\\nवैवाहिक जीवन के सुखद 23 वर्ष पूर्ण हुए....💐 ईश्वर की असीम कृपा हमारे परिवार पर सदैव ऐसे ही बनी रहे प्रभु श्रीराम से यही प्रार्थना है।\\nसाथ ही आप सभी मित्रों का स्नेह और आशीर्वाद .... https://t.co/GCozbf1ZxA',\n",
              " \"🌹#Happy #Father's #Day🌹\\nइस मौके पर मैं अपने माता-पिता को बहुत याद कर रहा हूँ।शायद इस कमी को पुरा करना बहुत कठिन है। विन्रम श्रद्धांजलि।🌹\\nइस अवसर पर मेरे बेटे - बेटियों ने मिलकर मेरे माता-पिता की कमी को पुरा करने एंव उसे खुशनुमा माहौल में बदलने की कोशिश की। https://t.co/m0Ajyu3zsz\",\n",
              " 'यह सोचकर #दुखी न हों कि,\\n\\n                 #लोग आपको नहीं #समझते.\\n\\nक्योंकि...\\n\\n               #कांटे से #वजन को...\\n\\n                                 #मापा जा सकता है, \\n\\n                 #गुणवत्ता को नहीं !!',\n",
              " '🍃💞🍃💞🍃💞🍃💞🍃💞\\n\\nचुपके से एक #दिन रख आऊँ, \\nसभी #खुशियाँ उनके सिरहाने में \\nजिन्होंने एक #अरसा बिता दिया, \\nमुझे बेहतर #इंसान बनाने में..!! \\n\\n#HappyFathersDay \\n\\n🍃💞🍃💞🍃💞🍃💞🍃💞 https://t.co/36i6JtnF7a',\n",
              " 'सीख रहा हूं पापा से बलिदान त्याग की परिभाषा।।\\nजब हमें प्यास लगी तो हमें पानी पिलाया भूख लगी तो खाना खिलाया।।\\nभले ही खुद क्यों न रहे हों भूखा-प्यासा।।\\nकौशिशें करता हूं क्योंकि पापा मेरे साथ हैं।।\\nक्यूं घबराऊं मैं जब सिर पर मेरे पापा का हाथ है।।\\n#Happy #fathersday2020 🙏✌️',\n",
              " '#Happy Born Day Thalapathy \\nVijay Anna💖💕🍫🎂🍰 https://t.co/6fjTgfVJn7',\n",
              " 'मदद मांगना आपको कमजोर नहीं बनाता है। डिप्रेशन, आत्मघाती विचार, नकारात्मकता- सहायता है! हमें +91 91672 46171 पर कॉल करें - आप अकेले नहीं हैं\\n #depression #sad #lonely #depressed #suicide #stress #therapy #Mentalhealth #motivation #helpme #bollywood #SushantSinghRajput #hindi #news https://t.co/UHAog7FxHS',\n",
              " \"आज जो हम युं, महके महके घुम रहे है ना,\\n\\nहकीकत मे वो हमारे, पिताजी के पसीने की, खुशबू है।\\n\\n#Happy Father's Day# https://t.co/qTtpFEr8Vs\",\n",
              " \"कड़ी धूप में घनी छांव हैं बाबूजी,\\nहर मुश्किल में सच्चे सुझाव हैं बाबूजी।\\n#happy father's day to all fathers.\",\n",
              " 'Jab Jubaan ho Kesari and Daant ho Lal 😁 \\n#DentistJokes #Humour #Memes #Patalok #smile https://t.co/uVq312RPVz',\n",
              " 'बाहर से जो करता है, बहुत प्यार से बातें\\n\\xa0अन्दर से वही \"शख्स\" हमारा नहीं होता।\\n#sad https://t.co/2ogmU2y9jN',\n",
              " 'सुकून कमाना है अब ग़ालिब\\nनाम ओर शोहरत से तो मोत मिल जाती है?\\n#क़िताब_ऐ_जिंदगी \\n#SuicideSquad \\n#rip #susantsinghrajput #Sad #lifestyle https://t.co/YerOuIjRHh',\n",
              " '@Niraz9966 @asadowaisi @PMOIndia #SAD ka kitna seat h..... 2 phir usko bulaya gya h..... Is desh m hamesha se #musalmano k sath bhedbhav hua h',\n",
              " 'आओ सीखें रोज 5 उर्दू के शब्द ! \\n\\n#love #instagram  #fashion #Beautiful #like #art #happy #photography #followme #travel  #fitness #nature #girl #fun  #smile #lifestyle #music #friends #motivation  #season  #Family #rekhta #urdu #english #hindi #healthy #work #india #support https://t.co/tYwy68aL5Z',\n",
              " '💝\\nॐ\\n#DjRafahOliiver #RafahOliiver #InSearchOfTheBestVibe #IShineLikeADiamond #GoodVibes #Vibes #Music #Friends #Smile #Positivity #Fantastic #Gay #Tattoo #Freedom #GaySp #OliiverByOliiver #LGBT #Love #PhotoOfTheDay… https://t.co/3jaH7xqT26',\n",
              " \"बिना उनके एक पल भी गवारा नहीं,\\nपिता ही साथी है,\\nपिता ही सहारा है,\\nपिता ही खुशियों का पिटारा है।\\n\\n##Happy father's day papa g ..., Luv so much .. ##Fathers luv #### https://t.co/9CGUvH4eTV\",\n",
              " 'अगर #कोई आपके साथ #छल करता है\\nतो उससे #दुखी नहीं होना चाहिऐ\\n\\nक्यूंकि #उससे आपको #सबक मिलता है\\n\\nकि #कौन साथ रहने #लायक है\\nऔर #कौन साथ छोङने #लायक है\\n\\n🌳🌷🙏\\n#शुभरात्रि  #मन_की_बात\\nWith @KaralaSuresh https://t.co/ueTRvvIXEG',\n",
              " \"सख्त सी आवाज़ के पीछे कही प्यार सा छिपा रह्ता है,उसकी रगो में एक हिम्मत का दरिया सा बहा करता है।कितनी भी परेशानिया या दिक्कत पडती हो उसपर हंसकर झेल जाता है *पिता* किसी से कुछ ना कहता है।\\n#HAPPY FATHER'S DAY..\\nU r and will always be my hero..🙏😘🤗आपको हर चीज़ के लिये। https://t.co/aLKF9oC3U0\",\n",
              " 'अगर #कोई आपके साथ #छल करता है\\nतो उससे #दुखी नहीं होना चाहिऐ\\n\\nक्यूंकि #उससे आपको #सबक मिलता है\\n\\nकि #कौन साथ रहने #लायक है\\nऔर #कौन साथ छोङने #लायक है\\n\\n🌳🌷🙏\\n#शुभरात्रि  #मन_की_बात https://t.co/CQmAHSqvdQ',\n",
              " 'अगर #कोई आपके साथ #छल करता है\\nतो उससे #दुखी नहीं होना चाहिऐ\\n\\nक्यूंकि #उससे आपको #सबक मिलता है\\n\\nकि #कौन साथ रहने #लायक है\\nऔर #कौन साथ छोङने #लायक है\\n\\n🌳🌷🙏\\n#शुभरात्रि  #मन_की_बात https://t.co/CQmAHSqvdQ',\n",
              " 'पिता रोता नहीं है\\nपिता सोता नहीं है\\nपिता सिर्फ हंसता  है\\nऔर जगता  है\\nअपने बच्चों की खुशी के लिए \\nअपनें बच्चों के सुनहरे भविष्य के लिए ।\\n\"अर्चना सबूरी \"\\n#Happy Father\\'s day',\n",
              " '@Jaihindsonu59 @SinghChunni 💕#जीने की उसने #हमे नई अदा दी है; ❤️\\n       💕खुश रहने की उसने #दुआ दी है;\\nऐ खुदा उसको #खुशियाँ तमाम देना; \\n      जिसने अपने #दिल मे हमें #जगह दी है।\\n\\n#Lovely 💔 https://t.co/i5QDhQXokY',\n",
              " '@Jaihindsonu59 @SinghChunni 💕#जीने की उसने #हमे नई अदा दी है; ❤️\\n       💕खुश रहने की उसने #दुआ दी है;\\nऐ खुदा उसको #खुशियाँ तमाम देना; \\n      जिसने अपने #दिल मे हमें #जगह दी है।\\n\\n#Lovely 💔 https://t.co/i5QDhQXokY',\n",
              " 'सुना हैं मोहब्बत है उसको,\\nचलो छोड़ो, हमसे होती तो कोई बात होती ।।\\n\\n- K K ( कृष्ण कान्त मीणा )\\n\\n- Instagram/haayedard \\n- Facebook/haayedard \\n\\n#haayedard #LoveVictor #Lovemusic \\n#quoteoftheday #quote #ShayriTwitter #shayari #Sad #sadquote #Ishqiya #MohabbatTujheAlvida #lovefighters https://t.co/qLwtiP7qSS',\n",
              " '@Jaihindsonu59 @SinghChunni 💕#जीने की उसने #हमे नई अदा दी है; ❤️\\n       💕खुश रहने की उसने #दुआ दी है;\\nऐ खुदा उसको #खुशियाँ तमाम देना; \\n      जिसने अपने #दिल मे हमें #जगह दी है।\\n\\n#Lovely 💔 https://t.co/i5QDhQXokY',\n",
              " \"मेरा साहस\\nमेरा सम्मान है पिता,\\nमेरी ताकत\\nमेरी पहचान है पिता,\\n#Happy #Father's #Day \\nपितृ दिवस पर दादा जी स्व.नाथूराम जी व पिताजी स्व. शंकरलाल जी को शत शत नमन । https://t.co/ahjnDcTz1G\",\n",
              " 'सबका साहस सबकी इज्जत  सबका सम्मान है पिता।\\nसबकी ताकत सबकी  पूँजी सबकी  पहचान है पिता।।\\nघर की एक एक ईंट में शामिल उनका खून पसीना।\\n सारे घर की रौनक उनसे सारे घर की शान है पिता।।\\nसबका शोहरत सबका रुतबा सबका मान पिता।\\nसबको हिम्मत देने वाले सबके अभिमान है पिता।।\\n\\n#Happy fathers Day https://t.co/g7pwXC6tdc',\n",
              " 'Kinna sohna 😍 tenu rab ne banaya \\nDil ❤️ kare dekhda rawan\\nKinna sohna 😘 tenu rab ne banaya ❤️❤️ @bajwasonam #urbiggestfan #crushonyou #love #SonamBajwa❤️ #Smile https://t.co/0KPsjzFcoN',\n",
              " 'अगर #कोई आपके साथ #छल करता है\\nतो उससे #दुखी नहीं होना चाहिऐ\\n\\nक्यूंकि #उससे आपको #सबक मिलता है\\n\\nकि #कौन साथ रहने #लायक है\\nऔर #कौन साथ छोङने #लायक है\\n\\n🌳🌷🙏\\n#शुभरात्रि  #मन_की_बात https://t.co/CQmAHSqvdQ',\n",
              " '@Jaihindsonu59 @pandeys01 @rajput58666851 लाजवाब है सोनू जी 👌🏽✍🏼🌷\\n\\n👉�👉� #हम #तो #खुशियाँ #उधार #देने #का #कारोबार #करते #है,\\n#कोई #वक़्त #पे #लौटाता #नहीं #है #इसलिए #घाटे #में #है..\\n\\n#Lovely 💔 https://t.co/1fMbZrTzjP',\n",
              " '@Jaihindsonu59 @pandeys01 @rajput58666851 लाजवाब है सोनू जी 👌🏽✍🏼🌷\\n\\n👉�👉� #हम #तो #खुशियाँ #उधार #देने #का #कारोबार #करते #है,\\n#कोई #वक़्त #पे #लौटाता #नहीं #है #इसलिए #घाटे #में #है..\\n\\n#Lovely 💔 https://t.co/1fMbZrTzjP',\n",
              " '#उदास कर देती है हर शाम #मुझे,\\n\\nऐसा लगता जैसे कोई #भूल रहा हो #मुझे !! https://t.co/gphW8sq8oa',\n",
              " \"बेटियों के लिए बाप क्या है ये सिर्फ बेटियां ही समझ सकती हैं\\n\\n#Happy father's day\",\n",
              " '@IndinNederlands @MEAIndia @DrSJaishankar @HardeepSPuri @airindiain @venurajamony मेरे दिल❤❤❤ की ख्वाईश है कि @airindiain नीदरलैंड से दिल्ली मुम्बई की उड़ानें भरें,, जैसे पहले @jetairways थी!! I hoop one day?? \\nNederlands से अगर इंडिया जाना है तो एक ही एयरलाइन है @KLM ,,, #Happy #Yoga #Day Everyone 🙏🏼🙏🏼🙏🏼🙏🏼🙏🏼\\nRinku From Den Haag ( The Hague ) https://t.co/zon9bhZ56u',\n",
              " 'सबका साहस सबकी इज्जत  सबका सम्मान है पिता।\\nसबकी ताकत सबकी  पूँजी सबकी  पहचान है पिता।।\\nघर की एक एक ईंट में शामिल उनका खून पसीना।\\n सारे घर की रौनक उनसे सारे घर की शान है पिता।।\\nसबका शोहरत सबका रुतबा सबका मान पिता।\\nसबको हिम्मत देने वाले सबके अभिमान है पिता।।\\n\\n#Happy fathers Day https://t.co/g7pwXC6tdc',\n",
              " \"Batao beet Gaye ap ko Gaye huye aj bhi ek as Baki h thod ke Sare Bandhan  ek Baar gale lag Kar rone ki Chah Baki h....\\n#Happy father's Day\",\n",
              " 'खत्म कर के अपनी ख्वाहिशों को हमारे सपनों को सजाता है,\\nवो पिता ही तो है जो खुद पीछे रहकर हमें आगे बढ़ाता है,\\nअपना सब कुछ कुर्बान कर देता है\\nसारे सुख हमारे नाम कर देता है\\nबेटा मेरा उड़े आसमान में\\nये सोचकर पापा अपने पंख तक नीलाम कर देता है\\n\\n#happy #FathersDay to All Fathers https://t.co/3UceCu14m8',\n",
              " 'अगर #कोई आपके साथ #छल करता है\\nतो उससे #दुखी नहीं होना चाहिऐ\\n\\nक्यूंकि #उससे आपको #सबक मिलता है\\n\\nकि #कौन साथ रहने #लायक है\\nऔर #कौन साथ छोङने #लायक है\\n\\n🌳🌷🙏\\n#शुभरात्रि  #मन_की_बात https://t.co/CQmAHSqvdQ',\n",
              " \"#Happy Father's Day \\nMSG Guru pa.......🙏\\nबीते दिन, बीती रातें,\\nकरनी है तुझ संग बहुत सी बाते.\\nकैसे सुनाऊं अपने दिल का हाल,\\nपहले ही आ जाओ,\\nबीत ना जाए अब ये भी साल\\nMiss u lot\\n🤗🤗🤗🤗 https://t.co/PVBOfNJx65\",\n",
              " 'अगर #कोई आपके साथ #छल करता है\\nतो उससे #दुखी नहीं होना चाहिऐ\\n\\nक्यूंकि #उससे आपको #सबक मिलता है\\n\\nकि #कौन साथ रहने #लायक है\\nऔर #कौन साथ छोङने #लायक है\\n\\n🌳🌷🙏\\n#शुभरात्रि  #मन_की_बात https://t.co/CQmAHSqvdQ',\n",
              " 'अगर #कोई आपके साथ #छल करता है\\nतो उससे #दुखी नहीं होना चाहिऐ\\n\\nक्यूंकि #उससे आपको #सबक मिलता है\\n\\nकि #कौन साथ रहने #लायक है\\nऔर #कौन साथ छोङने #लायक है\\n\\n🌳🌷🙏\\n#शुभरात्रि  #मन_की_बात https://t.co/CQmAHSqvdQ',\n",
              " 'सबका साहस सबकी इज्जत  सबका सम्मान है पिता।\\nसबकी ताकत सबकी  पूँजी सबकी  पहचान है पिता।।\\nघर की एक एक ईंट में शामिल उनका खून पसीना।\\n सारे घर की रौनक उनसे सारे घर की शान है पिता।।\\nसबका शोहरत सबका रुतबा सबका मान पिता।\\nसबको हिम्मत देने वाले सबके अभिमान है पिता।।\\n\\n#Happy fathers Day https://t.co/g7pwXC6tdc',\n",
              " 'अगर #कोई आपके साथ #छल करता है\\nतो उससे #दुखी नहीं होना चाहिऐ\\n\\nक्यूंकि #उससे आपको #सबक मिलता है\\n\\nकि #कौन साथ रहने #लायक है\\nऔर #कौन साथ छोङने #लायक है\\n\\n🌳🌷🙏\\n#शुभरात्रि  #मन_की_बात https://t.co/CQmAHSqvdQ',\n",
              " \"पिता ने  उंगली पकड़  जो चलाये थे  कुछ कदम  बचपन में \\n        बाद उसके \\nउससे खूबसूरत कोई शफर नहीं आया\\n#Happy #father's #day\",\n",
              " 'अगर #कोई आपके साथ #छल करता है\\nतो उससे #दुखी नहीं होना चाहिऐ\\n\\nक्यूंकि #उससे आपको #सबक मिलता है\\n\\nकि #कौन साथ रहने #लायक है\\nऔर #कौन साथ छोङने #लायक है\\n\\n🌳🌷🙏\\n#शुभरात्रि  #मन_की_बात https://t.co/CQmAHSqvdQ',\n",
              " \"पिता ने  उंगली पकड़  जो चलाये थे  कुछ कदम  बचपन में \\n        बाद उसके \\nउससे खूबसूरत कोई शफर नहीं आया\\n#Happy #father's #day\",\n",
              " 'अगर #कोई आपके साथ #छल करता है\\nतो उससे #दुखी नहीं होना चाहिऐ\\n\\nक्यूंकि #उससे आपको #सबक मिलता है\\n\\nकि #कौन साथ रहने #लायक है\\nऔर #कौन साथ छोङने #लायक है\\n\\n🌳🌷🙏\\n#शुभरात्रि  #मन_की_बात https://t.co/CQmAHSqvdQ',\n",
              " '#Happy  #HappyFathersDay2020 #FathersDay to all मेरे #पिताजी *शान्त ,स्नेह से सरोबार\\nपिताजी*पापा**बाबा*डैडी *एक मज़बूत दीवाल #happyfathersday  to all \\n कुछ लोग कहते हैं ये सब डे मना के क्या करना पर इस एक दिन का ऐहसास पूरे साल वज़ूद में रहता है ना @shrikanttuli @ItsMadhurima19',\n",
              " 'सबका साहस सबकी इज्जत  सबका सम्मान है पिता।\\nसबकी ताकत सबकी  पूँजी सबकी  पहचान है पिता।।\\nघर की एक एक ईंट में शामिल उनका खून पसीना।\\n सारे घर की रौनक उनसे सारे घर की शान है पिता।।\\nसबका शोहरत सबका रुतबा सबका मान पिता।\\nसबको हिम्मत देने वाले सबके अभिमान है पिता।।\\n\\n#Happy fathers Day https://t.co/g7pwXC6tdc',\n",
              " '#Happy  #HappyFathersDay2020 #FathersDay to all मेरे #पिताजी *शान्त ,स्नेह से सरोबार\\nपिताजी*पापा**बाबा*डैडी *एक मज़बूत दीवाल #happyfathersday  to all \\n कुछ लोग कहते हैं ये सब डे मना के क्या करना पर इस एक दिन का ऐहसास पूरे साल वज़ूद में रहता है ना @shrikanttuli @ItsMadhurima19',\n",
              " \"@_waheguru_ Papa ki pari jasi koi cheez nahi hoti, \\nactual me jadu ki chadi to Papa ke pas hoti hai Jo apne baccho ke har jarurat ko bin bole hi pura krte hai.\\n#Happy Father's day \\nAprajita loves you pitaji.\",\n",
              " \"सख्त सी आवाज़ के पीछे कही प्यार सा छिपा रह्ता है,उसकी रगो में एक हिम्मत का दरिया सा बहा करता है।कितनी भी परेशानिया या दिक्कत पडती हो उसपर हंसकर झेल जाता है *पिता* किसी से कुछ ना कहता है।\\n#HAPPY FATHER'S DAY..\\nU r and will always be my hero..🙏😘🤗आपको हर चीज़ के लिये। https://t.co/aLKF9oC3U0\",\n",
              " \"बेटियों के लिए बाप क्या है ये सिर्फ बेटियां ही समझ सकती हैं\\n\\n#Happy father's day\",\n",
              " '#Happy fathers day#हमें छोड़कर ना जाने आप कहां चले गए,? ओ मेरे पापा तुम कहां चले गए? #आपके वजूद से ही मेरा वजूद था आप नहीं है तो मैं नहीं हूं।# https://t.co/oQXxCoafss',\n",
              " \"सख्त सी आवाज़ के पीछे कही प्यार सा छिपा रह्ता है,उसकी रगो में एक हिम्मत का दरिया सा बहा करता है।कितनी भी परेशानिया या दिक्कत पडती हो उसपर हंसकर झेल जाता है *पिता* किसी से कुछ ना कहता है।\\n#HAPPY FATHER'S DAY..\\nU r and will always be my hero..🙏😘🤗आपको हर चीज़ के लिये। https://t.co/aLKF9oC3U0\",\n",
              " 'आज   #खुदा   ने   फिर   #पूछा...\\n\\nतेरा   #हँसता  चेहरा   #उदास  क्यों  है......\\n\\nतेरी   #आँखों   में   #प्यास  क्यों   है.......\\n\\nजिसके  पास   तेरे  लिए   #वक्त  नहीं.....\\n\\nवही  तेरे  लिए   #खास  #क्यो  है...!! https://t.co/a8zEBiQGTL',\n",
              " '#उदास कर देती है हर शाम #मुझे,\\n\\nऐसा लगता जैसे कोई #भूल रहा हो #मुझे !! https://t.co/gphW8sq8oa',\n",
              " '#मन #उदास #दिल ❤️ #बेचैन हो जाता हैं\\n\\n                     जब\\n\\n#तुम्हारा #नाम #सुनते हैं ____________ \\n\\n#दूसरों के #लबों 💋 से ______! https://t.co/6DR9VyjjHa',\n",
              " '@AqibWaheed_ @BBCUrdu @Junaid_PPP @MuqaddasRazzaq @AmjidKh41967774 @PkAdzone Nai. matlab me khud asal me samjh nai payi jese kayi aur log siasatdano ki pic laga kar #happy father# ki tweet kar rahe hen to me samjhi ke apne bhi KisSi ki laga di hogi eslie pichli tweet me jo woh F Talpur ke sath the me samjhi nai apke father hen es lie like nai kia',\n",
              " \"आज जो हम युं, महके महके घुम रहे है ना,\\n\\nहकीकत मे वो हमारे, पिताजी के पसीने की, खुशबू है।\\n\\n#Happy Father's Day# https://t.co/qTtpFEr8Vs\",\n",
              " '★→ *『अपना』 तो बस एक1⃣ #असूल☝️ हैं,\\n#Smile😊 करो #Dil❤️️ से और _Dosti🤝 👬निभाओ #_Jigar से😘* https://t.co/4JC8D3ndpj',\n",
              " \"बेटियों के लिए बाप क्या है ये सिर्फ बेटियां ही समझ सकती हैं\\n\\n#Happy father's day\",\n",
              " '★→ *『अपना』 तो बस एक1⃣ #असूल☝️ हैं,\\n#Smile😊 करो #Dil❤️️ से और _Dosti🤝 👬निभाओ #_Jigar से😘* https://t.co/4JC8D3ndpj',\n",
              " '#उदास कर देती है हर शाम #मुझे,\\n\\nऐसा लगता जैसे कोई #भूल रहा हो #मुझे !! https://t.co/gphW8sq8oa',\n",
              " 'Dil se khushi hoti h jab bhi papa kehte h \"tu mera sher hai\" ❤\\n#happy #father\\'s #day',\n",
              " 'पुराने ज़माने में फ़ादर्स डे नही होता था,पिताजी का जब दिल करता था तो जूता उठा कर बच्चों को याद दिला देते थे कि \"मैं बाप हूँ\"\\n#Happy #Father\\'s #Day https://t.co/45mEPQzBz3',\n",
              " \"#Happy Father's Day \\nMSG Guru pa.......🙏\\nबीते दिन, बीती रातें,\\nकरनी है तुझ संग बहुत सी बाते.\\nकैसे सुनाऊं अपने दिल का हाल,\\nपहले ही आ जाओ,\\nबीत ना जाए अब ये भी साल\\nMiss u lot\\n🤗🤗🤗🤗 https://t.co/PVBOfNJx65\",\n",
              " '@Qweenofjhansi Jay ho 🙏 qween 💐🙏❤️#happy yoga 🧘 https://t.co/sXaQPYgDOX',\n",
              " 'और #खुशी स्कूल में फीस जमा नही करने के कारण ताना सुनने लगी\\n\\nउस छोटी सी बच्ची को मेला घुमने और बर्फी खाने का शौक मन में ही रह गया।      \\nछोटे किसान और मजदूरों के परिवार में जो दर्द है उसे समझने में पूरी उम्र भी गुजर जाएगी तो भी शायद वास्तविक दर्द को महसूस नही कर सकते आप\\n\\nऔर च....',\n",
              " '#खुशी एकदम घबरा जाती है\\n#खुशी की आँखों मे आंसू आने लगते है वही डर फिर सताने लगता है\\nडर सब खत्म होने का\\nडर फसल बर्बाद होने का\\nडर फीस ना दे पाने का\\nस्कूल खत्म होने के बाद वो धीरे धीरे कांपती हुई घर की तरफ बढ़ने लगती है। हुआ भी ऐसा कि सारी फसल बर्बाद हो गई\\n\\nकहानी लास्ट तक पढ़े....',\n",
              " \"पिता का रुतबा सबसे ऊंचा भगवान के रूप के समान है। पिता की अंगुली थाम के चले तो रास्ता भी आसान है।। #Happy #Father's #Day https://t.co/JhdkHM4RN6\",\n",
              " 'अगले हफ्ते सब फसल बिक जाएगी और पिता जी आकर सारी फीस भर देंगें  \\nप्रिंसिपल : चुप करो तुम, एक साल से बहाने बाजी कर रही हो\\n#खुशी चुप चाप क्लास मे जाकर बैठ जाती है और मेला घूमने के सपने देखने लगती है\\nतभी\\nओले पड़ने लगते है\\nतेज बारिश आने लगती है बिजली कड़कने लगती है\\n\\nअभी तो और है.....',\n",
              " \"#Happy Father's Day \\nMSG Guru pa.......🙏\\nबीते दिन, बीती रातें,\\nकरनी है तुझ संग बहुत सी बाते.\\nकैसे सुनाऊं अपने दिल का हाल,\\nपहले ही आ जाओ,\\nबीत ना जाए अब ये भी साल\\nMiss u lot\\n🤗🤗🤗🤗 https://t.co/PVBOfNJx65\",\n",
              " '#मन #उदास #दिल ❤️ #बेचैन हो जाता हैं\\n\\n                     जब\\n\\n#तुम्हारा #नाम #सुनते हैं ____________ \\n\\n#दूसरों के #लबों 💋 से ______! https://t.co/6DR9VyjjHa',\n",
              " \"#Happy Father's Day \\nMSG Guru pa.......🙏\\nबीते दिन, बीती रातें,\\nकरनी है तुझ संग बहुत सी बाते.\\nकैसे सुनाऊं अपने दिल का हाल,\\nपहले ही आ जाओ,\\nबीत ना जाए अब ये भी साल\\nMiss u lot\\n🤗🤗🤗🤗 https://t.co/PVBOfNJx65\",\n",
              " 'ये बात सुनकर पास ही खड़ी एक बुजुर्ग कहती है, बेटा #खुशी मेरे लिए क्या लाओगी मेले से ?\\nकाकी हमारी फसल बहुत अच्छी हुई है मैं आपके लिए नए कपडे लाऊंगी #खुशी कहती हुई घर दौड़ जाती है ! \\n\\nअगली सुबह #खुशी स्कूल जाकर अपनी मैडम को बताती है की मैडम इस बार हमारी फसल बहुत अच्छी हुई है\\n\\nऔर है',\n",
              " 'क्या हम मेला भी जाएंगे?\\n#खुशी पूछती है\\nहाँ हम मेला भी जाएंगे और पकोड़े, बर्फी भी खाएंगे #खुशी के पिता कहते है \\n#खुशी इस बात को सुनकर नाचने लगती है और घर आते वक्त रस्ते मे अपनी सहेलियों को बताती है कि मै अपने माँ पापा के साथ मेला देखने जाउंगी, पकोड़े बर्फी भी खाउंगी\\n\\nऔर है.....',\n",
              " \"'' फ्यूचर ससुर / पापा जी ,, को भी \\n#Happy  Father day💞❣️\",\n",
              " '#उदास कर देती है हर शाम #मुझे,\\n\\nऐसा लगता जैसे कोई #भूल रहा हो #मुझे !! https://t.co/gphW8sq8oa',\n",
              " 'आज   #खुदा   ने   फिर   #पूछा...\\n\\nतेरा   #हँसता  चेहरा   #उदास  क्यों  है......\\n\\nतेरी   #आँखों   में   #प्यास  क्यों   है.......\\n\\nजिसके  पास   तेरे  लिए   #वक्त  नहीं.....\\n\\nवही  तेरे  लिए   #खास  #क्यो  है...!! https://t.co/a8zEBiQGTL',\n",
              " 'खत्म कर के अपनी ख्वाहिशों को हमारे सपनों को सजाता है,\\nवो पिता ही तो है जो खुद पीछे रहकर हमें आगे बढ़ाता है,\\nअपना सब कुछ कुर्बान कर देता है\\nसारे सुख हमारे नाम कर देता है\\nबेटा मेरा उड़े आसमान में\\nये सोचकर पापा अपने पंख तक नीलाम कर देता है\\n\\n#happy #FathersDay to All Fathers https://t.co/3UceCu14m8',\n",
              " '#__वास्तविक__दर्द..😢😢\\n\\nस्कूल प्रिंसिपल ने बहुत ही कड़े शब्दों मे जब किसान की बेटी #खुशी से पिछले एक साल की स्कूल फीस मांगी\\nतो #खुशी ने कहा मैडम मे घर जाकर आज पिता जी से कह दूंगी\\nघर जाते ही बेटी ने माँ से पूछा पिता जी कहाँ है ?\\n\\nआगे भी जारी रखें\\nलंबी कहानी है\\nपूरी जरूर पढ़ें\\n👉🏻',\n",
              " 'घायल करने के लिए लोग\\n#हथियार चलाते है,\\nमेरी तो #Smile ही काफी है…! https://t.co/0uXBdcqydd',\n",
              " '#उदास कर देती है हर शाम #मुझे,\\n\\nऐसा लगता जैसे कोई #भूल रहा हो #मुझे !! https://t.co/gphW8sq8oa',\n",
              " '@icute__princess जिन्हें आपका #हंसना पसंद नहीं\\nवो अपना #सर फोङे\\nहमें तो आपका #उदास रहना पसंद नहीं\\n🙏🌷',\n",
              " 'आज   #खुदा   ने   फिर   #पूछा...\\n\\nतेरा   #हँसता  चेहरा   #उदास  क्यों  है......\\n\\nतेरी   #आँखों   में   #प्यास  क्यों   है.......\\n\\nजिसके  पास   तेरे  लिए   #वक्त  नहीं.....\\n\\nवही  तेरे  लिए   #खास  #क्यो  है...!! https://t.co/a8zEBiQGTL',\n",
              " 'मुस्कुराने 😆के बहाने जल्दी खोजो वरना,\\nज़िंदगी रुलाने 😔के मौके तलाश लेगी।\\n🎊🎉🥰\\n#BeHappy #Smile #positiveenergy\\n#drndplus #hindipoetry #inspirational #Entrepreneur #workout #excuses #Motivation #Twitter #TwitterFactCheck',\n",
              " \"Baap suraj ki manind hota hai, gram zrur hota h lekin agr na ho toh zindagi mei andhera hojata h...😊\\n#HAPPY FATHER'S DAY#❤\",\n",
              " 'मैं तो \"पत्थर\" हूँ, मेरे माता-पिता \"शिल्पकार\" है...!\\nमेरी हर \"तारीफ़\" के वो ही असली \"हक़दार हैं...!!\\n   #𝑯𝒂𝒑𝒑𝒚 𝑭𝒂𝒕𝒉𝒆𝒓‘𝒔 𝑫𝒂𝒚👨\\u200d👩\\u200d👦𝑳𝒐𝒗𝒆 𝒀𝒐𝒖 𝑫𝒂𝒅😘miss you dad https://t.co/G4GcJA8sBl',\n",
              " 'घायल करने के लिए लोग\\n#हथियार चलाते है,\\nमेरी तो #Smile ही काफी है…! https://t.co/0uXBdcqydd',\n",
              " 'सपने तो मेरे थे पर उनको पूरा करने का रास्ता\\n\\nकोई और दिखाए जा रहा था और वो हैं मेरे पापा\\n\\n#Happy fathers Day https://t.co/IXdFGMviSk',\n",
              " \"सख्त सी आवाज़ के पीछे कही प्यार सा छिपा रह्ता है,उसकी रगो में एक हिम्मत का दरिया सा बहा करता है।कितनी भी परेशानिया या दिक्कत पडती हो उसपर हंसकर झेल जाता है *पिता* किसी से कुछ ना कहता है।\\n#HAPPY FATHER'S DAY..\\nU r and will always be my hero..🙏😘🤗आपको हर चीज़ के लिये। https://t.co/aLKF9oC3U0\",\n",
              " 'ज़िंदगी की कुछ खास दुआए लेलो हमसे,\\nजन्मदिन पर कुछ नजराने ले लो हमसे,\\nभर दे रंग जो तेरे जीवन के पलो में…\\nआज वो हसी मुबारक बाद ले लो हमसे.\\n#Happy #birthday 🎂🎂🎉🎉🎈🎈\\n@SyedMahiNoor1 https://t.co/yYCReoMiFr',\n",
              " \"#Happy Father's Day \\nMSG Guru pa.......🙏\\nबीते दिन, बीती रातें,\\nकरनी है तुझ संग बहुत सी बाते.\\nकैसे सुनाऊं अपने दिल का हाल,\\nपहले ही आ जाओ,\\nबीत ना जाए अब ये भी साल\\nMiss u lot\\n🤗🤗🤗🤗 https://t.co/PVBOfNJx65\",\n",
              " 'बेहद अफ़सोस की बात है पूरे देश के लिए, जान एक ग़रीब की या एक फिल्म कलाकार की बराबर ही है, \\nफिल्म कलाकार फिर भी फ़्रस्ट्रेशन की वजह से ख़ुदकुशी करता होगा गरीब तो देश की खस्ताहाल अर्थव्यवस्था की वजह से\\nआज ट्विटर पे भूचाल नहीं आएगा क्युकी गरीब/किसान परिवार का मामला है\\n@PMOIndia\\n#SAD https://t.co/jjD61ffk4d',\n",
              " \"बेटियों के लिए बाप क्या है ये सिर्फ बेटियां ही समझ सकती हैं\\n\\n#Happy father's day\",\n",
              " \"#Happy B'day Thalapathy Vijya https://t.co/KofwzkOYcn\",\n",
              " 'हमें पढ़ाओ न रिश्तों की कोई और किताब \\nपढ़ी है बाप के चेहरे की झुर्रियाँ हम ने \\n\\n- मेराज फ़ैज़ाबादी #HappyFathersDay2020 #HappyFathersDay #Happy',\n",
              " \"बेटियों के लिए बाप क्या है ये सिर्फ बेटियां ही समझ सकती हैं\\n\\n#Happy father's day\",\n",
              " 'हमें पढ़ाओ न रिश्तों की कोई और किताब \\nपढ़ी है बाप के चेहरे की झुर्रियाँ हम ने \\n\\n- मेराज फ़ैज़ाबादी #HappyFathersDay2020 #HappyFathersDay #Happy',\n",
              " \"#Happy Father's Day \\nMSG Guru pa.......🙏\\nबीते दिन, बीती रातें,\\nकरनी है तुझ संग बहुत सी बाते.\\nकैसे सुनाऊं अपने दिल का हाल,\\nपहले ही आ जाओ,\\nबीत ना जाए अब ये भी साल\\nMiss u lot\\n🤗🤗🤗🤗 https://t.co/PVBOfNJx65\",\n",
              " '#SARKARU VAARI PAATA                        #SSMB27                                                 @urstrulyMahesh                                  @parasuramsolo                                                 #happy birthday day super star krishna https://t.co/89ynfzvzSR',\n",
              " '#ऊपर_से बेहद सख्\\u200dत और भीतर से #मक्खन जैसा #मुलायम\\n:\\n:\\n:\\nहम #पिता_की बात कर रहे हैं #जिन्हें_सलाम है. :\\n#Happy_Fathers_Day__2020\\n:\\n:\\n#happy #fathers #abbu #papa #dad #baba #pita #day #happyfathersday #loveyou #greatest #care #proud #jannatkadarwaza #dadlovers https://t.co/nYv93vzrQs',\n",
              " 'सबका साहस सबकी इज्जत  सबका सम्मान है पिता।\\nसबकी ताकत सबकी  पूँजी सबकी  पहचान है पिता।।\\nघर की एक एक ईंट में शामिल उनका खून पसीना।\\n सारे घर की रौनक उनसे सारे घर की शान है पिता।।\\nसबका शोहरत सबका रुतबा सबका मान पिता।\\nसबको हिम्मत देने वाले सबके अभिमान है पिता।।\\n\\n#Happy fathers Day https://t.co/g7pwXC6tdc',\n",
              " \"बेटियों के लिए बाप क्या है ये सिर्फ बेटियां ही समझ सकती हैं\\n\\n#Happy father's day\",\n",
              " 'सबका साहस सबकी इज्जत  सबका सम्मान है पिता।\\nसबकी ताकत सबकी  पूँजी सबकी  पहचान है पिता।।\\nघर की एक एक ईंट में शामिल उनका खून पसीना।\\n सारे घर की रौनक उनसे सारे घर की शान है पिता।।\\nसबका शोहरत सबका रुतबा सबका मान पिता।\\nसबको हिम्मत देने वाले सबके अभिमान है पिता।।\\n\\n#Happy fathers Day https://t.co/g7pwXC6tdc',\n",
              " 'की किताबों से नहीं मैंने रास्तो की ठोकरों से सीखा है मुश्किल में भी हंसना मैंने अपने पापा से सीखा है \\n#Happy fathers day# https://t.co/qovb92dpbP',\n",
              " 'अपने आप को ऐसा बना लो कि, किसी के आने से या किसी के जाने से , या फिर किसी के बदल जाने से, आपको कोई फर्क ना पड़े।\\n\\n#my #life  #lifestyle  \\n#enjoy  #sad #masti \\n#family #india #wife\\n#alwar #sonam #meena \\n#alone #habit… https://t.co/Yp62WShQjg',\n",
              " 'बेहद अफ़सोस की बात है पूरे देश के लिए, जान एक ग़रीब की या एक फिल्म कलाकार की बराबर ही है, \\nफिल्म कलाकार फिर भी फ़्रस्ट्रेशन की वजह से ख़ुदकुशी करता होगा गरीब तो देश की खस्ताहाल अर्थव्यवस्था की वजह से\\nआज ट्विटर पे भूचाल नहीं आएगा क्युकी गरीब/किसान परिवार का मामला है\\n@PMOIndia\\n#SAD https://t.co/jjD61ffk4d',\n",
              " 'wo the mahroom taleem se magar mujko prhaya unho ne\\npassena ad se barh kr mre hatr bhaya he\\nkhra rhta ho jo shakhoon me apna sar utha k me\\nmre papa ne aj mujko is wabil bnaya he\\n#Happy Father Day',\n",
              " 'मैं तो \"पत्थर\" हूँ, मेरे माता-पिता \"शिल्पकार\" है...!\\nमेरी हर \"तारीफ़\" के वो ही असली \"हक़दार हैं...!!\\n   #𝑯𝒂𝒑𝒑𝒚 𝑭𝒂𝒕𝒉𝒆𝒓‘𝒔 𝑫𝒂𝒚👨\\u200d👩\\u200d👦𝑳𝒐𝒗𝒆 𝒀𝒐𝒖 𝑫𝒂𝒅😘 https://t.co/8Hlz2pJnxB',\n",
              " 'खत्म कर के अपनी ख्वाहिशों को हमारे सपनों को सजाता है,\\nवो पिता ही तो है जो खुद पीछे रहकर हमें आगे बढ़ाता है,\\nअपना सब कुछ कुर्बान कर देता है\\nसारे सुख हमारे नाम कर देता है\\nबेटा मेरा उड़े आसमान में\\nये सोचकर पापा अपने पंख तक नीलाम कर देता है\\n\\n#happy #FathersDay to All Fathers https://t.co/3UceCu14m8',\n",
              " 'बेहद अफ़सोस की बात है पूरे देश के लिए, जान एक ग़रीब की या एक फिल्म कलाकार की बराबर ही है, \\nफिल्म कलाकार फिर भी फ़्रस्ट्रेशन की वजह से ख़ुदकुशी करता होगा गरीब तो देश की खस्ताहाल अर्थव्यवस्था की वजह से\\nआज ट्विटर पे भूचाल नहीं आएगा क्युकी गरीब/किसान परिवार का मामला है\\n@PMOIndia\\n#SAD https://t.co/jjD61ffk4d',\n",
              " 'बेहद अफ़सोस की बात है पूरे देश के लिए, जान एक ग़रीब की या एक फिल्म कलाकार की बराबर ही है, \\nफिल्म कलाकार फिर भी फ़्रस्ट्रेशन की वजह से ख़ुदकुशी करता होगा गरीब तो देश की खस्ताहाल अर्थव्यवस्था की वजह से\\nआज ट्विटर पे भूचाल नहीं आएगा क्युकी गरीब/किसान परिवार का मामला है\\n@PMOIndia\\n#SAD https://t.co/jjD61ffk4d',\n",
              " \"Vo maa k kehne pai kuch raub\\nMujh pr rakhta hai\\nYehi wajah jo mujhe chumne se jhijhakta hai \\nJudii hai iski hr ek haan meri haan se\\nMere bagair hain iske hr khwaab veerane\\n\\n#Happy fathers day\\nMay All the father's live a long and healthy life , ameen❤\",\n",
              " '🍃💞🍃💞🍃💞🍃💞🍃💞\\n\\nचुपके से एक #दिन रख आऊँ, \\nसभी #खुशियाँ उनके सिरहाने में \\nजिन्होंने एक #अरसा बिता दिया, \\nमुझे बेहतर #इंसान बनाने में..!! \\n\\n#HappyFathersDay \\n\\n🍃💞🍃💞🍃💞🍃💞🍃💞 https://t.co/36i6JtnF7a',\n",
              " 'खत्म कर के अपनी ख्वाहिशों को हमारे सपनों को सजाता है,\\nवो पिता ही तो है जो खुद पीछे रहकर हमें आगे बढ़ाता है,\\nअपना सब कुछ कुर्बान कर देता है\\nसारे सुख हमारे नाम कर देता है\\nबेटा मेरा उड़े आसमान में\\nये सोचकर पापा अपने पंख तक नीलाम कर देता है\\n\\n#happy #FathersDay to All Fathers https://t.co/3UceCu14m8',\n",
              " 'Bainnachhora (Not Bainnachhola)\\n.\\n.\\n.\\n#love #instagood #photooftheday #fashion #beautiful #happy #cute #spreadlove #followme #picoftheday #selfie #summer #traveller #instadaily #nature #fun #photooftheday… https://t.co/nqb4aKih3c',\n",
              " \"बेटियों के लिए बाप क्या है ये सिर्फ बेटियां ही समझ सकती हैं\\n\\n#Happy father's day\",\n",
              " \"बेटियों के लिए बाप क्या है ये सिर्फ बेटियां ही समझ सकती हैं\\n\\n#Happy father's day\",\n",
              " 'अरे योग कर ले भाई😜😜\\n#Happy  yoga  day https://t.co/rg1dWiEKpm',\n",
              " '-\\nसवारना छोड़ दिया खुद को...\\n\\nवरना इक दौर में हम भी...\\nकमाल के थे..!!\\n.\\n#quote #thoughts #sawarna #Smile #LikeForLikes #followme @abhisoni_ @indori_rahat @rahatindori https://t.co/858GUKeM2Q',\n",
              " 'पुराने ज़माने में फ़ादर्स डे नही होता था,पिताजी का जब दिल करता था तो जूता उठा कर बच्चों को याद दिला देते थे कि \"मैं बाप हूँ\"\\n#Happy #Father\\'s #Day https://t.co/45mEPQzBz3',\n",
              " 'खत्म कर के अपनी ख्वाहिशों को हमारे सपनों को सजाता है,\\nवो पिता ही तो है जो खुद पीछे रहकर हमें आगे बढ़ाता है,\\nअपना सब कुछ कुर्बान कर देता है\\nसारे सुख हमारे नाम कर देता है\\nबेटा मेरा उड़े आसमान में\\nये सोचकर पापा अपने पंख तक नीलाम कर देता है\\n\\n#happy #FathersDay to All Fathers https://t.co/3UceCu14m8',\n",
              " 'खत्म कर के अपनी ख्वाहिशों को हमारे सपनों को सजाता है,\\nवो पिता ही तो है जो खुद पीछे रहकर हमें आगे बढ़ाता है,\\nअपना सब कुछ कुर्बान कर देता है\\nसारे सुख हमारे नाम कर देता है\\nबेटा मेरा उड़े आसमान में\\nये सोचकर पापा अपने पंख तक नीलाम कर देता है\\n\\n#happy #FathersDay to All Fathers https://t.co/3UceCu14m8',\n",
              " '@ARChoud97831657 आपके जीवन में नए रंगो के साथ नई सोच,ईमानदारी,दया और करुणा का संचार हो \\n#Happy Birth Day To You',\n",
              " '@ImranKhanPTI मंजिल दूर और सफर बहुत है,\\nछोटी सी जिंदगी की फिक्र बहुत है,\\nमार डालती यह दुनिया कब की हमें\\nलेकिन “पापा” के प्यार में असर बहुत है.\\n\\n#Happy Father,sDay\\n   हैप्पी फादर्स डे https://t.co/p3eI5ULko0',\n",
              " 'पिता के बिना जिंदगी विरान होती है,\\nतन्हा सफर में हर राह सुनसान होती है,\\nजिंदगी में पिता का होना जरूरी है,\\nपिता के साथ से हर राह आसान होती है।\\n#Happy Fathers Day @ Ambikapur, India https://t.co/MEF9FXskxH',\n",
              " 'पुराने ज़माने में फ़ादर्स डे नही होता था,पिताजी का जब दिल करता था तो जूता उठा कर बच्चों को याद दिला देते थे कि \"मैं बाप हूँ\"\\n#Happy #Father\\'s #Day https://t.co/liLhP7Tof5',\n",
              " '-\\nसवारना छोड़ दिया खुद को...\\n\\nवरना इक दौर में हम भी...\\nकमाल के थे..!!\\n.\\n#quote #thoughts #sawarna #Smile #LikeForLikes #followme @abhisoni_ @indori_rahat @rahatindori https://t.co/858GUKeM2Q',\n",
              " \"बाप की ज़िन्दगी बीत गई\\nबेटे की ज़िन्दगी बनाते बनाते..\\n##Happy father's day\\n##Fathers day spl 2020.. https://t.co/qhqfhshB4P\",\n",
              " 'Kitabo se nahi, mene zindagi ke tokhro SE sika..\\nKe kitabo SE nahi, mene zindagi ke tokhro SE sika... \\nOr mushkilo Mein bhi hasna, yeh mene apne abbu SE sika.. \\n\\n.\\n.\\n.\\n.\\n.\\n#fatherandson #fathersday #father #happy… https://t.co/qhpyk1lXCU',\n",
              " \"अपने पिता को स्वस्थ रहने के लिए योग करने को प्रेरित करें। क्योंकि मां की तरह ही पिता का भी हर इंसान के जीवन में खास महत्व होता है। भले ही एक पिता अपने प्यार का इजहार बच्चे से न करे लेकिन हर पल साये की तरह वो उसके पीछे खड़े होकर सहारा देते हैं।\\n#Happy father's day https://t.co/ufxGgS85Qh\",\n",
              " '#खुशी \\nखुश रहना हो तो \\n       अपनी फितरत में,\\n                      एक बात शुमार कर लो..!\\n\\nना मिले कोई अपने जैसा,\\n                    तो खुद से प्यार कर लो..!!',\n",
              " 'मेरी शौहरत मेरे पिता की वजह से है.\\n#happy #fathers #day https://t.co/WEfv89S3GP',\n",
              " \"मेरा साहस\\nमेरा सम्मान है पिता,\\nमेरी ताकत\\nमेरी पहचान है पित\\n#Happy Father's Day https://t.co/ru0i0YA6Ta\",\n",
              " 'खत्म कर के अपनी ख्वाहिशों को हमारे सपनों को सजाता है,\\nवो पिता ही तो है जो खुद पीछे रहकर हमें आगे बढ़ाता है,\\nअपना सब कुछ कुर्बान कर देता है\\nसारे सुख हमारे नाम कर देता है\\nबेटा मेरा उड़े आसमान में\\nये सोचकर पापा अपने पंख तक नीलाम कर देता है\\n\\n#happy #FathersDay to All Fathers https://t.co/3UceCu14m8',\n",
              " 'बेहद अफ़सोस की बात है पूरे देश के लिए, जान एक ग़रीब की या एक फिल्म कलाकार की बराबर ही है, \\nफिल्म कलाकार फिर भी फ़्रस्ट्रेशन की वजह से ख़ुदकुशी करता होगा गरीब तो देश की खस्ताहाल अर्थव्यवस्था की वजह से\\nआज ट्विटर पे भूचाल नहीं आएगा क्युकी गरीब/किसान परिवार का मामला है\\n@PMOIndia\\n#SAD https://t.co/jjD61ffk4d',\n",
              " 'खत्म कर के अपनी ख्वाहिशों को हमारे सपनों को सजाता है,\\nवो पिता ही तो है जो खुद पीछे रहकर हमें आगे बढ़ाता है,\\nअपना सब कुछ कुर्बान कर देता है\\nसारे सुख हमारे नाम कर देता है\\nबेटा मेरा उड़े आसमान में\\nये सोचकर पापा अपने पंख तक नीलाम कर देता है\\n\\n#happy #FathersDay to All Fathers https://t.co/3UceCu14m8',\n",
              " '#अटल_जन_शक्ति_संगठन के #प्रदेश_अध्यक्ष_गुजरात #श्री_हरदेश_प्रजापति_जी\\n\\n*आपको #जन्मदिन पर बधाई और #हार्दिक_शुभकामनाएं…*\\n\\n*आने वाला प्रत्येक नया #दिन,*\\n*आपके #जीवन में अनेकाे* \\n#सफलताएँ एवं अपार #खुशियाँ लेकर आये!*\\n\\n#महाकाल की कृपा आप पर #सदैव बनी रहे*\\n\\n#अटल_जन_शक्ति_संगठन https://t.co/f6IetbgQ2h',\n",
              " '#अटल_जन_शक्ति_संगठन के #प्रदेश_अध्यक्ष_गुजरात #श्री_हरदेश_प्रजापति_जी\\n\\n*आपको #जन्मदिन पर बधाई और #हार्दिक_शुभकामनाएं…*\\n\\n*आने वाला प्रत्येक नया #दिन,*\\n*आपके #जीवन में अनेकाे* \\n#सफलताएँ एवं अपार #खुशियाँ लेकर आये!*\\n\\n#महाकाल की कृपा आप पर #सदैव बनी रहे*\\n\\n#अटल_जन_शक्ति_संगठन https://t.co/f6IetbgQ2h',\n",
              " '#happy #motorcycles #day #tribemc #Doha #qatar🇶🇦 @ Doha State of Qatar https://t.co/BX00t1ARsJ',\n",
              " \"अपने पिता को स्वस्थ रहने के लिए योग करने को प्रेरित करें। क्योंकि मां की तरह ही पिता का भी हर इंसान के जीवन में खास महत्व होता है। भले ही एक पिता अपने प्यार का इजहार बच्चे से न करे लेकिन हर पल साये की तरह वो उसके पीछे खड़े होकर सहारा देते हैं।\\n#Happy father's day https://t.co/uNc7EPfeaL\",\n",
              " '@DrKumarVishwas तुम गगन के चंद्रमा हो, मैं धरा की धूल हूँ\\nतुम प्राणों के देवता हो, मैं समर्पित फूल हूँ\\nतुम हो पूजा मैं पुजारी, तुम सुधा मैं प्यास हूँ\\n #Happy world music day.❤\\n#KVStudio खूप खूप शुभेच्छा.❤\\n#अन्तर्राष्ट्रीय योग दिवस शुभेच्छा..❤ https://t.co/K5jNmm3Sdw',\n",
              " 'आजसू पार्टी के सुप्रीमो सह पूर्व उप-मुख्यमंत्री आदरणीय श्री सुदेश कुमार महतो जी को जन्मदिन की हार्दिक शुभकामनाएँ।\\n#Happy #Birthday #dada @SudeshMahtoAJSU https://t.co/yISl0exk2Q',\n",
              " '#Happy #Fathers #Day धरती सा धीरज और आसमान सी उंचाई है\\nजिन्दगी को तरस के खुदा ने ये तस्वीर बनाई है\\nहर दुख वो बच्चों का खुद पे वो सह लेतें है\\nउस खुदा की जीवित प्रतिमा को हम पिता कहते है,कभी अभिमान तो कभी स्वाभिमान है पिता,कभी धरती तो कभी आसमान है पिता https://t.co/xHzWSnCLl6',\n",
              " \"मेरा साहस\\nमेरा सम्मान है पिता,\\nमेरी ताकत\\nमेरी पहचान है पित\\n#Happy Father's Day https://t.co/ru0i0YA6Ta\",\n",
              " '#Happy #Fathers #Day धरती सा धीरज और आसमान सी उंचाई है\\nजिन्दगी को तरस के खुदा ने ये तस्वीर बनाई है\\nहर दुख वो बच्चों का खुद पे वो सह लेतें है\\nउस खुदा की जीवित प्रतिमा को हम पिता कहते है,कभी अभिमान तो कभी स्वाभिमान है पिता,कभी धरती तो कभी आसमान है पिता https://t.co/xHzWSnCLl6',\n",
              " 'बेहद अफ़सोस की बात है पूरे देश के लिए, जान एक ग़रीब की या एक फिल्म कलाकार की बराबर ही है, \\nफिल्म कलाकार फिर भी फ़्रस्ट्रेशन की वजह से ख़ुदकुशी करता होगा गरीब तो देश की खस्ताहाल अर्थव्यवस्था की वजह से\\nआज ट्विटर पे भूचाल नहीं आएगा क्युकी गरीब/किसान परिवार का मामला है\\n@PMOIndia\\n#SAD https://t.co/jjD61ffk4d',\n",
              " 'बेहद अफ़सोस की बात है पूरे देश के लिए, जान एक ग़रीब की या एक फिल्म कलाकार की बराबर ही है, \\nफिल्म कलाकार फिर भी फ़्रस्ट्रेशन की वजह से ख़ुदकुशी करता होगा गरीब तो देश की खस्ताहाल अर्थव्यवस्था की वजह से\\nआज ट्विटर पे भूचाल नहीं आएगा क्युकी गरीब/किसान परिवार का मामला है\\n@PMOIndia\\n#SAD https://t.co/jjD61ffk4d',\n",
              " \"ख्वाइशों को मेरे उड़ान दे गयें \\nपापा मुझे इक पहचान दे गयें \\n\\nताउम्र चलतें रहें उनके कदम पे\\nबहुत आला वो हमको ज्ञान दे गयें \\n#Happy father's day\",\n",
              " '@sudhirchaudhary Sir matlab neutral hone ki koshish bhi nahi karna he aapko?\\n#MediaSold\\n#Sad.',\n",
              " \"#Happy Father's Day \\nMSG Guru pa.......🙏\\nबीते दिन, बीती रातें,\\nकरनी है तुझ संग बहुत सी बाते.\\nकैसे सुनाऊं अपने दिल का हाल,\\nपहले ही आ जाओ,\\nबीत ना जाए अब ये भी साल\\nMiss u lot\\n🤗🤗🤗🤗 https://t.co/PVBOfNJx65\",\n",
              " \"बेटियों के लिए बाप क्या है ये सिर्फ बेटियां ही समझ सकती हैं\\n\\n#Happy father's day\",\n",
              " \"बेटियों के लिए बाप क्या है ये सिर्फ बेटियां ही समझ सकती हैं\\n\\n#Happy father's day\",\n",
              " 'अरे योग कर ले भाई😜😜\\n#Happy  yoga  day https://t.co/rg1dWiEKpm',\n",
              " '#खुशी \\nखुश रहना हो तो \\n       अपनी फितरत में,\\n                      एक बात शुमार कर लो..!\\n\\nना मिले कोई अपने जैसा,\\n                    तो खुद से प्यार कर लो..!!',\n",
              " '#खुशी \\nखुश रहना हो तो \\n       अपनी फितरत में,\\n                      एक बात शुमार कर लो..!\\n\\nना मिले कोई अपने जैसा,\\n                    तो खुद से प्यार कर लो..!!',\n",
              " '#happy #faces 😊❣️ @ Surbhi Gaudham https://t.co/DR2ou9fi8L',\n",
              " 'खत्म कर के अपनी ख्वाहिशों को हमारे सपनों को सजाता है,\\nवो पिता ही तो है जो खुद पीछे रहकर हमें आगे बढ़ाता है,\\nअपना सब कुछ कुर्बान कर देता है\\nसारे सुख हमारे नाम कर देता है\\nबेटा मेरा उड़े आसमान में\\nये सोचकर पापा अपने पंख तक नीलाम कर देता है\\n\\n#happy #FathersDay to All Fathers https://t.co/3UceCu14m8',\n",
              " '@MsKajalAggarwal कल बहुत सी शुभकामनाओं में यह छोटी सी \\nशुभकामना खो जाती इसलिए आज दे रहा हूं\\nWish u Happy Birthday @MsKajalAggarwal mam #HappyBirthdayKajalAggarwal #HappyBirthdayKajal \\n#HBDKajalAggarwal #Queen #Smile #KajalAgarwal https://t.co/moNf8d9iBH',\n",
              " 'Jaib khali ho phir bhi mana nahi karta.. \\nBaap se ameer insan dekha nahi \\nmaine \\n#Happy fathers DAY🌿 https://t.co/58ifyz9Mik',\n",
              " \"आज राजीव गाँधी जिन्दा होते,तो आज के दिन बड़ी शर्म महसूस करते।।\\n#Happy Father's day #\\n@rishibagree @sunil_ssbpl @DrGPradhanFC @TheOliveKnife\",\n",
              " 'खत्म कर के अपनी ख्वाहिशों को हमारे सपनों को सजाता है,\\nवो पिता ही तो है जो खुद पीछे रहकर हमें आगे बढ़ाता है,\\nअपना सब कुछ कुर्बान कर देता है\\nसारे सुख हमारे नाम कर देता है\\nबेटा मेरा उड़े आसमान में\\nये सोचकर पापा अपने पंख तक नीलाम कर देता है\\n\\n#happy #FathersDay to All Fathers https://t.co/3UceCu14m8',\n",
              " 'दुनिया के लोग मिलेंगे, बहरूपिया के रूप में... \\n\\nपिता पिता होता है, पता चला आप के जाने से...\\n\\nमुझे रख दिया छांव में, खुद जलते रहे धूप में\\n#Happy #Fathers #Day https://t.co/ACLEOhIVtO',\n",
              " 'खत्म कर के अपनी ख्वाहिशों को हमारे सपनों को सजाता है,\\nवो पिता ही तो है जो खुद पीछे रहकर हमें आगे बढ़ाता है,\\nअपना सब कुछ कुर्बान कर देता है\\nसारे सुख हमारे नाम कर देता है\\nबेटा मेरा उड़े आसमान में\\nये सोचकर पापा अपने पंख तक नीलाम कर देता है\\n\\n#happy #FathersDay to All Fathers https://t.co/3UceCu14m8',\n",
              " \"बेटियों के लिए बाप क्या है ये सिर्फ बेटियां ही समझ सकती हैं\\n\\n#Happy father's day\",\n",
              " \"💞मेरी पहचान आप से पापा…\\nक्या कहूं मेरे लिए आप क्या हो पापा…\\nरहने को तो  है पैरों के नीचे यह जमीन…\\nपर मेरे लिए तो मेरा आसमान आप हो पापा................................#papa\\n\\n#Happy Father's day 😍🤗🤗\\n Love u so much papa. 😘😘😘😍 https://t.co/Bx5U8dAvJz\",\n",
              " \"मेरा साहस\\nमेरा सम्मान है पिता,\\nमेरी ताकत\\nमेरी पहचान है पित\\n#Happy Father's Day https://t.co/ru0i0YA6Ta\",\n",
              " \"बेटियों के लिए बाप क्या है ये सिर्फ बेटियां ही समझ सकती हैं\\n\\n#Happy father's day\",\n",
              " '#FathersDay\\n#जिंदगी जीने के लिए #Papa द्वारा दिया गया यह #मंत्र मुझे हर #निराशा से दूर रखता है ..\\n#खुश रहने के लिए हमेशा अपने से नीचे और #दुखी रहने के लिए अपने से ऊपर के लोगो का जीवन स्तर देखना\\n#solareclipse #InternationalYogaDay #musicday https://t.co/3zuNT9bZld',\n",
              " 'सपने तो मेरे हैं पर उनको पूरा करने का रास्ता कोई और दिखाए जा रहा  है और वो है मेरे पापा Love you papa … ##Happy fathers day##.       1.dada ji and papa ji https://t.co/H9lDvga8Wx',\n",
              " \"पापा आपके लिए:-\\n\\nरात, खून पसीना बहाके,\\nमेरे ख्वाबों को पूरा करने वाले,\\nमेरी तकदीर बनाने वाले,\\nखुदा से भी बढ़कर मेरे पिता है।\\n\\n#HAPPY #FATHER'S #DAY #PAPA https://t.co/Kceke1GtgJ\",\n",
              " 'शुक्रिया अदा कर वक्त का तू अब भी तेरे नसीब में है-\\n#time #love #life #instagram #photography #like #art #instagood  #photooftheday #beautiful #motivation #travel #photo #family #fashion #friends #smile #picoftheday #lifestyle #fun #likeforlikes #bhfyp \\n@manavkaul @nirmika https://t.co/mOV4W78mvl',\n",
              " \"बेटियों के लिए बाप क्या है ये सिर्फ बेटियां ही समझ सकती हैं\\n\\n#Happy father's day\",\n",
              " \"#Happy Father's Day \\n\\nआई लव यू डैड ।\\n\\nवो माता-पिता ही हैं, जिनसे आपने मुस्कुराना सीखा !\\nकद्र करो माँ बाप की,\\nदुआओं में उनकी ताकत है। https://t.co/3vungyW7OA\",\n",
              " \"पिता का साया, जीवन की धूप में घने वृक्ष की उस छांव की तरह है, जो अपने बच्चों तक आने वाली हर\\u200c परेशानी को स्वयं में ही समेट लेता है।\\nपितृ दिवस की हार्दिक शुभकामनाएं।\\n#happy Father's Day\",\n",
              " '24जून को CM @capt_amarinder बुला सकतेहै केंद्र ऑर्डिनेंस पर सर्वदलीय बैठक।\\nक्या सभी पार्टियों का एक मत होगा फैसला?\\n#AAP @HarpalCheemaMLA विधानसभा का विशेष सत्र की मांग कर चुके हैं।\\n#SAD @drcheemasad कह चुके है कि कांग्रेस 2017 में इसे मान चुकी है।\\n@INCPunjab प्रदर्शन कर चुकी है।',\n",
              " 'अरे योग कर ले भाई😜😜\\n#Happy  yoga  day https://t.co/rg1dWiEKpm',\n",
              " \"बेटियों के लिए बाप क्या है ये सिर्फ बेटियां ही समझ सकती हैं\\n\\n#Happy father's day\",\n",
              " 'अरे योग कर ले भाई😜😜\\n#Happy  yoga  day https://t.co/rg1dWiEKpm',\n",
              " \"अपने पिता को स्वस्थ रहने के लिए योग करने को प्रेरित करें। क्योंकि मां की तरह ही पिता का भी हर इंसान के जीवन में खास महत्व होता है। भले ही एक पिता अपने प्यार का इजहार बच्चे से न करे लेकिन हर पल साये की तरह वो उसके पीछे खड़े होकर सहारा देते हैं।\\n#Happy father's day https://t.co/ZqjtLPxAcC\",\n",
              " 'अरे योग कर ले भाई😜😜\\n#Happy  yoga  day https://t.co/rg1dWiEKpm',\n",
              " 'पितृ दिवस की हार्दिक शुभकामनाएँ।\\n#Happy Father’s Day\\n#पिता जी\\n#बाबूजी\\n#पापा\\n#डैडी https://t.co/eOh6pGHyPk',\n",
              " \"मेरा साहस\\nमेरा सम्मान है पिता,\\nमेरी ताकत\\nमेरी पहचान है पित\\n#Happy Father's Day https://t.co/ru0i0YA6Ta\",\n",
              " \"अपने पिता को स्वस्थ रहने के लिए योग करने को प्रेरित करें। क्योंकि मां की तरह ही पिता का भी हर इंसान के जीवन में खास महत्व होता है। भले ही एक पिता अपने प्यार का इजहार बच्चे से न करे लेकिन हर पल साये की तरह वो उसके पीछे खड़े होकर सहारा देते हैं।\\n#Happy father's day https://t.co/ZTD8dsvURK\",\n",
              " 'अरे योग कर ले भाई😜😜\\n#Happy  yoga  day https://t.co/rg1dWiEKpm',\n",
              " 'हर रोज करो #योग, जीवन भर रहो निरोग।\\n\\nशरीर, मन और आत्मा को जोड़ने का विज्ञान है योग।\\n\\nशरीर में रोग-प्रतिरोधक शक्ति बढ़ाकर ही #कोरोना बीमारी से लड़ा जा सकता है। ऐसे में योग का महत्व और ज्यादा बढ़ जाता है।\\n\\n इस वर्ष #COVID19 के चलते घर पर रहकर ही योग करें।\\n #Happy #YogaDay https://t.co/qdalvv6b1i',\n",
              " 'खत्म कर के अपनी ख्वाहिशों को हमारे सपनों को सजाता है,\\nवो पिता ही तो है जो खुद पीछे रहकर हमें आगे बढ़ाता है,\\nअपना सब कुछ कुर्बान कर देता है\\nसारे सुख हमारे नाम कर देता है\\nबेटा मेरा उड़े आसमान में\\nये सोचकर पापा अपने पंख तक नीलाम कर देता है\\n\\n#happy #FathersDay to All Fathers https://t.co/3UceCu14m8',\n",
              " \"@WhoSunilGrover Tum bhi career bachane ke liye chaatoge, pta nahi tha pyare gutthi, ki itna gir jaoge, tumhare Talent ka 1/2¹⁰ yaani 1/1024 hissa bhi Katil Salman khan 'dcompany' wale ke pass nahi, phir bhi chaatna pad rha. #sad reality of #FilmMafiya\",\n",
              " '#Happy #father #day #Allah #bless #you #allah #Meri #Umar #bhiii #mere #Papa #ko #lg #jy #ameen😘😘\\n\\n #Es Zulm Ki Duniya Mein Faqat Pyar Mere Papa\\n#Hain Mere Liye Saya-E-Deewar Mere Papa,\\n#Nafrat Ke Jazeron Se Mohabbat Ki Hadon Tak,\\n#Bass Pyaar Hi Pyaar Hai Bas Pyar Mere \\n#Papa https://t.co/Dt63BfEjIN',\n",
              " '#Happy #father #day #Allah #bless #you #allah #Meri #Umar #bhiii #mere #Papa #ko #lg #jy #ameen😘😘\\n\\n #Es Zulm Ki Duniya Mein Faqat Pyar Mere Papa\\n#Hain Mere Liye Saya-E-Deewar Mere Papa,\\n#Nafrat Ke Jazeron Se Mohabbat Ki Hadon Tak,\\n#Bass Pyaar Hi Pyaar Hai Bas Pyar Mere \\n#Papa https://t.co/Dt63BfEjIN',\n",
              " \"#Happy #Father's #Day❤️❤️❤️\\nपापा आप मेरा वो गुरूर हैं जो\\nकोई भी कभी भी नहीं तोड़ सकता\\nमेरी पहचान से आप से पापा…\\nक्या कहूं आप मेरे लिय क्या हो पापा…\\nरहने को है पैरों के नीचे यह जमीन…\\nपर मेरे लिए तो मेरा आसमान आप हो पापा।🙏🙏 https://t.co/5NSmDhUYV3\",\n",
              " \"हैँ समाज का नियम भी ऐसे पिता सदा गम्भीर रहे, मन में भाव छुपे हो लाखोँ, आँखों से न नीर बहे! ...\\n\\n#Happy Father's Day \\nLove u pApA https://t.co/iMlMrTu77D\",\n",
              " 'मैं तो \"पत्थर\" हूँ, मेरे माता-पिता \"शिल्पकार\" है...!\\nमेरी हर \"तारीफ़\" के वो ही असली \"हक़दार हैं...!!\\n   #𝑯𝒂𝒑𝒑𝒚 𝑭𝒂𝒕𝒉𝒆𝒓‘𝒔 𝑫𝒂𝒚👨\\u200d👩\\u200d👦𝑳𝒐𝒗𝒆 𝒀𝒐𝒖 𝑫𝒂𝒅😘 https://t.co/8Hlz2pJnxB',\n",
              " \"मेरा साहस\\nमेरा सम्मान है पिता,\\nमेरी ताकत\\nमेरी पहचान है पित\\n#Happy Father's Day https://t.co/ru0i0YA6Ta\",\n",
              " 'वह खवाब था,\\nमैं हक़ीक़त थी ...\\nउसके साए में मैंने ,\\nख्वाब को चुना था ...\\nइस उम्म्मीद में कि ,\\nकल होंगे ख्वाब पूरे ...\\nहां! वह ख्वाब ही था  ,\\nखुलते आंख हुआ विलीन ...\\nऔर जिंदगी बढ़ चली ,\\nएक शाश्वत सत्य की ओर ...!!\\n\\n#Sad #pain #life #LoveStory #thoughts',\n",
              " 'खत्म कर के अपनी ख्वाहिशों को हमारे सपनों को सजाता है,\\nवो पिता ही तो है जो खुद पीछे रहकर हमें आगे बढ़ाता है,\\nअपना सब कुछ कुर्बान कर देता है\\nसारे सुख हमारे नाम कर देता है\\nबेटा मेरा उड़े आसमान में\\nये सोचकर पापा अपने पंख तक नीलाम कर देता है\\n\\n#happy #FathersDay to All Fathers https://t.co/3UceCu14m8',\n",
              " '#खुशी\\nतीनों भाई राष्ट्रीय उपाध्यक्ष मंजीत सिंह नोटियाल जी,राष्ट्रीय महासचिव कमल सिंह वालिया जी और छोटा भाई शिवम। इन तीनों भाईयों की हाईकोर्ट से बेल मंजूर हो चुकी हैं बहुत जल्द तीनों भाई हमारे बीच होंगें। \\n#जय_भीम\\n@AzadSamajParty_ \\n@BhimArmyChief \\n@VinayRatanSingh @harendraranchi https://t.co/858hXzvFGV',\n",
              " 'जेब खाली हो फिर भी, \\nमना करते नहीं देखा,\\nमैंने पिता से अमीर, \\nइंसान नहीं देखा...!! #happy father’s day my dad https://t.co/XzR9uMvmX9',\n",
              " 'खत्म कर के अपनी ख्वाहिशों को हमारे सपनों को सजाता है,\\nवो पिता ही तो है जो खुद पीछे रहकर हमें आगे बढ़ाता है,\\nअपना सब कुछ कुर्बान कर देता है\\nसारे सुख हमारे नाम कर देता है\\nबेटा मेरा उड़े आसमान में\\nये सोचकर पापा अपने पंख तक नीलाम कर देता है\\n\\n#happy #FathersDay to All Fathers https://t.co/3UceCu14m8',\n",
              " 'खत्म कर के अपनी ख्वाहिशों को हमारे सपनों को सजाता है,\\nवो पिता ही तो है जो खुद पीछे रहकर हमें आगे बढ़ाता है,\\nअपना सब कुछ कुर्बान कर देता है\\nसारे सुख हमारे नाम कर देता है\\nबेटा मेरा उड़े आसमान में\\nये सोचकर पापा अपने पंख तक नीलाम कर देता है\\n\\n#happy #FathersDay to All Fathers https://t.co/3UceCu14m8',\n",
              " '#HaPpY #FathersDay 😘😍🥰😘\\nपिताजी… पिताजी जीवन है, सम्बल है, शक्ति है, सबकुछ है 🥰\\nउन मासूम आँखों में सारा जमाना है \\nमाँ ज़मीन पिताजी ख़्वाबों का खजाना है |\\n\\nसज जाते है सब रंग-ए-जूनून सुबह से ,\\nमाँ है छाँव, पिताजी जिंदगी का आशियाना है | https://t.co/fJF9OW4joE',\n",
              " 'तेरी #खुशी से ही नही,\\nतेरे #गम से भी रिश्ता है मेरा.\\nतू ज़िंदगी का एक #अहम हिस्सा है मेरा\\nये दोस्ती तुमसे सिर्फ़ लफ़्ज़ों की नही.\\nरूह से रूह का तुम से #रिश्ता है मेरा 💞 https://t.co/X4yk9Be7tx',\n",
              " \"मेरा साहस\\nमेरा सम्मान है पिता,\\nमेरी ताकत\\nमेरी पहचान है पित\\n#Happy Father's Day https://t.co/ru0i0YA6Ta\",\n",
              " \"मेरे पापा ही मेरे आदर्श है ।\\n#Happy father's day💓💓 https://t.co/MIH5utbRvY\",\n",
              " \"#Happy #Father's #Day❤️❤️❤️\\nपापा आप मेरा वो गुरूर हैं जो\\nकोई भी कभी भी नहीं तोड़ सकता\\nमेरी पहचान से आप से पापा…\\nक्या कहूं आप मेरे लिय क्या हो पापा…\\nरहने को है पैरों के नीचे यह जमीन…\\nपर मेरे लिए तो मेरा आसमान आप हो पापा।🙏🙏 https://t.co/o951uNuPSd\",\n",
              " 'तारीफ़ अपने आप की करना फ़िज़ूल है,\\nख़ुशबू खुद बता देती है कौन सा फ़ूल है\\n.\\n.\\n.\\n.\\n.\\n.\\n#yourself #love #you #life #motivation #loveyourself #quotes #happy #follow #instagram #beautiful #happiness #smile #lifestyle #me… https://t.co/bJrt61keGo',\n",
              " \"*पिता*\\n*अमीर हो या गरीब औलाद के लिए हमेशा बादशाह होता है।*\\n\\n*#happy father's day* ❣️\\n*अंतरराष्ट्रीय योग दिवस की शुभकामनाएं*\",\n",
              " 'आज हमारे लाडले,छोटे बेटे \"अद्विक तिवारी\" शुभ का जन्मदिन है,आज शुभ 4 साल का ही गया। \\nआप सभी मित्रो,वरिष्ठों से अनुरोध है,कि शुभ के जीवन की तिजोरी में अपना शुभाशीष,आशीर्वाद रूपी धन देवें क्योकि ये ही धन उसके जीवन भर काम आयेगा।\\n\\n#HAPPY BIRTHDAY \"SHUBH\" https://t.co/t664gFGo7s',\n",
              " \"🙏🙏21 जून #पिता दिवस🙏🙏Happy Father's Day💐💐 LoVe U PaPa Ji💞\\nहमारे वास्ते जो अपना सब  #दुख भुल जाता है \\nपिता कहते हैं जिसे वहि अपना विधाता है @ravikishann https://t.co/l6K9Zzsl5S\",\n",
              " 'मुझको छाँव मे रखा और खुद भी वो जलता रहा मैंने देखा एक फ़रिश्ता बाप की परछाई में!\\n               #Happy\\n              #FathersDay',\n",
              " 'मेरी शौहरत मेरे पिता की वजह से है.\\n#happy #fathers #day https://t.co/WEfv89S3GP',\n",
              " 'खत्म कर के अपनी ख्वाहिशों को हमारे सपनों को सजाता है,\\nवो पिता ही तो है जो खुद पीछे रहकर हमें आगे बढ़ाता है,\\nअपना सब कुछ कुर्बान कर देता है\\nसारे सुख हमारे नाम कर देता है\\nबेटा मेरा उड़े आसमान में\\nये सोचकर पापा अपने पंख तक नीलाम कर देता है\\n\\n#happy #FathersDay to All Fathers https://t.co/3UceCu14m8',\n",
              " \"#HAPPY #FATHER'S #DAY-2020\\nधरती से अंजान था मैं।\\nदुनिया मैंने देखी नहीं।\\nसिजता रहा खून पसीना।\\nदुनिया उसे समझी नहीं।\\nधरती से अंजान था मैं।\\nदुनिया मैंने देखी नहीं।\\nकरता राहा मेहनत वह ।\\nसहता रहा मेहनताना।\\nधरती से अंजान था मैं।\\nदुनिया मैंने देखी नहीं।\\nअपने फिक्र किया न उसने। https://t.co/jpScyfvFyn\",\n",
              " 'मेरी शौहरत मेरे पिता की वजह से है.\\n#happy #fathers #day https://t.co/WEfv89S3GP',\n",
              " 'मेरी शौहरत मेरे पिता की वजह से है.\\n#happy #fathers #day https://t.co/WEfv89S3GP',\n",
              " 'खत्म कर के अपनी ख्वाहिशों को हमारे सपनों को सजाता है,\\nवो पिता ही तो है जो खुद पीछे रहकर हमें आगे बढ़ाता है,\\nअपना सब कुछ कुर्बान कर देता है\\nसारे सुख हमारे नाम कर देता है\\nबेटा मेरा उड़े आसमान में\\nये सोचकर पापा अपने पंख तक नीलाम कर देता है\\n\\n#happy #FathersDay to All Fathers https://t.co/3UceCu14m8',\n",
              " '🍃💞🍃💞🍃💞🍃💞🍃💞\\n\\nचुपके से एक #दिन रख आऊँ, \\nसभी #खुशियाँ उनके सिरहाने में \\nजिन्होंने एक #अरसा बिता दिया, \\nमुझे बेहतर #इंसान बनाने में..!! \\n\\n#HappyFathersDay \\n\\n🍃💞🍃💞🍃💞🍃💞🍃💞 https://t.co/36i6JtnF7a',\n",
              " 'खत्म कर के अपनी ख्वाहिशों को हमारे सपनों को सजाता है,\\nवो पिता ही तो है जो खुद पीछे रहकर हमें आगे बढ़ाता है,\\nअपना सब कुछ कुर्बान कर देता है\\nसारे सुख हमारे नाम कर देता है\\nबेटा मेरा उड़े आसमान में\\nये सोचकर पापा अपने पंख तक नीलाम कर देता है\\n\\n#happy #FathersDay to All Fathers https://t.co/3UceCu14m8',\n",
              " 'खत्म कर के अपनी ख्वाहिशों को हमारे सपनों को सजाता है,\\nवो पिता ही तो है जो खुद पीछे रहकर हमें आगे बढ़ाता है,\\nअपना सब कुछ कुर्बान कर देता है\\nसारे सुख हमारे नाम कर देता है\\nबेटा मेरा उड़े आसमान में\\nये सोचकर पापा अपने पंख तक नीलाम कर देता है\\n\\n#happy #FathersDay to All Fathers https://t.co/3UceCu14m8',\n",
              " \"फादर डे \\nपैली  माथै में जूत पडता जद ठा पड जावतौ की आज रो दिन फादरसाहब रो है।\\n\\n#Happy #Father's #day\",\n",
              " 'खत्म कर के अपनी ख्वाहिशों को हमारे सपनों को सजाता है,\\nवो पिता ही तो है जो खुद पीछे रहकर हमें आगे बढ़ाता है,\\nअपना सब कुछ कुर्बान कर देता है\\nसारे सुख हमारे नाम कर देता है\\nबेटा मेरा उड़े आसमान में\\nये सोचकर पापा अपने पंख तक नीलाम कर देता है\\n\\n#happy #FathersDay to All Fathers https://t.co/3UceCu14m8',\n",
              " \"अपने अधूरे ख़ाब लेकर आपके ख़ाब को पूरा करने की जिद बाप में होती है, खुद फटा कपड़ा पहन कर ईद में आपके लिए नई ड्रेस ले आना ये एक बाप ही कर सकता है, अल्लाह सलामत रखे आपको अब्बू, वैसे तो हर दिन आपका ही है मेरी हर साँस आपके लिए है, #Happy #Father's #Day https://t.co/7jtvUj2Lyp\",\n",
              " 'खत्म कर के अपनी ख्वाहिशों को हमारे सपनों को सजाता है,\\nवो पिता ही तो है जो खुद पीछे रहकर हमें आगे बढ़ाता है,\\nअपना सब कुछ कुर्बान कर देता है\\nसारे सुख हमारे नाम कर देता है\\nबेटा मेरा उड़े आसमान में\\nये सोचकर पापा अपने पंख तक नीलाम कर देता है\\n\\n#happy #FathersDay to All Fathers https://t.co/3UceCu14m8',\n",
              " 'खत्म कर के अपनी ख्वाहिशों को हमारे सपनों को सजाता है,\\nवो पिता ही तो है जो खुद पीछे रहकर हमें आगे बढ़ाता है,\\nअपना सब कुछ कुर्बान कर देता है\\nसारे सुख हमारे नाम कर देता है\\nबेटा मेरा उड़े आसमान में\\nये सोचकर पापा अपने पंख तक नीलाम कर देता है\\n\\n#happy #FathersDay to All Fathers https://t.co/3UceCu14m8',\n",
              " 'खत्म कर के अपनी ख्वाहिशों को हमारे सपनों को सजाता है,\\nवो पिता ही तो है जो खुद पीछे रहकर हमें आगे बढ़ाता है,\\nअपना सब कुछ कुर्बान कर देता है\\nसारे सुख हमारे नाम कर देता है\\nबेटा मेरा उड़े आसमान में\\nये सोचकर पापा अपने पंख तक नीलाम कर देता है\\n\\n#happy #FathersDay to All Fathers https://t.co/3UceCu14m8',\n",
              " 'मैं अपनी जिंदगी ही वार दूँ....\\nअपने पापा को आज मैं क्या उपहार दूँ ?तोहफे में फूल दूँ या गुलाबो का हार दूँ?मेरी जिंदगी में जो है सबसे प्यारा..उस पर तो मैं अपनी जिंदगी ही वार दूँ\\n#Happy Father’s Day !!',\n",
              " '🍃💞🍃💞🍃💞🍃💞🍃💞\\n\\nचुपके से एक #दिन रख आऊँ, \\nसभी #खुशियाँ उनके सिरहाने में \\nजिन्होंने एक #अरसा बिता दिया, \\nमुझे बेहतर #इंसान बनाने में..!! \\n\\n#HappyFathersDay \\n\\n🍃💞🍃💞🍃💞🍃💞🍃💞 https://t.co/36i6JtnF7a',\n",
              " 'खत्म कर के अपनी ख्वाहिशों को हमारे सपनों को सजाता है,\\nवो पिता ही तो है जो खुद पीछे रहकर हमें आगे बढ़ाता है,\\nअपना सब कुछ कुर्बान कर देता है\\nसारे सुख हमारे नाम कर देता है\\nबेटा मेरा उड़े आसमान में\\nये सोचकर पापा अपने पंख तक नीलाम कर देता है\\n\\n#happy #FathersDay to All Fathers https://t.co/3UceCu14m8',\n",
              " '@_shahrukhansari @5NuckelShuffle @sahibaparody967 @Anas_khan68 @Nagrik18 @AJAZ1211 @ProfNoorul @Aafrin7866 @Insaafparody18 @realnavedkhan1 @Bagh01 @msjoha8 @KhubaibRah001 @DXDevil0171 भाई मैंने #twitter पर कभी भी गलत लैंग्वेज यूज नहीं की                                                     फिर हमारी आईडी क्यों सस्पेंड हुई ? वह #sad अलग प्रकार का था',\n",
              " 'खत्म कर के अपनी ख्वाहिशों को हमारे सपनों को सजाता है,\\nवो पिता ही तो है जो खुद पीछे रहकर हमें आगे बढ़ाता है,\\nअपना सब कुछ कुर्बान कर देता है\\nसारे सुख हमारे नाम कर देता है\\nबेटा मेरा उड़े आसमान में\\nये सोचकर पापा अपने पंख तक नीलाम कर देता है\\n\\n#happy #FathersDay to All Fathers https://t.co/3UceCu14m8',\n",
              " \"हर दिन पिता के नाम.. \\n#Happy #Father's #Day\\n@PSKhachariyawas @INCRajasthan @INCIndiaLive @IYC @MahilaCongress @RajasthanPMC https://t.co/XYl0N4MqOH\",\n",
              " '@_shahrukhansari @5NuckelShuffle @sahibaparody967 @Anas_khan68 @Nagrik18 @AJAZ1211 @ProfNoorul @Aafrin7866 @Insaafparody18 @realnavedkhan1 @Bagh01 @msjoha8 @KhubaibRah001 @DXDevil0171 भाई मैंने #twitter पर कभी भी गलत लैंग्वेज यूज नहीं की                                                     फिर हमारी आईडी क्यों सस्पेंड हुई ? वह #sad अलग प्रकार का था',\n",
              " 'खत्म कर के अपनी ख्वाहिशों को हमारे सपनों को सजाता है,\\nवो पिता ही तो है जो खुद पीछे रहकर हमें आगे बढ़ाता है,\\nअपना सब कुछ कुर्बान कर देता है\\nसारे सुख हमारे नाम कर देता है\\nबेटा मेरा उड़े आसमान में\\nये सोचकर पापा अपने पंख तक नीलाम कर देता है\\n\\n#happy #FathersDay to All Fathers https://t.co/3UceCu14m8',\n",
              " 'खत्म कर के अपनी ख्वाहिशों को हमारे सपनों को सजाता है,\\nवो पिता ही तो है जो खुद पीछे रहकर हमें आगे बढ़ाता है,\\nअपना सब कुछ कुर्बान कर देता है\\nसारे सुख हमारे नाम कर देता है\\nबेटा मेरा उड़े आसमान में\\nये सोचकर पापा अपने पंख तक नीलाम कर देता है\\n\\n#happy #FathersDay to All Fathers https://t.co/3UceCu14m8',\n",
              " 'मैं तो \"पत्थर\" हूँ, मेरे माता-पिता \"शिल्पकार\" है...!\\nमेरी हर \"तारीफ़\" के वो ही असली \"हक़दार हैं...!!\\n   #𝑯𝒂𝒑𝒑𝒚 𝑭𝒂𝒕𝒉𝒆𝒓‘𝒔 𝑫𝒂𝒚👨\\u200d👩\\u200d👦𝑳𝒐𝒗𝒆 𝒀𝒐𝒖 𝑫𝒂𝒅😘 https://t.co/8Hlz2pJnxB',\n",
              " 'खत्म कर के अपनी ख्वाहिशों को हमारे सपनों को सजाता है,\\nवो पिता ही तो है जो खुद पीछे रहकर हमें आगे बढ़ाता है,\\nअपना सब कुछ कुर्बान कर देता है\\nसारे सुख हमारे नाम कर देता है\\nबेटा मेरा उड़े आसमान में\\nये सोचकर पापा अपने पंख तक नीलाम कर देता है\\n\\n#happy #FathersDay to All Fathers https://t.co/3UceCu14m8',\n",
              " \"मेरे होठों की हँसी मेरे पापा की बदोलत है,\\nमेरी आँखों में खुशी मेरे पापा की बदोलत है ,\\nपापा किसी खुदा से कम नही\\nक्योकि मेरी ज़िन्दगी की सारी खुशी पापा की बदोलत है.\\n#Happy father's day\",\n",
              " \"Kaha jata h pita ke paao ko pakad kr rakho, Shayad kabhi kisi ka hath pakadne ki jarurt nhi padegi life me uthne ke liye..😇❤\\n#Happy father's day..,,\\nUn sabhi pita ke liye jinhone aaj hume is kabil banaya ki aaj hum jo kuch h sb apne #Mata-Pita  ki wajah se..🤗🙏🏻 https://t.co/wGaNunlnQM\",\n",
              " 'सफलता तीन चीज़ो से मापी जाती हैं धन, प्रसिद्धी और मन की शांति ।\\nधन और प्रसिद्धी पाना आसान हैं ।\\n“मन की शांति” केवल योग से मिलती हैं ..\\n\\n\"योग: कर्मसु कौशलम्\"\\n#Happy International  Yoga Day :....@arunruby08\\n@narendramodi @MsKajalAggarwal @KumariRukshmani @priyankagandhi @CNNnews18',\n",
              " \"पिता एक #उम्मीद है एक आस है ,\\nपरिवार की #हिम्मत है और एक #विश्वास है...\\nबाहर से सख्त और अंदर से नरम है,\\nपिता संघर्ष की आंधी में हौसले की दीवार है\\nपरेशानियो से लड़ने की दोधारी तलवार है,\\nबचपन मे खुश करने वाला खिलौना है\\nनींद लगे तो पेट पर सुलाने वाला बिछौन\\nहै\\n#Happy #Father's #Day💖 https://t.co/GXP3k5wLlR\",\n",
              " 'मैं तो \"पत्थर\" हूँ, मेरे माता-पिता \"शिल्पकार\" है...!\\nमेरी हर \"तारीफ़\" के वो ही असली \"हक़दार हैं...!!\\n   #𝑯𝒂𝒑𝒑𝒚 𝑭𝒂𝒕𝒉𝒆𝒓‘𝒔 𝑫𝒂𝒚👨\\u200d👩\\u200d👦𝑳𝒐𝒗𝒆 𝒀𝒐𝒖 𝑫𝒂𝒅😘 https://t.co/8Hlz2pJnxB',\n",
              " 'योग हमें शारीरिक एवं मानसिक दोनों रूपों में योग्य बनाता है आज की भागदौड भरी जिन्दगी मे योग मानसिक और शारीरिक स्वास्थ्य को बनाए रखने और तनाव को दूर रखने का सर्वोत्तम साधन है। \\nYoga a great gift of India to the whole world. \\n#Happy international yoga day \\n#21जून2020 #देवीनिहारिकाजी https://t.co/UQzpBM9ys6',\n",
              " 'खत्म कर के अपनी ख्वाहिशों को हमारे सपनों को सजाता है,\\nवो पिता ही तो है जो खुद पीछे रहकर हमें आगे बढ़ाता है,\\nअपना सब कुछ कुर्बान कर देता है\\nसारे सुख हमारे नाम कर देता है\\nबेटा मेरा उड़े आसमान में\\nये सोचकर पापा अपने पंख तक नीलाम कर देता है\\n\\n#happy #FathersDay to All Fathers https://t.co/3UceCu14m8',\n",
              " '#अटल_जन_शक्ति_संगठन के #प्रदेश_अध्यक्ष_गुजरात #श्री_हरदेश_प्रजापति_जी\\n\\n*आपको #जन्मदिन पर बधाई और #हार्दिक_शुभकामनाएं…*\\n\\n*आने वाला प्रत्येक नया #दिन,*\\n*आपके #जीवन में अनेकाे* \\n#सफलताएँ एवं अपार #खुशियाँ लेकर आये!*\\n\\n#महाकाल की कृपा आप पर #सदैव बनी रहे*\\n\\n#अटल_जन_शक्ति_संगठन https://t.co/f6IetbgQ2h',\n",
              " \"#Happy Father's Day \\nMSG Guru pa.......🙏\\nबीते दिन, बीती रातें,\\nकरनी है तुझ संग बहुत सी बाते.\\nकैसे सुनाऊं अपने दिल का हाल,\\nपहले ही आ जाओ,\\nबीत ना जाए अब ये भी साल\\nMiss u lot\\n🤗🤗🤗🤗 https://t.co/PVBOfNJx65\",\n",
              " '@aajtak @narendramodi \\nशास्त्रीजी..... काश आज आप हमारे बीच होता तो आप को  #ग्रामीणडाकसेवको की स्थिति देखके बहुत #दुख होता। आप के #शासनकाल मे #देश के एक भी #सांसद  पगार और #पेंशन नहीं  लेता था। आज सब ले रहे हैं  मगर #ग्रामीणडाकिया बाकात रह गया है \\n आज ७३ साल से देश #आजाद हुआ है।\\n@ndtv https://t.co/EOcDkaqJOe',\n",
              " '@narendramodi \\nशास्त्रीजी..... काश आज आप हमारे बीच होता तो आप को  #ग्रामीणडाकसेवको की स्थिति देखके बहुत #दुख होता। आप के #शासनकाल मे #देश के एक भी #सांसद  पगार और #पेंशन नहीं  लेता था। आज सब ले रहे हैं  मगर #ग्रामीणडाकिया बाकात रह गया है \\n आज ७३ साल से देश #आजाद हुआ है।\\n@ndtv https://t.co/kEw7QG2bEE',\n",
              " '@rsprasad @OfficeOfRSP @narendramodi \\nस्वामीजी..... काश आज आप हमारे बीच होता तो आप को  #ग्रामीणडाकसेवको की स्थिति देखके बहुत #दुख होता। पूर्वाध #शासनकाल मे #देश के एक भी #सांसद  पगार और #पेंशन नहीं  लेता था। आज सब ले रहे हैं  मगर आज #ग्रामीणडाकिया पेंशन से बाकात रह गया है \\n ७३साल से देश #आजाद है\\n@ndtv https://t.co/eKiLDnrOvd',\n",
              " '@RubikaLiyaquat @narendramodi \\nस्वामीजी..... काश आज आप हमारे बीच होता तो आप को  #ग्रामीणडाकसेवको की स्थिति देखके बहुत #दुख होता। पूर्वाध #शासनकाल तक #देश के एक भी #सांसद  पगार और #पेंशन नहीं  लेता था। आज सब ले रहे हैं  मगर आज #ग्रामीणडाकिया पेंशन से बाकात रह गया है \\n ७३साल से देश #आजाद है\\n@ndtv https://t.co/duWoebdBfu',\n",
              " 'खत्म कर के अपनी ख्वाहिशों को हमारे सपनों को सजाता है,\\nवो पिता ही तो है जो खुद पीछे रहकर हमें आगे बढ़ाता है,\\nअपना सब कुछ कुर्बान कर देता है\\nसारे सुख हमारे नाम कर देता है\\nबेटा मेरा उड़े आसमान में\\nये सोचकर पापा अपने पंख तक नीलाम कर देता है\\n\\n#happy #FathersDay to All Fathers https://t.co/3UceCu14m8',\n",
              " 'खत्म कर के अपनी ख्वाहिशों को हमारे सपनों को सजाता है,\\nवो पिता ही तो है जो खुद पीछे रहकर हमें आगे बढ़ाता है,\\nअपना सब कुछ कुर्बान कर देता है\\nसारे सुख हमारे नाम कर देता है\\nबेटा मेरा उड़े आसमान में\\nये सोचकर पापा अपने पंख तक नीलाम कर देता है\\n\\n#happy #FathersDay to All Fathers https://t.co/3UceCu14m8',\n",
              " 'खत्म कर के अपनी ख्वाहिशों को हमारे सपनों को सजाता है,\\nवो पिता ही तो है जो खुद पीछे रहकर हमें आगे बढ़ाता है,\\nअपना सब कुछ कुर्बान कर देता है\\nसारे सुख हमारे नाम कर देता है\\nबेटा मेरा उड़े आसमान में\\nये सोचकर पापा अपने पंख तक नीलाम कर देता है\\n\\n#happy #FathersDay to All Fathers https://t.co/3UceCu14m8',\n",
              " '#हमारे सबसे ज्यादा #पसंदीदा खिलाड़ी अफगानिस्तान के #रशीद_खान की अम्मी का इंतकाल हो गया है आप सभी लोग उनकी #मगफिरत के लिए दुआ करे #अल्लाह उन्हें जन्नत #नसीब करे मेरा दिल आज बहुत #दुखी हुआ आप सबको यह खबर देते हुए 😭😭😭😭😭🤲🤲 @rashidkhan_19 https://t.co/qROQc2HMZW',\n",
              " '#हमारे सबसे ज्यादा #पसंदीदा खिलाड़ी अफगानिस्तान के #रशीद_खान की अम्मी का इंतकाल हो गया है आप सभी लोग उनकी #मगफिरत के लिए दुआ करे #अल्लाह उन्हें जन्नत #नसीब करे मेरा दिल आज बहुत #दुखी हुआ आप सबको यह खबर देते हुए 😭😭😭😭😭🤲🤲 @rashidkhan_19 https://t.co/paU1EkwIQP',\n",
              " \"😍#Happy👨\\u200d👩\\u200d👧\\u200d👦#father's🏩day, मिलने को तो हज़ारों लोग मिल जाते हैं,\\nलेकिन हजारो गलतियों को माफ़ करने वाले\\n“माँ – बाप” दुबारा नहीं मिलते. .....? https://t.co/7hXVQOzaLy\",\n",
              " 'खत्म कर के अपनी ख्वाहिशों को हमारे सपनों को सजाता है,\\nवो पिता ही तो है जो खुद पीछे रहकर हमें आगे बढ़ाता है,\\nअपना सब कुछ कुर्बान कर देता है\\nसारे सुख हमारे नाम कर देता है\\nबेटा मेरा उड़े आसमान में\\nये सोचकर पापा अपने पंख तक नीलाम कर देता है\\n\\n#happy #FathersDay to All Fathers https://t.co/3UceCu14m8',\n",
              " 'मैं तो \"पत्थर\" हूँ, मेरे माता-पिता \"शिल्पकार\" है...!\\nमेरी हर \"तारीफ़\" के वो ही असली \"हक़दार हैं...!!\\n   #𝑯𝒂𝒑𝒑𝒚 𝑭𝒂𝒕𝒉𝒆𝒓‘𝒔 𝑫𝒂𝒚👨\\u200d👩\\u200d👦𝑳𝒐𝒗𝒆 𝒀𝒐𝒖 𝑫𝒂𝒅😘 https://t.co/8Hlz2pJnxB',\n",
              " \"#Happy International Yoga day &amp; Father's day.\\nदैनिक जीवन में भी इनका सम्मान किया जाना चाहिए। दिखावे के लिए फोटो लगाने से कुछ नहीं होता।\",\n",
              " 'खत्म कर के अपनी ख्वाहिशों को हमारे सपनों को सजाता है,\\nवो पिता ही तो है जो खुद पीछे रहकर हमें आगे बढ़ाता है,\\nअपना सब कुछ कुर्बान कर देता है\\nसारे सुख हमारे नाम कर देता है\\nबेटा मेरा उड़े आसमान में\\nये सोचकर पापा अपने पंख तक नीलाम कर देता है\\n\\n#happy #FathersDay to All Fathers https://t.co/3UceCu14m8',\n",
              " \"Zikar nhi krte pr hmari phikar.. unko bhi hoti😌 hai.!!\\n\\nPhir chahe kitna bhi 😉dikhale vo hamko😁 pta henaa..!\\n\\nPapa ko sabse 😋pyari tohh unki betiyaa🙎\\u200d♀️ hi hoti hai..!\\n\\n#happy father's day 🥀\",\n",
              " 'आज हमारे लाडले,छोटे बेटे \"अद्विक तिवारी\" शुभ का जन्मदिन है,आज शुभ 4 साल का ही गया। \\nआप सभी मित्रो,वरिष्ठों से अनुरोध है,कि शुभ के जीवन की तिजोरी में अपना शुभाशीष,आशीर्वाद रूपी धन देवें क्योकि ये ही धन उसके जीवन भर काम आयेगा।\\n\\n#HAPPY BIRTHDAY \"SHUBH\" https://t.co/t664gFGo7s',\n",
              " 'खत्म कर के अपनी ख्वाहिशों को हमारे सपनों को सजाता है,\\nवो पिता ही तो है जो खुद पीछे रहकर हमें आगे बढ़ाता है,\\nअपना सब कुछ कुर्बान कर देता है\\nसारे सुख हमारे नाम कर देता है\\nबेटा मेरा उड़े आसमान में\\nये सोचकर पापा अपने पंख तक नीलाम कर देता है\\n\\n#happy #FathersDay to All Fathers https://t.co/3UceCu14m8',\n",
              " 'खत्म कर के अपनी ख्वाहिशों को हमारे सपनों को सजाता है,\\nवो पिता ही तो है जो खुद पीछे रहकर हमें आगे बढ़ाता है,\\nअपना सब कुछ कुर्बान कर देता है\\nसारे सुख हमारे नाम कर देता है\\nबेटा मेरा उड़े आसमान में\\nये सोचकर पापा अपने पंख तक नीलाम कर देता है\\n\\n#happy #FathersDay to All Fathers https://t.co/3UceCu14m8',\n",
              " 'मैं तो \"पत्थर\" हूँ, मेरे माता-पिता \"शिल्पकार\" है...!\\nमेरी हर \"तारीफ़\" के वो ही असली \"हक़दार हैं...!!\\n   #𝑯𝒂𝒑𝒑𝒚 𝑭𝒂𝒕𝒉𝒆𝒓‘𝒔 𝑫𝒂𝒚👨\\u200d👩\\u200d👦𝑳𝒐𝒗𝒆 𝒀𝒐𝒖 𝑫𝒂𝒅😘 https://t.co/8Hlz2pJnxB',\n",
              " 'मैं तो \"पत्थर\" हूँ, मेरे माता-पिता \"शिल्पकार\" है...!\\nमेरी हर \"तारीफ़\" के वो ही असली \"हक़दार हैं...!!\\n   #𝑯𝒂𝒑𝒑𝒚 𝑭𝒂𝒕𝒉𝒆𝒓‘𝒔 𝑫𝒂𝒚👨\\u200d👩\\u200d👦𝑳𝒐𝒗𝒆 𝒀𝒐𝒖 𝑫𝒂𝒅😘 https://t.co/8Hlz2pJnxB',\n",
              " 'मैं तो \"पत्थर\" हूँ, मेरे माता-पिता \"शिल्पकार\" है...!\\nमेरी हर \"तारीफ़\" के वो ही असली \"हक़दार हैं...!!\\n   #𝑯𝒂𝒑𝒑𝒚 𝑭𝒂𝒕𝒉𝒆𝒓‘𝒔 𝑫𝒂𝒚👨\\u200d👩\\u200d👦𝑳𝒐𝒗𝒆 𝒀𝒐𝒖 𝑫𝒂𝒅😘 https://t.co/8Hlz2pJnxB',\n",
              " 'खत्म कर के अपनी ख्वाहिशों को हमारे सपनों को सजाता है,\\nवो पिता ही तो है जो खुद पीछे रहकर हमें आगे बढ़ाता है,\\nअपना सब कुछ कुर्बान कर देता है\\nसारे सुख हमारे नाम कर देता है\\nबेटा मेरा उड़े आसमान में\\nये सोचकर पापा अपने पंख तक नीलाम कर देता है\\n\\n#happy #FathersDay to All Fathers https://t.co/3UceCu14m8',\n",
              " 'मैं तो \"पत्थर\" हूँ, मेरे माता-पिता \"शिल्पकार\" है...!\\nमेरी हर \"तारीफ़\" के वो ही असली \"हक़दार हैं...!!\\n   #𝑯𝒂𝒑𝒑𝒚 𝑭𝒂𝒕𝒉𝒆𝒓‘𝒔 𝑫𝒂𝒚👨\\u200d👩\\u200d👦𝑳𝒐𝒗𝒆 𝒀𝒐𝒖 𝑫𝒂𝒅😘 https://t.co/8Hlz2pJnxB',\n",
              " \"*एक पिता कभी-कभी अपने बच्चों के लिए,*\\n\\n*वहां पर भी हाथ फैला देता है,*\\n*जहां हम बच्चे पांव तक रखना पसंद नहीं करते|*\\n\\n*#Happy Father's Day*\",\n",
              " '#अटल_जन_शक्ति_संगठन के #प्रदेश_अध्यक्ष_गुजरात #श्री_हरदेश_प्रजापति_जी\\n\\n*आपको #जन्मदिन पर बधाई और #हार्दिक_शुभकामनाएं…*\\n\\n*आने वाला प्रत्येक नया #दिन,*\\n*आपके #जीवन में अनेकाे* \\n#सफलताएँ एवं अपार #खुशियाँ लेकर आये!*\\n\\n#महाकाल की कृपा आप पर #सदैव बनी रहे*\\n\\n#अटल_जन_शक्ति_संगठन https://t.co/f6IetbgQ2h',\n",
              " '@AcharyaPramodk तुम्हारा कितने नेता ने #दुख जाहिर किया ये बोलकर की #चीन वालों ने गलत किया है❓',\n",
              " 'श्री @ArvindKejriwal जी ने आज योगा दिवस के अवसर पर  रोज की तरह अपने दिन की शुरूआत योग के साथ की \\n#Happy  yoga  day https://t.co/1bsRvSdzde',\n",
              " \"मेरा पहला प्यार, मेरे सबसे अच्छे दोस्त, मेरी डिग्री , मेरी कलम , मेरा अस्तित्व है वो , में लिख नहीं सकता, ना उन जैसा बन सकता हूं ... केवल पढ़ सकता हूं .. और हमेशा पढ़ता रहूंगा ...🥰🥰🥰\\n#HAPPY FATHER'S DAY https://t.co/dInMhDUUPk\",\n",
              " 'जेब खाली हो फिर भी, \\nमना करते नहीं देखा,\\nमैंने पिता से अमीर, \\nइंसान नहीं देखा...!!\\n\\n#Happy #fathers  #day\\n🙏🙏🙏',\n",
              " 'श्री @ArvindKejriwal जी ने आज योगा दिवस के अवसर पर  रोज की तरह अपने दिन की शुरूआत योग के साथ की \\n#Happy  yoga  day https://t.co/1bsRvSdzde',\n",
              " 'आप के ही नाम  \\nसे जानी जाती हूँ \\n         \"पापा \"\\nभला इससे बड़ी सोहरत \\nमेरे लिये क्या होगी\\n#happy fathers day papa love u my king',\n",
              " 'शब्द हीन हूं क्या लिखूं मैं पापा पर वह तो वे कलाकार हैं जो हर परिस्थिति के अनुसार अपने किरदार निभाते हैं🤗❤\\nAnjali✍️\\n#HappyFathersDay❤ #smile #love #GoodMorningTwitterWorld #haveaniceday 🌸🌸',\n",
              " '@RahulGandhi #हमारे सबसे ज्यादा #पसंदीदा खिलाड़ी अफगानिस्तान के #रशीद_खान की अम्मी का इंतकाल हो गया है आप सभी लोग उनकी #मगफिरत के लिए दुआ करे #अल्लाह उन्हें जन्नत #नसीब करे मेरा दिल आज बहुत #दुखी हुआ आप सबको यह खबर देते हुए 😭😭😭😭😭🤲🤲 @rashidkhan_19 https://t.co/1at64ZEhVP',\n",
              " '#हमारे सबसे ज्यादा #पसंदीदा खिलाड़ी अफगानिस्तान के #रशीद_खान की अम्मी का इंतकाल हो गया है आप सभी लोग उनकी #मगफिरत के लिए दुआ करे #अल्लाह उन्हें जन्नत #नसीब करे मेरा दिल आज बहुत #दुखी हुआ आप सबको यह खबर देते हुए 😭😭😭😭😭🤲🤲 @rashidkhan_19 https://t.co/1at64ZEhVP',\n",
              " \"मां के प्यार व पिता के प्यार में सिर्फ इतना सा फर्क है कि मां का प्यार हमें महसूस हो जाता है पर पिता का नहीं\\n\\n#Happy father's day https://t.co/37nqiVdskS\",\n",
              " \"#Happy Father's day\\n\\nApna #Father Shb #Gareeb ho #kamzoor ho Jaisa bhi ho #logun ke #baap ke saath #comparison kar ke unka kaadh aur Shaan choti mat karo.\\nHar waqt unki #izzat karo #tareef karo\\nBaap Baap hota hai\",\n",
              " 'Aajkal aacha comedy karne laga hai ye #SalmanKhan . All my fan😀. Kon hai ye.........\\n\\nIska aisa hi hai #ArijitSingh wale case me vi aisa hi hua tha. \\n\\nIsko mera favourite celebrity hi milta hai like Arijit and Shushant. \\n\\n#ArrestMurdererOfSushant #BeingHumanSalmanKhan #Sad https://t.co/9hNgUEhZPx',\n",
              " 'Aajkal aacha comedy karne laga hai ye #SalmanKhan . All my fan😀. Kon hai ye.........\\n\\nIska aisa hi hai #ArijitSingh wale case me vi aisa hi hua tha. \\n\\nIsko mera favourite celebrity hi milta hai like Arijit and Shushant. \\n\\n#ArrestMurdererOfSushant #BeingHumanSalmanKhan #Sad https://t.co/9hNgUEhZPx',\n",
              " 'मेरे होठों की हँसी मेरे पिताजी की बदौलत है,\\nमेरी आँखों में खुशी मेरे पिताजी की बदौलत है,\\nपिताजी हमारे किसी भगवान से कम नही,\\nक्योकि मेरी ज़िन्दगी की सारी.खुशी पिताजी की बदौलत है ।पिताजी को मेरा सादर प्रणाम हर हर महादेव।।जयमाँभारती।।\\n#Happy Father’s Day',\n",
              " \"@Zakirism bhai Dil ki saari baate bol gye yaar....rula diye yaar...love you papa...#Happy Father's Day #fathersday... https://t.co/4YnFx9AIX8\",\n",
              " \"*पिता*\\n*अमीर हो या गरीब औलाद के लिए हमेशा बादशाह होता है।*\\n\\n*सुप्रभात*🙏🏻🤝🏻\\n*#happy father's day* ❣️\",\n",
              " 'मैं अपनी जिंदगी ही वार दूँ....\\nअपने पापा को आज मैं क्या उपहार दूँ ?तोहफे में फूल दूँ या गुलाबो का हार दूँ?मेरी जिंदगी में जो है सबसे प्यारा..उस पर तो मैं अपनी जिंदगी ही वार दूँ\\n#Happy Father’s Day !!',\n",
              " 'मैं अपनी जिंदगी ही वार दूँ....\\nअपने पापा को आज मैं क्या उपहार दूँ ?तोहफे में फूल दूँ या गुलाबो का हार दूँ?मेरी जिंदगी में जो है सबसे प्यारा..उस पर तो मैं अपनी जिंदगी ही वार दूँ\\n#Happy Father’s Day !!',\n",
              " 'शब्द हीन हूं क्या लिखूं मैं पापा पर वह तो वे कलाकार हैं जो हर परिस्थिति के अनुसार अपने किरदार निभाते हैं🤗❤\\nAnjali✍️\\n#HappyFathersDay❤ #smile #love #GoodMorningTwitterWorld #haveaniceday 🌸🌸',\n",
              " \"पापा आप संबल हैं\\nआप अभिमान हैं\\nआप स्वाभिमान हैं\\nआप साँस हैं\\nआप शक्ति हैं\\nआप समर्पण की प्रतिमूर्ति हैं\\nआप जीवटता के जीवंत हस्ताक्षर हैं\\nआप शान हैं\\nआप मान है\\n#आप #मेरे #लिए #जान है..\\n\\n#पापा #आपको #नमन है,#आपकी #तारीफ \\n# से #नहीं कर #सकता हुँ..... \\n\\n           #Happy #Father's #Day https://t.co/Qz5eUjGubf\",\n",
              " '#खुशी तो इस बात की है🤷\\u200d♀️\\n हम #दोनों ही #धोखा खा गए,😊\\n   मैंने तुम्हे औरों से #अलग समझा,🤔\\n    और तुमने मुझे औरों #जैसा समझा ---!!!🌹 https://t.co/aYfPmvNMjf',\n",
              " '@LahriSunil #Happy Father\"s Day Sir\\nChhota sa thofa Lakshman ji ke sena k taraf se aap ko❤\\nLove u lot sir💖💖💖 https://t.co/EyROduFrME',\n",
              " 'उसके #आदर्श  है उसके।  #संस्कार  हैं , बिना पिता के तो जीवन बेकार है!!❣️❣️\\n#खुशी का हर लम्हा पास होता है जब # पिता साथ  होता है!!❣️❣️',\n",
              " \"जीवन में पिता का होना बहुत ही आवश्यक है क्योंकि बिना पिता के जीवन बिना छत के घर और बिना आसम़ान के ज़मीन के जैसा है।\\n#Happy\\n#Fathers'\\n#Day_2020 https://t.co/GUl8lEYMAe\",\n",
              " \"जीवन की धरा में पग-डग दिशा प्रदान करने वाले मेरे पिताजी... #मेरे_पथ_प्रदर्शक 🙏\\n#happy #father's #day 💐 https://t.co/FnhN0iIp1Q\",\n",
              " '#खुशी तो इस बात की है🤷\\u200d♀️\\n हम #दोनों ही #धोखा खा गए,😊\\n   मैंने तुम्हे औरों से #अलग समझा,🤔\\n    और तुमने मुझे औरों #जैसा समझा ---!!!🌹 https://t.co/aYfPmvNMjf',\n",
              " 'भरोसा प्यार दोनो किया था,\\nइसमें कोई खता तो नहीं,\\nवो मेरे कुछ अपने ही थे,\\nजो आग लगाकर देखने आए,\\nकहीं कुछ बचा तो नहीं।।\\n#sad',\n",
              " 'अगर मोहब्ब्त किसी से बेहिसाब हो जाए,\\nतो समझ जाना वो किस्मत में नहीं..!!\\n#sad',\n",
              " \"#Happy Father's Day \\nMSG Guru pa.......🙏\\nबीते दिन, बीती रातें,\\nकरनी है तुझ संग बहुत सी बाते.\\nकैसे सुनाऊं अपने दिल का हाल,\\nपहले ही आ जाओ,\\nबीत ना जाए अब ये भी साल\\nMiss u lot\\n🤗🤗🤗🤗 https://t.co/PVBOfNJx65\",\n",
              " \"#Happy #father's #day #dad and to everyone father...\\n\\nEk din lenge #unke kamre ki talashi dekhe to sahi aakhir saari #takleefe shupha lar rakhte kha hai.... https://t.co/iHnlJq5mE9\",\n",
              " '#अटल_जन_शक्ति_संगठन के #प्रदेश_अध्यक्ष_गुजरात #श्री_हरदेश_प्रजापति_जी\\n\\n*आपको #जन्मदिन पर बधाई और #हार्दिक_शुभकामनाएं…*\\n\\n*आने वाला प्रत्येक नया #दिन,*\\n*आपके #जीवन में अनेकाे* \\n#सफलताएँ एवं अपार #खुशियाँ लेकर आये!*\\n\\n#महाकाल की कृपा आप पर #सदैव बनी रहे*\\n\\n#अटल_जन_शक्ति_संगठन https://t.co/f6IetbgQ2h',\n",
              " \"#Happy father's day\\nहम सब ने मां पर बहुत सारी बातें कही है। जैसे मां देवी है मां ईश्वर का रूप है। सब ठीक है लेकिन एक बात ये भी सत्य है कि उस मां की पहचान ही पिता से है उस मां का इस संसार में कोई वजूद नहीं है एक पिता के बिना। एक मां मां नहीं बन सकती है जब पिता का साथ न मिला हो।\",\n",
              " 'सहज #सरल स्वभाव से परिपूर्ण कांग्रेस आईटी सेल के प्रदेश महासचिव,भावी पार्षद प्रिय भाई #माखन #सिंह #राजावत जी को जन्मदिन की बहुत बहुत बधाई एवं अंनत शुभकामनाएं। \\n#HAPPY #BIRTHDAY #BHAI https://t.co/2afUXNihFZ',\n",
              " 'Happy Fathers Day👇\\nबात दिल की जान ले जो,\\nआंखों से #दर्द पहचान ले जो,\\nदर्द हो चाहे हो #खुशी,\\n#आंसुओं की पहचान कर ले जो,\\nवो शख्स जो #बेपनाह #प्यार करे,\\n#पिता ही तो है वो जो बच्चों के लिए जिए\\nआई लव यू पापा https://t.co/M1mzxBlrcP',\n",
              " 'योग हमें शारीरिक एवं मानसिक दोनों रूपों में योग्य बनाता है आज की भागदौड भरी जिन्दगी मे योग मानसिक और शारीरिक स्वास्थ्य को बनाए रखने और तनाव को दूर रखने का सर्वोत्तम साधन है। \\nYoga a great gift of India to the whole world. \\n#Happy international yoga day \\n#21जून2020 #देवीनिहारिकाजी https://t.co/UQzpBM9ys6',\n",
              " 'एक बार अर्जुन ने श्री कृष्ण से कहा:\\nइस दीवार पर कुछ ऐसा लिखो की \\nख़ुशी में पढूं तो #दुःख हो और \\nदुःख में पढूं तो #ख़ुशी हो....।\\n\\nश्री कृष्ण ने लिखा.....\\n\\n\"ये वक़्त भी गुज़र जाएगा\"\\n\\nजय श्री कृष्णा.....🙏🙏🙏 https://t.co/mJN2Of5lN1',\n",
              " \"Khushi ka har lamaha paas hota hai,jab pita saath hota hai...#Happy father's day bapa🤗🤗🤗love u bapa♥️.....\",\n",
              " '#सुख #दुख तो #अतिथि है, \\n\\n         #बारी #बारी से #आएंगे \\n\\n    #चले #जाएंगे #यदि #वह नही #आएंगे तो, \\n\\n          #हम #अनुभव #कहाँ से #लाएंगे.......',\n",
              " '#अटल_जन_शक्ति_संगठन के #प्रदेश_अध्यक्ष_गुजरात #श्री_हरदेश_प्रजापति_जी\\n\\n*आपको #जन्मदिन पर बधाई और #हार्दिक_शुभकामनाएं…*\\n\\n*आने वाला प्रत्येक नया #दिन,*\\n*आपके #जीवन में अनेकाे* \\n#सफलताएँ एवं अपार #खुशियाँ लेकर आये!*\\n\\n#महाकाल की कृपा आप पर #सदैव बनी रहे*\\n\\n#अटल_जन_शक्ति_संगठन https://t.co/f6IetbgQ2h',\n",
              " '@payalmehta100 @ITBP_official अन्तर्राष्ट्रीय योग दिवस की सभी देश वासियों को बहुत बहुत बधाईयां\\n#happy yoga day\\n#yoga for all\\n# स्वस्थ जीवन सुखी जीवन',\n",
              " 'शब्द हीन हूं क्या लिखूं मैं पापा पर वह तो वे कलाकार हैं जो हर परिस्थिति के अनुसार अपने किरदार निभाते हैं🤗❤\\nAnjali✍️\\n#HappyFathersDay❤ #smile #love #GoodMorningTwitterWorld #haveaniceday 🌸🌸',\n",
              " 'श्री @ArvindKejriwal जी ने आज योगा दिवस के अवसर पर  रोज की तरह अपने दिन की शुरूआत योग के साथ की \\n#Happy  yoga  day https://t.co/1bsRvSdzde',\n",
              " 'श्री @ArvindKejriwal जी ने आज योगा दिवस के अवसर पर  रोज की तरह अपने दिन की शुरूआत योग के साथ की \\n#Happy  yoga  day https://t.co/1bsRvSdzde',\n",
              " 'शब्द हीन हूं क्या लिखूं मैं पापा पर वह तो वे कलाकार हैं जो हर परिस्थिति के अनुसार अपने किरदार निभाते हैं🤗❤\\nAnjali✍️\\n#HappyFathersDay❤ #smile #love #GoodMorningTwitterWorld #haveaniceday 🌸🌸',\n",
              " \"#Happy Father's Day \\nMSG Guru pa.......🙏\\nबीते दिन, बीती रातें,\\nकरनी है तुझ संग बहुत सी बाते.\\nकैसे सुनाऊं अपने दिल का हाल,\\nपहले ही आ जाओ,\\nबीत ना जाए अब ये भी साल\\nMiss u lot\\n🤗🤗🤗🤗 https://t.co/PVBOfNJx65\",\n",
              " 'श्री @ArvindKejriwal जी ने आज योगा दिवस के अवसर पर  रोज की तरह अपने दिन की शुरूआत योग के साथ की \\n#Happy  yoga  day https://t.co/1bsRvSdzde',\n",
              " 'श्री @ArvindKejriwal जी ने आज योगा दिवस के अवसर पर  रोज की तरह अपने दिन की शुरूआत योग के साथ की \\n#Happy  yoga  day https://t.co/1bsRvSdzde',\n",
              " '#Happy Fathers Day ।।\\nजिनकी वजह से दुनिया मिली जिनकी वजह से हर चीज़ सीखी \\nजिनकी वजह से आज हर मुकाम पा लिया जिन्होंने खुद दुःख पा कर  सारे सुख हमारे लिए ला दिए वो और कोई नही हो सकते हमारे पिताजी के अलावा ।।\\nअंतरराष्ट्रिय योग दिवस एवं पितृ दिवस की हार्दिक हार्दिक शुभकामनाए।',\n",
              " '#Happy Fathers Day ।।\\nजिनकी वजह से दुनिया मिली जिनकी वजह से हर चीज़ सीखी \\nजिनकी वजह से आज हर मुकाम पा लिया जिन्होंने खुद दुःख पा कर  सारे सुख हमारे लिए ला दिए वो और कोई नही हो सकते हमारे पिताजी के अलावा ।।\\nअंतरराष्ट्रिय योग दिवस एवं पितृ दिवस की हार्दिक हार्दिक शुभकामनाए।',\n",
              " 'Yog apnaye, apne jivan ko swasthaye bnaye...#happy international yoga day.. https://t.co/NUyLiD6jbc',\n",
              " \"#Happy father's day \\nबिना आवाज़ बिना आंसू के, जो रोता है वो #बाप होता है। जो अपने बच्चो की तकलीफों के छेदो को,अपनी बनियान में पहन लेता है वो #बाप होता है। ये सच है कि 9 महीने पालती है #मां हमें पेट में, पर 9 महीने जो दिमागमेट होता है वो #बाप होता है।।\",\n",
              " \"पिता के होने से सारी मुश्किल आसान होती है पिता से ही तो बच्चों की पहचान होती है।#happy father's day https://t.co/9NfQsZoX7p\",\n",
              " '@RahulGandhi @priyankagandhi @INCIndia @DineshSundriyai @RahulBal_ @vidyarthee पिता धर्मः पिता स्वर्गः पिता हि परमं तपः। \\nपितरि प्रीतिमापन्ने प्रीयन्ते सर्वदेवताः॥\\n\\nआपकी छाया से ही ये जीवन सरल हो पाया। आपके आदर्श ही मेरे जीवन की सबसे बड़ी आशा है। #happy  #FathersDay https://t.co/mLHoQcAdjC',\n",
              " 'हर जगह मुझे आपके ही नाम से #पहचान मिलती है #पापा भला इससे बड़ी #शौहरत इस ज़माने में ये किया होगी मेरे पापा।। \\n#Happy #FathersDay \\n❤️❤️\\n#fathersday2020 \\n#love_u_papa',\n",
              " \"♥️#बेमतलब की दुनिया में वो हमारी शान है,♥️\\nकिसी शख्स के वजूद की '#पिता#' ही पहली पहचान है।\\n🙏🙏🙏#Happy fathers day🙏🙏🙏\",\n",
              " '@Hindinama2 सभ्यता द्वारा घायल हुए लोगों के लिए,योग सबसे बड़ा मरहम है।\\n#happy international yoga day https://t.co/pWRDYFJKzE',\n",
              " '#पिता_दिन_की_शुभकामनाये \\n\\nपिता एक ऐसा व्यक्ती है जो ,जब आप दुखी\\xa0 हो तो आपको #नजदीक लेता है, आप गलती करे तो आपपर #नाराज होता है\\n\\nआप सफल हुये तो #खुशी मनाता है लेकिन आप हार भी गये, फिर भी आपपर \\n                           #विश्र्वास रखता है',\n",
              " 'आपने मुझे चलना सिखाया\\nमुझे जीवन के तरीके भी सिखाए,\\nआपने अपना सब कुछ दे दिया है कि\\nबस मुझे उठते और चमकते देखना है.\\n#Happy Father Day',\n",
              " 'एक बार अर्जुन ने श्री कृष्ण से कहा:\\nइस दीवार पर कुछ ऐसा लिखो की \\nख़ुशी में पढूं तो #दुःख हो और \\nदुःख में पढूं तो #ख़ुशी हो....।\\n\\nश्री कृष्ण ने लिखा.....\\n\\n\"ये वक़्त भी गुज़र जाएगा\"\\n\\nजय श्री कृष्णा.....🙏🙏🙏 https://t.co/mJN2Of5lN1',\n",
              " \"@Rekhta मुश्किल की घड़ी में अक्सर मेरे साथ खड़े थे वो\\nमेरी गलतियां थी फिर भी मुझे हर बार समझा कर माफ किए थे वो\\nकमियों की अहसास तो मुझे कभी हो नहीं पाई \\nकपकपा कर सोते थे और मेरे ऊपर थी रजाई\\n#happy father's day 😍\",\n",
              " \"पिता\\n\\nअमीर हो या गरीब औलाद के लिए हमेशा बादशाह होता है।\\n\\n🙏सुप्रभात🙏🏻\\n*#happy father's day* ❣️\",\n",
              " \"कहते हैं पिता जब तक जिंदा रहते हैं तब तक बेटे के पैरों में कभी कांटे भी नहीं चुभते क्योंकि पिता हमेशा अपने बेटे को अपने कंधों पर उठाकर चलता है     \\nअरमान पूरे नहीं होते मेरे अपनी कमाई से जितना मजा आता था पापा आपके 2 सिक्कों से लव यू पापा\\n#Happy #Father's #day https://t.co/zzMCapyD5S\",\n",
              " 'एक बार अर्जुन ने श्री कृष्ण से कहा:\\nइस दीवार पर कुछ ऐसा लिखो की \\nख़ुशी में पढूं तो #दुःख हो और \\nदुःख में पढूं तो #ख़ुशी हो....।\\n\\nश्री कृष्ण ने लिखा.....\\n\\n\"ये वक़्त भी गुज़र जाएगा\"\\n\\nजय श्री कृष्णा.....🙏🙏🙏 https://t.co/mJN2Of5lN1',\n",
              " '@realDonaldTrump \\n#sad\\n#clown\\n#loser\\n#TrumpRallyFail \\n#resignnow\\n#coronarally\\nHA HA HA HA HA HA HA HA',\n",
              " 'सफलता तीन चीज़ो से मापी जाती हैं\\n\\nधन प्रसिद्धी और मन की शांति\\n\\nधन और प्रसिद्धी पाना आसान हैं\\n\\n“मन की शांति” केवल योग से मिलती हैं\\n\\n#HAPPY #YOGA #DAY',\n",
              " 'एक बार अर्जुन ने श्री कृष्ण से कहा:\\nइस दीवार पर कुछ ऐसा लिखो की \\nख़ुशी में पढूं तो #दुःख हो और \\nदुःख में पढूं तो #ख़ुशी हो....।\\n\\nश्री कृष्ण ने लिखा.....\\n\\n\"ये वक़्त भी गुज़र जाएगा\"\\n\\nजय श्री कृष्णा.....🙏🙏🙏 https://t.co/mJN2Of5lN1',\n",
              " 'शब्द हीन हूं क्या लिखूं मैं पापा पर वह तो वे कलाकार हैं जो हर परिस्थिति के अनुसार अपने किरदार निभाते हैं🤗❤\\nAnjali✍️\\n#HappyFathersDay❤ #smile #love #GoodMorningTwitterWorld #haveaniceday 🌸🌸',\n",
              " \"पिता का साया, जीवन की धूप में घने वृक्ष की उस छांव की तरह है, जो अपने बच्चों तक आने वाली हर\\u200c परेशानी को स्वयं में ही समेट लेता है।\\nपितृ दिवस की हार्दिक शुभकामनाएं।\\n#happy Father's Day\",\n",
              " '#सुख का अर्थ है \\nजो मिल रहा है उसका #आनंद लेना और \\n#दुख का अर्थ है कि मुझे और चाहिए ।\\n#bmks\\n#जय_माता_की\\n#shri_shaktiputra_ji_mahraj\\n@bmks_india @bscp_bharat \\n@b_s_chouhan @krishna_bscp @ravigupta109 https://t.co/yyxLyLI1v5',\n",
              " '#खुशी\\nतीनों भाई राष्ट्रीय उपाध्यक्ष मंजीत सिंह नोटियाल जी,राष्ट्रीय महासचिव कमल सिंह वालिया जी और छोटा भाई शिवम। इन तीनों भाईयों की हाईकोर्ट से बेल मंजूर हो चुकी हैं बहुत जल्द तीनों भाई हमारे बीच होंगें। \\n#जय_भीम\\n@AzadSamajParty_ \\n@BhimArmyChief \\n@VinayRatanSingh @harendraranchi https://t.co/858hXzvFGV',\n",
              " 'शब्द हीन हूं क्या लिखूं मैं पापा पर वह तो वे कलाकार हैं जो हर परिस्थिति के अनुसार अपने किरदार निभाते हैं🤗❤\\nAnjali✍️\\n#HappyFathersDay❤ #smile #love #GoodMorningTwitterWorld #haveaniceday 🌸🌸',\n",
              " \"हम जिस विशाल वृक्ष के पनपते हुए बीज है।\\n#happy father's Day https://t.co/Z7jBdv567t\",\n",
              " 'शब्द हीन हूं क्या लिखूं मैं पापा पर वह तो वे कलाकार हैं जो हर परिस्थिति के अनुसार अपने किरदार निभाते हैं🤗❤\\nAnjali✍️\\n#HappyFathersDay❤ #smile #love #GoodMorningTwitterWorld #haveaniceday 🌸🌸',\n",
              " '@AAKASHM67504914  #happy #International #Yoga #Day,\\nSabhi ko yoga divas ki hardhik subhkamnaye \\n@AAKASHM67504914',\n",
              " 'शब्द हीन हूं क्या लिखूं मैं पापा पर वह तो वे कलाकार हैं जो हर परिस्थिति के अनुसार अपने किरदार निभाते हैं🤗❤\\nAnjali✍️\\n#HappyFathersDay❤ #smile #love #GoodMorningTwitterWorld #haveaniceday 🌸🌸',\n",
              " '\"पिता धर्मः पिता स्वर्गः पिता हि परमं तपः।\\nपितरि प्रीतिमापन्ने प्रीयन्ते सर्व देवताः।।\"\\n   समस्त मित्रों को अंतर्राष्ट्रीय पिता दिवस\\n   की हार्दिक बधाई व शुभकामनायें 🙏🏻\\n       #HAPPY Father\\'s day https://t.co/2DdUAxRqPL',\n",
              " \"#happy father's day\\n#मेरी इज्जत, मेरी शोहरत, मेरा रुतबा,💪\\nऔर मेरे मान है मेरे पिता,🙏\\nमुझको हिम्मत 💪 देने वाले मेरे अभिमान है मेरे पिता \\nपूजनीय पिता जी आपको सादर चरण स्पर्श व आपका आशीर्वाद मुझ सहित परिवार पर बना रहे। https://t.co/eRLYOehHlM\",\n",
              " 'शब्द हीन हूं क्या लिखूं मैं पापा पर वह तो वे कलाकार हैं जो हर परिस्थिति के अनुसार अपने किरदार निभाते हैं🤗❤\\nAnjali✍️\\n#HappyFathersDay❤ #smile #love #GoodMorningTwitterWorld #haveaniceday 🌸🌸',\n",
              " 'आज हमारे लाडले,छोटे बेटे \"अद्विक तिवारी\" शुभ का जन्मदिन है,आज शुभ 4 साल का ही गया। \\nआप सभी मित्रो,वरिष्ठों से अनुरोध है,कि शुभ के जीवन की तिजोरी में अपना शुभाशीष,आशीर्वाद रूपी धन देवें क्योकि ये ही धन उसके जीवन भर काम आयेगा।\\n\\n#HAPPY BIRTHDAY \"SHUBH\" https://t.co/t664gFGo7s',\n",
              " '#उदास फिरता है अब #मोहल्ले में\\n   बारिश का #पानी\\n#कश्तिया,🚣 बनाने वाले #बच्चे\\n        #📱 से #इश्क कर बैठे!',\n",
              " 'ईश्वर की सबसे खूबसूरत धरोहर \"पिता\" के त्याग, बलिदान उनकी मेहनत  तथा प्रेम को हम सच्चे हृदय से नमन करते हैं...!!!❤🙏\\n#Happy Father\\'s Day..!!!❤🙏\\n#AawazeHind..!!!❤🙏\\n#HappyFathersDay2020 #fathersday2020 \\n@Aawazehindnews @DrKumarVishwas @Adcrickettak @Mirchibollywoo @journonikku https://t.co/vm358Sm0FZ',\n",
              " \"कभी अभिमान तो कभी स्वाभिमान है पिता\\nकभी धरती तो कभी आसमान है पिता\\nजन्म दिया है अगर मां ने\\nजानेगा जिससे जग वो पहचान है पिता\\nकभी हँसी और खुशी का मेला है पिता\\nकभी कितना तन्हा और अकेला है पिता\\nमां तो कह देती है दिल की बात\\nसब कुछ समेटे आसमान से फैला है पिता\\n#Happy Father's Day\",\n",
              " '🤗बाबा सुख दौ तो इतना की #अहंकार ना आएे और #दुख दो तो इतना की#आस्था ना चली जाए🙏......\\n❤राम ही राम❤ बस🙏✌🚩',\n",
              " '🤗बाबा सुख दौ तो इतना की #अहंकार ना आएे और #दुख दो तो इतना की#आस्था ना चली जाए🙏......\\n❤राम ही राम❤ बस🙏✌🚩',\n",
              " 'शब्द हीन हूं क्या लिखूं मैं पापा पर वह तो वे कलाकार हैं जो हर परिस्थिति के अनुसार अपने किरदार निभाते हैं🤗❤\\nAnjali✍️\\n#HappyFathersDay❤ #smile #love #GoodMorningTwitterWorld #haveaniceday 🌸🌸',\n",
              " 'योग मनुष्य के शरीर,मन और आत्मा को\\nऊर्जा,ताकत और सौन्दर्य प्रदान करता हैं\\n#HappY Yoga   Diwas\\n⛹⛹🏋🏋🏋 https://t.co/nlggzpeNKO',\n",
              " \"#शुभ_प्रभात \\n#खुशी के लिए काम करोगे तो*\\n*खुशी नहीं मिलेगी*••••\\n*लेकिन खुश होकर काम करोगे तो*\\n*खुशी और सफलता दोनों मिलेंगी*\\n〰️〰️〰️〰️〰️〰️〰️〰️〰️〰️\\n*Good morning friend's* 🌞\\n*Have a nice day to all of you* https://t.co/0qSMNZ4dTj\",\n",
              " \"#FathersDayQuotes \\nपिता नीम के पेड़ जैसा होता है उसके\\nपत्ते भले ही कड़वे हो, पर वो छाया ठंडी देता है,\\nमेरा साहस, मेरी इज़्ज़त, मेरा सम्मान है पिता, मेरी ताकत, मेरी पूँजी, मेरी पहचान है पिता।\\n\\nBy @JagranNews \\n\\n#Happy Father's Day\",\n",
              " '@narendramodi भारत में सबसे महत्वपूर्ण\\n\"आसन\"\\n\"आश्वासन\" होता है !!\\n#Happy yoga day',\n",
              " \"*- #पिता -* , पिता रोटी है , कपड़ा है ,मकान है , *- #पिता -* पिता छोटे से परिंदे का बड़ा आसमान है । \\nएक बात हमेशा याद रखनी चाहिए,\\nजीवन में पिता का स्थान प्रभु से कम नहीं है।\\n\\n*#पिता #दिवस #की #हार्दिक #शुभकामनाएं 👏👏🌹🌹🍫🍫*\\n*🌹🌹#Happy #Father's #Day🌹🌹* 👏👏🙏🙏🌹🌹 https://t.co/tQCwX78Y0N\",\n",
              " \"*- #पिता -* , पिता रोटी है , कपड़ा है ,मकान है , *- #पिता -* पिता छोटे से परिंदे का बड़ा आसमान है । \\nएक बात हमेशा याद रखनी चाहिए,\\nजीवन में पिता का स्थान प्रभु से कम नहीं है।\\n\\n*#पिता #दिवस #की #हार्दिक #शुभकामनाएं 👏👏🌹🌹🍫🍫*\\n*🌹🌹#Happy #Father's #Day🌹🌹* 👏👏🙏🙏🌹🌹 https://t.co/tQCwX78Y0N\",\n",
              " 'योग हमें उन चीजों को ठीक करना सिखाता है, जिसे सहा नहीं जा सकता है । और उन चीजों को सहना सिखाता है। जिन्हें ठीक नहीं किया जा.सकता #Happy international yoga day https://t.co/WJI8niznIc',\n",
              " \"बेमतलब सी इस दुनिया में वो ही हमारी शान है !\\nकिसी शख्स के वजूद की पिता ही पहली पहचान है..!!\\n#Happy #Father's #Day.......\\nआपका पिता, आपका हीरो..👨\\u200d👦\\u200d👦 https://t.co/rTvKImSAIk\",\n",
              " 'Kabhi Acha Hu Kabhi Buraa Hu ...Insaan Hu Yaar Khudaa Thode Hi Hu... #tranding #love #SushantSingRajput #sad @BeingSalmanKhan https://t.co/3180IMt5KS',\n",
              " 'एक बार अर्जुन ने श्री कृष्ण से कहा:\\nइस दीवार पर कुछ ऐसा लिखो की \\nख़ुशी में पढूं तो #दुःख हो और \\nदुःख में पढूं तो #ख़ुशी हो....।\\n\\nश्री कृष्ण ने लिखा.....\\n\\n\"ये वक़्त भी गुज़र जाएगा\"\\n\\nजय श्री कृष्णा.....🙏🙏🙏 https://t.co/mJN2Of5lN1',\n",
              " \"#Happy #Father's #Day❤️Papa😊  \\n जो मुसीबतों से लड़ा है वो पिता है,\\nजो परिवार में सबसे बड़ा है वो पिता है,\\nसर्दी,गर्मी,पतझड़,बरसात हर मौसम,\\nजो एक चट्टान सा खड़ा है वो पिता है..!    \\n      ©कवि शशांक फालके https://t.co/PcvOd4suxJ\",\n",
              " 'एक बार अर्जुन ने श्री कृष्ण से कहा:\\nइस दीवार पर कुछ ऐसा लिखो की \\nख़ुशी में पढूं तो #दुःख हो और \\nदुःख में पढूं तो #ख़ुशी हो....।\\n\\nश्री कृष्ण ने लिखा.....\\n\\n\"ये वक़्त भी गुज़र जाएगा\"\\n\\nजय श्री कृष्णा.....🙏🙏🙏 https://t.co/mJN2Of5lN1',\n",
              " \"#Happy #Father's #Day❤️Papa😊  \\n जो मुसीबतों से लड़ा है वो पिता है,\\nजो परिवार में सबसे बड़ा है वो पिता है,\\nसर्दी,गर्मी,पतझड़,बरसात हर मौसम,\\nजो एक चट्टान सा खड़ा है वो पिता है..!    \\n      ©कवि शशांक फालके https://t.co/PcvOd4suxJ\",\n",
              " 'एक बार अर्जुन ने श्री कृष्ण से कहा:\\nइस दीवार पर कुछ ऐसा लिखो की \\nख़ुशी में पढूं तो #दुःख हो और \\nदुःख में पढूं तो #ख़ुशी हो....।\\n\\nश्री कृष्ण ने लिखा.....\\n\\n\"ये वक़्त भी गुज़र जाएगा\"\\n\\nजय श्री कृष्णा.....🙏🙏🙏 https://t.co/mJN2Of5lN1',\n",
              " \"#Happy Father's Day \\n\\nआई लव यू डैड ।\\n\\nवो माता-पिता ही हैं, जिनसे आपने मुस्कुराना सीखा !\\nकद्र करो माँ बाप की,\\nदुआओं में उनकी ताकत है। https://t.co/3vungyW7OA\",\n",
              " 'क़ुबूल कैसे करूँ उन का फ़ैसला कि ये लोग \\nमेरे ख़िलाफ़ ही मेरा बयान माँगते हैं 😥\\n#sadness https://t.co/LfGIPkgZwo',\n",
              " '#खुशी\\nतीनों भाई राष्ट्रीय उपाध्यक्ष मंजीत सिंह नोटियाल जी,राष्ट्रीय महासचिव कमल सिंह वालिया जी और छोटा भाई शिवम। इन तीनों भाईयों की हाईकोर्ट से बेल मंजूर हो चुकी हैं बहुत जल्द तीनों भाई हमारे बीच होंगें। \\n#जय_भीम\\n@AzadSamajParty_ \\n@BhimArmyChief \\n@VinayRatanSingh @harendraranchi https://t.co/858hXzvFGV',\n",
              " 'आज का सुविचार\\n\\n#ManishSai #happy #life #gratitude #gratitudequotes #quotes #studygram #quotes #quotestagram #daily_thoughts_and_quotes #dailythoughts #inspirationalquotes #motivationalquotes #daily #dailymotivation… https://t.co/ryGDBtnqG8',\n",
              " 'Yog diwas ki subhkamnaye;\\nUnhe bhi jo #happy yoga day\" \\nStory daal k fir se so gaye😅😅',\n",
              " \"#माँ #बाप का #दिल #जीत लो #कामयाब हो #जाओगे। वरना सारी #दुनिया #जीत कर भी #हार जाओगे !😘❤️😘\\n #Happy #Father's #Day😘😘 https://t.co/ImSDJHesu2\",\n",
              " \"#Happy Father's Day \\n\\nआई लव यू डैड ।\\n\\nवो माता-पिता ही हैं, जिनसे आपने मुस्कुराना सीखा !\\nकद्र करो माँ बाप की,\\nदुआओं में उनकी ताकत है। https://t.co/3vungyW7OA\",\n",
              " 'Baat jab bhai ki ho toh dimaag nahi sirf dil kaam karne lagta hai ♥️♥️♥️\\n\\n#brothers #weddingdairies #wedding #shadi #smart #smile #personality #attitude #amazing #darshanbudhrani #verified #verification #lookoftheday #love #instagram #facebook #IndianArmy https://t.co/4z67PagAjT',\n",
              " 'Andhera tera maine le liya. Mera ujla sitaara tere naam kiya 🥰\\n\\n#photo #smile #personality #handsome #traditional #look #darshanbudhrani #wedding #love #happiness #IndianArmy #loveindia https://t.co/7jjiHhQ25I',\n",
              " '@lastRejectionnn Jai shree ram 🚩🚩\\n\\n#Ramayan #SitaramYechury #TrendingNow #love #care #strong #happy #Modi #ShameOnAajTak #Shame #life #FolloForFolloBack #follo4folloback #follobackinstantly #Likee',\n",
              " \"इस जहां में अपना बनाया कुछ भी नहीं है यह इज्जत भी मेरे #बाप की इज्जत है \\n        always miss you papa   \\n         #Happy father's day\\n 🙍\\u200d♂️\",\n",
              " '#हमारे सबसे ज्यादा #पसंदीदा खिलाड़ी अफगानिस्तान के #रशीद_खान की अम्मी का इंतकाल हो गया है आप सभी लोग उनकी #मगफिरत के लिए दुआ करे #अल्लाह उन्हें जन्नत #नसीब करे मेरा दिल आज बहुत #दुखी हुआ आप सबको यह खबर देते हुए 😭😭😭😭😭🤲🤲 @rashidkhan_19 https://t.co/qROQc2HMZW',\n",
              " 'आशिकों की बस्ती में ये टूटा मकान किसका है,,\\n\\nकहीं पे दिल कहीं पे जान ये बिखरा सामान किसका है,,\\n#love #instagood #fashion #fashionblogger #photooftheday #beautiful #art #photography #happy #picoftheday https://t.co/KwsdPReDsL',\n",
              " \"मुझे मोहब्बत है अपने हाथों की सब लकीरों से, ना जाने पापा ने कौन सी उंगली को पकड़कर चलना सिखाया था।\\n#Happy father's Day\\n#InternationalYogaDay\",\n",
              " 'Anne Sheehan 💪💪 #femalemuscle  #flexfriday #SaturdayMorning #SaturdayVibes #muscle #massive #bodybuilding #pecs #Flex #chest #chestday #Smile #FitnessMotivation #fitness #gains #girl #women #strongwomen #FemaleBodybuilding #gym #Grow #getbig #girlswithmuscle #workout #muscles https://t.co/cb3E0xPJua',\n",
              " '#हमारे सबसे ज्यादा #पसंदीदा खिलाड़ी अफगानिस्तान के #रशीद_खान की अम्मी का इंतकाल हो गया है आप सभी लोग उनकी #मगफिरत के लिए दुआ करे #अल्लाह उन्हें जन्नत #नसीब करे मेरा दिल आज बहुत #दुखी हुआ आप सबको यह खबर देते हुए 😭🤲 @rashidkhan_19 https://t.co/kr61KlhNov',\n",
              " '#हमारे सबसे ज्यादा #पसंदीदा खिलाड़ी अफगानिस्तान के #रशीद_खान की अम्मी का इंतकाल हो गया है आप सभी लोग उनकी #मगफिरत के लिए दुआ करे #अल्लाह उन्हें जन्नत #नसीब करे मेरा दिल आज बहुत #दुखी हुआ आप सबको यह खबर देते हुए 😭😭😭😭😭🤲🤲 @rashidkhan_19 https://t.co/qROQc2HMZW',\n",
              " 'ज़ब #परिस्थिति बदल जाए तो #रणनीति #बदलना ही एक मात्र उपाय होता है #वरना यदि आप पुरानी परिस्थिति के बारे मे सोचते रहोगे तो आप किसी भी #दुख या #समस्या से बाहर #नहीं आ पाओगे.. !!',\n",
              " 'ज़ब #परिस्थिति बदल जाए तो #रणनीति #बदलना ही एक मात्र उपाय होता है #वरना यदि आप पुरानी परिस्थिति के बारे मे सोचते रहोगे तो आप किसी भी #दुख या #समस्या से बाहर #नहीं आ पाओगे.. !!',\n",
              " '#हमारे सबसे ज्यादा #पसंदीदा खिलाड़ी अफगानिस्तान के #रशीद_खान की अम्मी का इंतकाल हो गया है आप सभी लोग उनकी #मगफिरत के लिए दुआ करे #अल्लाह उन्हें जन्नत #नसीब करे मेरा दिल आज बहुत #दुखी हुआ आप सबको यह खबर देते हुए 😭😭😭😭😭🤲🤲 @rashidkhan_19 https://t.co/qROQc2HMZW',\n",
              " \"#happy father's day.   आपके बिना कुछ भी नहीं। लव यू https://t.co/7WFShlXdn2\",\n",
              " '#हमारे सबसे ज्यादा #पसंदीदा खिलाड़ी अफगानिस्तान के #रशीद_खान की अम्मी का इंतकाल हो गया है आप सभी लोग उनकी #मगफिरत के लिए दुआ करे #अल्लाह उन्हें जन्नत #नसीब करे मेरा दिल आज बहुत #दुखी हुआ आप सबको यह खबर देते हुए 😭😭😭😭😭🤲🤲 @rashidkhan_19 https://t.co/qROQc2HMZW',\n",
              " '#हमारे सबसे ज्यादा #पसंदीदा खिलाड़ी अफगानिस्तान के #रशीद_खान की अम्मी का इंतकाल हो गया है आप सभी लोग उनकी #मगफिरत के लिए दुआ करे #अल्लाह उन्हें जन्नत #नसीब करे मेरा दिल आज बहुत #दुखी हुआ आप सबको यह खबर देते हुए 😭😭😭😭😭🤲🤲 @rashidkhan_19 https://t.co/qROQc2HMZW',\n",
              " '#हमारे सबसे ज्यादा #पसंदीदा खिलाड़ी अफगानिस्तान के #रशीद_खान की अम्मी का इंतकाल हो गया है आप सभी लोग उनकी #मगफिरत के लिए दुआ करे #अल्लाह उन्हें जन्नत #नसीब करे मेरा दिल आज बहुत #दुखी हुआ आप सबको यह खबर देते हुए 😭😭😭😭😭🤲🤲 @rashidkhan_19 https://t.co/qROQc2HMZW',\n",
              " 'Jo dost baap hu mai tera wale dialogs bolte hai unko bhi\\n\\n #HAPPY FATHARS DAY \\n🥳🥳',\n",
              " '@sambitswaraj #आदि से #अनंत तक बस यही रही है #परंपरा \\nकायर भोगे #दुख सदा वीर भोग्य #वसुंधरा\\n\\n#राजा #रामचंद्र #की #जय 🚩🚩🚩🚩🚩 https://t.co/XCyYP3Jw3p',\n",
              " '#हमारे सबसे ज्यादा #पसंदीदा खिलाड़ी अफगानिस्तान के #रशीद_खान की अम्मी का इंतकाल हो गया है आप सभी लोग उनकी #मगफिरत के लिए दुआ करे #अल्लाह उन्हें जन्नत #नसीब करे मेरा दिल आज बहुत #दुखी हुआ आप सबको यह खबर देते हुए 😭😭😭😭😭🤲🤲 @rashidkhan_19 https://t.co/qROQc2HMZW',\n",
              " \"#Happy father's day#Aapne sikhaya ungli pakad ke chalna aapne samghaya kaise girke hai sambhalna apki waje se hi ye mukam hasil Kiya aap hi ho meri Khushiyon ki pahachan jo Lakho mein ek hai wo hai mere dadu jo dur hokar bhi saaye ki tarah har waqt mere saath hai wo hai mere dadu https://t.co/h9gtIEUjNq\",\n",
              " '#हमारे सबसे ज्यादा #पसंदीदा खिलाड़ी अफगानिस्तान के @rashidkhan_19 की अम्मी का इंतकाल हो गया है आप सभी लोग उनकी #मगफिरत के लिए दुआ करे #अल्लाह उन्हें जन्नत #नसीब करे मेरा दिल आज बहुत #दुखी हुआ आप सबको यह खबर देते हुए 😭😭😭😭😭🤲🤲 https://t.co/hQnUSlSPOc',\n",
              " '#हमारे सबसे ज्यादा #पसंदीदा खिलाड़ी अफगानिस्तान के @rashidkhan_19 की अम्मी का इंतकाल हो गया है आप सभी लोग उनकी #मगफिरत के लिए दुआ करे #अल्लाह उन्हें जन्नत #नसीब करे मेरा दिल आज बहुत #दुखी हुआ आप सबको यह खबर देते हुए 😭😭😭😭😭🤲🤲 https://t.co/hQnUSlSPOc',\n",
              " '#हमारे सबसे ज्यादा #पसंदीदा खिलाड़ी अफगानिस्तान के #रशीद_खान की अम्मी का इंतकाल हो गया है आप सभी लोग उनकी #मगफिरत के लिए दुआ करे #अल्लाह उन्हें जन्नत #नसीब करे मेरा दिल आज बहुत #दुखी हुआ आप सबको यह खबर देते हुए 😭😭😭😭😭🤲🤲 @rashidkhan_19 https://t.co/qROQc2HMZW',\n",
              " '#हमारे सबसे ज्यादा #पसंदीदा खिलाड़ी अफगानिस्तान के #रशीद_खान की अम्मी का इंतकाल हो गया है आप सभी लोग उनकी #मगफिरत के लिए दुआ करे #अल्लाह उन्हें जन्नत #नसीब करे मेरा दिल आज बहुत #दुखी हुआ आप सबको यह खबर देते हुए 😭😭😭😭😭🤲🤲 @rashidkhan_19 https://t.co/qROQc2HMZW',\n",
              " 'संसार को कृष्ण की नजरो से देखिये दुनिया में प्रेम दिखाई देगा❤\\nTo phir  मुस्कुराइये 😄 ..... Radhe Radhe 🙏 \\n#smile #smilemore #happytime #india https://t.co/EaQKFGFXyj',\n",
              " '#हमारे सबसे ज्यादा #पसंदीदा खिलाड़ी अफगानिस्तान के #रशीद_खान की अम्मी का इंतकाल हो गया है आप सभी लोग उनकी #मगफिरत के लिए दुआ करे #अल्लाह उन्हें जन्नत #नसीब करे मेरा दिल आज बहुत #दुखी हुआ आप सबको यह खबर देते हुए 😭😭😭😭😭🤲🤲 https://t.co/oADMrZXjXz',\n",
              " 'Matlb Ki Duniyaa Hai Sahab\\nJab Tak Pyaar Tha Apne The ..\\nAaj Apne Sath Kal Kisi Or Ke Sath..\\n#sad',\n",
              " '#हमारे सबसे ज्यादा #पसंदीदा खिलाड़ी अफगानिस्तान के #रशीद_खान की अम्मी का इंतकाल हो गया है आप सभी लोग उनकी #मगफिरत के लिए दुआ करे #अल्लाह उन्हें जन्नत #नसीब करे मेरा दिल आज बहुत #दुखी हुआ आप सबको यह खबर देते हुए 😭😭😭😭😭🤲🤲 @rashidkhan_19 https://t.co/qROQc2HMZW',\n",
              " '#हमारे सबसे ज्यादा #पसंदीदा खिलाड़ी अफगानिस्तान के #रशीद_खान की अम्मी का इंतकाल हो गया है आप सभी लोग उनकी #मगफिरत के लिए दुआ करे #अल्लाह उन्हें जन्नत #नसीब करे मेरा दिल आज बहुत #दुखी हुआ आप सबको यह खबर देते हुए 😭😭😭😭😭🤲🤲 @rashidkhan_19 https://t.co/qROQc2HMZW',\n",
              " '#खुशी\\nतीनों भाई राष्ट्रीय उपाध्यक्ष मंजीत सिंह नोटियाल जी,राष्ट्रीय महासचिव कमल सिंह वालिया जी और छोटा भाई शिवम। इन तीनों भाईयों की हाईकोर्ट से बेल मंजूर हो चुकी हैं बहुत जल्द तीनों भाई हमारे बीच होंगें। \\n#जय_भीम\\n@AzadSamajParty_ \\n@BhimArmyChief \\n@VinayRatanSingh @harendraranchi https://t.co/858hXzvFGV',\n",
              " '#हमारे सबसे ज्यादा #पसंदीदा खिलाड़ी अफगानिस्तान के #रशीद_खान की अम्मी का इंतकाल हो गया है आप सभी लोग उनकी #मगफिरत के लिए दुआ करे #अल्लाह उन्हें जन्नत #नसीब करे मेरा दिल आज बहुत #दुखी हुआ आप सबको यह खबर देते हुए 😭😭😭😭😭🤲🤲\\n@ZainabAjaz2 @Halima_Sultan_ @Junaid_Amu @Rofl_RavishL https://t.co/lfxq7bckSC',\n",
              " 'चलो अन्तर्राष्ट्रीय योग दिवस मनाये, पूरे विश्व में हम योग कराये #Happy International Yoga Day\\n #हिन्दू युवा वाहिनी दक्षिणी दिल्ली\\n@AmitShah ,@myogiadityanath ,@BJP4Delhi @narendramodi @ManojTiwariMP @HYVSouthDelhi https://t.co/7GUX3lLgfp',\n",
              " '#himanshumansudave #love #sad #model #missyou #photo #photography #photographer #instadaily #instagram #followers #bollywood @ Sirohi https://t.co/akTiqXtePo',\n",
              " 'कौन कहता है कि मौत आई तो मर जाऊँगी,\\n\\nमैं तो नदी हूँ समुंदर में उतर जाऊँगी.\\n\\n#lifehell #alone #sadness https://t.co/XAH7CiFYqA',\n",
              " '#खुशी\\nतीनों भाई राष्ट्रीय उपाध्यक्ष मंजीत सिंह नोटियाल जी,राष्ट्रीय महासचिव कमल सिंह वालिया जी और छोटा भाई शिवम। इन तीनों भाईयों की हाईकोर्ट से बेल मंजूर हो चुकी हैं बहुत जल्द तीनों भाई हमारे बीच होंगें। \\n#जय_भीम\\n@AzadSamajParty_ \\n@BhimArmyChief \\n@VinayRatanSingh @harendraranchi https://t.co/858hXzvFGV',\n",
              " 'Kinna sohna 😍 tenu rab ne banaya \\nDil ❤️ kare dekhda rawan\\nKinna sohna 😘 tenu rab ne banaya ❤️❤️ @bajwasonam #urbiggestfan #crushonyou #love #SonamBajwa❤️ #Smile https://t.co/0KPsjzFcoN',\n",
              " 'Anne Sheehan 💪💪 #femalemuscle  #flexfriday #SaturdayMorning #SaturdayVibes #muscle #massive #bodybuilding #pecs #Flex #chest #chestday #Smile #FitnessMotivation #fitness #gains #girl #women #strongwomen #FemaleBodybuilding #gym #Grow #getbig #girlswithmuscle #workout #muscles https://t.co/cb3E0xPJua',\n",
              " 'Bas agadi badhna yestai mulayam muskan ko sath rahirahos.\\n\\n#smile #StudentsLivesMatter #smilematters #powerofsmile https://t.co/O8M0eZe1jV',\n",
              " 'Anne Sheehan 💪💪 #femalemuscle  #flexfriday #SaturdayMorning #SaturdayVibes #muscle #massive #bodybuilding #pecs #Flex #chest #chestday #Smile #FitnessMotivation #fitness #gains #girl #women #strongwomen #FemaleBodybuilding #gym #Grow #getbig #girlswithmuscle #workout #muscles https://t.co/cb3E0xPJua',\n",
              " '🙏🌹ॐ नम: शिवाय🌹🙏\\n\\nहर__हर__महादेव... जय__गणेशाय:🌷🌷\\n\\n#सुख में तेरा #शुक्र करू, #दुख में #फरियाद,\\nजिस #हाल में रखे तू #मुझे, मैं सिर्फ #भोले को #याद करू \\n\\n              जय #महाकाल🌿\\n              जय #महाकाली🌿\\n\\n         🙏सुप्रभात__नमस्कार🙏 https://t.co/rquv50hb70',\n",
              " 'अपने दुख सिर्फ #Allah की ज़ात तक ही mehdood रखे\\n\\nजो #मुश्किल में डालता है वो ही इस #दुख से #निजात दिलाता है \\n\\n#Mashaallah \\n#islamicquotes https://t.co/x63TjYHXCP',\n",
              " '🙏🌹ॐ नम: शिवाय🌹🙏\\n\\nहर__हर__महादेव... जय__गणेशाय:🌷🌷\\n\\n#सुख में तेरा #शुक्र करू, #दुख में #फरियाद,\\nजिस #हाल में रखे तू #मुझे, मैं सिर्फ #भोले को #याद करू \\n\\n              जय #महाकाल🌿\\n              जय #महाकाली🌿\\n\\n         🙏सुप्रभात__नमस्कार🙏 https://t.co/rquv50hb70',\n",
              " 'अपने दुख सिर्फ #Allah की ज़ात तक ही mehdood रखे\\n\\nजो #मुश्किल में डालता है वो ही इस #दुख से #निजात दिलाता है \\n\\n#Mashaallah \\n#islamicquotes https://t.co/x63TjYHXCP',\n",
              " '**अब कहाँ रही #वीरानी जो रहूँ #उदास मैं...!!\\n*\\n*\\n**मेरे #कदमों🌹  में वो #मोहब्बत🌹 की कहानी रख गया.....!!',\n",
              " 'क़ुबूल कैसे करूँ उन का फ़ैसला कि ये लोग \\nमेरे ख़िलाफ़ ही मेरा बयान माँगते हैं 😥\\n#sadness https://t.co/LfGIPkgZwo',\n",
              " 'क़ुबूल कैसे करूँ उन का फ़ैसला कि ये लोग \\nमेरे ख़िलाफ़ ही मेरा बयान माँगते हैं 😥\\n#sadness https://t.co/LfGIPkgZwo',\n",
              " '#यादों में तुम••\\n#ख्वाबों में तुम••\\n#उदासी मैं तुम••\\n#खुशी में तुम••\\n#फिक्र मैं तुम••\\n#जिक्र मैं तुम••\\n#बस पास नहीं मेरे तुम•••!!\\n     (डॉक्टर मुस्तफा अली)\\n@bhupeshbaghel @ShayarImran @sherryontopp @ShatruganSinha @RTforINDIA @Dr_Uditraj @RajBabbarMP @BBCHindi https://t.co/IsyaNPWub8',\n",
              " '#यादों में तुम••\\n#ख्वाबों में तुम••\\n#उदासी मैं तुम••\\n#खुशी में तुम••\\n#फिक्र मैं तुम••\\n#जिक्र मैं तुम••\\n#बस पास नहीं मेरे तुम•••!!\\n     (डॉक्टर मुस्तफा अली)\\n@INCIndia @INCIndiaLive  @RahulGandhi @priyankagandhi @rssurjewala @AcharyaPramodk @irobertvadra https://t.co/ZEYPdFlfCi',\n",
              " 'Ek Baar Dekho In Chehron Ki Taraf \\n\\nLife Main Itni Muskilon Ka Saamna Karne Ke Baad Bhi #Smile Kar Rahe Hai!!\\n@Atmojoarjalojo  @AmaalMallik https://t.co/5iV4Pytgs1 https://t.co/bQ1E6zNhqc',\n",
              " 'सच कहूं #International बेइज्जती कर दी *+()/\"*ने मेरे देश की...\\n\\nउसकी इज्जत की ऐशी की तैशी यहां देश पर क्यो लाई?\\n\\n#bollywood #btown #म \\n #काॅमेडी #हास्य #मजेदारमीम्स #कॉमेडीक्लब #InstaJokes #instadaily #coronavirusmemes #memes #FunTime #Comedy #Smile #JaiShreeKrishna https://t.co/909seFQOZA',\n",
              " '#उदास कर देती है हर शाम #मुझे,\\n\\nऐसा लगता जैसे कोई #भूल रहा हो #मुझे !!',\n",
              " 'Mujhe hass kar dard ko chhupana hoga.\\nMujhe udaas maa dekh nahi sakti.\\n - @sabdomara \\n.\\n.\\n.\\n.\\n.\\n\\n#shayari #ghazal #urdu #poetry #nazm #ashar #indian #shair #india #paki #pakistan #pakistani #pashto #hindi #punjabi #sad #quote #quotes',\n",
              " 'Mujhe phirse pukaro na mera naam lekar.\\nMujhe mehsus karna hai khudko tumhare hontho par \\n - (na-maloom)\\n.\\n.\\n.\\n.\\n.\\n\\n#shayari #ghazal #urdu #poetry #nazm #ashar #indian #shair #india #paki #pakistan #pakistani #pashto #hindi #punjabi #sad #quote #quotes',\n",
              " 'Nahi hogi, to keh denge wafadari nahi hoti.\\nMagar humse talluk mein, adakari nahi hoti.\\n - (na-maloom)\\n.\\n.\\n.\\n.\\n.\\n\\n#shayari #ghazal #urdu #poetry #nazm #ashar #indian #shair #india #paki #pakistan #pakistani #pashto #hindi #punjabi #sad #quote #quotes',\n",
              " 'Ek umar guzari hai maine dosto ke sath,\\nAap jeet nahi sakte hain mujhse fareb mein.\\n - Om\\n.\\n.\\n.\\n.\\n.\\n\\n#shayari #ghazal #urdu #poetry #nazm #ashar #indian #shair #india #paki #pakistan #pakistani #pashto #hindi #punjabi #sad #quote #quotes',\n",
              " 'Jaa aur koi zabt ki duniya talaash kar,\\nAe ishq hum to ab tere qabil nahi rahe.\\n - Jigar Moradabadi\\n.\\n.\\n.\\n.\\n.\\n\\n#shayari #ghazal #urdu #poetry #nazm #ashar #indian #shair #india #paki #pakistan #pakistani #pashto #hindi #punjabi #sad #quote #quotes',\n",
              " 'Raat hai, chand hai, sitare hain.\\nBe-saharo ke sau sahare hain.\\n - Pandit Vidya Ratan Asi\\n.\\n.\\n.\\n.\\n.\\n\\n#shayari #ghazal #urdu #poetry #nazm #ashar #indian #shair #india #paki #pakistan #pakistani #pashto #hindi #punjabi #sad #quote #quotes',\n",
              " 'Ik to pehle hi bohat thodi si thi ye zindagi\\nAur kuch jaldi mein maine chhod di thodi bohat.\\n - Charagh Sharma\\n.\\n.\\n.\\n.\\n.\\n\\n#shayari #ghazal #urdu #poetry #nazm #ashar #indian #shair #india #paki #pakistan #pakistani #pashto #hindi #punjabi #sad #quote #quotes',\n",
              " 'Bohat roshan kiya dar ko tumhare aaj tak humne andhero,\\nAb charagh-a-dil bujhana chahta hu main. - Amit Abr\\n.\\n.\\n.\\n.\\n.\\n#shayari #ghazal #urdu #poetry #nazm #ashar #indian #shair #india #paki #pakistan #pakistani #pashto #hindi #punjabi #sad #quote #quotes',\n",
              " 'Ye guftagu k hunar kya tumhein nahi malum\\nDilo par lafz nahi lehje asar karte hain\\n ~ (na-maloom)\\n.\\n.\\n.\\n.\\n.\\n\\n#shayari #ghazal #urdu #poetry #nazm #ashar #indian #shair #india #paki #pakistan #pakistani #pashto #hindi #punjabi #sad #quote #quotes',\n",
              " 'Meri khamoshiya padh sako tum\\nItne gehre bhi nahi utre ho mujhmein\\n ~ (na-maloom)\\n.\\n.\\n.\\n.\\n.\\n\\n#shayari #ghazal #urdu #poetry #nazm #ashar #indian #shair #india #paki #pakistan #pakistani #pashto #hindi #punjabi #sad #quote #quotes',\n",
              " 'Pathar to hazaro ne maare the mujhe lekin\\nJo dil pe laga aa kar ik dost ne maara hai\\n - Suhail Azimabadi\\n.\\n.\\n.\\n.\\n.\\n\\n#shayari #ghazal #urdu #poetry #nazm #ashar #indian #shair #india #paki #pakistan #pakistani #pashto #hindi #punjabi #sad #quote #quotes',\n",
              " 'कौन कम्बख्त अकेला रहना चाहता है...\\nकोई समझने वाला तो मिले, यहाँ जो भी मिलता है समझा कर चला जाता है-\\n#alone #sad #love #depressed #mood #lonely #depression #sadness #follow #broken #like #quotes #life #cry #sadquotes #sadedits #happy #photography #black #suicidal #bhfyp https://t.co/6wqhDKhxsY',\n",
              " '#नींद खुली है जबसे\\n      #दुख रही है #आँखें_मेरी\\n\\nजाने कौन चला है रात भर\\n      #पलकों_के_किनारे_पर ... 🍁\\n👁👁\\n\\n    🌼🕯🌼🍁🙏 शुभ रात्रि 🙏🍁🌼🕯🌼 https://t.co/t8U87NsfIA',\n",
              " 'Srila Prabhupada\\n#krishna #devotion #love #inspiration #motivation  #photooftheday #fashion #beautiful #happy #cute #iskcon #trending https://t.co/rPkXzD9H35',\n",
              " '#खुशी\\nउड़ती हुई तितली🦋 के जैसी है\\n\\nजिसे पकड़ने के लिए हम जितना दौड़ेंगे ये उतना ही हमसे दूर चली जायेगी..\\nऔर\\n\\nयदि हम शान्त मुद्रा मे 1जगह स्थिर हो जायेंगे तो\\nये खुद पे खुद आपके कंधे के पास बैठ जायेगी\\n\\nखुशी के पीछे भागिए मत...\\nमहसुस कीजिए!🙏\\n\\n#जयश्रीराम\\n#जिन्दगी\\n#ThursdayThoughts',\n",
              " '#खुशी\\nतीनों भाई राष्ट्रीय उपाध्यक्ष मंजीत सिंह नोटियाल जी,राष्ट्रीय महासचिव कमल सिंह वालिया जी और छोटा भाई शिवम। इन तीनों भाईयों की हाईकोर्ट से बेल मंजूर हो चुकी हैं बहुत जल्द तीनों भाई हमारे बीच होंगें। \\n#जय_भीम\\n@AzadSamajParty_ \\n@BhimArmyChief \\n@VinayRatanSingh @harendraranchi https://t.co/858hXzvFGV',\n",
              " '#नींद खुली है जबसे\\n      #दुख रही है #आँखें_मेरी\\n\\nजाने कौन चला है रात भर\\n      #पलकों_के_किनारे_पर ... 🍁\\n👁👁\\n\\n    🌼🕯🌼🍁🙏 शुभ रात्रि 🙏🍁🌼🕯🌼 https://t.co/t8U87NsfIA',\n",
              " '🎂#Happy birthday Rahul Gandhi 🎂ji https://t.co/WbP7LI8QQq',\n",
              " '#खुशी\\nतीनों भाई राष्ट्रीय उपाध्यक्ष मंजीत सिंह नोटियाल जी,राष्ट्रीय महासचिव कमल सिंह वालिया जी और छोटा भाई शिवम। इन तीनों भाईयों की हाईकोर्ट से बेल मंजूर हो चुकी हैं बहुत जल्द तीनों भाई हमारे बीच होंगें। \\n#जय_भीम\\n@AzadSamajParty_ \\n@BhimArmyChief \\n@VinayRatanSingh @harendraranchi https://t.co/858hXzvFGV',\n",
              " '@sambitswaraj #आदि से #अनंत तक बस यही रही है #परंपरा \\nकायर भोगे #दुख सदा वीर भोग्य #वसुंधरा\\n\\n#राजा #रामचंद्र #की #जय 🚩🚩🚩🚩🚩 https://t.co/XCyYP3Jw3p',\n",
              " '🙏🌹ॐ नम: शिवाय🌹🙏\\n\\nहर__हर__महादेव... जय__गणेशाय:🌷🌷\\n\\n#सुख में तेरा #शुक्र करू, #दुख में #फरियाद,\\nजिस #हाल में रखे तू #मुझे, मैं सिर्फ #भोले को #याद करू \\n\\n              जय #महाकाल🌿\\n              जय #महाकाली🌿\\n\\n         🙏सुप्रभात__नमस्कार🙏 https://t.co/rquv50hb70',\n",
              " 'Anne Sheehan 💪💪 #femalemuscle  #flexfriday #SaturdayMorning #SaturdayVibes #muscle #massive #bodybuilding #pecs #Flex #chest #chestday #Smile #FitnessMotivation #fitness #gains #girl #women #strongwomen #FemaleBodybuilding #gym #Grow #getbig #girlswithmuscle #workout #muscles https://t.co/cb3E0xPJua',\n",
              " 'यह सोचकर #दुखी न हों कि,\\n\\n                 #लोग आपको नहीं #समझते.\\n\\nक्योंकि...\\n\\n               #कांटे से #वजन को...\\n\\n                                 #मापा जा सकता है, \\n\\n                 #गुणवत्ता को नहीं !!',\n",
              " 'मुझे पतझड़ की कहानियाँ सुना के उदास न कर ऐ जिंदगी...\\n\\nनए मौसम का पता बता, जो गुजर गया, वो गुजर गया...\\n\\n#... #smile #BePositive #BeHappy \\n#loveyourself #SaturdayMotivation #SaturdayMorning #SaturdayMood \\n#SaturdayThoughts #weekendvibes \\n\\n#GoodMorningTwitterWorld ...☕🌼🎶 https://t.co/CUfsxGcek5',\n",
              " '#सुख का अर्थ है \\nजो मिल रहा है उसका #आनंद लेना और \\n#दुख का अर्थ है कि मुझे और चाहिए ।\\n#bmks\\n#जय_माता_की\\n#shri_shaktiputra_ji_mahraj\\n@bmks_india @bscp_bharat \\n@b_s_chouhan @krishna_bscp @ravigupta109 https://t.co/yyxLyLI1v5',\n",
              " \"@RakeshKhatana19 बात आपकी सही है मुझे बहुत #खुशी होगी उस तस्वीर को लेने में, लेकिन नौकरियां लगने के बाद कौन याद करता है? अभी तक जो नौकरी लगे है वो न जाने कहाँ #गायब हैं- हजारों की नौकरी लगने के बाद कोई मिलने नहीं आता, हाँ 4/5 के फ़ोन ज़रूर आये थे, आपको शायद बुरा लगे पर यह 'दुखद अपितु कटु सत्य' है\",\n",
              " 'अपने दुख सिर्फ #Allah की ज़ात तक ही mehdood रखे\\n\\nजो #मुश्किल में डालता है वो ही इस #दुख से #निजात दिलाता है \\n\\n#Mashaallah \\n#islamicquotes https://t.co/x63TjYHXCP',\n",
              " 'Aaj kuchh alag karne ka man kr rha hai...!\\nTo batao kya kiya jaye \\n\\n#love #TFLers #tweegram #photooftheday #20likes #amazing #smile #follow4follow #like4like #look #instalike #igers #picoftheday #food #instadaily… https://t.co/mZMHist2lt',\n",
              " 'अजनबी तुम्हारा चला जाना मेरी जिंदगी से\\n#दुख का वो पल था जो ठहरा रहा उम्र भर के लिये\\n#केशव\\n#हिंदी_शब्द',\n",
              " 'Naa #Copy kriye kise nu...\\nSadda apna #Style ...😎\\n\\nKise nu Pasand  #Nakhra 😏\\nTe kise nu pasand ae #Smile 😊\\n#PglKudi https://t.co/EL0CUhcvu0',\n",
              " 'अपने दुख सिर्फ #Allah की ज़ात तक ही mehdood रखे\\n\\nजो #मुश्किल में डालता है वो ही इस #दुख से #निजात दिलाता है \\n\\n#Mashaallah \\n#islamicquotes https://t.co/x63TjYHXCP',\n",
              " 'अपने दुख सिर्फ #Allah की ज़ात तक ही mehdood रखे\\n\\nजो #मुश्किल में डालता है वो ही इस #दुख से #निजात दिलाता है \\n\\n#Mashaallah \\n#islamicquotes https://t.co/x63TjYHXCP',\n",
              " 'अपने दुख सिर्फ #Allah की ज़ात तक ही mehdood रखे\\n\\nजो #मुश्किल में डालता है वो ही इस #दुख से #निजात दिलाता है \\n\\n#Mashaallah \\n#islamicquotes https://t.co/x63TjYHXCP',\n",
              " 'खुश रहिये\\n, \\n\\n, \\n, \\n, \\n, \\n, \\n#happy #love #instagood #like #photooftheday #smile #beautiful #follow #cute #fashion #instagram #photography #me #life #fun #followme #instadaily #girl #art #style #friends #selfie #nature #photo #happiness #instalike #family #helpindiaonline https://t.co/oYEFdIeuWZ',\n",
              " 'मुझे पतझड़ की कहानियाँ सुना के उदास न कर ऐ जिंदगी...\\n\\nनए मौसम का पता बता, जो गुजर गया, वो गुजर गया...\\n\\n#... #smile #BePositive #BeHappy \\n#loveyourself',\n",
              " 'वह खवाब था,\\nमैं हक़ीक़त थी ...\\nउसके साए में मैंने ,\\nख्वाब को चुना था ...\\nइस उम्म्मीद में कि ,\\nकल होंगे ख्वाब पूरे ...\\nहां! वह ख्वाब ही था  ,\\nखुलते आंख हुआ विलीन ...\\nऔर जिंदगी बढ़ चली ,\\nएक शाश्वत सत्य की ओर ...!!\\n\\n#Sad #pain #life #LoveStory #thoughts',\n",
              " 'नफरतों के बाजार में जीने का अलग ही मजा है लोग \"रूलाना\" नहीं छोडते और जिंदादिल \" हसना \" नहीं छोडते ।\\n#Smile',\n",
              " 'मुझे पतझड़ की कहानियाँ सुना के उदास न कर ऐ जिंदगी...\\n\\nनए मौसम का पता बता, जो गुजर गया, वो गुजर गया...\\n\\n#... #smile #BePositive #BeHappy \\n#loveyourself #SaturdayMotivation #SaturdayMorning #SaturdayMood \\n#SaturdayThoughts #weekendvibes \\n\\n#GoodMorningTwitterWorld ...☕🌼🎶 https://t.co/CUfsxGcek5',\n",
              " 'नफरतों के बाजार में जीने का अलग ही मजा है लोग \"रूलाना\" नहीं छोडते और जिंदादिल \" हसना \" नहीं छोडते ।\\n#Smile',\n",
              " 'нαρρу  вιятн∂αу  тσ  u🎂🕯️🔪🍺🍻🍺🍻\\n\\nतुम्हारे जिन्दगी मैं खुशियों से ज्यादा #ख़ुशियाँ आए ये #दुआ है हमारी😂😂\\n#Happy__Birthday @hemapanchal20 https://t.co/OjfopsDMP3',\n",
              " 'अपने दुख सिर्फ #Allah की ज़ात तक ही mehdood रखे\\n\\nजो #मुश्किल में डालता है वो ही इस #दुख से #निजात दिलाता है \\n\\n#Mashaallah \\n#islamicquotes https://t.co/x63TjYHXCP',\n",
              " 'पंजाब में शराब के बाद अब अवैध रेत खनन रोकेंगे टीचर्स, #SAD ने की कैप्टन सरकार की आलोचना\\n#Punjab | #AmarinderSingh | #IllegalSandMining\\n\\nhttps://t.co/iYNHGO0lCU',\n",
              " 'पंजाब में शराब के बाद अब अवैध रेत खनन रोकेंगे टीचर्स, #SAD ने की कैप्टन सरकार की आलोचना\\n#Punjab | #AmarinderSingh | #IllegalSandMining\\n\\nhttps://t.co/iYNHGO0lCU',\n",
              " '@AjitPawarSpeaks @NCPspeaks @nawabmalikncp मुझे #समझ में नहीं आता है #तुम लोगों को इतनी #खुशी कैसे महसूस होती है ऐसे में जब इस देश पर #उल्टा #टाइम चल रहा है?\\nhttps://t.co/gdpMqqbQ5T',\n",
              " '🙏🌹ॐ नम: शिवाय🌹🙏\\n\\nहर__हर__महादेव... जय__गणेशाय:🌷🌷\\n\\n#सुख में तेरा #शुक्र करू, #दुख में #फरियाद,\\nजिस #हाल में रखे तू #मुझे, मैं सिर्फ #भोले को #याद करू \\n\\n              जय #महाकाल🌿\\n              जय #महाकाली🌿\\n\\n         🙏सुप्रभात__नमस्कार🙏 https://t.co/rquv50hb70',\n",
              " '🙏🌹ॐ नम: शिवाय🌹🙏\\n\\nहर__हर__महादेव... जय__गणेशाय:🌷🌷\\n\\n#सुख में तेरा #शुक्र करू, #दुख में #फरियाद,\\nजिस #हाल में रखे तू #मुझे, मैं सिर्फ #भोले को #याद करू \\n\\n              जय #महाकाल🌿\\n              जय #महाकाली🌿\\n\\n         🙏सुप्रभात__नमस्कार🙏 https://t.co/rquv50hb70',\n",
              " '@sambitswaraj #आदि से #अनंत तक बस यही रही है #परंपरा \\nकायर भोगे #दुख सदा वीर भोग्य #वसुंधरा\\n\\n#राजा #रामचंद्र #की #जय 🚩🚩🚩🚩🚩 https://t.co/XCyYP3Jw3p',\n",
              " 'हमेंं खालिस्तान नहीं बल्कि पूरे अधिकारों वाला राज्य चाहिए : ढींडसा\\nhttps://t.co/QPGiVBstMo\\n#Politics #SAD #Congress #Punjab https://t.co/9pIf2lL28C',\n",
              " 'हर हाल में #खुश रहना सीख लो🙃\\n        उस दिल को क्या #उदास रखना🧐\\n               जिसमें मेरा #भोले बसता हो❤🙏\\n\\n#जय_भोलेनाथ की 🙏☘🌺 📿🐚🛐\\n\\n@Being_Suchita @meShital_ \\n@Oye_IShuu_ @sushma_pandey1\\n@MansiSi62158538 @SSNaina_ https://t.co/5ouhhtgZjt',\n",
              " '#बामसेफ_प्रचारक #पंकज_नागवंशी जी को #उनके 25वें #जन्मदिन की बहुत बहुत #बधाई ।\\n\\nहम उनके #जीवन मे #खुशियां हमेसा बनी रहे और वो #हमेसा #समाज का काम करते हैं इसके लिए #तथागत बुद्ध से #कामना करते हैं ।\\n\\nमै #बाबा_साहेब के #खुन का #कतरा हूँ।\\nतभी तो #मनुवादियों के लिये #खतरा हूँ।। https://t.co/fDSiGnH4vO',\n",
              " '@SonaMan @RajdevJ1 @dixit_511 @eklavya018 @jeetensingh @seriousfunnyguy @kanpurwaleatul @Real_Netan @PrayagrajWale @prrretatma @Ranjeet60928395 @sahilvikas33 @mishraaashish @msbedi06 @sweetu0915 @VinayDw86398158 @SadhanaDubey6 @Sweet_Bhawna1 \"जो आपकी #खुशी के लिए अपनी #हार मान लेता हो...\\n\\nउससे #आप कभी भी #जीत ही नहीं सकते...!!!\\n\\n#सुप्रभात सखी 😍🌹🍫❤️🍫🌹 https://t.co/jVvoMcMVWt',\n",
              " 'नफरतों के बाजार में जीने का अलग ही मजा है लोग \"रूलाना\" नहीं छोडते और जिंदादिल \" हसना \" नहीं छोडते ।\\n#Smile',\n",
              " \"@RakeshKhatana19 बात आपकी सही है मुझे बहुत #खुशी होगी उस तस्वीर को लेने में, लेकिन नौकरियां लगने के बाद कौन याद करता है? अभी तक जो नौकरी लगे है वो न जाने कहाँ #गायब हैं- हजारों की नौकरी लगने के बाद कोई मिलने नहीं आता, हाँ 4/5 के फ़ोन ज़रूर आये थे, आपको शायद बुरा लगे पर यह 'दुखद अपितु कटु सत्य' है\",\n",
              " 'मुझे पतझड़ की कहानियाँ सुना के उदास न कर ऐ जिंदगी...\\n\\nनए मौसम का पता बता, जो गुजर गया, वो गुजर गया...\\n\\n#... #smile #BePositive #BeHappy \\n#loveyourself #SaturdayMotivation #SaturdayMorning #SaturdayMood \\n#SaturdayThoughts #weekendvibes \\n\\n#GoodMorningTwitterWorld ...☕🌼🎶 https://t.co/CUfsxGcek5',\n",
              " 'मुझे पतझड़ की कहानियाँ सुना के उदास न कर ऐ जिंदगी...\\n\\nनए मौसम का पता बता, जो गुजर गया, वो गुजर गया...\\n\\n#... #smile #BePositive #BeHappy \\n#loveyourself #SaturdayMotivation #SaturdayMorning #SaturdayMood \\n#SaturdayThoughts #weekendvibes \\n\\n#GoodMorningTwitterWorld ...☕🌼🎶 https://t.co/CUfsxGcek5',\n",
              " 'कभी ख़ुद पे कभी हालात पे रोना आया\\nबात निकली तो हर इक बात पे रोना आया\\n#sadness #situation',\n",
              " 'нαρρу  вιятн∂αу  тσ  u🎂🕯️🔪🍺🍻🍺🍻\\n\\nतुम्हारे जिन्दगी मैं खुशियों से ज्यादा #ख़ुशियाँ आए ये #दुआ है हमारी😂😂\\n#Happy__Birthday @hemapanchal20 https://t.co/OjfopsDMP3',\n",
              " '#आज_देखा है तुझे देर के बाद\\n#आज का दिन #गुज़र न जाये कहीं\\n\\n#ना_मिला कर #उदास लोगों से\\n#हुस्न तेरा #बिखर न जाये कहीं\\n\\n@NikhilT18103398',\n",
              " 'Room5 #bedroom  ( ＾∀＾)😜 #today #saturday  #photo #happy  #hapiness @ Kyoto, Japan https://t.co/5GD63bQ8w2',\n",
              " 'Room5 #bedroom  ( ＾∀＾)😜 #today #saturday  #photo #happy  #hapiness @ Kyoto, Japan https://t.co/7dvAbPqjLq',\n",
              " '🙏🌹ॐ नम: शिवाय🌹🙏\\n\\nहर__हर__महादेव... जय__गणेशाय:🌷🌷\\n\\n#सुख में तेरा #शुक्र करू, #दुख में #फरियाद,\\nजिस #हाल में रखे तू #मुझे, मैं सिर्फ #भोले को #याद करू \\n\\n              जय #महाकाल🌿\\n              जय #महाकाली🌿\\n\\n         🙏सुप्रभात__नमस्कार🙏 https://t.co/rquv50hb70',\n",
              " '@comicserious @SaffronAhead आदरणीय बड़े भाई  को जन्मदिन की बहुत बहुत शुभकामनाएं,परमपिता परमात्मा से प्रार्थना है कि वो आपको स्वस्थ व प्रसन्न रखें। आप जीवन उन्नति के श्रेष्ठतम शिखर पर सदैव विराजमान रहें \\nभगवान परशुराम आप का सदैव मंगल करें 🙏#Happy birthday Bhai',\n",
              " 'Srila Prabhupada\\n#krishna #devotion #love #inspiration #motivation  #photooftheday #fashion #beautiful #happy #cute #iskcon #trending https://t.co/rPkXzD9H35',\n",
              " '#नींद खुली है जबसे\\n      #दुख रही है #आँखें_मेरी\\n\\nजाने कौन चला है रात भर\\n      #पलकों_के_किनारे_पर ... 🍁\\n👁👁\\n\\n    🌼🕯🌼🍁🙏 शुभ रात्रि 🙏🍁🌼🕯🌼 https://t.co/t8U87NsfIA',\n",
              " 'मुझे पतझड़ की कहानियाँ सुना के उदास न कर ऐ जिंदगी...\\n\\nनए मौसम का पता बता, जो गुजर गया, वो गुजर गया...\\n\\n#... #smile #BePositive #BeHappy \\n#loveyourself #SaturdayMotivation #SaturdayMorning #SaturdayMood \\n#SaturdayThoughts #weekendvibes \\n\\n#GoodMorningTwitterWorld ...☕🌼🎶 https://t.co/CUfsxGcek5',\n",
              " '🙏🌹ॐ नम: शिवाय🌹🙏\\n\\nहर__हर__महादेव... जय__गणेशाय:🌷🌷\\n\\n#सुख में तेरा #शुक्र करू, #दुख में #फरियाद,\\nजिस #हाल में रखे तू #मुझे, मैं सिर्फ #भोले को #याद करू \\n\\n              जय #महाकाल🌿\\n              जय #महाकाली🌿\\n\\n         🙏सुप्रभात__नमस्कार🙏 https://t.co/rquv50hb70',\n",
              " '#सूरज की किरणे #तेज दे आपको, खिलते हुए #फूल_खुशबू दे आपको,\\nहम जो देंगे वो भी #कम होगा, देनेवाला #जिंदगी की हर #खुशी दे आपको।\\nमेरे परम प्रिय मित्र #कुँ_अर्जुनसिंह_सिसोदिया_को #जन्मदिन की अनंत शुभकामनाएं!\\n🎈🎈🎂🎂🎂🍫🍫🧁🧁🌹🌹🌹🌹🌹🌹🍫🍫🍫🍫🍫🎂🎂🎂🍨🍰🍰🍰❤❤🌺💐💐 https://t.co/NlvQue07Pp',\n",
              " 'मुझे पतझड़ की कहानियाँ सुना के उदास न कर ऐ जिंदगी...\\n\\nनए मौसम का पता बता, जो गुजर गया, वो गुजर गया...\\n\\n#... #smile #BePositive #BeHappy \\n#loveyourself #SaturdayMotivation #SaturdayMorning #SaturdayMood \\n#SaturdayThoughts #weekendvibes \\n\\n#GoodMorningTwitterWorld ...☕🌼🎶 https://t.co/CUfsxGcek5',\n",
              " 'मुझे पतझड़ की कहानियाँ सुना के उदास न कर ऐ जिंदगी...\\n\\nनए मौसम का पता बता, जो गुजर गया, वो गुजर गया...\\n\\n#... #smile #BePositive #BeHappy \\n#loveyourself #SaturdayMotivation #SaturdayMorning #SaturdayMood \\n#SaturdayThoughts #weekendvibes \\n\\n#GoodMorningTwitterWorld ...☕🌼🎶 https://t.co/CUfsxGcek5',\n",
              " '🙏🌹ॐ नम: शिवाय🌹🙏\\n\\nहर__हर__महादेव... जय__गणेशाय:🌷🌷\\n\\n#सुख में तेरा #शुक्र करू, #दुख में #फरियाद,\\nजिस #हाल में रखे तू #मुझे, मैं सिर्फ #भोले को #याद करू \\n\\n              जय #महाकाल🌿\\n              जय #महाकाली🌿\\n\\n         🙏सुप्रभात__नमस्कार🙏 https://t.co/rquv50hb70',\n",
              " '#नींद खुली है जबसे\\n      #दुख रही है #आँखें_मेरी\\n\\nजाने कौन चला है रात भर\\n      #पलकों_के_किनारे_पर ... 🍁\\n👁👁\\n\\n    🌼🕯🌼🍁🙏 शुभ रात्रि 🙏🍁🌼🕯🌼 https://t.co/t8U87NsfIA',\n",
              " '#पटनाविश्वविद्यालय के वर्तमान Joint Secretary बड़े भाई आमिर राजा को जन्मदिन कीं हार्दिक शुभकामनायें\\n#Happy Birthday Bhaiya https://t.co/FJcYa3kTWc',\n",
              " 'Ek Baar Dekho In Chehron Ki Taraf \\n\\nLife Main Itni Muskilon Ka Saamna Karne Ke Baad Bhi #Smile Kar Rahe Hai!!\\n@Atmojoarjalojo  @AmaalMallik https://t.co/5iV4Pytgs1 https://t.co/bQ1E6zNhqc',\n",
              " '#राजस्थान पुलिस के  गौरव मेरे छोटे भाई श्योराम  रावत को जन्मदिन की हार्दिक शुभकामनाएं !🎂🎂🌹🌹\\nमैं आपकी लंबी उम्र और अच्छे स्वास्थ्य की मंगल कामनाएं करता हूं!!\\n#Happy brithday bhai 🎂 @ Jharli Sikar https://t.co/tCyTYQg84y',\n",
              " 'Ek Baar Dekho In Chehron Ki Taraf \\n\\nLife Main Itni Muskilon Ka Saamna Karne Ke Baad Bhi #Smile Kar Rahe Hai!!\\n@Atmojoarjalojo  @AmaalMallik https://t.co/5iV4Pytgs1 https://t.co/bQ1E6zNhqc',\n",
              " '20 Jun 2020 - श्री श्री राधा माधव शृंगार आरती दर्शन\\n🙌\\nहरे कृष्ण हरे कृष्ण कृष्ण कृष्ण हरे हरे। \\nहरे राम हरे राम राम राम हरे हरे।। 😊#krishna #devotion #love #inspiration #motivation  #photooftheday #fashion #beautiful #happy #cute #iskcon #trending https://t.co/aA4mSiyFNl',\n",
              " 'Srila Prabhupada\\n#krishna #devotion #love #inspiration #motivation  #photooftheday #fashion #beautiful #happy #cute #iskcon #trending https://t.co/rPkXzD9H35',\n",
              " '❣️वक्त अच्छा हो या बुरा गुजर ही जाता है...✍️ #singerchandani \\n.\\n.\\n.\\n.\\n.\\n.\\n.\\n#waqt #time #passaway  #days #happylifestyle #enjoyed #enjoy #togather #mypartner #party #partydecorations #smileface #smile #with #withlove… https://t.co/gTW8LFjkJp',\n",
              " '@ARChoud97831657 \\nआप दीर्घायु और आरोग्य हों, \\nऔर जिंदगी में हमेशा ही यश प्राप्त करें, \\nजन्म दिवस पर यही शुभकामना है कि \\nआपको हर कदम पर जीत मिले.\\n#Happy #birthday https://t.co/vCaqxCufRm',\n",
              " '🙏🌹ॐ नम: शिवाय🌹🙏\\n\\nहर__हर__महादेव... जय__गणेशाय:🌷🌷\\n\\n#सुख में तेरा #शुक्र करू, #दुख में #फरियाद,\\nजिस #हाल में रखे तू #मुझे, मैं सिर्फ #भोले को #याद करू \\n\\n              जय #महाकाल🌿\\n              जय #महाकाली🌿\\n\\n         🙏सुप्रभात__नमस्कार🙏 https://t.co/rquv50hb70',\n",
              " 'Cute सा है #Face😊 मेरा #Killer🔪 है मेरी #Style😍\\nथम जाती है लोगो की #DhaDkan❤ जब करती हु Me #Smile😎😍\\n#Hyderabadescorts #independenthyderabadescorts\\n------------------------------\\n😍https://t.co/vDI3YCpLyQ😍\\n😍https://t.co/eIXaBab34i😍\\n😍https://t.co/OMVQXCQ69M😍 https://t.co/JqLP6qChSv',\n",
              " 'अजनबी तुम्हारा चला जाना मेरी जिंदगी से\\n#दुख का वो पल था जो ठहरा रहा उम्र भर के लिये\\n#केशव\\n#हिंदी_शब्द',\n",
              " '#Shabbat Shalom #YHWH  #Happy Shabbat #spiritualart https://t.co/J260KFgS5F',\n",
              " 'भारतीय राष्ट्रीय कांग्रेस के पूर्व अध्यक्ष ,लोकसभा सांसद जननायक नेता #श्री राहुल गांधी जी को जन्मदिन की हार्दिक बधाई एवं ढेर सारी शुभकामनाएं।।\\n#Happy birthday # https://t.co/m48oSYh0Hn',\n",
              " 'भारतीय राष्ट्रीय कांग्रेस के पूर्व अध्यक्ष ,लोकसभा सांसद जननायक नेता #श्री राहुल गांधी जी को जन्मदिन की हार्दिक बधाई एवं ढेर सारी शुभकामनाएं।।\\n#Happy birthday # https://t.co/m48oSYh0Hn',\n",
              " '20 Jun 2020 - श्री श्री राधा माधव मंगल आरती दर्शन\\n🙌\\nहरे कृष्ण हरे कृष्ण कृष्ण कृष्ण हरे हरे। \\nहरे राम हरे राम राम राम हरे हरे।। 😊\\n#krishna #devotion #love #inspiration #motivation  #photooftheday #fashion #beautiful #happy #cute #iskcon #trending https://t.co/6An0Kvsx45',\n",
              " 'जरुरी नहीं #Sad पोस्ट करने वाले को इश्क ही हुआ हो,\\n\\nघरवालों द्वारा लतिआया गया हो ये भी तो हो सकता है !!\\n😂😂😂😂😂😂',\n",
              " '🙏🌹ॐ नम: शिवाय🌹🙏\\n\\nहर__हर__महादेव... जय__गणेशाय:🌷🌷\\n\\n#सुख में तेरा #शुक्र करू, #दुख में #फरियाद,\\nजिस #हाल में रखे तू #मुझे, मैं सिर्फ #भोले को #याद करू \\n\\n              जय #महाकाल🌿\\n              जय #महाकाली🌿\\n\\n         🙏सुप्रभात__नमस्कार🙏 https://t.co/rquv50hb70',\n",
              " '#नींद खुली है जबसे\\n      #दुख रही है #आँखें_मेरी\\n\\nजाने कौन चला है रात भर\\n      #पलकों_के_किनारे_पर ... 🍁\\n👁👁\\n\\n    🌼🕯🌼🍁🙏 शुभ रात्रि 🙏🍁🌼🕯🌼 https://t.co/t8U87NsfIA',\n",
              " '🙏🌹ॐ नम: शिवाय🌹🙏\\n\\nहर__हर__महादेव... जय__गणेशाय:🌷🌷\\n\\n#सुख में तेरा #शुक्र करू, #दुख में #फरियाद,\\nजिस #हाल में रखे तू #मुझे, मैं सिर्फ #भोले को #याद करू \\n\\n              जय #महाकाल🌿\\n              जय #महाकाली🌿\\n\\n         🙏सुप्रभात__नमस्कार🙏 https://t.co/rquv50hb70',\n",
              " '🙏🌹ॐ नम: शिवाय🌹🙏\\n\\nहर__हर__महादेव... जय__गणेशाय:🌷🌷\\n\\n#सुख में तेरा #शुक्र करू, #दुख में #फरियाद,\\nजिस #हाल में रखे तू #मुझे, मैं सिर्फ #भोले को #याद करू \\n\\n              जय #महाकाल🌿\\n              जय #महाकाली🌿\\n\\n         🙏सुप्रभात__नमस्कार🙏 https://t.co/rquv50hb70',\n",
              " 'जरुरी नहीं #Sad पोस्ट करने वाले को इश्क ही हुआ हो,\\n\\nघरवालों द्वारा लतिआया गया भी तो हो सकता है !!\\n😂😂😂😂😂😂',\n",
              " 'लोग मुझसे मेरी #खुशी का राज पुछ रहे हैंं ,\\nइजाज्त् हो तो तेरा #नाम ले लुं ।?\\n#love\\n#crush \\n#musii',\n",
              " '🙏🌹ॐ नम: शिवाय🌹🙏\\n\\nहर__हर__महादेव... जय__गणेशाय:🌷🌷\\n\\n#सुख में तेरा #शुक्र करू, #दुख में #फरियाद,\\nजिस #हाल में रखे तू #मुझे, मैं सिर्फ #भोले को #याद करू \\n\\n              जय #महाकाल🌿\\n              जय #महाकाली🌿\\n\\n         🙏सुप्रभात__नमस्कार🙏 https://t.co/rquv50hb70',\n",
              " 'तुमको मिल जायेंगे बेहतर मुझसे,\\nमुझको मिल जायँगे बेहतर तुमसे,\\nपर कभी - कभी लगता हे,\\nहम एक दूसरे को मिल जाते तो होता बेहतर सबसे।\\n#sad',\n",
              " 'रात गहरी थी डर भी सकते थे,हम जो कहते थे कर भी सकते थे,\\nतुम जो बिछड़े तो ये भी ना सोचा..हम तो पागल थे मर भी सकते थे।।\\n#sad',\n",
              " '🙏🌹ॐ नम: शिवाय🌹🙏\\n\\nहर__हर__महादेव... जय__गणेशाय:🌷🌷\\n\\n#सुख में तेरा #शुक्र करू, #दुख में #फरियाद,\\nजिस #हाल में रखे तू #मुझे, मैं सिर्फ #भोले को #याद करू \\n\\n              जय #महाकाल🌿\\n              जय #महाकाली🌿\\n\\n         🙏सुप्रभात__नमस्कार🙏 https://t.co/rquv50hb70',\n",
              " '🙏🌹ॐ नम: शिवाय🌹🙏\\n\\nहर__हर__महादेव... जय__गणेशाय:🌷🌷\\n\\n#सुख में तेरा #शुक्र करू, #दुख में #फरियाद,\\nजिस #हाल में रखे तू #मुझे, मैं सिर्फ #भोले को #याद करू \\n\\n              जय #महाकाल🌿\\n              जय #महाकाली🌿\\n\\n         🙏सुप्रभात__नमस्कार🙏 https://t.co/rquv50hb70',\n",
              " '🙏🌹ॐ नम: शिवाय🌹🙏\\n\\nहर__हर__महादेव... जय__गणेशाय:🌷🌷\\n\\n#सुख में तेरा #शुक्र करू, #दुख में #फरियाद,\\nजिस #हाल में रखे तू #मुझे, मैं सिर्फ #भोले को #याद करू \\n\\n              जय #महाकाल🌿\\n              जय #महाकाली🌿\\n\\n         🙏सुप्रभात__नमस्कार🙏 https://t.co/rquv50hb70',\n",
              " 'जरुरी नहीं #Sad पोस्ट करने वाले को इश्क ही हुआ हो,\\n\\nघरवालों द्वारा लतिआया गया भी तो हो सकता है !!\\n😂😂😂😂😂😂',\n",
              " '🙏🌹ॐ नम: शिवाय🌹🙏\\n\\nहर__हर__महादेव... जय__गणेशाय:🌷🌷\\n\\n#सुख में तेरा #शुक्र करू, #दुख में #फरियाद,\\nजिस #हाल में रखे तू #मुझे, मैं सिर्फ #भोले को #याद करू \\n\\n              जय #महाकाल🌿\\n              जय #महाकाली🌿\\n\\n         🙏सुप्रभात__नमस्कार🙏 https://t.co/rquv50hb70',\n",
              " '🙏🌹ॐ नम: शिवाय🌹🙏\\n\\nहर__हर__महादेव... जय__गणेशाय:🌷🌷\\n\\n#सुख में तेरा #शुक्र करू, #दुख में #फरियाद,\\nजिस #हाल में रखे तू #मुझे, मैं सिर्फ #भोले को #याद करू \\n\\n              जय #महाकाल🌿\\n              जय #महाकाली🌿\\n\\n         🙏सुप्रभात__नमस्कार🙏 https://t.co/rquv50hb70',\n",
              " '🙏🌹ॐ नम: शिवाय🌹🙏\\n\\nहर__हर__महादेव... जय__गणेशाय:🌷🌷\\n\\n#सुख में तेरा #शुक्र करू, #दुख में #फरियाद,\\nजिस #हाल में रखे तू #मुझे, मैं सिर्फ #भोले को #याद करू \\n\\n              जय #महाकाल🌿\\n              जय #महाकाली🌿\\n\\n         🙏सुप्रभात__नमस्कार🙏 https://t.co/rquv50hb70',\n",
              " '🙏🌹ॐ नम: शिवाय🌹🙏\\n\\nहर__हर__महादेव... जय__गणेशाय:🌷🌷\\n\\n#सुख में तेरा #शुक्र करू, #दुख में #फरियाद,\\nजिस #हाल में रखे तू #मुझे, मैं सिर्फ #भोले को #याद करू \\n\\n              जय #महाकाल🌿\\n              जय #महाकाली🌿\\n\\n         🙏सुप्रभात__नमस्कार🙏\\n\\n🙏🙏🙏🙏🙏🙏🙏🙏🙏🙏🙏🙏 https://t.co/TkWvBH8NHu https://t.co/CXYzAftMzN',\n",
              " '@sambitswaraj #आदि से #अनंत तक बस यही रही है #परंपरा \\nकायर भोगे #दुख सदा वीर भोग्य #वसुंधरा\\n\\n#राजा #रामचंद्र #की #जय 🚩🚩🚩🚩🚩 https://t.co/XCyYP3Jw3p',\n",
              " '🙏🌹ॐ नम: शिवाय🌹🙏\\n\\nहर__हर__महादेव... जय__गणेशाय:🌷🌷\\n\\n#सुख में तेरा #शुक्र करू, #दुख में #फरियाद,\\nजिस #हाल में रखे तू #मुझे, मैं सिर्फ #भोले को #याद करू \\n\\n              जय #महाकाल🌿\\n              जय #महाकाली🌿\\n\\n         🙏सुप्रभात__नमस्कार🙏 https://t.co/rquv50hb70',\n",
              " '🙏🌹ॐ नम: शिवाय🌹🙏\\n\\nहर__हर__महादेव... जय__गणेशाय:🌷🌷\\n\\n#सुख में तेरा #शुक्र करू, #दुख में #फरियाद,\\nजिस #हाल में रखे तू #मुझे, मैं सिर्फ #भोले को #याद करू \\n\\n              जय #महाकाल🌿\\n              जय #महाकाली🌿\\n\\n         🙏सुप्रभात__नमस्कार🙏 https://t.co/rquv50hb70',\n",
              " 'जरुरी नहीं #Sad पोस्ट करने वाले को इश्क ही हुआ हो,\\n\\nघरवालों द्वारा लतिआया गया भी तो हो सकता है !!\\n😂😂😂😂😂😂',\n",
              " 'जरुरी नहीं #Sad पोस्ट करने वाले को इश्क ही हुआ हो,\\n\\nघरवालों द्वारा लतिआया गया भी तो हो सकता है !!\\n😂😂😂😂😂😂',\n",
              " '🙏🌹ॐ नम: शिवाय🌹🙏\\n\\nहर__हर__महादेव... जय__गणेशाय:🌷🌷\\n\\n#सुख में तेरा #शुक्र करू, #दुख में #फरियाद,\\nजिस #हाल में रखे तू #मुझे, मैं सिर्फ #भोले को #याद करू \\n\\n              जय #महाकाल🌿\\n              जय #महाकाली🌿\\n\\n         🙏सुप्रभात__नमस्कार🙏 https://t.co/rquv50hb70',\n",
              " '🙏🌹ॐ नम: शिवाय🌹🙏\\n\\nहर__हर__महादेव... जय__गणेशाय:🌷🌷\\n\\n#सुख में तेरा #शुक्र करू, #दुख में #फरियाद,\\nजिस #हाल में रखे तू #मुझे, मैं सिर्फ #भोले को #याद करू \\n\\n              जय #महाकाल🌿\\n              जय #महाकाली🌿\\n\\n         🙏सुप्रभात__नमस्कार🙏 https://t.co/rquv50hb70',\n",
              " '🙏🌹ॐ नम: शिवाय🌹🙏\\n\\nहर__हर__महादेव... जय__गणेशाय:🌷🌷\\n\\n#सुख में तेरा #शुक्र करू, #दुख में #फरियाद,\\nजिस #हाल में रखे तू #मुझे, मैं सिर्फ #भोले को #याद करू \\n\\n              जय #महाकाल🌿\\n              जय #महाकाली🌿\\n\\n         🙏सुप्रभात__नमस्कार🙏 https://t.co/rquv50hb70',\n",
              " '😊😇😊\\n\\nहज़ार गम \\nमेरी फितरत नही बदल सकते ,\\nक्या करूँ मुझे आदत मुस्कुराने की है\\n\\n#smile #keepsmiling\\n#love #happy #child #mumbai #mumbaikar #indian #bharati #feelings @ Mumbai, Maharashtra https://t.co/VU0qFmMCqo',\n",
              " 'Anne Sheehan 💪💪 #femalemuscle  #flexfriday #SaturdayMorning #SaturdayVibes #muscle #massive #bodybuilding #pecs #Flex #chest #chestday #Smile #FitnessMotivation #fitness #gains #girl #women #strongwomen #FemaleBodybuilding #gym #Grow #getbig #girlswithmuscle #workout #muscles https://t.co/cb3E0xPJua',\n",
              " '#सुख का अर्थ है \\nजो मिल रहा है उसका #आनंद लेना और \\n#दुख का अर्थ है कि मुझे और चाहिए ।\\n#bmks\\n#जय_माता_की\\n#shri_shaktiputra_ji_mahraj\\n@bmks_india @bscp_bharat \\n@b_s_chouhan @krishna_bscp @ravigupta109 https://t.co/yyxLyLI1v5',\n",
              " '#खुशी\\nउड़ती हुई तितली🦋 के जैसी है\\n\\nजिसे पकड़ने के लिए हम जितना दौड़ेंगे ये उतना ही हमसे दूर चली जायेगी..\\nऔर\\n\\nयदि हम शान्त मुद्रा मे 1जगह स्थिर हो जायेंगे तो\\nये खुद पे खुद आपके कंधे के पास बैठ जायेगी\\n\\nखुशी के पीछे भागिए मत...\\nमहसुस कीजिए!🙏\\n\\n#जयश्रीराम\\n#जिन्दगी\\n#ThursdayThoughts',\n",
              " '#आदि से #अनंत तक बस यही रही है #परंपरा \\nकायर भोगे #दुख सदा वीर भोग्य #वसुंधरा\\n\\n#राजा #रामचंद्र #की #जय 🚩🚩🚩🚩🚩 https://t.co/XCyYP3Jw3p',\n",
              " '#नींद खुली है जबसे\\n      #दुख रही है #आँखें_मेरी\\n\\nजाने कौन चला है रात भर\\n      #पलकों_के_किनारे_पर ... 🍁\\n👁👁\\n\\n    🌼🕯🌼🍁🙏 शुभ रात्रि 🙏🍁🌼🕯🌼 https://t.co/t8U87NsfIA',\n",
              " 'अजनबी तुम्हारा चला जाना मेरी जिंदगी से\\n#दुख का वो पल था जो ठहरा रहा उम्र भर के लिये\\n#केशव\\n#हिंदी_शब्द',\n",
              " '@ बाबु जी स्व पारसनाथ #Sad https://t.co/8PEKGsPKb1',\n",
              " '@Munaf_Ali @tasnim_kapadia @snehal4676 @Margrtmacwan @pankaj_2210 @aaravagandhi @Rj_Nakum Wah....\\n\\nअँधेरों में भटकना है #परेशानी में रहना है\\nमैं जुगनू हूँ मुझे इक शब की वीरानी में रहना है\\n\\n#खुशी सिंह \"शाद\"',\n",
              " '20 Jun 2020 - श्री श्री राधा माधव मंगल आरती दर्शन\\n🙌\\nहरे कृष्ण हरे कृष्ण कृष्ण कृष्ण हरे हरे। \\nहरे राम हरे राम राम राम हरे हरे।। 😊\\n#krishna #devotion #love #inspiration #motivation  #photooftheday #fashion #beautiful #happy #cute #iskcon #trending https://t.co/6An0Kvsx45',\n",
              " '#नींद खुली है जबसे\\n      #दुख रही है #आँखें_मेरी\\n\\nजाने कौन चला है रात भर\\n      #पलकों_के_किनारे_पर ... 🍁\\n👁👁\\n\\n    🌼🕯🌼🍁🙏 शुभ रात्रि 🙏🍁🌼🕯🌼 https://t.co/t8U87NsfIA',\n",
              " '#खुशी\\nउड़ती हुई तितली🦋 के जैसी है\\n\\nजिसे पकड़ने के लिए हम जितना दौड़ेंगे ये उतना ही हमसे दूर चली जायेगी..\\nऔर\\n\\nयदि हम शान्त मुद्रा मे 1जगह स्थिर हो जायेंगे तो\\nये खुद पे खुद आपके कंधे के पास बैठ जायेगी\\n\\nखुशी के पीछे भागिए मत...\\nमहसुस कीजिए!🙏\\n\\n#जयश्रीराम\\n#जिन्दगी\\n#ThursdayThoughts',\n",
              " '#स्वर्ग और #नरक ऊपर कहीं नहीं है\\nजिस घर में #सुख है घर स्वर्ग है और जिस घर में #दुख है वो घर नरक है https://t.co/dL4eO91HHP',\n",
              " '#Shabbat Shalom \\n#Happy Shabbat \\n\\n#Torah https://t.co/7mqxT1Xl1Y',\n",
              " '20 Jun 2020 - श्री श्री राधा माधव मंगल आरती दर्शन\\n🙌\\nहरे कृष्ण हरे कृष्ण कृष्ण कृष्ण हरे हरे। \\nहरे राम हरे राम राम राम हरे हरे।। 😊\\n#krishna #devotion #love #inspiration #motivation  #photooftheday #fashion #beautiful #happy #cute #iskcon #trending https://t.co/6An0Kvsx45',\n",
              " 'विश्वास का यह #बंधन यूं ही बना रहे,\\nआपके #जीवन में प्रेम का सागर यूं ही बहता रहे,\\nदुआ है रब से #सुख और समृद्धि से जीवन भरा रहे,\\nशादी की सालगिरह की आपको ढेरों #शुभकामनाएं।#Happy marriage #anniversary #AJANTA JI &amp;#SURESH JI https://t.co/bSwoUJ8a0z',\n",
              " 'आज का सुविचार\\n\\n#ManishSai #happy #life #gratitude #gratitudequotes #quotes #studygram #quotes #quotestagram #daily_thoughts_and_quotes #dailythoughts #inspirationalquotes #motivationalquotes #daily #dailymotivation… https://t.co/BLN1bTOquv',\n",
              " '#नींद खुली है जबसे\\n      #दुख रही है #आँखें_मेरी\\n\\nजाने कौन चला है रात भर\\n      #पलकों_के_किनारे_पर ... 🍁\\n👁👁\\n\\n    🌼🕯🌼🍁🙏 शुभ रात्रि 🙏🍁🌼🕯🌼 https://t.co/t8U87NsfIA',\n",
              " 'आज का सुविचार\\n\\n#ManishSai #happy #life #gratitude #gratitudequotes #quotes #studygram #quotes #quotestagram #daily_thoughts_and_quotes #dailythoughts #inspirationalquotes #motivationalquotes #daily #dailymotivation… https://t.co/BLN1bTOquv',\n",
              " 'आज का सुविचार\\n\\n#ManishSai #happy #life #gratitude #gratitudequotes #quotes #studygram #quotes #quotestagram #daily_thoughts_and_quotes #dailythoughts #inspirationalquotes #motivationalquotes #daily #dailymotivation… https://t.co/BLN1bTOquv',\n",
              " '#HappyBirthdayToMe \\nआज मेरा जन्मदिन🍮 है। कोई #WISH नहीं करोगे।\\n👉इसी #खुशी में मै आज #100+ को #प्रमोट कर रही हूं।\\n 👉तो भिर डर किस बात की मुझे #follow और #retweet करके अपना हदेल #कॉमेंट में डाल दो।\\n \\n🚩💫मुझे #follow करना ना भूले।💫 https://t.co/1BjuhSMIiE',\n",
              " '#नींद खुली है जबसे\\n      #दुख रही है #आँखें_मेरी\\n\\nजाने कौन चला है रात भर\\n      #पलकों_के_किनारे_पर ... 🍁\\n👁👁\\n\\n    🌼🕯🌼🍁🙏 शुभ रात्रि 🙏🍁🌼🕯🌼 https://t.co/t8U87NsfIA',\n",
              " '#नींद खुली है जबसे\\n      #दुख रही है #आँखें_मेरी\\n\\nजाने कौन चला है रात भर\\n      #पलकों_के_किनारे_पर ... 🍁\\n👁👁\\n\\n    🌼🕯🌼🍁🙏 शुभ रात्रि 🙏🍁🌼🕯🌼 https://t.co/t8U87NsfIA',\n",
              " '#नींद खुली है जबसे\\n      #दुख रही है #आँखें_मेरी\\n\\nजाने कौन चला है रात भर\\n      #पलकों_के_किनारे_पर ... 🍁\\n👁👁\\n\\n    🌼🕯🌼🍁🙏 शुभ रात्रि 🙏🍁🌼🕯🌼 https://t.co/t8U87NsfIA',\n",
              " 'Meri khamoshiya padh sako tum\\nItne gehre bhi nahi utre ho mujhmein\\n ~ (na-maloom)\\n.\\n.\\n.\\n.\\n.\\n\\n#shayari #ghazal #urdu #poetry #nazm #ashar #indian #shair #india #paki #pakistan #pakistani #pashto #hindi #punjabi #sad #quote #quotes',\n",
              " 'Meri khamoshiya padh sako tum\\nItne gehre bhi nahi utre ho mujhmein\\n ~ (na-maloom)\\n.\\n.\\n.\\n.\\n.\\n\\n#shayari #ghazal #urdu #poetry #nazm #ashar #indian #shair #india #paki #pakistan #pakistani #pashto #hindi #punjabi #sad #quote #quotes',\n",
              " 'Ye guftagu k hunar kya tumhein nahi malum\\nDilo par lafz nahi lehje asar karte hain\\n ~ (na-maloom)\\n.\\n.\\n.\\n.\\n.\\n\\n#shayari #ghazal #urdu #poetry #nazm #ashar #indian #shair #india #paki #pakistan #pakistani #pashto #hindi #punjabi #sad #quote #quotes',\n",
              " 'Bohat roshan kiya dar ko tumhare aaj tak humne andhero,\\nAb charagh-a-dil bujhana chahta hu main. - Amit Abr\\n.\\n.\\n.\\n.\\n.\\n#shayari #ghazal #urdu #poetry #nazm #ashar #indian #shair #india #paki #pakistan #pakistani #pashto #hindi #punjabi #sad #quote #quotes',\n",
              " 'Dil krta hai Thora roo lo.....\\nMagr usay wada Kiya tha teray liye kabhi nhi rooingay 😢😢#sad',\n",
              " 'Pathar to hazaro ne maare the mujhe lekin\\nJo dil pe laga aa kar ik dost ne maara hai\\n - Suhail Azimabadi\\n.\\n.\\n.\\n.\\n.\\n\\n#shayari #ghazal #urdu #poetry #nazm #ashar #indian #shair #india #paki #pakistan #pakistani #pashto #hindi #punjabi #sad #quote #quotes',\n",
              " 'Pathar to hazaro ne maare the mujhe lekin\\nJo dil pe laga aa kar ik dost ne maara hai\\n - Suhail Azimabadi\\n.\\n.\\n.\\n.\\n.\\n\\n#shayari #ghazal #urdu #poetry #nazm #ashar #indian #shair #india #paki #pakistan #pakistani #pashto #hindi #punjabi #sad #quote #quotes',\n",
              " 'Ik to pehle hi bohat thodi si thi ye zindagi\\nAur kuch jaldi mein maine chhod di thodi bohat.\\n - Charagh Sharma\\n.\\n.\\n.\\n.\\n.\\n\\n#shayari #ghazal #urdu #poetry #nazm #ashar #indian #shair #india #paki #pakistan #pakistani #pashto #hindi #punjabi #sad #quote #quotes',\n",
              " 'Raat hai, chand hai, sitare hain.\\nBe-saharo ke sau sahare hain.\\n - Pandit Vidya Ratan Asi\\n.\\n.\\n.\\n.\\n.\\n\\n#shayari #ghazal #urdu #poetry #nazm #ashar #indian #shair #india #paki #pakistan #pakistani #pashto #hindi #punjabi #sad #quote #quotes',\n",
              " 'काश बनाने वाले ने दिल कांच के बनाये होते,\\n\\nतोड़ने वाले के हाथ में ज़ख्म तो आये होते.\\n\\n#ShayariBaDastoor \\n#Sad',\n",
              " 'राजस्थान के कोटा में एक सरकारी अस्पताल में 40 वर्षीय व्यक्ति की तब मौत हो गई जब उसके परिजनों ने कूलर चलाने के लिए वेंटिलेटर का प्लग कथित तौर पर हटा दिया।\\nव्यक्ति को कोरोना वायरस संक्रमण होने के संदेह में भर्ती करवाया था बाद में जांच रिपोर्ट में वह कोरोना से संक्रमित नहीं था #Sad https://t.co/YY297NUyEr',\n",
              " 'आपको जन्मदिन की बधाई एवं शुभकामनाएं।।\\nआप जियो हजारो साल साल के दिन हो पचास हजार।।💐🎂\\n\\n#HAPPY ##BIRTHDAY ##DADA\\n\\n-हरिओम चतुर्वेदी\\nभाजपा कार्यकर्ता https://t.co/PqshUWTGak',\n",
              " 'राजस्थान के कोटा में एक सरकारी अस्पताल में 40 वर्षीय व्यक्ति की तब मौत हो गई जब उसके परिजनों ने कूलर चलाने के लिए वेंटिलेटर का प्लग कथित तौर पर हटा दिया।\\nव्यक्ति को कोरोना वायरस संक्रमण होने के संदेह में भर्ती करवाया था बाद में जांच रिपोर्ट में वह कोरोना से संक्रमित नहीं था #Sad https://t.co/YY297NUyEr',\n",
              " '#नींद खुली है जबसे\\n      #दुख रही है #आँखें_मेरी\\n\\nजाने कौन चला है रात भर\\n      #पलकों_के_किनारे_पर ... 🍁\\n👁👁\\n\\n    🌼🕯🌼🍁🙏 शुभ रात्रि 🙏🍁🌼🕯🌼 https://t.co/t8U87NsfIA',\n",
              " '#नींद खुली है जबसे\\n      #दुख रही है #आँखें_मेरी\\n\\nजाने कौन चला है रात भर\\n      #पलकों_के_किनारे_पर ... 🍁\\n👁👁\\n\\n    🌼🕯🌼🍁🙏 शुभ रात्रि 🙏🍁🌼🕯🌼 https://t.co/t8U87NsfIA',\n",
              " 'बड़ी सादगी भरी थी उसकी मुहब्बत... \\nवो अक्सर मुझसे रुठकर, रुठने की वजह भूल जाया करती थी-\\n\\n#love #like #follow\\n #photography #beautiful #happy #cute #fashion #life #art #picoftheday #nature #music #style #followme #likeforlike\\n #bhfyp #likes #girl #fun #bhfyp @nirmika @Manavkaul19 https://t.co/kLzLcByA3G',\n",
              " '#नींद खुली है जबसे\\n      #दुख रही है #आँखें_मेरी\\n\\nजाने कौन चला है रात भर\\n      #पलकों_के_किनारे_पर ... 🍁\\n👁👁\\n\\n    🌼🕯🌼🍁🙏 शुभ रात्रि 🙏🍁🌼🕯🌼 https://t.co/t8U87NsfIA',\n",
              " 'Kabhi kabhi Hamari Apni choice He hamain\\nCheekh Cheekh kar Rone Par Majboor Kar Deta Hain\\n😢\\n\\n#Sad #محبت_کے_راستے https://t.co/ZL0yq2Mu2I',\n",
              " 'Kabhi kabhi Hamari Apni choice He hamain\\nCheekh Cheekh kar Rone Par Majboor Kar Deta Hain\\n😢\\n\\n#Sad #محبت_کے_راستے https://t.co/ZL0yq2Mu2I',\n",
              " 'एक #पंडित भी *घोर कष्ट* में आ जाता है यदि वह किसी #मुर्ख को #उपदेश देता है, यदि वह एक दुष्ट #पत्नी का पालन-पोषण करता है\\nया किसी #दुखी व्यक्ति के साथ अत्यंत #घनिष्ठ *सम्बन्ध* बना लेता हैं।।',\n",
              " '#नींद खुली है जबसे\\n      #दुख रही है #आँखें_मेरी\\n\\nजाने कौन चला है रात भर\\n      #पलकों_के_किनारे_पर ... 🍁\\n👁👁\\n\\n    🌼🕯🌼🍁🙏 शुभ रात्रि 🙏🍁🌼🕯🌼 https://t.co/t8U87NsfIA',\n",
              " '#नींद खुली है जबसे\\n      #दुख रही है #आँखें_मेरी\\n\\nजाने कौन चला है रात भर\\n      #पलकों_के_किनारे_पर ... 🍁\\n👁👁\\n\\n    🌼🕯🌼🍁🙏 शुभ रात्रि 🙏🍁🌼🕯🌼 https://t.co/t8U87NsfIA',\n",
              " '#नींद खुली है जबसे\\n      #दुख रही है #आँखें_मेरी\\n\\nजाने कौन चला है रात भर\\n      #पलकों_के_किनारे_पर ... 🍁\\n👁👁\\n\\n    🌼🕯🌼🍁🙏 शुभ रात्रि 🙏🍁🌼🕯🌼 https://t.co/t8U87NsfIA',\n",
              " '#नींद खुली है जबसे\\n      #दुख रही है #आँखें_मेरी\\n\\nजाने कौन चला है रात भर\\n      #पलकों_के_किनारे_पर ... 🍁\\n👁👁\\n\\n    🌼🕯🌼🍁🙏 शुभ रात्रि 🙏🍁🌼🕯🌼 https://t.co/t8U87NsfIA',\n",
              " '#नींद खुली है जबसे\\n      #दुख रही है #आँखें_मेरी\\n\\nजाने कौन चला है रात भर\\n      #पलकों_के_किनारे_पर ... 🍁\\n👁👁\\n\\n    🌼🕯🌼🍁🙏 शुभ रात्रि 🙏🍁🌼🕯🌼 https://t.co/t8U87NsfIA',\n",
              " '@TheUnbornGirl @bazmofficial तुम्हारी धड़कन में बसी हैं मेरी रूह \\nतुम्हारी हर #Smile में मै ही तो हूं...\\n\\n#बज्म 😊\\ngood night tc 😘',\n",
              " \"@milindkhandekar बात तो no man's land जोन में इंफ्रास्ट्रक्चर तैयार करने और चीन द्वारा उसे अपना कहने के बारे में है !\\n#sad explanation.\",\n",
              " '#नींद खुली है जबसे\\n      #दुख रही है #आँखें_मेरी\\n\\nजाने कौन चला है रात भर\\n      #पलकों_के_किनारे_पर ... 🍁\\n👁👁\\n\\n    🌼🕯🌼🍁🙏 शुभ रात्रि 🙏🍁🌼🕯🌼 https://t.co/t8U87NsfIA',\n",
              " '@narendramodi दादी बांग्लादेश बसाएं, नाना पाकिस्तान..\\n\\nइनके पप्पू बच्चे हमें सिखाएं, देशभक्ति का ज्ञान 😂😂\\n#happy birthday \\n#PappuDiwas',\n",
              " '@TheUnbornGirl @bazmofficial तुम्हारी धड़कन में बसी हैं मेरी रूह \\nतुम्हारी हर #Smile में मै ही तो हूं...\\n\\n#बज्म 😊\\ngood night tc 😘',\n",
              " '@TheUnbornGirl @bazmofficial तुम्हारी धड़कन में बसी हैं मेरी रूह \\nतुम्हारी हर #Smile में मै ही तो हूं...\\n\\n#बज्म 😊\\ngood night tc 😘',\n",
              " '#आम आदमी #उदास है,\\nबाकी सब #First_Class है ।\\n@HSCheemaMLA1  @AjaybhattBJP4UK @BJP4India @BJP4UK @narendramodi @AmitShah @JPNadda @tsrawatbjp @Gagan4Kashipur https://t.co/DVDe4oFNdQ',\n",
              " '@TheUnbornGirl @bazmofficial तुम्हारी धड़कन में बसी हैं मेरी रूह \\nतुम्हारी हर #Smile में मै ही तो हूं...\\n\\n#बज्म 😊\\ngood night tc 😘',\n",
              " 'लफज सादा है पर इतने प्यारे हैं \\n\\nतुम हमारे हो—- हम तुम्हारे हैं \\n\\n#happy Sunday \\n\\n#बज़्म \\n#अल्फ़ाज़े_बयां https://t.co/rzaK1o55HZ',\n",
              " '#Happy #marriage #anniversary #MATA JI AUR #PITA JI aapke dono ke jeevan me ye din bar bar aaye https://t.co/yRA0BChA9b',\n",
              " '#नींद खुली है जबसे\\n      #दुख रही है #आँखें_मेरी\\n\\nजाने कौन चला है रात भर\\n      #पलकों_के_किनारे_पर ... 🍁\\n👁👁\\n\\n    🌼🕯🌼🍁🙏 शुभ रात्रि 🙏🍁🌼🕯🌼 https://t.co/t8U87NsfIA',\n",
              " 'लफज सादा है पर इतने प्यारे हैं \\n\\nतुम हमारे हो—- हम तुम्हारे हैं \\n\\n#happy Sunday \\n\\n#बज़्म \\n#अल्फ़ाज़े_बयां https://t.co/rzaK1o55HZ',\n",
              " '#हजारों मौजूद 🙆\\u200d♀️#विकल्पों के बीच \\n\\n#किसी एक 💞को #अनिवार्य बनाये🙈 रखना ही...     \\n           \"#इश्क़\" 😜💕है\\n#smile',\n",
              " '#नींद खुली है जबसे\\n      #दुख रही है #आँखें_मेरी\\n\\nजाने कौन चला है रात भर\\n      #पलकों_के_किनारे_पर ... 🍁\\n👁👁\\n\\n    🌼🕯🌼🍁🙏 शुभ रात्रि 🙏🍁🌼🕯🌼 https://t.co/t8U87NsfIA',\n",
              " \"@indiatvnews बात तो no man's land जोन में इंफ्रास्ट्रक्चर तैयार करने और चीन द्वारा उसे अपना कहने के बारे में है !\\n#sad explanation.\",\n",
              " '#नींद खुली है जबसे\\n      #दुख रही है #आँखें_मेरी\\n\\nजाने कौन चला है रात भर\\n      #पलकों_के_किनारे_पर ... 🍁\\n👁👁\\n\\n    🌼🕯🌼🍁🙏 शुभ रात्रि 🙏🍁🌼🕯🌼 https://t.co/t8U87NsfIA',\n",
              " '#नींद खुली है जबसे\\n      #दुख रही है #आँखें_मेरी\\n\\nजाने कौन चला है रात भर\\n      #पलकों_के_किनारे_पर ... 🍁\\n👁👁\\n\\n    🌼🕯🌼🍁🙏 शुभ रात्रि 🙏🍁🌼🕯🌼 https://t.co/t8U87NsfIA',\n",
              " '#नींद खुली है जबसे\\n      #दुख रही है #आँखें_मेरी\\n\\nजाने कौन चला है रात भर\\n      #पलकों_के_किनारे_पर ... 🍁\\n👁👁\\n\\n    🌼🕯🌼🍁🙏 शुभ रात्रि 🙏🍁🌼🕯🌼 https://t.co/t8U87NsfIA',\n",
              " '#नींद खुली है जबसे\\n      #दुख रही है #आँखें_मेरी\\n\\nजाने कौन चला है रात भर\\n      #पलकों_के_किनारे_पर ... 🍁\\n👁👁\\n\\n    🌼🕯🌼🍁🙏 शुभ रात्रि 🙏🍁🌼🕯🌼 https://t.co/t8U87NsfIA',\n",
              " 'अब त़ो बेरोजगार योग्य युवाओं  को मानसिक प्रताड़ना से मुक्ति दिजिए, कहीं हम लोग भी न टूट जाए सुशांत जी की तरह \\n#sad #69k_मोडिफिकेशन_पर_19_जून_सुनवाई_सुनिश्चित_कराए_सरकार\\n#69k_मोडिफिकेशन_पर_19_जून_सुनवाई_सुनिश्चित_कराए_सरकार\\n#69k_मोडिफिकेशन_पर_19_जून_सुनवाई_सुनिश्चित_कराए_सरकार',\n",
              " 'Prabhas + smile = 💓\\n.\\n.\\n#actorprabhas #prabhas #smile #prabhaslooks https://t.co/Eb79ZmYdiI',\n",
              " '#नींद खुली है जबसे\\n      #दुख रही है #आँखें_मेरी\\n\\nजाने कौन चला है रात भर\\n      #पलकों_के_किनारे_पर ... 🍁\\n👁👁\\n\\n    🌼🕯🌼🍁🙏 शुभ रात्रि 🙏🍁🌼🕯🌼 https://t.co/t8U87NsfIA',\n",
              " '#नींद खुली है जबसे\\n      #दुख रही है #आँखें_मेरी\\n\\nजाने कौन चला है रात भर\\n      #पलकों_के_किनारे_पर ... 🍁\\n👁👁\\n\\n    🌼🕯🌼🍁🙏 शुभ रात्रि 🙏🍁🌼🕯🌼 https://t.co/t8U87NsfIA',\n",
              " \"@RakeshKhatana19 बात आपकी सही है मुझे बहुत #खुशी होगी उस तस्वीर को लेने में, लेकिन नौकरियां लगने के बाद कौन याद करता है? अभी तक जो नौकरी लगे है वो न जाने कहाँ #गायब हैं- हजारों की नौकरी लगने के बाद कोई मिलने नहीं आता, हाँ 4/5 के फ़ोन ज़रूर आये थे, आपको शायद बुरा लगे पर यह 'दुखद अपितु कटु सत्य' है\",\n",
              " '19 Jun 2020 - श्री श्री राधा माधव शृंगार आरती दर्शन\\n🙌\\nहरे कृष्ण हरे कृष्ण कृष्ण कृष्ण हरे हरे। \\nहरे राम हरे राम राम राम हरे हरे।। 😊\\n#krishna #devotion #love #inspiration #motivation  #photooftheday #fashion #beautiful #happy #cute #iskcon #trending https://t.co/vxjlTPcOmd',\n",
              " '#नींद खुली है जबसे\\n      #दुख रही है #आँखें_मेरी\\n\\nजाने कौन चला है रात भर\\n      #पलकों_के_किनारे_पर ... 🍁\\n👁👁\\n\\n    🌼🕯🌼🍁🙏 शुभ रात्रि 🙏🍁🌼🕯🌼 https://t.co/t8U87NsfIA',\n",
              " '#thatbrokenpoet \\n.\\n.\\nवो मुस्कुरा के खंजर चलाते रहे,\\nहम अपना समझ के भुलाते रहे।\\n.\\n.\\n#love #TFLers #tweegram #photooftheday #20likes #amazing #smile #follow4follow #like4like #look #instalike #igers #picoftheday #food… https://t.co/55HcmOsjMH',\n",
              " '@Munaf_Ali @tasnim_kapadia @snehal4676 @Margrtmacwan @pankaj_2210 @aaravagandhi @Rj_Nakum Wah....\\n\\nअँधेरों में भटकना है #परेशानी में रहना है\\nमैं जुगनू हूँ मुझे इक शब की वीरानी में रहना है\\n\\n#खुशी सिंह \"शाद\"',\n",
              " '@ashoswai Bacche ko dara diya #china ne 🤣🤣🤣🤣🤣🤣 #IndiaChinaFaceOff #NDTVTopStories #REPUBLIC #india #Kashmiris #happy',\n",
              " '#नींद खुली है जबसे\\n      #दुख रही है #आँखें_मेरी\\n\\nजाने कौन चला है रात भर\\n      #पलकों_के_किनारे_पर ... 🍁\\n👁👁\\n\\n    🌼🕯🌼🍁🙏 शुभ रात्रि 🙏🍁🌼🕯🌼 https://t.co/t8U87NsfIA',\n",
              " \"@BBCHindi बात तो no man's land जोन में इंफ्रास्ट्रक्चर तैयार करने और चीन द्वारा उसे अपना कहने के बारे में है !\\n#sad explanation.\",\n",
              " '#नींद खुली है जबसे\\n      #दुख रही है #आँखें_मेरी\\n\\nजाने कौन चला है रात भर\\n      #पलकों_के_किनारे_पर ... 🍁\\n👁👁\\n\\n    🌼🕯🌼🍁🙏 शुभ रात्रि 🙏🍁🌼🕯🌼 https://t.co/t8U87NsfIA',\n",
              " '#नींद खुली है जबसे\\n      #दुख रही है #आँखें_मेरी\\n\\nजाने कौन चला है रात भर\\n      #पलकों_के_किनारे_पर ... 🍁\\n👁👁\\n\\n    🌼🕯🌼🍁🙏 शुभ रात्रि 🙏🍁🌼🕯🌼 https://t.co/t8U87NsfIA',\n",
              " '#नींद खुली है जबसे\\n      #दुख रही है #आँखें_मेरी\\n\\nजाने कौन चला है रात भर\\n      #पलकों_के_किनारे_पर ... 🍁\\n👁👁\\n\\n    🌼🕯🌼🍁🙏 शुभ रात्रि 🙏🍁🌼🕯🌼 https://t.co/t8U87NsfIA',\n",
              " '#नींद खुली है जबसे\\n      #दुख रही है #आँखें_मेरी\\n\\nजाने कौन चला है रात भर\\n      #पलकों_के_किनारे_पर ... 🍁\\n👁👁\\n\\n    🌼🕯🌼🍁🙏 शुभ रात्रि 🙏🍁🌼🕯🌼 https://t.co/t8U87NsfIA',\n",
              " '#नींद खुली है जबसे\\n      #दुख रही है #आँखें_मेरी\\n\\nजाने कौन चला है रात भर\\n      #पलकों_के_किनारे_पर ... 🍁\\n👁👁\\n\\n    🌼🕯🌼🍁🙏 शुभ रात्रि 🙏🍁🌼🕯🌼 https://t.co/t8U87NsfIA',\n",
              " '#नींद खुली है जबसे\\n      #दुख रही है #आँखें_मेरी\\n\\nजाने कौन चला है रात भर\\n      #पलकों_के_किनारे_पर ... 🍁\\n👁👁\\n\\n    🌼🕯🌼🍁🙏 शुभ रात्रि 🙏🍁🌼🕯🌼 https://t.co/t8U87NsfIA',\n",
              " '#हिन्दुओं यह वही सुशांतसिंह राजपूत थाजो कठुआ रेप में खुदको #हिन्दू होनेपर शर्मिंदा थाऔर #पद्मावती केसमय उन्हें #राजपूत होनेपर शर्म आतीथी जिसने #केदारनाथ मूवीबनाकर #लवजिहाद को बढ़ावादिया जो #jnu का समर्थकरताथा यह #मुल्लो की चमचागिरी नही तो क्या है #दुख मुझेभीहै #RIP (मैं सनातनी)',\n",
              " 'कैसी भी हो मुश्किल, मुश्किल हो जाती आसान \\nगर अपने होंठों पर रख लें  इक प्यारी मुस्कान \\n#anamikaamber #poems #Smile https://t.co/uFQkX2ZbPI',\n",
              " 'अगर मंजिलों की फिक्र करोगे ,\\nतो रास्ते बुरा मान जाएंगे ।\\n\\n#maihardiaries #travel #travelphotography #smile \\n#snapseededits #bollywood #director #actor #writer https://t.co/whoHb6DnCQ',\n",
              " '@dynamiccreativ9 सही है..👍👌🙏🏼\\n\\nआदमी अपना #दुख तो किसी तरह बर्दाश्त कर लेता है😞\\nलेकिन उससे दूसरों का #सुख #बर्दाश्त नही होता।👍',\n",
              " 'Ki kahiye bahla hi dhokha milda.\\n\\n#romantic #single #punjabi #quote #dailyquote #punjabishayari #memepage #punjabimeme #romance #dailyromance #dhokha #sadsongpunjabi #punjabisadsong #sad https://t.co/r4QAe1X9Np',\n",
              " '@dynamiccreativ9 सही है..👍👌🙏🏼\\n\\nआदमी अपना #दुख तो किसी तरह बर्दाश्त कर लेता है😞\\nलेकिन उससे दूसरों का #सुख #बर्दाश्त नही होता।👍',\n",
              " 'मुझे #खैरात में मिली #खुशियां अच्छी #नहीं लगती, मैं #अपने_गमों में भी रहता हॅू… #नवाबों_की_तरह!!\\n🖕 #Attitudequotes\\n🔺 #Instagramfitness\\n🔻 #Naldehragolfclub  ⛳     \\n🎯        ⛔        👉       @viratpkthakur666 https://t.co/ce0MuL7xKT',\n",
              " '#जिन्दगी में हर #एहसास की #जरूरत है... ताकि हम उस एहसास को भलीभांति #समझ सकें... #महसूस कर सकें !\\nयदि #जीवन में सिर्फ #सुख और #खुशी ही होती... तो कभी हम #आँसू का #कद्र नहीं करते...!\\nऔर ना ही #सुख, #खुशी या #दर्द की हम #अनुभूति कर पाते !🌹💋💞 https://t.co/lvzz6TiVrW',\n",
              " 'तुम  #बारिश और #चाय \\n\\nतीनों से मेरी #ज़िंदगी #मुकम्मल हो जाये \\n\\n#बजम \\n\\n#सुप्रभात \\n#happy Good morning !!!!❣️ https://t.co/na3w1BBpCJ',\n",
              " 'लफज सादा है पर इतने प्यारे हैं \\n\\nतुम हमारे हो—- हम तुम्हारे हैं \\n\\n#happy Sunday \\n\\n#बज़्म \\n#अल्फ़ाज़े_बयां https://t.co/rzaK1o55HZ',\n",
              " '@SaritaSidh #खुशी \\nतन स्वस्थ तो मन स्वस्थ \\n#खुशी मन का ही प्रातिर्भाव \\nमंदिर मस्जिद भटके मानव पर\\nमैं #खुशी उसके मन में समाई हुई\\n#जय_श्रीराम\\n#जिंदगी \\n#COVIDー19 https://t.co/bEMmImu26s',\n",
              " 'Hum waha bhi aapko ankho mein liye phirte hain.\\nLog phenk dete hain jahañ gham ko purana karke.\\n - (na-maloom)\\n.\\n.\\n.\\n.\\n.\\n\\n#shayari #ghazal #urdu #poetry #nazm #ashar #indian #shair #india #paki #pakistan #pakistani #pashto #hindi #punjabi #sad #quote #quotes',\n",
              " 'Tum par marne se behtar tha.\\nHum kisi hadhse mein marr jate.\\n - (na-maloom)\\n.\\n.\\n.\\n.\\n.\\n\\n#shayari #ghazal #urdu #poetry #nazm #ashar #indian #shair #india #paki #pakistan #pakistani #pashto #hindi #punjabi #sad #quote #quotes',\n",
              " \"@RakeshKhatana19 बात आपकी सही है मुझे बहुत #खुशी होगी उस तस्वीर को लेने में, लेकिन नौकरियां लगने के बाद कौन याद करता है? अभी तक जो नौकरी लगे है वो न जाने कहाँ #गायब हैं- हजारों की नौकरी लगने के बाद कोई मिलने नहीं आता, हाँ 4/5 के फ़ोन ज़रूर आये थे, आपको शायद बुरा लगे पर यह 'दुखद अपितु कटु सत्य' है\",\n",
              " 'Dukh Sabki Life me hai.\\nLekin iska matlab ye nahi ki.\\natma hatya karlo...\\nraaste bhut hai dhundna aapko hai konsa sahi konsa galat\\n#sadness #india #TrendingNow #Trending #writerslife #Writers #Twitter #quotes #MessageToTheWorld https://t.co/b8UpBUCMx9',\n",
              " 'GF ko patni samajh rahe ho ?\\n\\nSamjho samjho \\n\\nPhele mai bhi fruit beer ko beer samajhta tha.\\n\\n#divyanshkhatri \\n\\n#fun #Trending #Memes #COVID__19 #Smile',\n",
              " 'आपका नन्हा #PrakharMahto #dadi और #mamma के साथ #Cake कटिंग कर रहा है\\n\\n#children #kids #love #family #baby  #child #parenting #fun  #happy #instagood #parents #cute #babies #photography #art #photooftheday #life… https://t.co/cSWvWqN8IG',\n",
              " 'आज जब चौथी बार\\nगमलो में पानी दिया\\n\\nतो गमले में से एक\\nपौधा बोला -\\n\\nइस लॉक डाउन में\\nहमको डूबाकर ही मानेगा\\nक्या!! 😂😂😂😂\\n\\n#JokeoftheDay\\n#Smile   #go2help\\n#lockdownextension',\n",
              " 'Jaa aur koi zabt ki duniya talaash kar,\\nAe ishq hum to ab tere qabil nahi rahe.\\n - Jigar Moradabadi\\n.\\n.\\n.\\n.\\n.\\n\\n#shayari #ghazal #urdu #poetry #nazm #ashar #indian #shair #india #paki #pakistan #pakistani #pashto #hindi #punjabi #sad #quote #quotes',\n",
              " 'Ek umar guzari hai maine dosto ke sath,\\nAap jeet nahi sakte hain mujhse fareb mein.\\n - Om\\n.\\n.\\n.\\n.\\n.\\n\\n#shayari #ghazal #urdu #poetry #nazm #ashar #indian #shair #india #paki #pakistan #pakistani #pashto #hindi #punjabi #sad #quote #quotes',\n",
              " 'Nahi hogi, to keh denge wafadari nahi hoti.\\nMagar humse talluk mein, adakari nahi hoti.\\n - (na-maloom)\\n.\\n.\\n.\\n.\\n.\\n\\n#shayari #ghazal #urdu #poetry #nazm #ashar #indian #shair #india #paki #pakistan #pakistani #pashto #hindi #punjabi #sad #quote #quotes',\n",
              " 'Mujhe phirse pukaro na mera naam lekar.\\nMujhe mehsus karna hai khudko tumhare hontho par \\n - (na-maloom)\\n.\\n.\\n.\\n.\\n.\\n\\n#shayari #ghazal #urdu #poetry #nazm #ashar #indian #shair #india #paki #pakistan #pakistani #pashto #hindi #punjabi #sad #quote #quotes',\n",
              " 'Mujhe hass kar dard ko chhupana hoga.\\nMujhe udaas maa dekh nahi sakti.\\n - @sabdomara \\n.\\n.\\n.\\n.\\n.\\n\\n#shayari #ghazal #urdu #poetry #nazm #ashar #indian #shair #india #paki #pakistan #pakistani #pashto #hindi #punjabi #sad #quote #quotes',\n",
              " 'Tumko bhi bhulna hai tumhare sheher ko bhi.\\nDono milkar mere zakhm kuredte hain.\\n - Kr Priyanshu\\n.\\n.\\n.\\n.\\n.\\n\\n#shayari #ghazal #urdu #poetry #nazm #ashar #indian #shair #india #paki #pakistan #pakistani #pashto #hindi #punjabi #sad #quote #quotes',\n",
              " 'Tum par marne se behtar tha.\\nHum kisi hadhse mein marr jate.\\n - (na-maloom)\\n.\\n.\\n.\\n.\\n.\\n\\n#shayari #ghazal #urdu #poetry #nazm #ashar #indian #shair #india #paki #pakistan #pakistani #pashto #hindi #punjabi #sad #quote #quotes',\n",
              " 'Umr-a-javani phir kabhi na muskurai bachpan ki tarha.\\nMaine khilone bhi kharide, maine shaitaniya bhi karke dekhi.\\n - (na-maloom)\\n.\\n.\\n.\\n.\\n.\\n\\n#shayari #ghazal #urdu #poetry #nazm #ashar #indian #shair #india #paki #pakistan #pakistani #pashto #hindi #punjabi #sad #quote #quotes',\n",
              " 'Kamyabi k safar mein dhoop badi kaam aayi.\\nChhaoñ agar hoti to so gaye hote.\\n - (na-maloom)\\n.\\n.\\n.\\n.\\n.\\n\\n#shayari #ghazal #urdu #poetry #nazm #ashar #indian #shair #india #paki #pakistan #pakistani #pashto #hindi #punjabi #sad #quote #quotes',\n",
              " 'Aarhe aaye na koi mushkil mein.\\nMashware de k hatt gaye ehbab.\\n - Josh Malihabadi\\n.\\n.\\n.\\n.\\n.\\n\\n#shayari #ghazal #urdu #poetry #nazm #ashar #indian #shair #india #paki #pakistan #pakistani #pashto #hindi #punjabi #sad #quote #quotes',\n",
              " 'Hum waha bhi aapko ankho mein liye phirte hain.\\nLog phenk dete hain jahañ gham ko purana karke.\\n - (na-maloom)\\n.\\n.\\n.\\n.\\n.\\n\\n#shayari #ghazal #urdu #poetry #nazm #ashar #indian #shair #india #paki #pakistan #pakistani #pashto #hindi #punjabi #sad #quote #quotes',\n",
              " 'Uski baarat pheeki pad gai thi,\\nSara gao mere gham mein sharik tha.\\n - (na-maloom)\\n.\\n.\\n.\\n.\\n.\\n\\n#shayari #ghazal #urdu #poetry #nazm #ashar #indian #shair #india #paki #pakistan #pakistani #pashto #hindi #punjabi #sad #quote #quotes',\n",
              " 'Mai batauñ kya wo dastañ, mere dil se kyu wo utar gaya.\\nMere samne koi baat ki, mere samne hi mukar gaya.\\n - (na-maloom)\\n.\\n.\\n.\\n.\\n.\\n\\n#shayari #ghazal #urdu #poetry #nazm #ashar #indian #shair #india #paki #pakistan #pakistani #pashto #hindi #punjabi #sad #quote #quotes',\n",
              " 'Ankho k charagho mein ujale na rahenge\\nAa jao.. k phir dekhne wale na rahenge.\\n - Khumar Barabankvi\\n.\\n.\\n.\\n.\\n.\\n\\n#shayari #ghazal #urdu #poetry #nazm #ashar #indian #shair #india #paki #pakistan #pakistani #pashto #hindi #punjabi #sad #quote #quotes',\n",
              " 'Ab aansu sambhalte nahi hain sambhale\\nTumhari amanat, tumhare hawale.\\n - Khumar Barabankvi\\n.\\n.\\n.\\n.\\n.\\n\\n#shayari #ghazal #urdu #poetry #nazm #ashar #indian #shair #india #paki #pakistan #pakistani #pashto #hindi #punjabi #sad #quote #quotes',\n",
              " 'Ye wafa ki sakht raahein, ye tumhare paa-a-nazuk,\\nNa lo inteqam mujhse, mere sath sath chalke\\n - Khumar Barabankvi\\n.\\n.\\n.\\n.\\n.\\n\\n#shayari #ghazal #urdu #poetry #nazm #ashar #indian #shair #india #paki #pakistan #pakistani #pashto #hindi #punjabi #sad #quote #quotes',\n",
              " \"Zindagi se bohat bad'zan hain.\\nKaash ek baar marr gaye hote.\\n - Jaun Elia\\n.\\n.\\n.\\n.\\n.\\n\\n#shayari #ghazal #urdu #poetry #nazm #ashar #indian #shair #india #paki #pakistan #pakistani #pashto #hindi #punjabi #sad #quote #quotes\",\n",
              " 'Ek naatak hai zindagi jismein...\\nAaah keeje wahh keeje.... - Jaun Elia\\n.\\n.\\n.\\n.\\n.\\n#shayari #ghazal #urdu #poetry #nazm #ashar #indian #shair #india #paki #pakistan #pakistani #pashto #hindi #punjabi #sad #quote #quotes',\n",
              " \"Zindagi mein gham ka aana bhi lazmi tha 'Qahr'\\nYahañ har shay ki muthazad hua karti hai.\\n.\\n.\\n.\\n.\\n.\\n\\n#shayari #ghazal #urdu #poetry #nazm #ashar #indian #shair #india #paki #pakistan #pakistani #pashto #hindi #punjabi #sad #quote #quotes\",\n",
              " 'Hum thehre gunahgaar yaaro...\\nUsse mang raha tha namazi bhi koi.\\n - (na-maloom)\\n.\\n.\\n.\\n.\\n.\\n\\n#shayari #ghazal #urdu #poetry #nazm #ashar #indian #shair #india #paki #pakistan #pakistani #pashto #hindi #punjabi #sad #quote #quotes',\n",
              " 'अखिल भारतीय कांग्रेस पार्टी के पूर्व राष्ट्रीय अध्यक्ष आदरणीय श्री #Rahul #Gandhiजी को जन्मदिन की हार्दिक शुभकामनाएं \\nऔर बधाई\\nमें ईश्वर से आपके दीर्घायु होने, सदैव स्वस्थ एवं प्रसन्न रहने की कामना करता हूँ #HAPPY #BIRTHDAY #RAHUL #GANDHI #JI https://t.co/N7nwTN6cfM',\n",
              " '||\\n         ••••अपने #खिलाफ बातों को अक्सर मैं #ख़ामोशी से सुनती हूँ क्योकि\\nजवाब देने का हक़, मैंने #वक़्त को दे रखा है…\\n               #quote #sadness \\n                                                 ••••||',\n",
              " '#WeekendFun #JokeoftheDay सब रोगों की एक दवाई, हँसना सीखो मेरे भाई इसलिए हमेशा हंसते और मुस्कुराते रहिए खुद हँसिये , दूसरों को हँसाने का जरिया बनिए। #Joke #Smile #Laugh #ketomacoil #ketomacweekendfun #ketomacjoke #patipatnijokes\\nFor more info : https:/www.torqueayurveda.com/ https://t.co/Ws9FYArhIK',\n",
              " 'Kitna bhi Mask laga lo sach aur smile baahar aa hi jati hai !\\n#Truth #SmileUpProject #Smile #mask',\n",
              " '@Munaf_Ali @tasnim_kapadia @snehal4676 @Margrtmacwan @pankaj_2210 @aaravagandhi @Rj_Nakum Wah....\\n\\nअँधेरों में भटकना है #परेशानी में रहना है\\nमैं जुगनू हूँ मुझे इक शब की वीरानी में रहना है\\n\\n#खुशी सिंह \"शाद\"',\n",
              " '#खुशी\\nउड़ती हुई तितली🦋 के जैसी है\\n\\nजिसे पकड़ने के लिए हम जितना दौड़ेंगे ये उतना ही हमसे दूर चली जायेगी..\\nऔर\\n\\nयदि हम शान्त मुद्रा मे 1जगह स्थिर हो जायेंगे तो\\nये खुद पे खुद आपके कंधे के पास बैठ जायेगी\\n\\nखुशी के पीछे भागिए मत...\\nमहसुस कीजिए!🙏\\n\\n#जयश्रीराम\\n#जिन्दगी\\n#ThursdayThoughts',\n",
              " '@Niraz9966 @asadowaisi @PMOIndia #SAD ka kitna seat h..... 2 phir usko bulaya gya h..... Is desh m hamesha se #musalmano k sath bhedbhav hua h',\n",
              " '@Munaf_Ali @tasnim_kapadia @snehal4676 @Margrtmacwan @pankaj_2210 @aaravagandhi @Rj_Nakum Wah....\\n\\nअँधेरों में भटकना है #परेशानी में रहना है\\nमैं जुगनू हूँ मुझे इक शब की वीरानी में रहना है\\n\\n#खुशी सिंह \"शाद\"',\n",
              " '@Niraz9966 @asadowaisi @PMOIndia #SAD ka kitna seat h..... 2 phir usko bulaya gya h..... Is desh m hamesha se #musalmano k sath bhedbhav hua h',\n",
              " 'Samjhre ho na aap 😂🤣\\n\\n#instagram #followｍe #style #follow #instadaily #travel #life #cute #fitness #nature #beauty #girl #fun #photo #amazing #likeforlikes #instalike \\xa0 #selfie #smile #me #lifestyle #model… https://t.co/hFAuedER4S',\n",
              " '#हिन्दुओं यह वही सुशांतसिंह राजपूत थाजो कठुआ रेप में खुदको #हिन्दू होनेपर शर्मिंदा थाऔर #पद्मावती केसमय उन्हें #राजपूत होनेपर शर्म आतीथी जिसने #केदारनाथ मूवीबनाकर #लवजिहाद को बढ़ावादिया जो #jnu का समर्थकरताथा यह #मुल्लो की चमचागिरी नही तो क्या है #दुख मुझेभीहै #RIP (मैं सनातनी)',\n",
              " '#हिन्दुओं यह वही सुशांतसिंह राजपूत थाजो कठुआ रेप में खुदको #हिन्दू होनेपर शर्मिंदा थाऔर #पद्मावती केसमय उन्हें #राजपूत होनेपर शर्म आतीथी जिसने #केदारनाथ मूवीबनाकर #लवजिहाद को बढ़ावादिया जो #jnu का समर्थकरताथा यह #मुल्लो की चमचागिरी नही तो क्या है #दुख मुझेभीहै #RIP (मैं सनातनी)',\n",
              " '#खुशी\\nउड़ती हुई तितली🦋 के जैसी है\\n\\nजिसे पकड़ने के लिए हम जितना दौड़ेंगे ये उतना ही हमसे दूर चली जायेगी..\\nऔर\\n\\nयदि हम शान्त मुद्रा मे 1जगह स्थिर हो जायेंगे तो\\nये खुद पे खुद आपके कंधे के पास बैठ जायेगी\\n\\nखुशी के पीछे भागिए मत...\\nमहसुस कीजिए!🙏\\n\\n#जयश्रीराम\\n#जिन्दगी\\n#ThursdayThoughts',\n",
              " 'मैं एक अच्छा इंसान बनकर खुश रहना चाहता हूं। @itsSSR @SonuSood @AnupamPKher @akshaykumar #suicide #depression #sad #anxiety #mentalhealth #depressed #suicidal #suicideprevention #love #alone #mentalhealthawareness #broken #mentalillness #selfharm #death #sadness #sadedits #help https://t.co/6o6q1mK5I9',\n",
              " \"@RakeshKhatana19 बात आपकी सही है मुझे बहुत #खुशी होगी उस तस्वीर को लेने में, लेकिन नौकरियां लगने के बाद कौन याद करता है? अभी तक जो नौकरी लगे है वो न जाने कहाँ #गायब हैं- हजारों की नौकरी लगने के बाद कोई मिलने नहीं आता, हाँ 4/5 के फ़ोन ज़रूर आये थे, आपको शायद बुरा लगे पर यह 'दुखद अपितु कटु सत्य' है\",\n",
              " '@Munaf_Ali @tasnim_kapadia @snehal4676 @Margrtmacwan @pankaj_2210 @aaravagandhi @Rj_Nakum Wah....\\n\\nअँधेरों में भटकना है #परेशानी में रहना है\\nमैं जुगनू हूँ मुझे इक शब की वीरानी में रहना है\\n\\n#खुशी सिंह \"शाद\"',\n",
              " 'अजनबी तुम्हारा चला जाना मेरी जिंदगी से\\n#दुख का वो पल था जो ठहरा रहा उम्र भर के लिये\\n#केशव\\n#हिंदी_शब्द',\n",
              " \"@RakeshKhatana19 बात आपकी सही है मुझे बहुत #खुशी होगी उस तस्वीर को लेने में, लेकिन नौकरियां लगने के बाद कौन याद करता है? अभी तक जो नौकरी लगे है वो न जाने कहाँ #गायब हैं- हजारों की नौकरी लगने के बाद कोई मिलने नहीं आता, हाँ 4/5 के फ़ोन ज़रूर आये थे, आपको शायद बुरा लगे पर यह 'दुखद अपितु कटु सत्य' है\",\n",
              " '🌹🌹जब दिल #उदास हो तो\\n            🌺हमसे #बातें कर लेना,\\nजब #दिल चाहे तो\\n            🌼#मुलाक़ात कर लेना,\\nरहते हैं #हम आपके \\n            💐#दिल के किसी कोने में,\\nवक़्त मिले तो #तलाश कर लेना..🚶🚶\\n🌹🌿✍💃🏃✍ ❣💓💞💕❣\\n💝💝💝💝💝💝💝💝💝 https://t.co/bBU4MRtx5q',\n",
              " \"@RakeshKhatana19 बात आपकी सही है मुझे बहुत #खुशी होगी उस तस्वीर को लेने में, लेकिन नौकरियां लगने के बाद कौन याद करता है? अभी तक जो नौकरी लगे है वो न जाने कहाँ #गायब हैं- हजारों की नौकरी लगने के बाद कोई मिलने नहीं आता, हाँ 4/5 के फ़ोन ज़रूर आये थे, आपको शायद बुरा लगे पर यह 'दुखद अपितु कटु सत्य' है\",\n",
              " 'आदरणीय महाराज साहब श्रीमंत यशोधरा राजे सिंधिया जी @yashodhararaje जन्मदिन की अनंत शुभकामनाएं, बधाई, प्रणाम🙏🎂🌷आप शतायु हों, ईश्वर आपकी सभी मनोकामना पूर्ण करे ।।\\nआपका आशीर्वाद, विश्वास बना रहे।\\n#Best #wishes \\n#Happy #Birthday #MaharajSahab Ji https://t.co/pALAQnjvlg',\n",
              " 'Kitna bhi Mask laga lo sach aur smile baahar aa hi jati hai !\\n#Truth #SmileUpProject #Smile #mask',\n",
              " 'https://t.co/KKYSyLaLeM 10 दुकानों का 3 महीने का किराया माफ - गिरिधर लाल जी #coronavirus #CoronaWarnApp #COVID19 #StayHome #hope #help #PeacefulProtest #NarendraModi #BJP #NSUI #ContestAlert #Smile #BestPresidentEver #love #PappuDiwas #BrightWinUCanDoIt',\n",
              " 'https://t.co/wbKfHDpfsi टैक्स माफी के लिए बस ऑपरेटर्स ने अशोक गहलोत और खाचरियावास का किया स्वागत एवं दीया धन्यवाद #coronavirus #CoronaWarnApp #COVID19 #StayHome #hope #Indian #NarendraModi #BJP #NSUI #ContestAlert #Smile #BestPresidentEver #love #PappuDiwas #BrightWinUCanDoIt',\n",
              " 'https://t.co/NBNLHpFwgI एनएसयूआई के प्रदेश स्तरीय मुख्यालय पर रक्तदान शिविर का आयोजन - रमेश कुमार भाटी #coronavirus #CoronaWarnApp #COVID19 #StayHome #hope #help #PeacefulProtest #NarendraModi #BJP #NSUI #ContestAlert #Smile #BestPresidentEver #love #PappuDiwas #BrightWinUCanDoIt',\n",
              " '@Munaf_Ali @tasnim_kapadia @snehal4676 @Margrtmacwan @pankaj_2210 @aaravagandhi @Rj_Nakum Wah....\\n\\nअँधेरों में भटकना है #परेशानी में रहना है\\nमैं जुगनू हूँ मुझे इक शब की वीरानी में रहना है\\n\\n#खुशी सिंह \"शाद\"',\n",
              " 'https://t.co/KKYSyLaLeM 10 दुकानों का 3 महीने का किराया माफ - गिरिधर लाल जी #coronavirus #CoronaWarnApp #COVID19 #StayHome #hope #help #PeacefulProtest #NarendraModi #BJP #NSUI #ContestAlert #Smile #BestPresidentEver #love #PappuDiwas #BrightWinUCanDoIt',\n",
              " 'https://t.co/wbKfHDpfsi टैक्स माफी के लिए बस ऑपरेटर्स ने अशोक गहलोत और खाचरियावास का किया स्वागत एवं दीया धन्यवाद #coronavirus #CoronaWarnApp #COVID19 #StayHome #hope #Indian #NarendraModi #BJP #NSUI #ContestAlert #Smile #BestPresidentEver #love #PappuDiwas #BrightWinUCanDoIt',\n",
              " \"@RakeshKhatana19 बात आपकी सही है मुझे बहुत #खुशी होगी उस तस्वीर को लेने में, लेकिन नौकरियां लगने के बाद कौन याद करता है? अभी तक जो नौकरी लगे है वो न जाने कहाँ #गायब हैं- हजारों की नौकरी लगने के बाद कोई मिलने नहीं आता, हाँ 4/5 के फ़ोन ज़रूर आये थे, आपको शायद बुरा लगे पर यह 'दुखद अपितु कटु सत्य' है\",\n",
              " 'https://t.co/NBNLHpFwgI एनएसयूआई के प्रदेश स्तरीय मुख्यालय पर रक्तदान शिविर का आयोजन - रमेश कुमार भाटी #coronavirus #CoronaWarnApp #COVID19 #StayHome #hope #help #PeacefulProtest #NarendraModi #BJP #NSUI #ContestAlert #Smile #BestPresidentEver #love #PappuDiwas #BrightWinUCanDoIt',\n",
              " \"@RakeshKhatana19 बात आपकी सही है मुझे बहुत #खुशी होगी उस तस्वीर को लेने में, लेकिन नौकरियां लगने के बाद कौन याद करता है? अभी तक जो नौकरी लगे है वो न जाने कहाँ #गायब हैं- हजारों की नौकरी लगने के बाद कोई मिलने नहीं आता, हाँ 4/5 के फ़ोन ज़रूर आये थे, आपको शायद बुरा लगे पर यह 'दुखद अपितु कटु सत्य' है\",\n",
              " \"@RakeshKhatana19 बात आपकी सही है मुझे बहुत #खुशी होगी उस तस्वीर को लेने में, लेकिन नौकरियां लगने के बाद कौन याद करता है? अभी तक जो नौकरी लगे है वो न जाने कहाँ #गायब हैं- हजारों की नौकरी लगने के बाद कोई मिलने नहीं आता, हाँ 4/5 के फ़ोन ज़रूर आये थे, आपको शायद बुरा लगे पर यह 'दुखद अपितु कटु सत्य' है\",\n",
              " '@SINGH_PARVEEN19 @sanjaychoyrasiy @AdityaDas01_11 @NehaSin07059148 @0IamAkshay @Arpita81596240 @ashuPra02811302 @vkroy30 @AKB_IND @Sneha__Sharma__ @SanatanBalak भाई #sad क्यों😭',\n",
              " 'आज का दिन.. \\n#जुम्मनो के लिये बहुत बडा दिन है... \\n#जुम्मनो की #खुशी का ठिकाना नहीं होगा... \\nआज तो #दावत वगैरा #partyy #shaartyy चल रही होगी...\\n आज का  दिन बहुत #भारी दिन है जुम्मनो के लिये...बहुत #भारी... #बड़ा..',\n",
              " 'आज का दिन.. \\n#जुम्मनो के लिये बहुत बडा दिन है... \\n#जुम्मनो की #खुशी का ठिकाना नहीं होगा... \\nआज तो #दावत वगैरा #partyy #shaartyy चल रही होगी...\\n आज का  दिन बहुत #भारी दिन है जुम्मनो के लिये...बहुत #भारी... #बड़ा..',\n",
              " '@Munaf_Ali @tasnim_kapadia @snehal4676 @Margrtmacwan @pankaj_2210 @aaravagandhi @Rj_Nakum Wah....\\n\\nअँधेरों में भटकना है #परेशानी में रहना है\\nमैं जुगनू हूँ मुझे इक शब की वीरानी में रहना है\\n\\n#खुशी सिंह \"शाद\"',\n",
              " \"@RakeshKhatana19 बात आपकी सही है मुझे बहुत #खुशी होगी उस तस्वीर को लेने में, लेकिन नौकरियां लगने के बाद कौन याद करता है? अभी तक जो नौकरी लगे है वो न जाने कहाँ #गायब हैं- हजारों की नौकरी लगने के बाद कोई मिलने नहीं आता, हाँ 4/5 के फ़ोन ज़रूर आये थे, आपको शायद बुरा लगे पर यह 'दुखद अपितु कटु सत्य' है\",\n",
              " 'Jo khud nahi samjhe auro ko samjhaya humne 🤣🤣#repost\\nfake_alfaz \\n#motivation #mohabbat #instagram #happy #humanity #goodvibes #ex #lovehurts #ishq #viral #trending https://t.co/LsqhLZLCas',\n",
              " '*#जो व्यक्ति #किसी दूसरे के #चेहरे पर हँसी और जीवन में ख़ुशी लाने की क्षमता रखता है..*🍃\\n*_ईश्वर उसके चेहरे से कभी हँसी और जीवन से #ख़ुशी कम नहीं होने देता।_* https://t.co/xiwmcnyGIT',\n",
              " '@RahulGandhi @INCIndia #Happy Birth Day to Sri Rahul Gandhi Ji',\n",
              " 'अजनबी तुम्हारा चला जाना मेरी जिंदगी से\\n#दुख का वो पल था जो ठहरा रहा उम्र भर के लिये\\n#केशव\\n#हिंदी_शब्द',\n",
              " '*#जो व्यक्ति #किसी दूसरे के #चेहरे पर हँसी और जीवन में ख़ुशी लाने की क्षमता रखता है..*🍃\\n*_ईश्वर उसके चेहरे से कभी हँसी और जीवन से #ख़ुशी कम नहीं होने देता।_* https://t.co/xiwmcnyGIT',\n",
              " 'बार बार ये दिन आए,बार बार दिल ये गाए\\nआप जियों हजारों साल ये मेरी है आरजू\\n#Happy Birthday To You \\n#Rahul Gandhi ji https://t.co/6k1InCyJWG',\n",
              " 'बार बार ये दिन आए,बार बार दिल ये गाए\\nआप जियों हजारों साल ये मेरी है आरजू\\n#Happy Birthday To You \\n#Rahul Gandhi ji https://t.co/6k1InCyJWG',\n",
              " '19 Jun 2020 - श्री श्री राधा माधव शृंगार आरती दर्शन\\n🙌\\nहरे कृष्ण हरे कृष्ण कृष्ण कृष्ण हरे हरे। \\nहरे राम हरे राम राम राम हरे हरे।। 😊\\n#krishna #devotion #love #inspiration #motivation  #photooftheday #fashion #beautiful #happy #cute #iskcon #trending https://t.co/vxjlTPcOmd',\n",
              " 'हमारे नेता राहुल गांधी जी का आज जन्मदिन है लेकिन वह अपना जन्मदिन नहीं मनाएंगे लेकिन हम लोग तो उन्हें बधाई दे सकते हैं #Happy Birthday sir ji 🌹🥀🌷🎂🍰🍨 https://t.co/hUWl7rnchX',\n",
              " 'हमारे नेता राहुल गांधी जी का आज जन्मदिन है लेकिन वह अपना जन्मदिन नहीं मनाएंगे लेकिन हम लोग तो उन्हें बधाई दे सकते हैं #Happy Birthday sir ji 🌹🥀🌷🎂🍰🍨 https://t.co/hUWl7rnchX',\n",
              " '*#जो व्यक्ति #किसी दूसरे के #चेहरे पर हँसी और जीवन में ख़ुशी लाने की क्षमता रखता है..*🍃\\n*_ईश्वर उसके चेहरे से कभी हँसी और जीवन से #ख़ुशी कम नहीं होने देता।_* https://t.co/xiwmcnyGIT',\n",
              " '*#जो व्यक्ति #किसी दूसरे के #चेहरे पर हँसी और जीवन में ख़ुशी लाने की क्षमता रखता है..*🍃\\n*_ईश्वर उसके चेहरे से कभी हँसी और जीवन से #ख़ुशी कम नहीं होने देता।_* https://t.co/xiwmcnyGIT',\n",
              " 'परेशान क्यों होते हो ?\\nअल्लाह है ना संभाल लेगा वह 💪🤲🤲\\n\\n#dua #trust #faith #Allah #iman #difficulties  #happiness \\n#quotes_of_rakibul_islam_salafi\\n#love #TFLers #tweegram #photooftheday  #smile #follow4follow… https://t.co/2plfQlZQMc',\n",
              " '#Happy #Birthday 🎂 \\n हम आपके सुख समृद्ध जीवन की कामना करते हैं, https://t.co/tgpg9bLEiw',\n",
              " '#happy birthday rahul gandhi ji https://t.co/3VyvsqWgsL',\n",
              " '#happy birthday rahul gandhi ji https://t.co/3VyvsqWgsL',\n",
              " '*#ईश्वर #कहते है ….*\\n*किसी को #तकलीफ़ देकर*\\n*मुझसे अपनी ख़ुशी की*\\n*#दुआ मत #करना ,*\\n\\n*#लेकिन …*\\n*अगर किसी को एक पल #की भी*\\n*#ख़ुशी देते हो तो …*\\n*#अपनी तकलीफ़ की*\\n*फ़िक्र मत #करना……*🙏🏼🌹 https://t.co/IUNG6qo48w',\n",
              " 'मेडिटेशन से आता है #आत्मबल\\nऔर\\nआत्मबल से मिलती है #खुशियाँ\\n\\nआत्मबल के हैं अनेक फायदे:-\\n\\n#meditate\\n#meditation https://t.co/FHFuEhbWY7',\n",
              " 'मेडिटेशन से आता है #आत्मबल\\nऔर\\nआत्मबल से मिलती है #खुशियाँ\\n\\nआत्मबल के हैं अनेक फायदे:-\\n\\n#meditate\\n#meditation https://t.co/FHFuEhbWY7',\n",
              " 'मेडिटेशन से आता है #आत्मबल\\nऔर\\nआत्मबल से मिलती है #खुशियाँ\\n\\nआत्मबल के हैं अनेक फायदे:-\\n\\n#meditate\\n#meditation https://t.co/FHFuEhbWY7',\n",
              " '*#ईश्वर #कहते है ….*\\n*किसी को #तकलीफ़ देकर*\\n*मुझसे अपनी ख़ुशी की*\\n*#दुआ मत #करना ,*\\n\\n*#लेकिन …*\\n*अगर किसी को एक पल #की भी*\\n*#ख़ुशी देते हो तो …*\\n*#अपनी तकलीफ़ की*\\n*फ़िक्र मत #करना……*🙏🏼🌹 https://t.co/IUNG6qo48w',\n",
              " 'मेडिटेशन से आता है #आत्मबल\\nऔर\\nआत्मबल से मिलती है #खुशियाँ\\n\\nआत्मबल के हैं अनेक फायदे:-\\n\\n#meditate\\n#meditation https://t.co/FHFuEhbWY7',\n",
              " 'मेडिटेशन से आता है #आत्मबल\\nऔर\\nआत्मबल से मिलती है #खुशियाँ\\n\\nआत्मबल के हैं अनेक फायदे:-\\n\\n#meditate\\n#meditation https://t.co/FHFuEhbWY7',\n",
              " 'मेडिटेशन से आता है #आत्मबल\\nऔर\\nआत्मबल से मिलती है #खुशियाँ\\n\\nआत्मबल के हैं अनेक फायदे:-\\n\\n#meditate\\n#meditation https://t.co/FHFuEhbWY7',\n",
              " 'श्री राहुल गांधी जी को जन्मदिन की हार्दिक बधाई एवं अनंत-अशेष मंगलकामनायें।\\n—नेक नीयत और ग़रीबों के हक़ की हर लड़ाई और हर संघर्ष के सहभागी, विकास के पर्याय और जनता की आवाज़ आदरणीय श्री राहुल गांधी जी इस राष्ट्र के भविष्य निर्माता है।\\n#Happy Birthday RahulGandhiJi Gandhi ji https://t.co/HvLDf8yoqJ',\n",
              " 'मेरे नेता ,  “जननायक” श्री राहुल गाँधी जी को जन्मदिन की हार्दिक बधाई एवं शुभकामनाएं। मैं आपके उत्तम स्वास्थ्य और दीर्घायु की कामना करता हूँ। \\n\\n#Happy #Birthday  @harishrawatcmuk @RahulGandhi @RGWayanadOffice @RTforINDIA @ManishTewari @Allavaru @ghulamnazad @Pramodkhari1 @Pramodk https://t.co/CtHMF5NfxI',\n",
              " '*#ईश्वर #कहते है ….*\\n*किसी को #तकलीफ़ देकर*\\n*मुझसे अपनी ख़ुशी की*\\n*#दुआ मत #करना ,*\\n\\n*#लेकिन …*\\n*अगर किसी को एक पल #की भी*\\n*#ख़ुशी देते हो तो …*\\n*#अपनी तकलीफ़ की*\\n*फ़िक्र मत #करना……*🙏🏼🌹 https://t.co/IUNG6qo48w',\n",
              " 'Ye hai #FaaydeKiBaat\\n\\n#lifestyle #love #life #fitness #instagood #fashion #motivation #photography #like #instagram #photooftheday #follow #gym #travel #health #workout #happy #picoftheday #likeforlikes #beauty #healthy #fit #inspiration #nature #luxury #beautiful #model #bhfyp https://t.co/vEPXmHdE44',\n",
              " 'अब त़ो बेरोजगार योग्य युवाओं  को मानसिक प्रताड़ना से मुक्ति दिजिए, कहीं हम लोग भी न टूट जाए सुशांत जी की तरह \\n#sad #69k_मोडिफिकेशन_पर_19_जून_सुनवाई_सुनिश्चित_कराए_सरकार\\n#69k_मोडिफिकेशन_पर_19_जून_सुनवाई_सुनिश्चित_कराए_सरकार\\n#69k_मोडिफिकेशन_पर_19_जून_सुनवाई_सुनिश्चित_कराए_सरकार',\n",
              " '#HAPPY #BIRTHDAY \\nभारत के युवराज ओर मेरे नेता राहुल गाँधी जी को जन्म दिन की हार्दिक सुभकामनाये 🎈🎂🎂🎂 https://t.co/qvUtqwRQGr',\n",
              " 'वहाँ सलाम को आती है नंगे पाँव बहार \\nखिले हैं फूल जहाँ तेरे मुस्कुराने से! \\n-अहमद मुश्ताक़\\n@SukhanwarS @TasirHasan @AnoorvaSinha @akanksha_aksh \\n #GoodMorningWorld #Smile https://t.co/ss0TWRN6zT',\n",
              " '@RahulGandhi\\n#Happy #Birthday\\nजननायक माननीय श्री राहुल गांधी जी को जन्मदिन की शुभकामनाएं एंव बधाई ।\\n@RahulGandhi\\n@RGWayanadOffice \\n@RajBabbarMP https://t.co/5DfZkKvw4u',\n",
              " 'वहाँ सलाम को आती है नंगे पाँव बहार \\nखिले हैं फूल जहाँ तेरे मुस्कुराने से! \\n-अहमद मुश्ताक़\\n@SukhanwarS @TasirHasan @AnoorvaSinha @akanksha_aksh \\n #GoodMorningWorld #Smile https://t.co/ss0TWRN6zT',\n",
              " 'टूटे कांच की तरह, चकना चुर हो गए,\\nचुभ ना जाए कहीं, इसलिए सबसे दूर हो गए।\\n#sad #life',\n",
              " '@Suraj04364037 Sale #pappu k chamche....gand chaatle apni maalik ki....jhat k baal...betha rh vrna kaan me se itni mwaad nikl dunga ki doctor ko bhi samjh na aayegi....😅😅🤣🤣😂😂 by the way....#happy #pappudiwas...😀😅🤣',\n",
              " '@Suraj04364037 Sale #pappu k chamche....gand chaatle apni maalik ki....jhat k baal...betha rh vrna kaan me se itni mwaad nikl dunga ki doctor ko bhi samjh na aayegi....😅😅🤣🤣😂😂 by the way....#happy #pappudiwas...😀😅🤣',\n",
              " '19 Jun 2020 - श्री श्री राधा माधव मंगल आरती दर्शन\\n🙌\\nहरे कृष्ण हरे कृष्ण कृष्ण कृष्ण हरे हरे। \\nहरे राम हरे राम राम राम हरे हरे।। 😊\\n#krishna #devotion #love #inspiration #motivation  #photooftheday #fashion #beautiful #happy #cute #iskcon #trending https://t.co/rAoCGh156S',\n",
              " 'आदरणीय श्री राहुल गांधी जी को जन्मदिवस की हार्दिक बधाई एवं शुभकामनाएं।\\nमैं ईश्वर से आपके उत्तम स्वास्थ्य एवं दीर्घायु जीवन की कामना करता हूँ।\\n#happy birthday rahul gandhi ji https://t.co/IzZNXU9qox',\n",
              " 'अब त़ो बेरोजगार योग्य युवाओं  को मानसिक प्रताड़ना से मुक्ति दिजिए, कहीं हम लोग भी न टूट जाए सुशांत जी की तरह \\n#sad #69k_मोडिफिकेशन_पर_19_जून_सुनवाई_सुनिश्चित_कराए_सरकार\\n#69k_मोडिफिकेशन_पर_19_जून_सुनवाई_सुनिश्चित_कराए_सरकार\\n#69k_मोडिफिकेशन_पर_19_जून_सुनवाई_सुनिश्चित_कराए_सरकार',\n",
              " 'अब त़ो बेरोजगार योग्य युवाओं  को मानसिक प्रताड़ना से मुक्ति दिजिए, कहीं हम लोग भी न टूट जाए सुशांत जी की तरह \\n#sad #69k_मोडिफिकेशन_पर_19_जून_सुनवाई_सुनिश्चित_कराए_सरकार\\n#69k_मोडिफिकेशन_पर_19_जून_सुनवाई_सुनिश्चित_कराए_सरकार\\n#69k_मोडिफिकेशन_पर_19_जून_सुनवाई_सुनिश्चित_कराए_सरकार',\n",
              " '#जिंदगी कभी #मुश्किल तो कभी  आसान होती हैं ,,,,,💞\\n\\n     #कभी #उफ तो कभी वाह होती हैं,,,,🍁\\n\\n     #ना #भूलना कभी अपनी #SmiLE,, को😊\\n\\n#कयोंकि #इससे ही #हर #मुश्किल आसान होती हैं,,,,,,,,😘\\n\\n                #शुभ सबेरा miत्रों🙏 https://t.co/xgIamL40Df',\n",
              " 'अजनबी तुम्हारा चला जाना मेरी जिंदगी से\\n#दुख का वो पल था जो ठहरा रहा उम्र भर के लिये\\n#केशव\\n#हिंदी_शब्द',\n",
              " '@RahulGandhi #happy birthday# Mr. Rahul Gandhi.........\\nAapko esi gift di jayegi jisase ek baju aalu dalege to dusri aur sona niklega.........',\n",
              " 'अजनबी तुम्हारा चला जाना मेरी जिंदगी से\\n#दुख का वो पल था जो ठहरा रहा उम्र भर के लिये\\n#केशव\\n#हिंदी_शब्द',\n",
              " '@RahulGandhi \\n🍰🍫#HãpPy ẞîRtHDãy 😎🎂 #ẞhaîya 🍰🍫@RahulGandhi \\n\\n#बाबा महाँकाल 🔥का आशीर्वाद सदैव आप पर बना रहे।💐🙏\\nजन्मदिन की बहुत बहुत शुभकामनाये।💐👍😊🎂🎂\\n#जय श्री महाँकाल💐🔥\\n\\n#विकास # मंडलोई 😊💐',\n",
              " 'इसे कहते दोगलापन \\n@SwetaSinghAT\\n\\n #godimedia #modidown #shwetasingh #LatestNews \\n#love #instagood #fashion #photooftheday #beautiful #art #happy #picoftheday\\n#cute #photography #tbt #followme\\n#like4like #nature #travel #style #repost\\n#summer #instagram #instadaily https://t.co/T3T0NTJRE8',\n",
              " 'आदरणीय नेता @RahulGandhi जी को जन्मदिवस की हार्दिक बधाई व शूभकामनाए। आपने सदा गरीब व असहाय लोगो के हको की लङाई लङी।\\nआपने सदा सत्य की लङाई लङी...\\nइस सत्य की यात्रा मे लाखो युवा आपके साथ कन्धे से कन्धा मिलाकर चले।\\nभगवान आपको बहुत सारी खुशिया दे ,\\n#Happy birthday RG Raga https://t.co/R9O9S0beju',\n",
              " 'हर बार #उम्मींदे बेचैन नही करती हे साहब,\\nजब वे पूरी होती हे तो #खुशियां अनंत देती हे..🙏 @narendramodi @ChouhanShivraj @vdsharmabjp @abhilashBJPmp https://t.co/VZPFJiu19a',\n",
              " 'अजनबी तुम्हारा चला जाना मेरी जिंदगी से\\n#दुख का वो पल था जो ठहरा रहा उम्र भर के लिये\\n#केशव\\n#हिंदी_शब्द',\n",
              " 'Harshita \\n.\\n.\\n#sexy #indian #Friday #love #hot #model #fashion #beautiful #like #follow #beauty #cute #girl #photography #fitness #lingerie #girls #photooftheday #picoftheday #art #likeforlikes #followme #pretty #music #followforfollowback #portrait #happy #bhfyp https://t.co/JtLFLifabr',\n",
              " 'Harshita\\n.\\n.\\n#indian #friday #sexy #love #hot #model #fashion #beautiful #like #follow #beauty #cute #girl #photography #instagood  #fitness #instagram #lingerie #girls #photooftheday #picoftheday #art #likeforlikes #followme #pretty #music #followforfollowback #portrait #happy https://t.co/3xK63juWDE',\n",
              " '#जिंदगी कभी #मुश्किल तो कभी  आसान होती हैं ,,,,,💞\\n\\n     #कभी #उफ तो कभी वाह होती हैं,,,,🍁\\n\\n     #ना #भूलना कभी अपनी #SmiLE,, को😊\\n\\n#कयोंकि #इससे ही #हर #मुश्किल आसान होती हैं,,,,,,,,😘\\n\\n                #शुभ सबेरा miत्रों🙏 https://t.co/Pib6dShYiT',\n",
              " 'आदमी अच्छा था यह सुनने के लिए मरना पड़ता हैं...💔\\n\\n#Sad 💔',\n",
              " '#HAPPY #BIRTHDAY \\nभारत के युवराज राहुल गाँधी जी को जन्म दिन की हार्दिक सुभकामनाये 🎂 @RahulGandhi @priyankagandhi @Sumit_DPYC @OmveerYadavINC @IYC_UPWest https://t.co/AGHeNwjCoC',\n",
              " 'अब त़ो बेरोजगार योग्य युवाओं  को मानसिक प्रताड़ना से मुक्ति दिजिए, कहीं हम लोग भी न टूट जाए सुशांत जी की तरह \\n#sad #69k_मोडिफिकेशन_पर_19_जून_सुनवाई_सुनिश्चित_कराए_सरकार\\n#69k_मोडिफिकेशन_पर_19_जून_सुनवाई_सुनिश्चित_कराए_सरकार\\n#69k_मोडिफिकेशन_पर_19_जून_सुनवाई_सुनिश्चित_कराए_सरकार',\n",
              " 'अब त़ो बेरोजगार योग्य युवाओं  को मानसिक प्रताड़ना से मुक्ति दिजिए, कहीं हम लोग भी न टूट जाए सुशांत जी की तरह \\n#sad #69k_मोडिफिकेशन_पर_19_जून_सुनवाई_सुनिश्चित_कराए_सरकार\\n#69k_मोडिफिकेशन_पर_19_जून_सुनवाई_सुनिश्चित_कराए_सरकार\\n#69k_मोडिफिकेशन_पर_19_जून_सुनवाई_सुनिश्चित_कराए_सरकार',\n",
              " '19 Jun 2020 - श्री श्री राधा माधव मंगल आरती दर्शन\\n🙌\\nहरे कृष्ण हरे कृष्ण कृष्ण कृष्ण हरे हरे। \\nहरे राम हरे राम राम राम हरे हरे।। 😊\\n#krishna #devotion #love #inspiration #motivation  #photooftheday #fashion #beautiful #happy #cute #iskcon #trending https://t.co/rAoCGh156S',\n",
              " 'इंतजार उसका करना चाहिए\\nजिसकी आने की उम्मीद हो...\\nउसका इंतजार करके क्या फायदा जो मज़बूरी न होते हुए भी  तुम्हारे लिए आना ही ना चाहता हो।\\n😔😔\\n#life #sad',\n",
              " '@Rahulgandhi#जन्मदिन की #ढेर सारी #बधाई व #शुभकामनाएं  💐💐\\n#Happy🎂 #birthday🎂\\n🎂#जन्मदिन 🎂#मुबारक हो।\\n 🎂#Rahul_gandhi🎂\\n🎂हैप्पी बर्थडे 🎂राहुल जी🎂 https://t.co/6Ia1DEG6n2',\n",
              " '@RahulGandhi #गरीब #मजलूम और #आम_आदमी के #दुख #दर्द के साथी #शांत और #सौम्य_स्वभाव के #अंतर्मुखी_व्यक्तित्व के #धनी #देश के #युवाओं #बेरोजगारों #किसानों मजदूरों\\nके #उज्ज्वल_भविष्य #जनप्रिय_नेता #राहुल_गांधी जी\\nको उनके #जन्म_दिन पर #हार्दिक_बधाई\\nउनकी #दीर्घायु और #उत्तम_स्वास्थ्य की #मंगलकामना',\n",
              " 'Chahe Dukh Ho.�\"\"�👑🔥😉😎\\n•\\n•\\n🌟 #publicfigure #bangladesh #bangladeshi #instagram #trending #tiktok #fyp #viral #friends #smile #instagood #life #popularpic #likeforlike #cute #happy #tbt #fashion #instalike #amazing #style #100likes #adidas #instacool #instafollow #htfla https://t.co/V854WeJEVq',\n",
              " '#खुशी\\nउड़ती हुई तितली🦋 के जैसी है\\n\\nजिसे पकड़ने के लिए हम जितना दौड़ेंगे ये उतना ही हमसे दूर चली जायेगी..\\nऔर\\n\\nयदि हम शान्त मुद्रा मे 1जगह स्थिर हो जायेंगे तो\\nये खुद पे खुद आपके कंधे के पास बैठ जायेगी\\n\\nखुशी के पीछे भागिए मत...\\nमहसुस कीजिए!🙏\\n\\n#जयश्रीराम\\n#जिन्दगी\\n#ThursdayThoughts',\n",
              " 'यह जरूरी नहीं कि आप #हर वक्त #मुस्कुराते रहे #हंसते रहे.\\nकभी-कभी #दिल खोल कर #रोना भी चाहिए जिससे आपके #दुख उसमें बह जाए।',\n",
              " '19 Jun 2020 - श्री श्री राधा माधव मंगल आरती दर्शन\\n🙌\\nहरे कृष्ण हरे कृष्ण कृष्ण कृष्ण हरे हरे। \\nहरे राम हरे राम राम राम हरे हरे।। 😊\\n#krishna #devotion #love #inspiration #motivation  #photooftheday #fashion #beautiful #happy #cute #iskcon #trending https://t.co/rAoCGh156S',\n",
              " '19 Jun 2020 - श्री श्री राधा माधव मंगल आरती दर्शन\\n🙌\\nहरे कृष्ण हरे कृष्ण कृष्ण कृष्ण हरे हरे। \\nहरे राम हरे राम राम राम हरे हरे।। 😊\\n#krishna #devotion #love #inspiration #motivation  #photooftheday #fashion #beautiful #happy #cute #iskcon #trending https://t.co/rAoCGh156S',\n",
              " 'अजनबी तुम्हारा चला जाना मेरी जिंदगी से\\n#दुख का वो पल था जो ठहरा रहा उम्र भर के लिये\\n#केशव\\n#हिंदी_शब्द',\n",
              " 'अजनबी तुम्हारा चला जाना मेरी जिंदगी से\\n#दुख का वो पल था जो ठहरा रहा उम्र भर के लिये\\n#केशव\\n#हिंदी_शब्द',\n",
              " 'अजनबी तुम्हारा चला जाना मेरी जिंदगी से\\n#दुख का वो पल था जो ठहरा रहा उम्र भर के लिये\\n#केशव\\n#हिंदी_शब्द',\n",
              " '@LaxmiMe63042232 @RahulGandhi @SachinPilot @ashokgehlot51 @INCRajasthan @MahilaCongress @priyankagandhi @rohanrgupta @hanumancongress @TikaRamJullyINC #Happy Birthday Rahul Gandhi ji',\n",
              " 'अब त़ो बेरोजगार योग्य युवाओं  को मानसिक प्रताड़ना से मुक्ति दिजिए, कहीं हम लोग भी न टूट जाए सुशांत जी की तरह \\n#sad #69k_मोडिफिकेशन_पर_19_जून_सुनवाई_सुनिश्चित_कराए_सरकार\\n#69k_मोडिफिकेशन_पर_19_जून_सुनवाई_सुनिश्चित_कराए_सरकार\\n#69k_मोडिफिकेशन_पर_19_जून_सुनवाई_सुनिश्चित_कराए_सरकार',\n",
              " 'आज का सुविचार\\n\\n#ManishSai #happy #life #gratitude #gratitudequotes #quotes #studygram #quotes #quotestagram #daily_thoughts_and_quotes #dailythoughts #inspirationalquotes #motivationalquotes #daily #dailymotivation… https://t.co/XpHy3cOZLl',\n",
              " 'अजनबी तुम्हारा चला जाना मेरी जिंदगी से\\n#दुख का वो पल था जो ठहरा रहा उम्र भर के लिये\\n#केशव\\n#हिंदी_शब्द',\n",
              " 'pata tha logon ko \\nmuze andhere se dar lagata hai \\n.\\n.\\n.\\nfir bhi logon ne \\nandhere me hi chodd diya 🙃\\n#Sad #broken_heart_tales #stressed #unhappy',\n",
              " 'Bottle ko muh kyu lagaya 😁😂😅😅😁\\n.\\n.\\n.\\n.\\n.\\n#girl #girls #love #follow #followme #TFLers #lady #swag #hot #me #cute #picoftheday #beautiful #photooftheday #instagood #fun #smile #pretty #hair… https://t.co/1MvBSp1WGU',\n",
              " '#चिंता तो तुम्हें तब होना चाहिए \\nजब तुम अपने आप को नहीं समझते \\n#जिंदगी में कभी #उदास मत होना\\n किसी की बात से निराश मत होना \\nयह जिंदगी #संघर्ष चलती रहेगी \\n   कभी अपने जीने का #अंदाज मत खोना!',\n",
              " '#धर्म की  सबसे सरल व्याख्या #\\n   हमारे कारण किसी भी #आत्मा को \\n         #दुख ना पहुंचे  यही #धर्म है\\n#जय माता की जय गुरुवर की#\\n#bmks\\n#जय_माता_की\\n#shri_shaktiputra_ji_mahraj\\n@bmks_india @bscp_bharat \\n@poojabmks @krishna_bscp @ravigupta109 https://t.co/9TkErOcmFc',\n",
              " 'अजनबी तुम्हारा चला जाना मेरी जिंदगी से\\n#दुख का वो पल था जो ठहरा रहा उम्र भर के लिये\\n#केशव\\n#हिंदी_शब्द',\n",
              " 'Kisi waqt ahtlafat itnay zyada bhar jatay hai ke apko unki yaad to ati per chah Kar bhi unka Hal nai poch saktay💔\\n#brokenaouls #sad #memories',\n",
              " '✨Ek sawera tha jab hans ke uthtay the hum 😃🖤\\n\\nOr aaj kahi baar..\\n\\nBina muskuraye hi shaam ho jati hai..💯💔🖤 #shizaaantweets #sadness',\n",
              " 'pata tha logon ko \\nmuze andhere se dar lagata hai \\n.\\n.\\n.\\nfir bhi logon ne \\nandhere me hi chodd diya 🙃\\n#Sad #broken_heart_tales #stressed #unhappy',\n",
              " 'दिल की आवाज़ में आवाज़ मिलाते रहिए \\nजागते रहिए ज़माने को जगाते रहिए ...\\n- हफ़ीज़ बनारसी #बज़्म @Rekhta \\n#smile #BePositive #BeHappy \\n\\n#GoodMorningTwitterWorld 🌼☕ https://t.co/ymeEEyNc62',\n",
              " 'ना दुनिया खतम हो रही है,\\nऔर ना ये रोज़-रोज़ का रोना \\n\\n#Sad #dailymemes #dailymotivation #zindagi #memesdaily #fun',\n",
              " \"*#जीवेत शरद शतम।।*\\n💐💐💐🎂🎂🎂💐💐💐\\n*हम सबके चहेते माननीय राहुल गांधी जी को जन्म दिवस की बधाई ढेर सारी शुभकामनाएं*\\n#Happy B'Day Rahul Ji\",\n",
              " 'अब त़ो बेरोजगार योग्य युवाओं  को मानसिक प्रताड़ना से मुक्ति दिजिए, कहीं हम लोग भी न टूट जाए सुशांत जी की तरह \\n#sad #69k_मोडिफिकेशन_पर_19_जून_सुनवाई_सुनिश्चित_कराए_सरकार\\n#69k_मोडिफिकेशन_पर_19_जून_सुनवाई_सुनिश्चित_कराए_सरकार\\n#69k_मोडिफिकेशन_पर_19_जून_सुनवाई_सुनिश्चित_कराए_सरकार',\n",
              " 'आज का दिन बहुत ही सुन्दर है क्यू की आज 19-6-2020 को गोरखपुर के माननीय सांसद श्री @ravikishann शुक्ला जी के निजी पी. आर .ओ   पवन दुबे जी @PawanDu11655588  का जन्मदिन है \\n#PROभईया आप को जन्म दिन की बहुत बहुत बधाई हो ❣🎂🎂🍰🍰\\n#Happy #birthday https://t.co/lmZBXJxS2k',\n",
              " 'Kaash tum mere dil sai khele na hote \\n#heartbroken #lovequotes #brokenheart #poetry #feelings #like #sadedits #shayari #heartbreakquotes #life #followforfollowback #loveyourself #explore #heartbrokenquotes #sadness #explorepage #depressed #likeforlikes #SalmankhanGang #ViratKohli https://t.co/MhikZLuVIL',\n",
              " '#HAPPY #BIRTHDAY\\n\\nअजीज मित्र, #बंशीलाल #चौधरी फर्स्ट इण्डिया न्यूज़ संवाददाता बालोतरा, संपादक दिव्य पंचायत समाचार पत्र, सदस्य IFWJ  बालोतरा को जन्मदिवस की हार्दिक बधाई एवं शुभकामनाएं ।।\\n@banshi91\\n\\nआपका शुभचिंतक\\nराजेन्द्र लहुआ बाड़मेर https://t.co/OFIHu3DNCd',\n",
              " \"#जीवेत शरद शतम।।\\nहम सबके चहेते\\nमाननीय राहुल गांधी जी को जन्म दिवस की बधाई ढेर सारी शुभकामनाएं\\nमेरे परिवार एवम मित्रो की ओर से\\n#Happy B'Day Rahul Ji https://t.co/YahRNsczHp\",\n",
              " '# जाति धर्म से ऊपर उठकर करें रक्तदान रक्तदान महादान\\n\\n        ( D. B. D. )= Or =( S. B. D. )( GROUP )\\n#आज #दिनांक 18 जून 2020 को #जिला #सहारनपुर #मानकमऊ #निवासी की रहने वाली एक 14 साल #खुशी नाम की #बेटी #फादर #अनिल… https://t.co/jxLm8UjD6n',\n",
              " 'Meri muskurahat teri muskaan se badi hai\\nJaantey ho kyon?\\n\\n#thought #smile #hindi #random https://t.co/GDWl5AVicQ',\n",
              " '#HAPPY #BIRTHDAY\\n\\nअजीज मित्र, #बंशीलाल #चौधरी फर्स्ट इण्डिया न्यूज़ संवाददाता बालोतरा, संपादक दिव्य पंचायत समाचार पत्र, सदस्य IFWJ  बालोतरा को जन्मदिवस की हार्दिक बधाई एवं शुभकामनाएं ।।\\n@banshi91\\n\\nआपका शुभचिंतक\\nराजेन्द्र लहुआ बाड़मेर https://t.co/OFIHu3DNCd',\n",
              " 'अब त़ो बेरोजगार योग्य युवाओं  को मानसिक प्रताड़ना से मुक्ति दिजिए, कहीं हम लोग भी न टूट जाए सुशांत जी की तरह \\n#sad #69k_मोडिफिकेशन_पर_19_जून_सुनवाई_सुनिश्चित_कराए_सरकार\\n#69k_मोडिफिकेशन_पर_19_जून_सुनवाई_सुनिश्चित_कराए_सरकार\\n#69k_मोडिफिकेशन_पर_19_जून_सुनवाई_सुनिश्चित_कराए_सरकार',\n",
              " 'अजनबी तुम्हारा चला जाना मेरी जिंदगी से\\n#दुख का वो पल था जो ठहरा रहा उम्र भर के लिये\\n#केशव\\n#हिंदी_शब्द',\n",
              " 'अब त़ो बेरोजगार योग्य युवाओं  को मानसिक प्रताड़ना से मुक्ति दिजिए, कहीं हम लोग भी न टूट जाए सुशांत जी की तरह \\n#sad #69k_मोडिफिकेशन_पर_19_जून_सुनवाई_सुनिश्चित_कराए_सरकार\\n#69k_मोडिफिकेशन_पर_19_जून_सुनवाई_सुनिश्चित_कराए_सरकार\\n#69k_मोडिफिकेशन_पर_19_जून_सुनवाई_सुनिश्चित_कराए_सरकार',\n",
              " '@Mili_B_Das गुज़र गया वो वक़्त \\nजब तेरी हसरत थी मुझको, \\nअब तू खुदा भी बन जाए \\nतो भी तेरा सजदा ना करू।\\n#sad #life',\n",
              " 'अब त़ो बेरोजगार योग्य युवाओं  को मानसिक प्रताड़ना से मुक्ति दिजिए, कहीं हम लोग भी न टूट जाए सुशांत जी की तरह \\n#sad #69k_मोडिफिकेशन_पर_19_जून_सुनवाई_सुनिश्चित_कराए_सरकार\\n#69k_मोडिफिकेशन_पर_19_जून_सुनवाई_सुनिश्चित_कराए_सरकार\\n#69k_मोडिफिकेशन_पर_19_जून_सुनवाई_सुनिश्चित_कराए_सरकार',\n",
              " 'अब त़ो बेरोजगार योग्य युवाओं  को मानसिक प्रताड़ना से मुक्ति दिजिए, कहीं हम लोग भी न टूट जाए सुशांत जी की तरह \\n#sad #69k_मोडिफिकेशन_पर_19_जून_सुनवाई_सुनिश्चित_कराए_सरकार\\n#69k_मोडिफिकेशन_पर_19_जून_सुनवाई_सुनिश्चित_कराए_सरकार\\n#69k_मोडिफिकेशन_पर_19_जून_सुनवाई_सुनिश्चित_कराए_सरकार',\n",
              " 'अब त़ो बेरोजगार योग्य युवाओं  को मानसिक प्रताड़ना से मुक्ति दिजिए, कहीं हम लोग भी न टूट जाए सुशांत जी की तरह \\n#sad #69k_मोडिफिकेशन_पर_19_जून_सुनवाई_सुनिश्चित_कराए_सरकार\\n#69k_मोडिफिकेशन_पर_19_जून_सुनवाई_सुनिश्चित_कराए_सरकार\\n#69k_मोडिफिकेशन_पर_19_जून_सुनवाई_सुनिश्चित_कराए_सरकार',\n",
              " ...]"
            ]
          },
          "metadata": {
            "tags": []
          },
          "execution_count": 17
        }
      ]
    },
    {
      "cell_type": "code",
      "metadata": {
        "id": "92DfCfIWwLYM"
      },
      "source": [
        "labels = train_data['Sarcastic']"
      ],
      "execution_count": null,
      "outputs": []
    },
    {
      "cell_type": "code",
      "metadata": {
        "id": "jMM5YRreTT8s"
      },
      "source": [
        "vocab_size = 10000\n",
        "embedding_size = 8\n",
        "max_length = 12\n",
        "trunc_type='post'\n",
        "padding_type = 'post'\n",
        "oov_tok = \"<OOV>\"\n",
        "training_size = 12000"
      ],
      "execution_count": null,
      "outputs": []
    },
    {
      "cell_type": "code",
      "metadata": {
        "id": "FhhVU2GLBIm5"
      },
      "source": [
        "training_sentences = sentences[0:training_size]\n",
        "testing_sentences = sentences[training_size:]\n",
        "training_labels = labels[0:training_size]\n",
        "testing_labels = labels[training_size:]"
      ],
      "execution_count": null,
      "outputs": []
    },
    {
      "cell_type": "code",
      "metadata": {
        "id": "Xj0gth-EB9Yx"
      },
      "source": [
        "tokenizer = Tokenizer(num_words=vocab_size, oov_token=oov_tok)\n",
        "tokenizer.fit_on_texts(training_sentences)\n",
        "\n",
        "word_index = tokenizer.word_index\n",
        "\n",
        "training_sequences = tokenizer.texts_to_sequences(training_sentences)\n",
        "training_padded = pad_sequences(training_sequences, maxlen=max_length, padding=padding_type, truncating=trunc_type)\n",
        "\n",
        "testing_sequences = tokenizer.texts_to_sequences(testing_sentences)\n",
        "testing_padded = pad_sequences(testing_sequences, maxlen=max_length, padding=padding_type, truncating=trunc_type)"
      ],
      "execution_count": null,
      "outputs": []
    },
    {
      "cell_type": "code",
      "metadata": {
        "id": "0j00uHdkCDJ-"
      },
      "source": [
        "training_padded = np.array(training_padded)\n",
        "training_labels = np.array(training_labels)\n",
        "testing_padded = np.array(testing_padded)\n",
        "testing_labels = np.array(testing_labels)"
      ],
      "execution_count": null,
      "outputs": []
    },
    {
      "cell_type": "code",
      "metadata": {
        "colab": {
          "base_uri": "https://localhost:8080/"
        },
        "id": "QCdNxTw0x0Tv",
        "outputId": "e0804482-8e3b-4956-f2f8-bb369be3571a"
      },
      "source": [
        "training_padded"
      ],
      "execution_count": null,
      "outputs": [
        {
          "output_type": "execute_result",
          "data": {
            "text/plain": [
              "array([[ 970,   49,   56, ..., 1315,    9, 1636],\n",
              "       [2558,    8, 4958, ...,    4,    5, 4962],\n",
              "       [4638,  734, 3156, ..., 1148, 1620, 2465],\n",
              "       ...,\n",
              "       [  40,  197,    7, ...,  241,    8,  189],\n",
              "       [  40,  197,    7, ...,  241,    8,  189],\n",
              "       [  40,  197,    7, ...,  241,    8,  189]], dtype=int32)"
            ]
          },
          "metadata": {
            "tags": []
          },
          "execution_count": 23
        }
      ]
    },
    {
      "cell_type": "code",
      "metadata": {
        "colab": {
          "base_uri": "https://localhost:8080/"
        },
        "id": "oTJcdmQtx3G_",
        "outputId": "368b5332-a048-44d8-d9aa-aa9755e31e5a"
      },
      "source": [
        "training_labels"
      ],
      "execution_count": null,
      "outputs": [
        {
          "output_type": "execute_result",
          "data": {
            "text/plain": [
              "array([0, 0, 0, ..., 1, 1, 1])"
            ]
          },
          "metadata": {
            "tags": []
          },
          "execution_count": 24
        }
      ]
    },
    {
      "cell_type": "code",
      "metadata": {
        "colab": {
          "base_uri": "https://localhost:8080/"
        },
        "id": "yeveb1brx51O",
        "outputId": "54424f24-6a2a-439e-f13c-aa3be8cabb43"
      },
      "source": [
        "testing_padded"
      ],
      "execution_count": null,
      "outputs": [
        {
          "output_type": "execute_result",
          "data": {
            "text/plain": [
              "array([[  40,  197,    7, ...,  241,    8,  189],\n",
              "       [  40,  197,    7, ...,  241,    8,  189],\n",
              "       [  40,  197,    7, ...,  241,    8,  189],\n",
              "       ...,\n",
              "       [9361,  137, 4956, ..., 4677, 2101,  527],\n",
              "       [9363, 9364,  601, ..., 3171,  609,  783],\n",
              "       [2077,  156, 4957, ...,  156, 4957,  174]], dtype=int32)"
            ]
          },
          "metadata": {
            "tags": []
          },
          "execution_count": 25
        }
      ]
    },
    {
      "cell_type": "code",
      "metadata": {
        "colab": {
          "base_uri": "https://localhost:8080/"
        },
        "id": "rHkBlzzYTX1X",
        "outputId": "ac2be382-1009-46e0-827d-13ae00210b13"
      },
      "source": [
        "model = tf.keras.Sequential([\n",
        "    tf.keras.layers.Embedding(vocab_size, embedding_size, input_length=max_length),\n",
        "    tf.keras.layers.Bidirectional(tf.keras.layers.LSTM(64,  return_sequences=True)),\n",
        "    tf.keras.layers.Bidirectional(tf.keras.layers.LSTM(32)),\n",
        "    tf.keras.layers.Dense(64, activation='relu'),\n",
        "    tf.keras.layers.Dropout(0.5),\n",
        "    tf.keras.layers.Dense(1, activation='sigmoid')\n",
        "])\n",
        "model.compile(loss=tf.keras.losses.BinaryCrossentropy(),\n",
        "              optimizer=tf.keras.optimizers.Adam(1e-5),\n",
        "              metrics=['accuracy'])\n",
        "model.summary()"
      ],
      "execution_count": null,
      "outputs": [
        {
          "output_type": "stream",
          "text": [
            "Model: \"sequential\"\n",
            "_________________________________________________________________\n",
            "Layer (type)                 Output Shape              Param #   \n",
            "=================================================================\n",
            "embedding (Embedding)        (None, 12, 8)             80000     \n",
            "_________________________________________________________________\n",
            "bidirectional (Bidirectional (None, 12, 128)           37376     \n",
            "_________________________________________________________________\n",
            "bidirectional_1 (Bidirection (None, 64)                41216     \n",
            "_________________________________________________________________\n",
            "dense (Dense)                (None, 64)                4160      \n",
            "_________________________________________________________________\n",
            "dropout (Dropout)            (None, 64)                0         \n",
            "_________________________________________________________________\n",
            "dense_1 (Dense)              (None, 1)                 65        \n",
            "=================================================================\n",
            "Total params: 162,817\n",
            "Trainable params: 162,817\n",
            "Non-trainable params: 0\n",
            "_________________________________________________________________\n"
          ],
          "name": "stdout"
        }
      ]
    },
    {
      "cell_type": "code",
      "metadata": {
        "colab": {
          "base_uri": "https://localhost:8080/"
        },
        "id": "T6ExosvlTZve",
        "outputId": "6b7005ff-567c-462c-cd73-d8d3085cdbe6"
      },
      "source": [
        "num_epochs = 10\n",
        "history = model.fit(training_padded,training_labels, epochs=num_epochs, validation_data=(testing_padded,testing_labels), verbose=1)"
      ],
      "execution_count": null,
      "outputs": [
        {
          "output_type": "stream",
          "text": [
            "Epoch 1/10\n",
            "375/375 [==============================] - 12s 21ms/step - loss: 0.6739 - accuracy: 0.8411 - val_loss: 0.7677 - val_accuracy: 0.0000e+00\n",
            "Epoch 2/10\n",
            "375/375 [==============================] - 7s 17ms/step - loss: 0.5684 - accuracy: 0.8440 - val_loss: 1.2349 - val_accuracy: 0.0000e+00\n",
            "Epoch 3/10\n",
            "375/375 [==============================] - 6s 17ms/step - loss: 0.4202 - accuracy: 0.8440 - val_loss: 1.7323 - val_accuracy: 0.0000e+00\n",
            "Epoch 4/10\n",
            "375/375 [==============================] - 6s 17ms/step - loss: 0.3765 - accuracy: 0.8440 - val_loss: 1.5701 - val_accuracy: 0.0000e+00\n",
            "Epoch 5/10\n",
            "375/375 [==============================] - 7s 17ms/step - loss: 0.3237 - accuracy: 0.8440 - val_loss: 1.3826 - val_accuracy: 0.0000e+00\n",
            "Epoch 6/10\n",
            "375/375 [==============================] - 6s 17ms/step - loss: 0.2635 - accuracy: 0.8718 - val_loss: 1.2069 - val_accuracy: 0.5020\n",
            "Epoch 7/10\n",
            "375/375 [==============================] - 6s 17ms/step - loss: 0.2259 - accuracy: 0.9247 - val_loss: 1.0485 - val_accuracy: 0.5255\n",
            "Epoch 8/10\n",
            "375/375 [==============================] - 7s 17ms/step - loss: 0.1918 - accuracy: 0.9371 - val_loss: 0.9038 - val_accuracy: 0.6411\n",
            "Epoch 9/10\n",
            "375/375 [==============================] - 6s 17ms/step - loss: 0.1613 - accuracy: 0.9467 - val_loss: 0.7555 - val_accuracy: 0.6765\n",
            "Epoch 10/10\n",
            "375/375 [==============================] - 6s 17ms/step - loss: 0.1325 - accuracy: 0.9559 - val_loss: 0.6023 - val_accuracy: 0.7607\n"
          ],
          "name": "stdout"
        }
      ]
    },
    {
      "cell_type": "code",
      "metadata": {
        "id": "ALu7l6HATv8n"
      },
      "source": [
        "import matplotlib.pyplot as plt\n",
        "\n",
        "def plot_graphs(history, string):\n",
        "  plt.plot(history.history[string])\n",
        "  plt.plot(history.history['val_'+string])\n",
        "  plt.xlabel(\"Epochs\")\n",
        "  plt.ylabel(string)\n",
        "  plt.legend([string, 'val_'+string])\n",
        "  plt.show()"
      ],
      "execution_count": null,
      "outputs": []
    },
    {
      "cell_type": "code",
      "metadata": {
        "colab": {
          "base_uri": "https://localhost:8080/",
          "height": 279
        },
        "id": "-J5pb3DWTxsy",
        "outputId": "8b08135b-df75-4bdd-9176-f59ce977d9c2"
      },
      "source": [
        "plot_graphs(history, 'accuracy')"
      ],
      "execution_count": null,
      "outputs": [
        {
          "output_type": "display_data",
          "data": {
            "image/png": "[encoded data removed]",
            "text/plain": [
              "<Figure size 432x288 with 1 Axes>"
            ]
          },
          "metadata": {
            "tags": []
          }
        }
      ]
    },
    {
      "cell_type": "code",
      "metadata": {
        "colab": {
          "base_uri": "https://localhost:8080/",
          "height": 279
        },
        "id": "x4ObM6eUTyF3",
        "outputId": "c1bb9e7a-1219-44ae-ff97-c187f48bd656"
      },
      "source": [
        "plot_graphs(history, 'loss')"
      ],
      "execution_count": null,
      "outputs": [
        {
          "output_type": "display_data",
          "data": {
            "image/png": "[encoded data removed]",
            "text/plain": [
              "<Figure size 432x288 with 1 Axes>"
            ]
          },
          "metadata": {
            "tags": []
          }
        }
      ]
    },
    {
      "cell_type": "code",
      "metadata": {
        "colab": {
          "base_uri": "https://localhost:8080/"
        },
        "id": "ReF4r-Q7Xd5t",
        "outputId": "ae7c5928-9037-4154-f935-a00f7d9ba91f"
      },
      "source": [
        "!mkdir -p saved_model_bi_lstm\n",
        "model.save('/content/drive/MyDrive/Sarcasm Detection - 8th Sem/Hindi Models/saved_model_bi_lstm/my_model')"
      ],
      "execution_count": null,
      "outputs": [
        {
          "output_type": "stream",
          "text": [
            "WARNING:absl:Found untraced functions such as lstm_cell_21_layer_call_and_return_conditional_losses, lstm_cell_21_layer_call_fn, lstm_cell_22_layer_call_and_return_conditional_losses, lstm_cell_22_layer_call_fn, lstm_cell_24_layer_call_and_return_conditional_losses while saving (showing 5 of 20). These functions will not be directly callable after loading.\n"
          ],
          "name": "stderr"
        },
        {
          "output_type": "stream",
          "text": [
            "INFO:tensorflow:Assets written to: /content/drive/MyDrive/Sarcasm Detection - 8th Sem/Hindi Models/saved_model_bi_lstm/my_model/assets\n"
          ],
          "name": "stdout"
        },
        {
          "output_type": "stream",
          "text": [
            "INFO:tensorflow:Assets written to: /content/drive/MyDrive/Sarcasm Detection - 8th Sem/Hindi Models/saved_model_bi_lstm/my_model/assets\n"
          ],
          "name": "stderr"
        }
      ]
    },
    {
      "cell_type": "code",
      "metadata": {
        "colab": {
          "base_uri": "https://localhost:8080/"
        },
        "id": "9Gz5xO8OXd5v",
        "outputId": "61ed5acb-3d89-464c-f775-f92b740b9c60"
      },
      "source": [
        "!ls '/content/drive/MyDrive/Sarcasm Detection - 8th Sem/Hindi Models/saved_model_bi_lstm/my_model'"
      ],
      "execution_count": null,
      "outputs": [
        {
          "output_type": "stream",
          "text": [
            "assets\tkeras_metadata.pb  saved_model.pb  variables\n"
          ],
          "name": "stdout"
        }
      ]
    },
    {
      "cell_type": "code",
      "metadata": {
        "id": "H7GK4fT3Xd5v"
      },
      "source": [
        "new_model = tf.keras.models.load_model('/content/drive/MyDrive/Sarcasm Detection - 8th Sem/Hindi Models/saved_model_bi_lstm/my_model')"
      ],
      "execution_count": null,
      "outputs": []
    },
    {
      "cell_type": "code",
      "metadata": {
        "colab": {
          "base_uri": "https://localhost:8080/"
        },
        "id": "k1CqZy5SXd5w",
        "outputId": "0d1f1639-dd32-4268-c61f-54ecf8fb4727"
      },
      "source": [
        "loss, acc = new_model.evaluate(testing_padded, testing_labels,verbose=1)\n",
        "print('Restored model, accuracy: {:5.2f}%'.format(100 * acc))"
      ],
      "execution_count": null,
      "outputs": [
        {
          "output_type": "stream",
          "text": [
            "131/131 [==============================] - 2s 7ms/step - loss: 0.7534 - accuracy: 0.6860\n",
            "Restored model, accuracy: 68.60%\n"
          ],
          "name": "stdout"
        }
      ]
    },
    {
      "cell_type": "code",
      "metadata": {
        "colab": {
          "base_uri": "https://localhost:8080/"
        },
        "id": "na94Mq0TJDC5",
        "outputId": "c890f5ab-ef5a-4a66-bcf1-038e77b24bd2"
      },
      "source": [
        "model_2 = tf.keras.Sequential([\n",
        "    tf.keras.layers.Embedding(vocab_size, embedding_size, input_length=max_length),\n",
        "    tf.keras.layers.LSTM(64),\n",
        "    tf.keras.layers.Dense(64, activation='relu'),\n",
        "    tf.keras.layers.Dropout(0.5),\n",
        "    tf.keras.layers.Dense(1, activation='sigmoid')\n",
        "])\n",
        "model_2.compile(loss=tf.keras.losses.BinaryCrossentropy(),\n",
        "              optimizer=tf.keras.optimizers.Adam(1e-5),\n",
        "              metrics=['accuracy'])\n",
        "model_2.summary()"
      ],
      "execution_count": null,
      "outputs": [
        {
          "output_type": "stream",
          "text": [
            "Model: \"sequential_5\"\n",
            "_________________________________________________________________\n",
            "Layer (type)                 Output Shape              Param #   \n",
            "=================================================================\n",
            "embedding_5 (Embedding)      (None, 12, 8)             80000     \n",
            "_________________________________________________________________\n",
            "lstm_6 (LSTM)                (None, 64)                18688     \n",
            "_________________________________________________________________\n",
            "dense_10 (Dense)             (None, 64)                4160      \n",
            "_________________________________________________________________\n",
            "dropout_5 (Dropout)          (None, 64)                0         \n",
            "_________________________________________________________________\n",
            "dense_11 (Dense)             (None, 1)                 65        \n",
            "=================================================================\n",
            "Total params: 102,913\n",
            "Trainable params: 102,913\n",
            "Non-trainable params: 0\n",
            "_________________________________________________________________\n"
          ],
          "name": "stdout"
        }
      ]
    },
    {
      "cell_type": "code",
      "metadata": {
        "colab": {
          "base_uri": "https://localhost:8080/"
        },
        "id": "cqLbhHrdJqkX",
        "outputId": "a3334bf4-19fe-400f-f3f0-15985bf4399c"
      },
      "source": [
        "num_epochs = 10\n",
        "history_2 = model_2.fit(training_padded, training_labels, epochs=num_epochs, validation_data=(testing_padded, testing_labels), verbose=1)\n",
        "\n",
        "#verbose=0 will show you nothing (silent)\n",
        "\n",
        "# verbose=1 will show you an animated progress bar like this:\n",
        "\n",
        "#progres_bar : [=========>......]\n",
        "\n",
        "#verbose=2 will just mention the number of epoch like this:\n",
        "\n",
        "# 1/10.."
      ],
      "execution_count": null,
      "outputs": [
        {
          "output_type": "stream",
          "text": [
            "Epoch 1/10\n",
            "375/375 [==============================] - 6s 11ms/step - loss: 0.6857 - accuracy: 0.7919 - val_loss: 0.7196 - val_accuracy: 0.0000e+00\n",
            "Epoch 2/10\n",
            "375/375 [==============================] - 4s 10ms/step - loss: 0.6516 - accuracy: 0.8440 - val_loss: 0.8124 - val_accuracy: 0.0000e+00\n",
            "Epoch 3/10\n",
            "375/375 [==============================] - 4s 10ms/step - loss: 0.5394 - accuracy: 0.8440 - val_loss: 1.2811 - val_accuracy: 0.0000e+00\n",
            "Epoch 4/10\n",
            "375/375 [==============================] - 4s 10ms/step - loss: 0.4056 - accuracy: 0.8440 - val_loss: 1.6538 - val_accuracy: 0.0000e+00\n",
            "Epoch 5/10\n",
            "375/375 [==============================] - 4s 10ms/step - loss: 0.3641 - accuracy: 0.8440 - val_loss: 1.5575 - val_accuracy: 0.0000e+00\n",
            "Epoch 6/10\n",
            "375/375 [==============================] - 4s 10ms/step - loss: 0.3227 - accuracy: 0.8440 - val_loss: 1.4128 - val_accuracy: 0.0000e+00\n",
            "Epoch 7/10\n",
            "375/375 [==============================] - 4s 10ms/step - loss: 0.2795 - accuracy: 0.8472 - val_loss: 1.2532 - val_accuracy: 0.3585\n",
            "Epoch 8/10\n",
            "375/375 [==============================] - 4s 10ms/step - loss: 0.2439 - accuracy: 0.9070 - val_loss: 1.1963 - val_accuracy: 0.5205\n",
            "Epoch 9/10\n",
            "375/375 [==============================] - 4s 11ms/step - loss: 0.2211 - accuracy: 0.9271 - val_loss: 1.0444 - val_accuracy: 0.5238\n",
            "Epoch 10/10\n",
            "375/375 [==============================] - 4s 10ms/step - loss: 0.1937 - accuracy: 0.9341 - val_loss: 0.9128 - val_accuracy: 0.6143\n"
          ],
          "name": "stdout"
        }
      ]
    },
    {
      "cell_type": "code",
      "metadata": {
        "id": "2j6vEv5wJKQl"
      },
      "source": [
        "import matplotlib.pyplot as plt\n",
        "\n",
        "def plot_graphs(history, string):\n",
        "  plt.plot(history_2.history[string])\n",
        "  plt.plot(history_2.history['val_'+string])\n",
        "  plt.xlabel(\"Epochs\")\n",
        "  plt.ylabel(string)\n",
        "  plt.legend([string, 'val_'+string])\n",
        "  plt.show()"
      ],
      "execution_count": null,
      "outputs": []
    },
    {
      "cell_type": "code",
      "metadata": {
        "colab": {
          "base_uri": "https://localhost:8080/",
          "height": 279
        },
        "id": "-Nx91rYTJKQm",
        "outputId": "1947c8a6-1918-43b0-e762-ef55574e48ac"
      },
      "source": [
        "plot_graphs(history_2, 'accuracy')"
      ],
      "execution_count": null,
      "outputs": [
        {
          "output_type": "display_data",
          "data": {
            "image/png": "[encoded data removed]",
            "text/plain": [
              "<Figure size 432x288 with 1 Axes>"
            ]
          },
          "metadata": {
            "tags": []
          }
        }
      ]
    },
    {
      "cell_type": "code",
      "metadata": {
        "colab": {
          "base_uri": "https://localhost:8080/",
          "height": 279
        },
        "id": "88N4Jk5oJKQo",
        "outputId": "7defc411-b0a4-4adc-aa0d-122627bbb268"
      },
      "source": [
        "plot_graphs(history_2, 'loss')"
      ],
      "execution_count": null,
      "outputs": [
        {
          "output_type": "display_data",
          "data": {
            "image/png": "[encoded data removed]",
            "text/plain": [
              "<Figure size 432x288 with 1 Axes>"
            ]
          },
          "metadata": {
            "tags": []
          }
        }
      ]
    },
    {
      "cell_type": "code",
      "metadata": {
        "colab": {
          "base_uri": "https://localhost:8080/"
        },
        "id": "5Yb5pllCrNmq",
        "outputId": "f49e3ad5-848c-4a8e-98a3-c1b85d582ed3"
      },
      "source": [
        "!mkdir -p saved_model_lstm\n",
        "model_2.save('/content/drive/MyDrive/Sarcasm Detection - 8th Sem/Hindi Models/saved_model_lstm/my_model')"
      ],
      "execution_count": null,
      "outputs": [
        {
          "output_type": "stream",
          "text": [
            "WARNING:absl:Found untraced functions such as lstm_cell_32_layer_call_and_return_conditional_losses, lstm_cell_32_layer_call_fn, lstm_cell_32_layer_call_fn, lstm_cell_32_layer_call_and_return_conditional_losses, lstm_cell_32_layer_call_and_return_conditional_losses while saving (showing 5 of 5). These functions will not be directly callable after loading.\n"
          ],
          "name": "stderr"
        },
        {
          "output_type": "stream",
          "text": [
            "INFO:tensorflow:Assets written to: /content/drive/MyDrive/Sarcasm Detection - 8th Sem/Hindi Models/saved_model_lstm/my_model/assets\n"
          ],
          "name": "stdout"
        },
        {
          "output_type": "stream",
          "text": [
            "INFO:tensorflow:Assets written to: /content/drive/MyDrive/Sarcasm Detection - 8th Sem/Hindi Models/saved_model_lstm/my_model/assets\n"
          ],
          "name": "stderr"
        }
      ]
    },
    {
      "cell_type": "code",
      "metadata": {
        "colab": {
          "base_uri": "https://localhost:8080/"
        },
        "id": "ASwxpDL6rNmr",
        "outputId": "0b43cb62-1a51-4cc7-9f88-6b8876342e59"
      },
      "source": [
        "!ls '/content/drive/MyDrive/Sarcasm Detection - 8th Sem/Hindi Models/saved_model_lstm/my_model'"
      ],
      "execution_count": null,
      "outputs": [
        {
          "output_type": "stream",
          "text": [
            "assets\tkeras_metadata.pb  saved_model.pb  variables\n"
          ],
          "name": "stdout"
        }
      ]
    },
    {
      "cell_type": "code",
      "metadata": {
        "id": "VH4WqkKBrNmr"
      },
      "source": [
        "new_model_2 = tf.keras.models.load_model('/content/drive/MyDrive/Sarcasm Detection - 8th Sem/Hindi Models/saved_model_lstm/my_model')"
      ],
      "execution_count": null,
      "outputs": []
    },
    {
      "cell_type": "code",
      "metadata": {
        "colab": {
          "base_uri": "https://localhost:8080/"
        },
        "id": "7QN4-zhHrNms",
        "outputId": "9879f3b4-822e-49b5-de2a-3f6625e9e94c"
      },
      "source": [
        "loss, acc = new_model_2.evaluate(testing_padded, testing_labels,verbose=1)\n",
        "print('Restored model, accuracy: {:5.2f}%'.format(100 * acc))"
      ],
      "execution_count": null,
      "outputs": [
        {
          "output_type": "stream",
          "text": [
            "131/131 [==============================] - 1s 3ms/step - loss: 0.9128 - accuracy: 0.6143\n",
            "Restored model, accuracy: 61.43%\n"
          ],
          "name": "stdout"
        }
      ]
    },
    {
      "cell_type": "code",
      "metadata": {
        "colab": {
          "base_uri": "https://localhost:8080/"
        },
        "id": "LqSPuAADKHnY",
        "outputId": "d60cb3d6-4053-46c7-9694-117446b1951a"
      },
      "source": [
        "model_3 = tf.keras.Sequential([\n",
        "    tf.keras.layers.Embedding(vocab_size, embedding_size, input_length=max_length),\n",
        "    tf.keras.layers.Bidirectional(tf.keras.layers.LSTM(64)),\n",
        "    tf.keras.layers.Dense(64, activation='relu'),\n",
        "    tf.keras.layers.Dropout(0.5),\n",
        "    tf.keras.layers.Dense(1, activation='sigmoid')\n",
        "])\n",
        "model_3.compile(loss=tf.keras.losses.BinaryCrossentropy(),\n",
        "              optimizer=tf.keras.optimizers.Adam(1e-5),\n",
        "              metrics=['accuracy'])\n",
        "model_3.summary()"
      ],
      "execution_count": null,
      "outputs": [
        {
          "output_type": "stream",
          "text": [
            "Model: \"sequential_6\"\n",
            "_________________________________________________________________\n",
            "Layer (type)                 Output Shape              Param #   \n",
            "=================================================================\n",
            "embedding_6 (Embedding)      (None, 12, 8)             80000     \n",
            "_________________________________________________________________\n",
            "bidirectional_5 (Bidirection (None, 128)               37376     \n",
            "_________________________________________________________________\n",
            "dense_12 (Dense)             (None, 64)                8256      \n",
            "_________________________________________________________________\n",
            "dropout_6 (Dropout)          (None, 64)                0         \n",
            "_________________________________________________________________\n",
            "dense_13 (Dense)             (None, 1)                 65        \n",
            "=================================================================\n",
            "Total params: 125,697\n",
            "Trainable params: 125,697\n",
            "Non-trainable params: 0\n",
            "_________________________________________________________________\n"
          ],
          "name": "stdout"
        }
      ]
    },
    {
      "cell_type": "code",
      "metadata": {
        "colab": {
          "base_uri": "https://localhost:8080/"
        },
        "id": "PfmqDVRyJuk2",
        "outputId": "386b38ec-d313-4d3f-ec4a-dbcf58ba52b7"
      },
      "source": [
        "num_epochs = 10\n",
        "history_3 = model_3.fit(training_padded, training_labels, epochs=num_epochs, validation_data=(testing_padded, testing_labels), verbose=1)\n",
        "\n",
        "#verbose=0 will show you nothing (silent)\n",
        "\n",
        "# verbose=1 will show you an animated progress bar like this:\n",
        "\n",
        "#progres_bar : [=========>......]\n",
        "\n",
        "#verbose=2 will just mention the number of epoch like this:\n",
        "\n",
        "# 1/10.."
      ],
      "execution_count": null,
      "outputs": [
        {
          "output_type": "stream",
          "text": [
            "Epoch 1/10\n",
            "375/375 [==============================] - 9s 16ms/step - loss: 0.6814 - accuracy: 0.8163 - val_loss: 0.7363 - val_accuracy: 0.0000e+00\n",
            "Epoch 2/10\n",
            "375/375 [==============================] - 5s 14ms/step - loss: 0.6294 - accuracy: 0.8440 - val_loss: 0.8993 - val_accuracy: 0.0000e+00\n",
            "Epoch 3/10\n",
            "375/375 [==============================] - 5s 14ms/step - loss: 0.5005 - accuracy: 0.8440 - val_loss: 1.4902 - val_accuracy: 0.0000e+00\n",
            "Epoch 4/10\n",
            "375/375 [==============================] - 5s 13ms/step - loss: 0.4165 - accuracy: 0.8440 - val_loss: 1.7217 - val_accuracy: 0.0000e+00\n",
            "Epoch 5/10\n",
            "375/375 [==============================] - 5s 13ms/step - loss: 0.3877 - accuracy: 0.8440 - val_loss: 1.6254 - val_accuracy: 0.0000e+00\n",
            "Epoch 6/10\n",
            "375/375 [==============================] - 5s 13ms/step - loss: 0.3486 - accuracy: 0.8440 - val_loss: 1.4780 - val_accuracy: 0.0000e+00\n",
            "Epoch 7/10\n",
            "375/375 [==============================] - 5s 13ms/step - loss: 0.3018 - accuracy: 0.8440 - val_loss: 1.2994 - val_accuracy: 0.0000e+00\n",
            "Epoch 8/10\n",
            "375/375 [==============================] - 5s 14ms/step - loss: 0.2544 - accuracy: 0.8904 - val_loss: 1.1704 - val_accuracy: 0.3987\n",
            "Epoch 9/10\n",
            "375/375 [==============================] - 5s 14ms/step - loss: 0.2206 - accuracy: 0.9253 - val_loss: 1.0563 - val_accuracy: 0.5255\n",
            "Epoch 10/10\n",
            "375/375 [==============================] - 5s 14ms/step - loss: 0.1899 - accuracy: 0.9320 - val_loss: 0.8788 - val_accuracy: 0.6159\n"
          ],
          "name": "stdout"
        }
      ]
    },
    {
      "cell_type": "code",
      "metadata": {
        "id": "OFqlsh5NKQoh"
      },
      "source": [
        "import matplotlib.pyplot as plt\n",
        "\n",
        "def plot_graphs(history, string):\n",
        "  plt.plot(history_3.history[string])\n",
        "  plt.plot(history_3.history['val_'+string])\n",
        "  plt.xlabel(\"Epochs\")\n",
        "  plt.ylabel(string)\n",
        "  plt.legend([string, 'val_'+string])\n",
        "  plt.show()"
      ],
      "execution_count": null,
      "outputs": []
    },
    {
      "cell_type": "code",
      "metadata": {
        "colab": {
          "base_uri": "https://localhost:8080/",
          "height": 279
        },
        "id": "zWYA9rieKSMx",
        "outputId": "5f6092fe-078a-4f35-a922-93974555c2b5"
      },
      "source": [
        "plot_graphs(history_3, 'accuracy')"
      ],
      "execution_count": null,
      "outputs": [
        {
          "output_type": "display_data",
          "data": {
            "image/png": "[encoded data removed]",
            "text/plain": [
              "<Figure size 432x288 with 1 Axes>"
            ]
          },
          "metadata": {
            "tags": []
          }
        }
      ]
    },
    {
      "cell_type": "code",
      "metadata": {
        "colab": {
          "base_uri": "https://localhost:8080/",
          "height": 279
        },
        "id": "cunAJfoTKTq5",
        "outputId": "4ce60830-5c7f-49d3-f1e5-16973d4520a2"
      },
      "source": [
        "plot_graphs(history_3, 'loss')"
      ],
      "execution_count": null,
      "outputs": [
        {
          "output_type": "display_data",
          "data": {
            "image/png": "[encoded data removed]",
            "text/plain": [
              "<Figure size 432x288 with 1 Axes>"
            ]
          },
          "metadata": {
            "tags": []
          }
        }
      ]
    },
    {
      "cell_type": "code",
      "metadata": {
        "colab": {
          "base_uri": "https://localhost:8080/"
        },
        "id": "HstYX5VDrl8F",
        "outputId": "37a62ecd-829c-4931-d9e5-3fa5ce3bf06f"
      },
      "source": [
        "!mkdir -p saved_model_bi_lstm_1\n",
        "model_3.save('/content/drive/MyDrive/Sarcasm Detection - 8th Sem/Hindi Models/saved_model_bi_lstm_1/my_model')"
      ],
      "execution_count": null,
      "outputs": [
        {
          "output_type": "stream",
          "text": [
            "WARNING:absl:Found untraced functions such as lstm_cell_35_layer_call_and_return_conditional_losses, lstm_cell_35_layer_call_fn, lstm_cell_36_layer_call_and_return_conditional_losses, lstm_cell_36_layer_call_fn, lstm_cell_35_layer_call_fn while saving (showing 5 of 10). These functions will not be directly callable after loading.\n"
          ],
          "name": "stderr"
        },
        {
          "output_type": "stream",
          "text": [
            "INFO:tensorflow:Assets written to: /content/drive/MyDrive/Sarcasm Detection - 8th Sem/Hindi Models/saved_model_bi_lstm_1/my_model/assets\n"
          ],
          "name": "stdout"
        },
        {
          "output_type": "stream",
          "text": [
            "INFO:tensorflow:Assets written to: /content/drive/MyDrive/Sarcasm Detection - 8th Sem/Hindi Models/saved_model_bi_lstm_1/my_model/assets\n"
          ],
          "name": "stderr"
        }
      ]
    },
    {
      "cell_type": "code",
      "metadata": {
        "colab": {
          "base_uri": "https://localhost:8080/"
        },
        "id": "LJvkH3sYrl8F",
        "outputId": "0d7e4b96-9b49-4253-92a5-7f05651f5c9d"
      },
      "source": [
        "!ls '/content/drive/MyDrive/Sarcasm Detection - 8th Sem/Hindi Models/saved_model_bi_lstm_1/my_model'"
      ],
      "execution_count": null,
      "outputs": [
        {
          "output_type": "stream",
          "text": [
            "assets\tkeras_metadata.pb  saved_model.pb  variables\n"
          ],
          "name": "stdout"
        }
      ]
    },
    {
      "cell_type": "code",
      "metadata": {
        "id": "JoMeeZUUrl8G"
      },
      "source": [
        "new_model_3 = tf.keras.models.load_model('/content/drive/MyDrive/Sarcasm Detection - 8th Sem/Hindi Models/saved_model_bi_lstm_1/my_model')"
      ],
      "execution_count": null,
      "outputs": []
    },
    {
      "cell_type": "code",
      "metadata": {
        "colab": {
          "base_uri": "https://localhost:8080/"
        },
        "id": "Dd2r2kG-rl8G",
        "outputId": "b2cf393b-3a2f-4ae7-e30c-c70712fbfacf"
      },
      "source": [
        "loss, acc = new_model_3.evaluate(testing_padded, testing_labels,verbose=1)\n",
        "print('Restored model, accuracy: {:5.2f}%'.format(100 * acc))"
      ],
      "execution_count": null,
      "outputs": [
        {
          "output_type": "stream",
          "text": [
            "131/131 [==============================] - 1s 4ms/step - loss: 0.8788 - accuracy: 0.6159\n",
            "Restored model, accuracy: 61.59%\n"
          ],
          "name": "stdout"
        }
      ]
    },
    {
      "cell_type": "code",
      "metadata": {
        "colab": {
          "base_uri": "https://localhost:8080/"
        },
        "id": "FFAs2yJVof9J",
        "outputId": "cced6e5f-72db-43f2-c65e-68ff5db2e000"
      },
      "source": [
        "model_4 = tf.keras.Sequential([\n",
        "    tf.keras.layers.Embedding(vocab_size, embedding_size, input_length=max_length),\n",
        "    tf.keras.layers.SimpleRNN(64),\n",
        "    tf.keras.layers.Dense(64, activation='relu'),\n",
        "    tf.keras.layers.Dropout(0.5),\n",
        "    tf.keras.layers.Dense(1, activation='sigmoid')\n",
        "])\n",
        "model_4.compile(loss=tf.keras.losses.BinaryCrossentropy(),\n",
        "              optimizer=tf.keras.optimizers.Adam(1e-5),\n",
        "              metrics=['accuracy'])\n",
        "model_4.summary()"
      ],
      "execution_count": null,
      "outputs": [
        {
          "output_type": "stream",
          "text": [
            "Model: \"sequential_3\"\n",
            "_________________________________________________________________\n",
            "Layer (type)                 Output Shape              Param #   \n",
            "=================================================================\n",
            "embedding_3 (Embedding)      (None, 12, 8)             80000     \n",
            "_________________________________________________________________\n",
            "simple_rnn (SimpleRNN)       (None, 64)                4672      \n",
            "_________________________________________________________________\n",
            "dense_6 (Dense)              (None, 64)                4160      \n",
            "_________________________________________________________________\n",
            "dropout_3 (Dropout)          (None, 64)                0         \n",
            "_________________________________________________________________\n",
            "dense_7 (Dense)              (None, 1)                 65        \n",
            "=================================================================\n",
            "Total params: 88,897\n",
            "Trainable params: 88,897\n",
            "Non-trainable params: 0\n",
            "_________________________________________________________________\n"
          ],
          "name": "stdout"
        }
      ]
    },
    {
      "cell_type": "code",
      "metadata": {
        "colab": {
          "base_uri": "https://localhost:8080/"
        },
        "id": "EYbviqpyof9R",
        "outputId": "89420612-8f5c-47f9-c2ba-ea5f2a1ea4d8"
      },
      "source": [
        "num_epochs = 10\n",
        "history_4 = model_4.fit(training_padded, training_labels, epochs=num_epochs, validation_data=(testing_padded, testing_labels), verbose=1)\n",
        "\n",
        "#verbose=0 will show you nothing (silent)\n",
        "\n",
        "# verbose=1 will show you an animated progress bar like this:\n",
        "\n",
        "#progres_bar : [=========>......]\n",
        "\n",
        "#verbose=2 will just mention the number of epoch like this:\n",
        "\n",
        "# 1/10.."
      ],
      "execution_count": null,
      "outputs": [
        {
          "output_type": "stream",
          "text": [
            "Epoch 1/10\n",
            "375/375 [==============================] - 4s 7ms/step - loss: 0.6719 - accuracy: 0.6821 - val_loss: 0.7851 - val_accuracy: 0.0000e+00\n",
            "Epoch 2/10\n",
            "375/375 [==============================] - 3s 7ms/step - loss: 0.4992 - accuracy: 0.8425 - val_loss: 1.5367 - val_accuracy: 0.0000e+00\n",
            "Epoch 3/10\n",
            "375/375 [==============================] - 2s 6ms/step - loss: 0.4078 - accuracy: 0.8440 - val_loss: 1.4140 - val_accuracy: 0.0000e+00\n",
            "Epoch 4/10\n",
            "375/375 [==============================] - 3s 7ms/step - loss: 0.3411 - accuracy: 0.8835 - val_loss: 1.2579 - val_accuracy: 0.3702\n",
            "Epoch 5/10\n",
            "375/375 [==============================] - 2s 6ms/step - loss: 0.2753 - accuracy: 0.9191 - val_loss: 1.0180 - val_accuracy: 0.5736\n",
            "Epoch 6/10\n",
            "375/375 [==============================] - 2s 6ms/step - loss: 0.2254 - accuracy: 0.9339 - val_loss: 0.8380 - val_accuracy: 0.6839\n",
            "Epoch 7/10\n",
            "375/375 [==============================] - 2s 6ms/step - loss: 0.1932 - accuracy: 0.9392 - val_loss: 0.7142 - val_accuracy: 0.7437\n",
            "Epoch 8/10\n",
            "375/375 [==============================] - 2s 6ms/step - loss: 0.1708 - accuracy: 0.9437 - val_loss: 0.6391 - val_accuracy: 0.7653\n",
            "Epoch 9/10\n",
            "375/375 [==============================] - 2s 6ms/step - loss: 0.1535 - accuracy: 0.9483 - val_loss: 0.5884 - val_accuracy: 0.7820\n",
            "Epoch 10/10\n",
            "375/375 [==============================] - 2s 6ms/step - loss: 0.1389 - accuracy: 0.9567 - val_loss: 0.5102 - val_accuracy: 0.8351\n"
          ],
          "name": "stdout"
        }
      ]
    },
    {
      "cell_type": "code",
      "metadata": {
        "id": "Ei3FFVSIof9R"
      },
      "source": [
        "import matplotlib.pyplot as plt\n",
        "\n",
        "def plot_graphs(history, string):\n",
        "  plt.plot(history_4.history[string])\n",
        "  plt.plot(history_4.history['val_'+string])\n",
        "  plt.xlabel(\"Epochs\")\n",
        "  plt.ylabel(string)\n",
        "  plt.legend([string, 'val_'+string])\n",
        "  plt.show()"
      ],
      "execution_count": null,
      "outputs": []
    },
    {
      "cell_type": "code",
      "metadata": {
        "colab": {
          "base_uri": "https://localhost:8080/",
          "height": 282
        },
        "id": "nHYt5Wltof9S",
        "outputId": "d7180553-3665-4c1f-c766-88ce75f8ca13"
      },
      "source": [
        "plot_graphs(history_4, 'accuracy')"
      ],
      "execution_count": null,
      "outputs": [
        {
          "output_type": "display_data",
          "data": {
            "image/png": "[encoded data removed]",
            "text/plain": [
              "<Figure size 432x288 with 1 Axes>"
            ]
          },
          "metadata": {
            "tags": []
          }
        }
      ]
    },
    {
      "cell_type": "code",
      "metadata": {
        "colab": {
          "base_uri": "https://localhost:8080/",
          "height": 282
        },
        "id": "cKqRlbEUof9S",
        "outputId": "4856a602-5a95-4921-85c5-131365d191ef"
      },
      "source": [
        "plot_graphs(history_4, 'loss')"
      ],
      "execution_count": null,
      "outputs": [
        {
          "output_type": "display_data",
          "data": {
            "image/png": "[encoded data removed]",
            "text/plain": [
              "<Figure size 432x288 with 1 Axes>"
            ]
          },
          "metadata": {
            "tags": []
          }
        }
      ]
    },
    {
      "cell_type": "code",
      "metadata": {
        "colab": {
          "base_uri": "https://localhost:8080/"
        },
        "id": "bdaWW5Ewr6Db",
        "outputId": "20a513fb-57a4-441b-c696-66cff68728dc"
      },
      "source": [
        "!mkdir -p saved_model_rnn\n",
        "model_4.save('/content/drive/MyDrive/Sarcasm Detection - 8th Sem/Hindi Models/saved_model_rnn/my_model')"
      ],
      "execution_count": null,
      "outputs": [
        {
          "output_type": "stream",
          "text": [
            "INFO:tensorflow:Assets written to: /content/drive/MyDrive/Sarcasm Detection - 8th Sem/Hindi Models/saved_model_rnn/my_model/assets\n"
          ],
          "name": "stdout"
        },
        {
          "output_type": "stream",
          "text": [
            "INFO:tensorflow:Assets written to: /content/drive/MyDrive/Sarcasm Detection - 8th Sem/Hindi Models/saved_model_rnn/my_model/assets\n"
          ],
          "name": "stderr"
        }
      ]
    },
    {
      "cell_type": "code",
      "metadata": {
        "colab": {
          "base_uri": "https://localhost:8080/"
        },
        "id": "LlZLNcr2r6Dc",
        "outputId": "bded66b1-f095-4bd8-bb25-578c0eee9998"
      },
      "source": [
        "!ls '/content/drive/MyDrive/Sarcasm Detection - 8th Sem/Hindi Models/saved_model_rnn/my_model'"
      ],
      "execution_count": null,
      "outputs": [
        {
          "output_type": "stream",
          "text": [
            "assets\tkeras_metadata.pb  saved_model.pb  variables\n"
          ],
          "name": "stdout"
        }
      ]
    },
    {
      "cell_type": "code",
      "metadata": {
        "id": "7uud-6Xmr6Dc"
      },
      "source": [
        "new_model_4 = tf.keras.models.load_model('/content/drive/MyDrive/Sarcasm Detection - 8th Sem/Hindi Models/saved_model_rnn/my_model')"
      ],
      "execution_count": null,
      "outputs": []
    },
    {
      "cell_type": "code",
      "metadata": {
        "colab": {
          "base_uri": "https://localhost:8080/"
        },
        "id": "IiLCcuyHr6Dd",
        "outputId": "05c335b5-b098-44d1-f9d0-de93fe310785"
      },
      "source": [
        "loss, acc = new_model_4.evaluate(testing_padded, testing_labels,verbose=1)\n",
        "print('Restored model, accuracy: {:5.2f}%'.format(100 * acc))"
      ],
      "execution_count": null,
      "outputs": [
        {
          "output_type": "stream",
          "text": [
            "131/131 [==============================] - 0s 2ms/step - loss: 0.5102 - accuracy: 0.8351\n",
            "Restored model, accuracy: 83.51%\n"
          ],
          "name": "stdout"
        }
      ]
    },
    {
      "cell_type": "code",
      "metadata": {
        "id": "wCSu7-MWr61Z"
      },
      "source": [],
      "execution_count": null,
      "outputs": []
    }
  ]
}