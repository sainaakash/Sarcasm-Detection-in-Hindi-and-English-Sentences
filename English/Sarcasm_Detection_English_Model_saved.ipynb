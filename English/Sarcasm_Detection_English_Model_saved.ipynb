{
  "nbformat": 4,
  "nbformat_minor": 0,
  "metadata": {
    "colab": {
      "provenance": []
    },
    "kernelspec": {
      "name": "python3",
      "display_name": "Python 3"
    },
    "language_info": {
      "name": "python"
    }
  },
  "cells": [
    {
      "cell_type": "code",
      "metadata": {
        "id": "5y7N378k7iob"
      },
      "source": [
        "import pandas as pd\n",
        "import numpy as np\n",
        "from sklearn.model_selection import train_test_split"
      ],
      "execution_count": null,
      "outputs": []
    },
    {
      "cell_type": "code",
      "metadata": {
        "id": "db3WSjGrRriH"
      },
      "source": [
        "import tensorflow as tf\n",
        "from tensorflow.keras.preprocessing.text import Tokenizer\n",
        "from tensorflow.keras.preprocessing.sequence import pad_sequences"
      ],
      "execution_count": null,
      "outputs": []
    },
    {
      "cell_type": "code",
      "metadata": {
        "colab": {
          "base_uri": "https://localhost:8080/"
        },
        "id": "zYKeEkTJ-RlE",
        "outputId": "014cf90b-4571-41a4-950c-08710ad34ecc"
      },
      "source": [
        "!ls '/content/drive/MyDrive/Dataset/'"
      ],
      "execution_count": null,
      "outputs": [
        {
          "output_type": "stream",
          "text": [
            " final_stopwords.txt   Sarcasm_Headlines_Dataset.json\t   test.json\n",
            " hindi_para.txt        Sarcasm_Headlines_Dataset_v2.json   train.json\n",
            " MergeResult.xlsx     'Sentiment Analysis'\t\t   useless\n"
          ],
          "name": "stdout"
        }
      ]
    },
    {
      "cell_type": "code",
      "metadata": {
        "id": "vtTyoWpulooV"
      },
      "source": [
        "train_data = pd.read_json ('/content/drive/MyDrive/Dataset/Sarcasm_Headlines_Dataset.json', lines=True)"
      ],
      "execution_count": null,
      "outputs": []
    },
    {
      "cell_type": "code",
      "metadata": {
        "colab": {
          "base_uri": "https://localhost:8080/",
          "height": 419
        },
        "id": "3s2ucbLf-vIK",
        "outputId": "4c6694d9-c5d2-410e-c9d2-f87361eff9ae"
      },
      "source": [
        "train_data"
      ],
      "execution_count": null,
      "outputs": [
        {
          "output_type": "execute_result",
          "data": {
            "text/html": [
              "<div>\n",
              "<style scoped>\n",
              "    .dataframe tbody tr th:only-of-type {\n",
              "        vertical-align: middle;\n",
              "    }\n",
              "\n",
              "    .dataframe tbody tr th {\n",
              "        vertical-align: top;\n",
              "    }\n",
              "\n",
              "    .dataframe thead th {\n",
              "        text-align: right;\n",
              "    }\n",
              "</style>\n",
              "<table border=\"1\" class=\"dataframe\">\n",
              "  <thead>\n",
              "    <tr style=\"text-align: right;\">\n",
              "      <th></th>\n",
              "      <th>article_link</th>\n",
              "      <th>headline</th>\n",
              "      <th>is_sarcastic</th>\n",
              "    </tr>\n",
              "  </thead>\n",
              "  <tbody>\n",
              "    <tr>\n",
              "      <th>0</th>\n",
              "      <td>https://www.huffingtonpost.com/entry/versace-b...</td>\n",
              "      <td>former versace store clerk sues over secret 'b...</td>\n",
              "      <td>0</td>\n",
              "    </tr>\n",
              "    <tr>\n",
              "      <th>1</th>\n",
              "      <td>https://www.huffingtonpost.com/entry/roseanne-...</td>\n",
              "      <td>the 'roseanne' revival catches up to our thorn...</td>\n",
              "      <td>0</td>\n",
              "    </tr>\n",
              "    <tr>\n",
              "      <th>2</th>\n",
              "      <td>https://local.theonion.com/mom-starting-to-fea...</td>\n",
              "      <td>mom starting to fear son's web series closest ...</td>\n",
              "      <td>1</td>\n",
              "    </tr>\n",
              "    <tr>\n",
              "      <th>3</th>\n",
              "      <td>https://politics.theonion.com/boehner-just-wan...</td>\n",
              "      <td>boehner just wants wife to listen, not come up...</td>\n",
              "      <td>1</td>\n",
              "    </tr>\n",
              "    <tr>\n",
              "      <th>4</th>\n",
              "      <td>https://www.huffingtonpost.com/entry/jk-rowlin...</td>\n",
              "      <td>j.k. rowling wishes snape happy birthday in th...</td>\n",
              "      <td>0</td>\n",
              "    </tr>\n",
              "    <tr>\n",
              "      <th>...</th>\n",
              "      <td>...</td>\n",
              "      <td>...</td>\n",
              "      <td>...</td>\n",
              "    </tr>\n",
              "    <tr>\n",
              "      <th>26704</th>\n",
              "      <td>https://www.huffingtonpost.com/entry/american-...</td>\n",
              "      <td>american politics in moral free-fall</td>\n",
              "      <td>0</td>\n",
              "    </tr>\n",
              "    <tr>\n",
              "      <th>26705</th>\n",
              "      <td>https://www.huffingtonpost.com/entry/americas-...</td>\n",
              "      <td>america's best 20 hikes</td>\n",
              "      <td>0</td>\n",
              "    </tr>\n",
              "    <tr>\n",
              "      <th>26706</th>\n",
              "      <td>https://www.huffingtonpost.com/entry/reparatio...</td>\n",
              "      <td>reparations and obama</td>\n",
              "      <td>0</td>\n",
              "    </tr>\n",
              "    <tr>\n",
              "      <th>26707</th>\n",
              "      <td>https://www.huffingtonpost.com/entry/israeli-b...</td>\n",
              "      <td>israeli ban targeting boycott supporters raise...</td>\n",
              "      <td>0</td>\n",
              "    </tr>\n",
              "    <tr>\n",
              "      <th>26708</th>\n",
              "      <td>https://www.huffingtonpost.com/entry/gourmet-g...</td>\n",
              "      <td>gourmet gifts for the foodie 2014</td>\n",
              "      <td>0</td>\n",
              "    </tr>\n",
              "  </tbody>\n",
              "</table>\n",
              "<p>26709 rows × 3 columns</p>\n",
              "</div>"
            ],
            "text/plain": [
              "                                            article_link  ... is_sarcastic\n",
              "0      https://www.huffingtonpost.com/entry/versace-b...  ...            0\n",
              "1      https://www.huffingtonpost.com/entry/roseanne-...  ...            0\n",
              "2      https://local.theonion.com/mom-starting-to-fea...  ...            1\n",
              "3      https://politics.theonion.com/boehner-just-wan...  ...            1\n",
              "4      https://www.huffingtonpost.com/entry/jk-rowlin...  ...            0\n",
              "...                                                  ...  ...          ...\n",
              "26704  https://www.huffingtonpost.com/entry/american-...  ...            0\n",
              "26705  https://www.huffingtonpost.com/entry/americas-...  ...            0\n",
              "26706  https://www.huffingtonpost.com/entry/reparatio...  ...            0\n",
              "26707  https://www.huffingtonpost.com/entry/israeli-b...  ...            0\n",
              "26708  https://www.huffingtonpost.com/entry/gourmet-g...  ...            0\n",
              "\n",
              "[26709 rows x 3 columns]"
            ]
          },
          "metadata": {
            "tags": []
          },
          "execution_count": 5
        }
      ]
    },
    {
      "cell_type": "code",
      "metadata": {
        "id": "1Owh6nScQAki",
        "colab": {
          "base_uri": "https://localhost:8080/"
        },
        "outputId": "ad5621f5-78fa-49f2-c8d0-91ee1341cc4e"
      },
      "source": [
        "train_data['headline']"
      ],
      "execution_count": null,
      "outputs": [
        {
          "output_type": "execute_result",
          "data": {
            "text/plain": [
              "0        former versace store clerk sues over secret 'b...\n",
              "1        the 'roseanne' revival catches up to our thorn...\n",
              "2        mom starting to fear son's web series closest ...\n",
              "3        boehner just wants wife to listen, not come up...\n",
              "4        j.k. rowling wishes snape happy birthday in th...\n",
              "                               ...                        \n",
              "26704                 american politics in moral free-fall\n",
              "26705                              america's best 20 hikes\n",
              "26706                                reparations and obama\n",
              "26707    israeli ban targeting boycott supporters raise...\n",
              "26708                    gourmet gifts for the foodie 2014\n",
              "Name: headline, Length: 26709, dtype: object"
            ]
          },
          "metadata": {
            "tags": []
          },
          "execution_count": 6
        }
      ]
    },
    {
      "cell_type": "code",
      "metadata": {
        "id": "xV7V453h_LlX"
      },
      "source": [
        "non_sarcastic = train_data[train_data['is_sarcastic']==0]"
      ],
      "execution_count": null,
      "outputs": []
    },
    {
      "cell_type": "code",
      "metadata": {
        "colab": {
          "base_uri": "https://localhost:8080/"
        },
        "id": "_SoTnbYugRjf",
        "outputId": "32b7f257-90ae-4cdf-8361-7a28c761b9d0"
      },
      "source": [
        "len(non_sarcastic)"
      ],
      "execution_count": null,
      "outputs": [
        {
          "output_type": "execute_result",
          "data": {
            "text/plain": [
              "14985"
            ]
          },
          "metadata": {
            "tags": []
          },
          "execution_count": 8
        }
      ]
    },
    {
      "cell_type": "code",
      "metadata": {
        "id": "jzyhBST4D-bg"
      },
      "source": [
        "sarcastic = train_data[train_data['is_sarcastic']==1]"
      ],
      "execution_count": null,
      "outputs": []
    },
    {
      "cell_type": "code",
      "metadata": {
        "colab": {
          "base_uri": "https://localhost:8080/"
        },
        "id": "-JCm24fAgU5O",
        "outputId": "e1b0f9b0-250c-4e3a-b316-e02fc09810b7"
      },
      "source": [
        "len(sarcastic)"
      ],
      "execution_count": null,
      "outputs": [
        {
          "output_type": "execute_result",
          "data": {
            "text/plain": [
              "11724"
            ]
          },
          "metadata": {
            "tags": []
          },
          "execution_count": 10
        }
      ]
    },
    {
      "cell_type": "code",
      "metadata": {
        "colab": {
          "base_uri": "https://localhost:8080/",
          "height": 334
        },
        "id": "ofISpwnlEAwG",
        "outputId": "6f6b394f-de12-4b1c-ecc8-ff23010e7cd0"
      },
      "source": [
        "import seaborn as sns\n",
        "sns.countplot(train_data['is_sarcastic'], label = \"Count\");"
      ],
      "execution_count": null,
      "outputs": [
        {
          "output_type": "stream",
          "text": [
            "/usr/local/lib/python3.7/dist-packages/seaborn/_decorators.py:43: FutureWarning: Pass the following variable as a keyword arg: x. From version 0.12, the only valid positional argument will be `data`, and passing other arguments without an explicit keyword will result in an error or misinterpretation.\n",
            "  FutureWarning\n"
          ],
          "name": "stderr"
        },
        {
          "output_type": "display_data",
          "data": {
            "image/png": "[encoded data removed]",
            "text/plain": [
              "<Figure size 432x288 with 1 Axes>"
            ]
          },
          "metadata": {
            "tags": [],
            "needs_background": "light"
          }
        }
      ]
    },
    {
      "cell_type": "code",
      "metadata": {
        "id": "lIiysFo0FXiT"
      },
      "source": [
        "#labels = train_data['is_sarcastic']\n",
        "#encoded_labels = np.array(labels)"
      ],
      "execution_count": null,
      "outputs": []
    },
    {
      "cell_type": "code",
      "metadata": {
        "id": "Z3DtocHRRg5Y"
      },
      "source": [
        "#sentences = train_data['headline'].tolist()"
      ],
      "execution_count": null,
      "outputs": []
    },
    {
      "cell_type": "code",
      "metadata": {
        "id": "16LeCPV6td4w"
      },
      "source": [
        "#sentences"
      ],
      "execution_count": null,
      "outputs": []
    },
    {
      "cell_type": "code",
      "metadata": {
        "id": "yfgZxGKaRmn3"
      },
      "source": [
        "#tokenizer = Tokenizer(num_words = 10000, oov_token=\"<OOV>\")\n",
        "#tokenizer.fit_on_texts(sentences)\n",
        "#word_index = tokenizer.word_index\n",
        "#sequences = tokenizer.texts_to_sequences(sentences)\n",
        "#padded_train = pad_sequences(sequences, padding='post', maxlen=100)\n",
        "#print(word_index)"
      ],
      "execution_count": null,
      "outputs": []
    },
    {
      "cell_type": "code",
      "metadata": {
        "colab": {
          "base_uri": "https://localhost:8080/"
        },
        "id": "57GOM3jMmS6_",
        "outputId": "540162de-2351-4ca1-a99e-90a181d5afa0"
      },
      "source": [
        "sequences"
      ],
      "execution_count": null,
      "outputs": [
        {
          "output_type": "execute_result",
          "data": {
            "text/plain": [
              "[[308, 1, 679, 3337, 2298, 48, 382, 2576, 1, 6, 2577, 8434],\n",
              " [4, 8435, 3338, 2746, 22, 2, 166, 8436, 416, 3112, 6, 258, 9, 1002],\n",
              " [145, 838, 2, 907, 1749, 2093, 582, 4719, 221, 143, 39, 46, 2, 1],\n",
              " [1485, 36, 224, 400, 2, 1832, 29, 319, 22, 10, 2924, 1393, 6969, 968],\n",
              " [767, 719, 4720, 908, 1, 623, 594, 5, 4, 95, 1309, 92],\n",
              " [1, 4, 365, 73],\n",
              " [4, 6970, 351, 6, 461, 4274, 2195, 1486],\n",
              " [19, 479, 39, 1168, 31, 155, 2, 99, 83, 18, 158, 6, 32, 352],\n",
              " [249, 3623, 6971, 555, 5274, 1995, 141],\n",
              " [2094, 326, 347, 401, 60, 1, 6, 4, 3896],\n",
              " [2925, 1680, 4721, 14, 37, 4275, 6972, 5, 2095, 1103],\n",
              " [286, 782, 462, 8, 1556, 1911, 9, 3624],\n",
              " [234, 514, 2926, 13, 9, 929, 226, 369, 2, 4276, 1, 8437],\n",
              " [238, 3897, 8438, 3339, 38, 235, 1, 6, 7, 173],\n",
              " [1, 1394, 665, 651, 5, 327, 3, 1031],\n",
              " [534, 2095, 1, 123, 1, 6, 1, 4722, 1912],\n",
              " [2578,\n",
              "  1395,\n",
              "  383,\n",
              "  45,\n",
              "  3898,\n",
              "  348,\n",
              "  319,\n",
              "  1032,\n",
              "  2,\n",
              "  24,\n",
              "  1,\n",
              "  20,\n",
              "  1104,\n",
              "  387,\n",
              "  103,\n",
              "  1310],\n",
              " [1681, 8439, 3113, 8440, 20, 6973, 1218],\n",
              " [1, 857, 2, 1913, 258, 1169, 36, 214, 2747],\n",
              " [3625, 5275, 3114],\n",
              " [8441, 3899, 858, 38, 1487, 1, 6974],\n",
              " [13, 1396, 133, 28, 802, 6, 733, 5276, 1219, 21, 3340, 2579, 35, 32, 1833, 1],\n",
              " [3900, 1, 5963, 56, 37, 2927, 143, 75, 1, 9, 4723],\n",
              " [19, 11, 45, 18, 1220, 199, 2, 4, 5964],\n",
              " [544, 492, 783, 4, 2928, 3341, 1268, 87, 839, 1996, 3626, 3, 1],\n",
              " [45, 3342, 321, 205, 2, 24, 1269],\n",
              " [68, 1750, 1, 240, 5965, 2, 1221, 2580],\n",
              " [480, 3115, 78, 353, 614],\n",
              " [21, 6975, 8442, 203, 1435, 750, 3901],\n",
              " [8443, 11, 4, 1834, 3, 4, 5966],\n",
              " [2581, 5967, 1, 6, 734, 1, 11, 3902],\n",
              " [1, 1, 8, 33, 100, 58, 2, 3116, 2196, 1],\n",
              " [1346, 768, 2, 8444, 859, 2748, 1, 3, 1, 21, 349, 1],\n",
              " [751, 138, 46, 1, 2423, 4277, 352, 2, 121],\n",
              " [497, 5277, 3343, 4278, 1, 5, 1751, 1, 1],\n",
              " [83, 18, 185, 7, 573, 16, 4, 1105],\n",
              " [1311, 1, 4724, 1033, 574],\n",
              " [8445, 1, 633, 2, 4, 249, 3, 4, 666, 206, 10, 735, 8446, 215, 216, 909],\n",
              " [1, 1, 244, 173, 1682, 515, 4, 192, 1914, 3, 384],\n",
              " [3117, 860, 1, 8, 583, 1, 6, 4725, 633, 44],\n",
              " [5968, 5278, 768, 2, 8447, 930, 2299, 3, 3344, 405],\n",
              " [652, 366, 2, 193, 3627, 1106, 736, 470, 65, 595, 19, 3628, 1488, 32, 66],\n",
              " [5969, 6976, 227, 8448, 3629, 78, 42, 2197],\n",
              " [1, 1347, 1557, 1170, 15, 1, 196, 1],\n",
              " [259, 4, 667, 3, 634, 19, 583, 243],\n",
              " [1034, 6977, 1750, 3903, 5970, 693],\n",
              " [2198, 2096, 28, 2199, 5971, 225, 1, 108, 1107, 73, 450, 40, 6, 129, 225],\n",
              " [8449, 2, 241, 66, 5, 1489, 3630, 1835, 72, 3118, 2, 2424],\n",
              " [1171, 69, 737, 1915, 1836, 11, 4279],\n",
              " [3345, 1, 20, 230, 784],\n",
              " [5279, 704, 1, 2749],\n",
              " [215, 178, 106, 1558, 5, 260, 16, 596, 80, 1559, 5, 859],\n",
              " [2750, 396, 4280, 279, 1172, 7, 309, 4726, 66],\n",
              " [49, 13, 4724, 6, 7, 582, 3, 506, 5, 4, 8450, 1436, 131],\n",
              " [49, 13, 1916, 46, 261, 4, 451, 1560, 2, 165, 5280, 310, 141, 1683, 4727],\n",
              " [12, 1270, 1837, 306, 370, 207, 1, 720, 545, 1, 1, 384],\n",
              " [5281, 1, 23, 3, 201, 1, 6978, 5, 6979, 6, 441],\n",
              " [5282, 170, 1752, 425, 8, 182, 2097, 516, 82],\n",
              " [752, 354, 498, 167, 6980, 2582, 5, 705, 5283, 1],\n",
              " [25, 2, 1173, 1620, 1, 1035, 212, 4, 86, 19, 362, 2583],\n",
              " [68, 38, 1917, 1],\n",
              " [2200, 207, 5, 5972, 1997],\n",
              " [8451, 417, 12, 5, 3904, 463, 8452],\n",
              " [43, 168, 8453, 1437, 116, 1, 8454, 464, 3, 1490, 436, 113, 6981],\n",
              " [2751, 120, 74, 7, 931, 1621, 3, 823, 279, 281, 3119, 23],\n",
              " [1, 39, 175, 2098, 6982, 15, 426, 3346, 5284],\n",
              " [41, 3, 4, 1, 95, 706, 1222, 6, 161, 65, 8455, 322],\n",
              " [25, 307, 1, 932, 162, 32, 265, 2, 4, 192, 1174, 20, 6983, 5, 2, 4, 1],\n",
              " [47, 56, 1003, 1, 1, 470, 1],\n",
              " [402, 5973, 1004, 6, 1998, 5, 4281],\n",
              " [234, 2201, 29, 1348, 15, 5, 8456, 507],\n",
              " [183, 680, 597, 2202, 268, 17, 355, 9, 371],\n",
              " [785, 8457, 334, 22, 2, 1, 16, 178, 300],\n",
              " [33, 11, 635, 55, 573, 6984, 114, 58],\n",
              " [4, 5974, 1, 3, 705, 4, 1, 1622, 3347, 3905, 5, 166, 57],\n",
              " [19, 584, 339, 88, 54, 1623, 4, 933, 20, 1491, 1108],\n",
              " [2203, 4728, 314, 2, 1624, 934, 5, 1, 5975],\n",
              " [13, 1175, 1918, 8, 705, 5, 8458, 6, 2584, 282],\n",
              " [5285, 1919, 7, 8459, 524],\n",
              " [44, 2929, 1, 25, 27, 108, 227, 2577, 280],\n",
              " [1561, 6985, 1397, 2585, 2, 161, 935, 28, 1, 884],\n",
              " [2930, 3348, 2931, 1, 653, 1078, 4729, 121],\n",
              " [1, 5976, 1838, 5977, 16, 769, 5978, 15, 1, 42, 4282],\n",
              " [297, 615, 1079, 4, 86, 28, 3906, 6, 4, 574, 11, 5286, 3349],\n",
              " [200, 44, 61, 6986, 85, 616, 1, 8460, 4730, 178, 20, 69],\n",
              " [480, 1223, 36, 481, 2586, 824, 5, 9, 1562, 310, 51, 64],\n",
              " [1176, 3350, 3120, 1, 379, 1036, 1684, 21, 4731, 735, 5287, 15, 1, 5288, 1],\n",
              " [1, 1, 103, 7, 1, 3907, 16, 825, 1, 753],\n",
              " [6, 240, 344, 23, 51, 3351, 936, 704, 67, 37, 46, 319, 23, 5, 4, 117, 44],\n",
              " [168, 3121, 3908, 23, 4, 95, 3122, 254, 5, 885, 13, 1, 187],\n",
              " [70, 96, 3123, 1438],\n",
              " [482,\n",
              "  321,\n",
              "  74,\n",
              "  403,\n",
              "  18,\n",
              "  46,\n",
              "  4,\n",
              "  1753,\n",
              "  2,\n",
              "  2204,\n",
              "  79,\n",
              "  4283,\n",
              "  72,\n",
              "  52,\n",
              "  1037,\n",
              "  1005,\n",
              "  1,\n",
              "  90,\n",
              "  2932,\n",
              "  4284],\n",
              " [14, 1625, 2752, 1, 2, 323, 35, 32, 2300, 8461, 71, 273],\n",
              " [179, 86, 1621, 239, 5289, 20, 1311, 5979],\n",
              " [81, 1271, 55, 128, 2, 1487, 969, 1839, 5, 5290, 6987],\n",
              " [5291, 53, 3631, 2099, 1349, 64, 41, 117, 57],\n",
              " [1, 2587, 242, 2205, 1439, 100, 35, 17, 5980, 5981],\n",
              " [84, 546, 80, 1177, 2100, 67, 108, 193, 937, 268],\n",
              " [1, 1920, 8, 4, 2933, 2301, 555, 215, 178, 106, 1558],\n",
              " [33, 100, 58, 2, 839, 442, 5, 7, 4285],\n",
              " [5292, 5293, 1685, 1006, 1, 406, 1],\n",
              " [2934, 3124, 9, 1, 4286, 1, 8, 6988, 9, 4, 86, 5982],\n",
              " [4732, 1840, 886, 224, 14, 2, 78, 48, 400],\n",
              " [8462, 9, 1, 239, 8463, 1, 471, 23, 26, 754],\n",
              " [4, 249, 2753, 6989, 6, 598],\n",
              " [1, 1, 5983, 1, 517, 2588, 887, 721, 141],\n",
              " [2206, 7, 4287, 8464, 385, 6, 12, 6990],\n",
              " [345, 1999, 6991, 668, 6992, 6, 6993, 4288, 10, 1],\n",
              " [4289, 786, 2754, 160, 1350, 3125],\n",
              " [1921, 52, 195, 1, 39, 24, 654, 525, 932, 20, 1],\n",
              " [3632, 970, 1922, 35, 4, 92, 22, 6, 4290, 1563, 51, 8465],\n",
              " [3126, 2755, 461, 1, 151, 1841, 8466, 4733, 28, 4291, 64, 4292, 2756],\n",
              " [452, 938, 2302, 8467, 6, 32, 3352],\n",
              " [6994,\n",
              "  27,\n",
              "  152,\n",
              "  681,\n",
              "  2,\n",
              "  6995,\n",
              "  72,\n",
              "  383,\n",
              "  418,\n",
              "  1038,\n",
              "  6,\n",
              "  861,\n",
              "  1,\n",
              "  419,\n",
              "  42,\n",
              "  391,\n",
              "  36,\n",
              "  26,\n",
              "  3127,\n",
              "  453,\n",
              "  575,\n",
              "  22,\n",
              "  682],\n",
              " [939, 1754, 1, 2, 738, 4734, 6, 293, 861],\n",
              " [652, 2425, 1686, 3, 2935, 840, 13, 2303, 5, 242, 161],\n",
              " [683, 427, 9, 287, 6996, 6997, 1, 23, 20, 722],\n",
              " [4735,\n",
              "  162,\n",
              "  27,\n",
              "  2207,\n",
              "  9,\n",
              "  1224,\n",
              "  24,\n",
              "  1755,\n",
              "  72,\n",
              "  707,\n",
              "  1080,\n",
              "  1396,\n",
              "  165,\n",
              "  173,\n",
              "  6998,\n",
              "  274,\n",
              "  5,\n",
              "  2426,\n",
              "  110,\n",
              "  335],\n",
              " [106, 1, 3909, 188, 216, 420, 2589, 5, 1, 1, 599, 1109],\n",
              " [518, 841, 39, 62, 803, 4293, 3353, 227, 268, 1, 5, 1, 1],\n",
              " [266, 6999, 443, 21, 4736, 8468, 545, 1, 2936],\n",
              " [1, 8469, 1],\n",
              " [14, 755, 17, 497, 5294, 1178, 29, 5984, 22, 499],\n",
              " [210, 1435, 1134, 119, 1842, 274, 15, 294, 500, 1625],\n",
              " [3633, 1, 862, 600, 842, 734, 16, 694, 139],\n",
              " [4, 2299, 3, 49, 60, 547, 7000, 233, 2590],\n",
              " [669, 405, 336, 141, 2208, 1, 26, 910, 2, 2937, 804],\n",
              " [2591, 1, 7001, 5, 202, 884, 1135, 471, 1032],\n",
              " [4294, 3354, 4295, 1],\n",
              " [7002, 110, 5295, 5, 306, 7003, 20, 624, 170, 131, 97, 453, 1, 5296],\n",
              " [1, 1911, 29, 215, 116, 139, 2427, 1843, 3355, 8, 195, 4296],\n",
              " [1, 167, 8, 2757, 1, 2, 3634, 280],\n",
              " [119, 1, 3, 31, 2304, 2592],\n",
              " [8470, 2101, 412, 1179, 3, 41, 51, 115, 192, 8471, 1],\n",
              " [4, 111, 1440, 805, 4297, 5297, 2, 259],\n",
              " [94, 4298, 617, 213, 76, 1, 3635],\n",
              " [1687, 911, 1441, 3, 2758, 10, 156, 625, 5, 4, 2000],\n",
              " [1442, 493, 51, 39, 3356, 73, 428, 4, 86],\n",
              " [863, 1, 1, 8472, 1, 72, 8473, 73, 15, 4, 600, 5],\n",
              " [2593, 970, 1007, 2, 8474, 1, 1225, 2305, 2306],\n",
              " [1844, 1, 1007, 2, 454, 3357, 1312, 2594, 10, 3128, 1844],\n",
              " [200, 135, 62, 41, 437, 73, 17, 89, 843, 1039, 1756],\n",
              " [556, 1688, 2, 940, 2206, 3129, 1, 1],\n",
              " [358, 739, 22, 48, 1, 4299],\n",
              " [1, 4300, 1443, 2, 1180, 139, 106, 216, 6, 444, 5985, 99],\n",
              " [1005, 1492, 167, 49, 13, 7, 1, 1],\n",
              " [1110, 178, 119, 1564, 5, 2757, 1, 99, 770, 787],\n",
              " [624, 170, 601, 1, 5, 92, 48, 89, 1626],\n",
              " [494, 4301, 4302, 59, 1111, 8, 8475, 4737, 1, 9, 2938],\n",
              " [5298, 636, 2939, 1226, 1689, 2428, 3, 1, 1313, 8, 165, 2, 185, 33, 100, 58],\n",
              " [79, 8476, 38, 501, 9, 508, 1, 17, 27],\n",
              " [1, 7004, 8477, 971, 1493, 10, 4290, 740],\n",
              " [1, 33, 18, 146, 2, 118],\n",
              " [1690, 3910, 21, 2595, 1, 2759, 1444, 7005, 15, 3358, 1923],\n",
              " [396, 1, 17, 7006, 2, 2596, 1565, 429],\n",
              " [47, 1314, 3636, 637, 8478, 44, 3, 1, 1],\n",
              " [311, 445, 8, 102, 1998, 212, 2102, 1],\n",
              " [14, 768, 175, 2, 112, 211, 4303, 3359, 293, 10, 1, 315],\n",
              " [7007, 1112, 723, 35, 1113, 10, 1],\n",
              " [4304,\n",
              "  1081,\n",
              "  8,\n",
              "  49,\n",
              "  13,\n",
              "  482,\n",
              "  46,\n",
              "  1113,\n",
              "  79,\n",
              "  1174,\n",
              "  102,\n",
              "  2,\n",
              "  29,\n",
              "  74,\n",
              "  19,\n",
              "  284,\n",
              "  17,\n",
              "  3360],\n",
              " [4, 382, 353, 7, 41, 51, 1398, 130, 1351],\n",
              " [1924, 1, 191, 5299, 1925, 2, 3130],\n",
              " [12, 293, 3911, 42, 201, 144, 3, 8479, 1],\n",
              " [1757, 838, 2, 2597, 1227, 109, 228, 57, 8, 286, 29, 1136, 6, 27],\n",
              " [4, 1135, 140, 101, 483, 1082, 9, 4, 2598, 2760, 3, 4, 55, 2209],\n",
              " [1445, 1137, 23, 1, 6, 25, 330, 108, 3912, 2, 211, 1751, 8480],\n",
              " [137, 1, 1315, 4305, 5, 2757, 2, 1, 585],\n",
              " [638, 271, 159, 1494, 36, 7008, 17, 2429, 19, 14, 2, 597, 69, 196, 288],\n",
              " [121, 3, 788, 708, 14, 5, 363, 1691, 3131, 5300, 7, 4738],\n",
              " [1485, 768, 2, 602, 1, 10, 1114, 8481],\n",
              " [13, 164, 117, 639, 888, 2, 3132, 2, 3913],\n",
              " [3133, 2001, 1, 2940, 1, 3361, 1272, 2, 576, 207],\n",
              " [35, 3, 1446, 1, 3362, 470, 85, 210, 269, 2, 74, 22, 6, 135],\n",
              " [4, 789, 567, 5, 4, 86, 6, 7, 176],\n",
              " [145, 2103, 6, 3637, 4306, 202, 603, 8, 219],\n",
              " [49, 60, 603, 8, 166, 3914],\n",
              " [4, 493, 548, 1228, 222, 2, 340, 69, 723, 1, 96, 275],\n",
              " [75, 27, 806, 27, 187],\n",
              " [96, 1181, 1083, 451, 2, 2599, 13, 26, 89, 4739],\n",
              " [1352, 1, 1, 479, 186, 48, 501, 352],\n",
              " [14, 1845, 2, 1, 5301, 680, 3, 472, 1175, 8482, 2761, 7009, 5986],\n",
              " [3120, 2600, 2762, 1008, 17, 535, 8483, 37, 8484, 97, 2763, 310, 1, 582],\n",
              " [2002, 1, 1, 1627, 2, 8485, 7010, 2764, 1758, 7011],\n",
              " [1, 8486, 1, 11, 7, 1182, 790],\n",
              " [2941, 4307, 1, 36, 1316, 59, 12, 309, 3915, 8487],\n",
              " [250, 1, 2, 24, 4, 1759, 2, 1, 72, 4308],\n",
              " [397, 8488, 153, 7, 577, 258, 16, 5987, 2104, 972, 1, 791, 85, 97, 450],\n",
              " [2301, 756, 41, 1, 1040, 5, 260, 16, 2307, 4309],\n",
              " [245, 16, 709, 191, 723, 2942, 655, 2430, 16, 328, 57],\n",
              " [3363, 3916, 1, 20, 430, 11, 314, 178, 792, 1, 844],\n",
              " [1399, 3124, 164, 59, 681, 230, 3364, 1, 23, 5302, 268, 2943, 72],\n",
              " [2601, 372, 8, 586, 1, 21, 115, 3134, 48, 6, 498, 465],\n",
              " [1, 417, 41, 147, 54, 5303, 8489],\n",
              " [11, 47, 14, 130, 2, 2003, 604, 4740],\n",
              " [684, 1041, 366, 7, 1, 5988, 173, 1317, 1],\n",
              " [5304, 461, 1495, 7012, 295, 4310, 37, 54, 8490, 1, 1, 1353],\n",
              " [625, 1, 3638, 8, 1446, 1],\n",
              " [4, 102, 92, 2, 807, 7013, 1, 7014],\n",
              " [28, 41, 1921, 3365, 15, 4, 1, 3135, 605, 273, 27, 11],\n",
              " [65, 356, 509, 2, 5989, 5305, 11, 29, 526, 137, 95, 1926, 1115, 3639, 5, 1],\n",
              " [1760, 51, 1, 656, 2, 450, 6, 586],\n",
              " [710, 1229, 1628, 1230, 626, 3640, 28, 2765, 50, 53, 8491, 5306, 5, 606, 392],\n",
              " [2000, 640, 3, 36, 1, 69, 9, 153, 19, 35, 48, 10],\n",
              " [465, 1, 400, 167, 271, 159, 1138, 43, 1],\n",
              " [13, 1, 124, 15, 251, 573, 641, 373],\n",
              " [229, 3136, 286, 315, 471, 23, 3, 1, 10, 398, 937, 17, 1, 3366],\n",
              " [808, 2925, 1447, 20, 2004, 1311],\n",
              " [188, 254, 2, 3137, 58, 7, 1139],\n",
              " [403, 1925, 58, 1, 1, 224, 7, 1, 5, 4, 1, 3641],\n",
              " [655, 4, 710, 1, 2, 1, 5, 4, 357],\n",
              " [2766, 7015, 164, 117, 888, 6, 373, 1009, 51, 667],\n",
              " [1, 3138, 635, 618, 5307, 826],\n",
              " [1761, 7, 396, 5308, 1, 1, 9, 4, 355, 3, 1, 301, 215],\n",
              " [7, 4311, 5, 4, 2944, 2197, 7016, 1, 1, 8, 4, 5990, 657, 301, 139],\n",
              " [3367, 39, 175, 1448, 2, 3360],\n",
              " [627,\n",
              "  2767,\n",
              "  1,\n",
              "  6,\n",
              "  4741,\n",
              "  3,\n",
              "  231,\n",
              "  21,\n",
              "  3139,\n",
              "  2,\n",
              "  1273,\n",
              "  4,\n",
              "  973,\n",
              "  22,\n",
              "  17,\n",
              "  25,\n",
              "  34,\n",
              "  2308,\n",
              "  352,\n",
              "  5,\n",
              "  3642,\n",
              "  391],\n",
              " [827, 912, 63, 5, 7, 1, 10, 7, 1],\n",
              " [4, 406, 3, 2431, 7, 306, 1010, 20, 1927, 5991, 1],\n",
              " [1, 7017, 3368, 2, 5992, 14, 37, 11, 8492, 115, 2768, 2, 536, 20, 4, 1629],\n",
              " [1, 1449, 12, 1, 1, 6, 5993, 1450, 2602, 3140],\n",
              " [68, 1, 1, 4742, 6, 1, 7018, 10, 107, 5, 1762, 180, 285],\n",
              " [297, 5994, 757, 864, 658, 1630, 4, 724, 3, 197],\n",
              " [1, 14, 9, 4, 1, 659, 828, 4, 625, 21, 1, 1, 5309],\n",
              " [8493, 1229, 437, 1496, 2, 36, 535, 298, 10, 27],\n",
              " [1, 9, 4, 426, 1231],\n",
              " [281, 4312, 2, 695, 1, 2, 4743, 149],\n",
              " [502, 5995, 683, 3, 3917, 308, 972, 1497, 5, 1],\n",
              " [12, 302, 470, 786, 1036, 2, 1566, 236, 2105, 2945],\n",
              " [4, 607, 8494, 1232, 28, 3643, 7019, 2946, 11, 7, 1928, 1],\n",
              " [106, 3644, 17, 758, 8495],\n",
              " [322, 3645, 8496, 20, 1, 6, 1, 2947, 1183],\n",
              " [1034, 8497, 2755, 103, 3369, 26, 1, 8497],\n",
              " [1692, 91, 185, 3141, 391, 6, 1, 8, 1042, 354],\n",
              " [86, 39, 1184, 3370, 6, 5996, 527, 20, 519, 103, 752],\n",
              " [1185, 1, 337, 11, 1185, 5310, 207],\n",
              " [25, 2, 5997, 31, 1451, 21, 5998, 1011],\n",
              " [809, 25, 242, 161, 11, 3918, 7020, 166, 574, 10, 913, 1],\n",
              " [14, 37, 307, 442, 16, 117, 639, 2948, 25, 18, 93, 27],\n",
              " [1042, 2106, 30, 5999, 1683, 116, 2949, 6, 3913],\n",
              " [8498, 1, 1012, 82, 26, 240, 7021, 4313, 8499],\n",
              " [7022, 1, 29, 36, 7, 8500],\n",
              " [5311, 5312, 9, 1, 1, 30, 341, 166, 618, 7023, 10, 4, 3646, 245],\n",
              " [12, 331, 132, 889, 1, 2210, 3, 2950, 5, 6000],\n",
              " [578, 2211, 374, 2, 392, 358, 236, 4, 484, 3, 1013],\n",
              " [1171, 5313, 1400, 8501, 845, 6001],\n",
              " [2309, 1, 11, 62, 803, 7, 8502],\n",
              " [45, 187, 1, 195, 1397],\n",
              " [12, 4314, 2951, 265, 1911, 407, 254, 2, 375, 2107, 1, 1, 254, 2, 839],\n",
              " [2952, 7, 2943, 6, 227],\n",
              " [721, 2603, 2769, 1, 3919, 1, 4315, 4316],\n",
              " [5314, 582, 1, 2432, 73, 48, 2105, 1567, 4, 102, 11, 526, 2, 319],\n",
              " [1, 7024, 1, 2953, 293, 861, 90, 100, 3920],\n",
              " [43, 1, 3631, 11, 974, 1186, 3921, 1],\n",
              " [56, 1, 2108, 1, 236, 1043, 3922, 722, 131],\n",
              " [2954, 2943, 6, 3360],\n",
              " [528, 9, 4, 2212, 5315, 86],\n",
              " [2433, 13, 4744, 1, 1, 4745, 48, 77, 70, 1, 2, 2003, 64, 3142, 1, 362, 1],\n",
              " [56, 37, 473, 2, 386, 2763, 1225, 2305, 339, 1, 3923, 2434, 1763],\n",
              " [1452, 1995, 336, 1498, 60, 2005, 282, 8, 6002, 6003],\n",
              " [1233, 2770, 2, 5316, 4317, 1, 975],\n",
              " [203, 1929, 4318, 8, 25, 1, 276, 39, 185, 107],\n",
              " [303, 103, 1764, 4, 367, 1, 8503, 4, 92, 6, 1, 1],\n",
              " [14, 5317, 2, 24, 8504, 1, 711, 2310, 5, 12, 124],\n",
              " [25, 93, 80, 241, 2435, 1930, 3, 2311],\n",
              " [8, 5318, 5, 1846],\n",
              " [39, 1187, 1568, 2771, 4319, 1234, 890],\n",
              " [1, 1, 71, 6004, 236, 1, 20, 1, 2772, 6005],\n",
              " [83, 388, 336, 1354, 2, 2773, 934, 58, 49, 13],\n",
              " [273, 11, 62, 148, 92, 36, 1631],\n",
              " [976, 3, 3371, 1453, 1, 1632, 29, 130, 2, 2955, 3371],\n",
              " [234, 865, 172, 2956, 2, 181, 67, 2, 185, 110, 1499, 2312],\n",
              " [4, 527, 389, 2109, 246, 298, 10, 793, 280, 4746, 1014, 2774],\n",
              " [45, 88, 246, 24, 1, 5, 101, 1318],\n",
              " [1, 910, 3, 231, 8505, 211, 144, 176, 5, 1, 2, 1044, 2313, 15, 153, 23],\n",
              " [4320, 528, 3647, 887, 769, 2, 2436],\n",
              " [4747, 5319, 396, 1, 1, 2, 407, 507],\n",
              " [43, 679, 23, 3, 134, 670],\n",
              " [4748, 3143, 602, 1765, 178, 5, 846, 1401],\n",
              " [638, 1490, 1, 941],\n",
              " [1454, 8506, 4283, 119, 58, 143, 1, 6006, 2314],\n",
              " [1, 1, 5320, 7025, 2775, 6, 1, 1],\n",
              " [200, 441, 7026, 1224, 238, 6007],\n",
              " [4, 101, 3648, 12, 942, 1, 1, 11, 69, 2006, 2, 3924, 5, 379],\n",
              " [528, 1500, 1, 568, 5, 7, 337],\n",
              " [240, 2110, 6, 1633, 1, 2, 450, 6, 3925, 1, 1],\n",
              " [464, 3, 771, 8, 8507, 1, 58, 7, 7027, 42, 47, 237, 472, 483],\n",
              " [5321, 8508, 11, 6008, 4749, 1, 9, 1],\n",
              " [7028, 8509, 8510, 2096, 1402, 884, 891],\n",
              " [3649, 6009, 3926, 3, 1835, 5, 1, 1403, 2957],\n",
              " [13, 369, 1],\n",
              " [331, 15, 1, 474, 138, 227, 1319, 35, 604, 1847, 8511, 289],\n",
              " [98, 40, 1766, 7029, 1188, 446, 155, 61, 290, 2, 866, 142, 2604, 2776],\n",
              " [175, 90, 1348, 1, 1931, 212, 206, 120, 24, 134],\n",
              " [14, 29, 4321, 33, 295, 3, 32, 6010, 771, 30],\n",
              " [6011, 888, 6, 3144, 1274, 7005],\n",
              " [81, 977, 1634, 151, 1, 4750, 6, 198, 3145, 329],\n",
              " [1, 3650, 149, 1932, 974, 279, 1],\n",
              " [4, 320, 447, 6012, 5, 41, 200, 639, 124],\n",
              " [741, 8512, 6013, 1, 734, 3, 3146, 5, 4322],\n",
              " [772, 2307, 50, 2007, 1, 2, 1, 3651],\n",
              " [1045, 597, 1848, 39, 71, 7030, 22, 1230, 1046, 3652, 802],\n",
              " [1084, 419, 3927, 515, 1693, 401, 1, 1],\n",
              " [3372, 22, 1, 300, 6014, 1275, 69, 111, 7031, 1569, 7032],\n",
              " [13, 383, 310, 270, 2, 1487, 23, 3, 3928, 109, 34, 54, 1189, 2, 1140, 1501],\n",
              " [2777, 178, 1, 557, 8513, 168, 1767, 1, 178, 16, 2105],\n",
              " [12, 43, 125, 91, 95, 5322, 5, 1047, 85, 1629, 455, 617, 76, 6015],\n",
              " [2315,\n",
              "  302,\n",
              "  4751,\n",
              "  1235,\n",
              "  35,\n",
              "  1933,\n",
              "  18,\n",
              "  246,\n",
              "  259,\n",
              "  7,\n",
              "  605,\n",
              "  17,\n",
              "  2605,\n",
              "  18,\n",
              "  74,\n",
              "  16,\n",
              "  694,\n",
              "  1,\n",
              "  7,\n",
              "  44,\n",
              "  42,\n",
              "  41,\n",
              "  8514,\n",
              "  2111],\n",
              " [7033, 128, 167, 8, 3147, 2, 536, 497, 8515],\n",
              " [56, 1048, 739, 82, 45, 549, 29, 1, 7, 2958],\n",
              " [867, 110, 389, 2, 4323, 35, 1, 10, 330, 655, 12, 4324, 1],\n",
              " [978, 4, 1, 3, 4, 742, 5323, 7, 3136, 1],\n",
              " [16, 694, 1765, 4752, 619, 30, 1, 979, 7034, 652, 2425],\n",
              " [246, 579, 184, 304],\n",
              " [794, 101, 8516, 238, 301, 3, 1015],\n",
              " [1849, 219, 587, 1, 166, 2606],\n",
              " [67, 114, 58, 1, 12, 759, 3148, 6016, 394, 100, 114, 2212, 3653, 3653, 788],\n",
              " [255, 1, 2778, 1224, 181, 2, 1850, 35, 1016],\n",
              " [2437, 6017, 1, 1, 2, 121],\n",
              " [4325, 4, 2112, 3, 2008, 1835, 3373, 243, 188],\n",
              " [914, 1768, 91, 4753, 6, 608, 1, 2, 795, 265],\n",
              " [2, 31, 129],\n",
              " [12, 232, 4326, 8, 5324, 886, 6, 466, 3, 4, 2213],\n",
              " [2113, 2779, 1049, 27, 48, 1, 1, 2, 362],\n",
              " [413, 254, 4, 7035, 54, 1115, 1, 3374],\n",
              " [157, 285, 2, 428, 89, 209, 2607, 21, 3375, 4327],\n",
              " [4, 2009, 2214, 191, 80, 314, 79, 915],\n",
              " [2437, 1396, 133, 89, 618, 4328, 8517, 246, 24, 3376, 20, 2959, 3149, 1050],\n",
              " [281,\n",
              "  616,\n",
              "  268,\n",
              "  79,\n",
              "  324,\n",
              "  176,\n",
              "  108,\n",
              "  24,\n",
              "  109,\n",
              "  228,\n",
              "  2114,\n",
              "  76,\n",
              "  79,\n",
              "  55,\n",
              "  116,\n",
              "  97,\n",
              "  453,\n",
              "  510],\n",
              " [43, 27, 71, 6018, 792, 2316, 2, 868, 58, 49, 13],\n",
              " [14, 782, 6019, 13, 1228, 251, 936, 2608, 16, 943],\n",
              " [77, 1, 5325, 1190],\n",
              " [25, 508, 1051, 79, 915, 10, 5326, 2215],\n",
              " [68, 944, 1635, 1, 10, 8518, 1769, 1],\n",
              " [5327, 1, 2, 239, 5, 712, 3920, 59],\n",
              " [599, 696, 1, 82, 1, 3, 1],\n",
              " [174, 25, 60, 3377, 141, 3654, 4, 829, 2, 4, 345, 1140, 2780],\n",
              " [342, 6, 1934, 5, 35, 4, 510, 1404],\n",
              " [6020, 3, 654, 6021, 760, 2, 1, 1, 62, 7017, 5, 4, 230, 3150],\n",
              " [3655, 99, 770, 787, 1, 1, 2317],\n",
              " [62, 2438, 179, 2960, 2, 4754, 76, 1, 405],\n",
              " [4, 4755, 28, 214, 19, 56, 4756, 23, 3, 59, 7036, 1694],\n",
              " [1, 1, 4757, 1770, 685],\n",
              " [7010, 3929, 16, 35, 57, 163, 653, 4758, 6022],\n",
              " [1141, 7037, 7038, 2010, 2, 47, 14, 26, 62, 4329, 217, 87],\n",
              " [157, 7039, 1112, 7040, 3, 3656, 2, 324, 176],\n",
              " [3657, 230, 2961, 637, 892, 10, 1, 8519],\n",
              " [2318, 3378, 54, 32, 686, 24, 1],\n",
              " [189, 8520, 1, 438, 252, 1],\n",
              " [7041, 768, 2, 1623, 7042],\n",
              " [148, 2, 182, 1, 3628, 28, 2099, 980, 4759, 1, 16, 163, 1636, 806, 35, 3, 19],\n",
              " [810, 1, 1, 944],\n",
              " [1455, 1052, 30, 1, 3658, 2, 33, 1017, 106, 106, 725, 103, 1310],\n",
              " [569, 788, 708, 945, 2099, 56, 2781, 2782],\n",
              " [5, 31, 263, 4, 3659, 276, 3, 1841, 2439, 9, 45, 455, 1082],\n",
              " [7, 1, 7043, 356, 509, 2, 1620],\n",
              " [2115, 6023, 1, 2011, 14, 37, 1116, 235, 1, 20, 426, 1, 1682],\n",
              " [49, 13, 9, 635, 1142, 4330, 3, 1405],\n",
              " [57, 2, 283, 8521, 28, 30, 4760, 1],\n",
              " [981, 2, 1273, 82, 773, 1143, 708, 719, 1456, 626],\n",
              " [13, 1, 916, 447, 282, 10, 8522, 17, 104, 1502, 1],\n",
              " [8523, 2216, 1, 165],\n",
              " [88, 214, 4, 2012, 179, 16, 5328, 1144, 329, 4331],\n",
              " [112, 168, 2783, 830, 65, 1637, 668, 4332, 2784, 1771],\n",
              " [869, 7044, 11, 27, 7045],\n",
              " [25, 7, 438, 252, 1, 1447, 2440, 2600, 713, 40, 4333],\n",
              " [7046,\n",
              "  293,\n",
              "  1355,\n",
              "  642,\n",
              "  2,\n",
              "  112,\n",
              "  2441,\n",
              "  1,\n",
              "  5329,\n",
              "  2,\n",
              "  4,\n",
              "  5330,\n",
              "  173,\n",
              "  1406,\n",
              "  8,\n",
              "  1236,\n",
              "  1],\n",
              " [234, 514, 405, 100, 1407, 2, 312, 7047, 792, 1],\n",
              " [1, 456, 467, 20, 77, 70, 363],\n",
              " [25, 93, 80, 74, 79, 183, 431, 61, 726, 5, 144, 10, 1145],\n",
              " [413, 7048, 135, 28, 67, 46, 485, 353, 5, 65, 1346],\n",
              " [3930, 5331, 55, 2962, 5, 385, 103],\n",
              " [408, 4, 169, 3379, 1237, 345],\n",
              " [7, 7049, 1638, 394, 3, 569, 8524],\n",
              " [2785, 3151, 5332, 811, 61, 4761, 666, 10, 4762, 1, 419, 5, 8525],\n",
              " [1, 1, 8, 4, 8526, 353, 59, 843, 1039, 1756],\n",
              " [68, 432, 2, 4721, 887, 527, 1695],\n",
              " [3380, 1085, 9, 4, 198, 3931, 1],\n",
              " [721, 1032, 6024, 704, 3381, 1, 5, 2442, 812, 1405],\n",
              " [124, 1, 714, 42, 121, 3, 14, 1570, 20, 867, 110],\n",
              " [1, 8527, 52, 4, 893, 7050, 24, 28, 1, 394, 143, 1503, 370],\n",
              " [8528, 3152, 213, 605, 35, 48, 1, 6025],\n",
              " [136, 81, 715, 12, 343, 3153, 1, 1238, 3, 1, 8529, 7051, 26, 6026, 5, 498],\n",
              " [8530, 8531, 6027, 608, 82, 8532, 3, 8533, 315],\n",
              " [1, 1, 52, 1851, 236, 13, 39, 24, 1, 7052, 1],\n",
              " [5333, 1852, 1, 8534, 671, 114, 5334, 82, 697, 362, 8535],\n",
              " [1935, 170, 1, 1, 1, 2319, 2, 2217],\n",
              " [1320, 7053, 1146, 3, 115, 1, 26, 8536, 2320, 2116],\n",
              " [2609, 698, 7054, 339, 1, 3932, 13, 11, 451, 2, 5335, 8537],\n",
              " [3933, 4763, 544, 492, 8538, 369, 16, 8539, 47, 6028, 1232],\n",
              " [237, 94, 2963, 2, 409, 163, 1441, 1],\n",
              " [486, 1, 38, 29, 235, 2321, 1571, 2, 276],\n",
              " [33, 145, 108, 46, 1354, 7055, 48, 1238, 3, 1919, 1407],\n",
              " [931, 5966, 3, 130, 2, 398, 206, 774, 58, 843, 3, 119, 151, 1],\n",
              " [43, 156, 1504, 605, 520, 1017, 2, 6029, 115, 3154, 20, 1454],\n",
              " [1853, 13, 8540, 771, 1, 26, 215, 3, 4, 106, 1, 86, 1],\n",
              " [2610, 3916, 38, 235, 2786, 10, 8541, 672, 34, 75, 7, 219],\n",
              " [3155, 1639, 3660, 3382, 274, 20, 1],\n",
              " [4, 102, 3156, 2, 946, 8, 1696, 51, 6, 155, 3, 35, 3896],\n",
              " [4, 336, 1],\n",
              " [81, 1086, 7056, 1, 1276, 2, 1, 35, 201, 7057, 1],\n",
              " [3157, 813, 2117, 1, 1],\n",
              " [192, 2611, 320, 220, 5, 4334, 3158],\n",
              " [7, 1, 3, 8542, 9, 1, 331, 930, 41, 2013, 3383, 609, 66],\n",
              " [1239, 94, 1457, 149, 11, 4, 4335, 3159, 4764, 217],\n",
              " [3934, 7058, 3898, 1189, 23, 17, 1936, 884, 5, 4336, 1935, 687],\n",
              " [211, 356, 509, 2, 2218, 2118, 15, 7, 330, 99, 396],\n",
              " [200, 511, 2, 2443, 31, 686],\n",
              " [124, 256, 7059, 14, 1, 5, 1566, 153, 1273, 82, 20, 1458],\n",
              " [1, 1177, 464, 39, 259, 13, 7, 421, 752, 7060, 362],\n",
              " [7061, 7062, 1, 8543, 25, 143, 108, 839],\n",
              " [110, 1147, 4337, 1, 422, 3, 414, 56],\n",
              " [7, 2444, 8544, 2612, 276, 3, 1772, 5, 1052],\n",
              " [1, 4, 7063, 1, 8545, 19, 2219, 2445, 294, 1, 1854],\n",
              " [3935,\n",
              "  1408,\n",
              "  2787,\n",
              "  1,\n",
              "  1,\n",
              "  446,\n",
              "  27,\n",
              "  38,\n",
              "  7,\n",
              "  550,\n",
              "  439,\n",
              "  2,\n",
              "  1640,\n",
              "  23,\n",
              "  25,\n",
              "  2,\n",
              "  1,\n",
              "  222],\n",
              " [495, 2096, 27, 38, 8546, 1937, 8, 49, 13],\n",
              " [33, 3936, 54, 1697, 2, 2119, 3384],\n",
              " [516, 5336],\n",
              " [231, 1855, 3, 4338, 725],\n",
              " [188, 6970, 116, 2613, 2220, 15, 86, 197, 80, 12, 316],\n",
              " [684, 1041, 69, 743, 1, 2007],\n",
              " [1, 1, 6030, 8, 189, 316, 1232],\n",
              " [4, 727, 2, 2446, 1, 3160],\n",
              " [4, 111, 2322, 570, 6, 2964, 1641, 18, 146],\n",
              " [49, 13, 52, 1191, 503, 9, 1773, 2, 2595, 2447, 7064, 3385],\n",
              " [1047, 3661, 1505, 473, 8547, 734, 1356, 1774, 8, 487],\n",
              " [2301, 756, 16, 694, 209, 113, 5337, 5, 6031, 260],\n",
              " [3632, 8548, 1498, 655, 7, 1045, 347, 6, 299, 277],\n",
              " [119, 44, 61, 2096, 322, 1, 891],\n",
              " [6032, 210, 314, 5, 1, 2111, 3, 4, 122, 3662],\n",
              " [206, 1053, 417, 12, 1642],\n",
              " [2448, 8549, 9, 4, 1],\n",
              " [211, 92, 1848, 74, 27, 2114, 6, 12, 2120],\n",
              " [8550, 1488, 21, 142, 3137],\n",
              " [181, 2, 74, 4765, 40, 4333, 475, 1087],\n",
              " [14, 1, 34, 62, 803, 38, 2, 2121, 310, 5338, 806, 3, 2449, 1, 5, 326],\n",
              " [112, 1938, 8551, 1, 26, 3161, 8552],\n",
              " [547, 2788, 270, 43, 8, 1240, 7065, 857, 11, 8553],\n",
              " [240, 1054, 504, 4339, 1633, 936, 2789, 6, 870, 7066],\n",
              " [1, 635, 129, 628, 15, 6033],\n",
              " [4766,\n",
              "  1,\n",
              "  1,\n",
              "  6034,\n",
              "  100,\n",
              "  57,\n",
              "  2,\n",
              "  259,\n",
              "  22,\n",
              "  8,\n",
              "  6035,\n",
              "  160,\n",
              "  524,\n",
              "  3,\n",
              "  1459,\n",
              "  134,\n",
              "  1505],\n",
              " [1, 4767, 1, 164, 3162, 279, 7, 1],\n",
              " [98, 1698, 238, 1, 20, 17, 2107, 4340, 117, 44],\n",
              " [355, 6036, 1, 14, 2600, 70, 2, 1277],\n",
              " [3383, 3937, 22, 1, 4341, 3386, 1, 1996, 155, 42, 1357],\n",
              " [39, 35, 270, 346, 1, 2, 13, 9, 4, 744, 148],\n",
              " [1351, 422, 2790, 1192, 673, 359, 110, 945, 894, 14],\n",
              " [913,\n",
              "  814,\n",
              "  1688,\n",
              "  1,\n",
              "  775,\n",
              "  149,\n",
              "  111,\n",
              "  38,\n",
              "  41,\n",
              "  1939,\n",
              "  4342,\n",
              "  1,\n",
              "  2014,\n",
              "  404,\n",
              "  1,\n",
              "  20,\n",
              "  668,\n",
              "  1],\n",
              " [98, 1193, 113, 1226, 153, 23, 3, 119, 151, 135, 399, 44],\n",
              " [1506, 3938, 1, 23, 3, 947, 67, 2, 1148, 1241, 1507],\n",
              " [529, 1775, 8554, 1274, 2, 674, 2010, 2323, 42, 4, 1499, 5, 1, 1],\n",
              " [4, 401, 284, 3, 25, 231, 1856, 4, 1681, 1218, 1],\n",
              " [369, 1776, 1460, 6037, 2122, 65, 916, 416, 620, 22],\n",
              " [982, 3939, 1242, 102, 3387, 217],\n",
              " [7, 617, 670, 3, 145],\n",
              " [1346, 7067, 165, 740, 335, 2965, 5, 444, 191, 27, 348, 815, 228, 2221],\n",
              " [15,\n",
              "  2791,\n",
              "  2120,\n",
              "  2,\n",
              "  3163,\n",
              "  64,\n",
              "  4,\n",
              "  2007,\n",
              "  3940,\n",
              "  1,\n",
              "  145,\n",
              "  11,\n",
              "  29,\n",
              "  142,\n",
              "  1321,\n",
              "  113,\n",
              "  145],\n",
              " [49, 13, 339, 2450, 7068, 11, 1, 72, 7069, 9, 7, 1],\n",
              " [13, 52, 231, 246, 161, 1, 1643, 116, 1088, 7, 802, 6, 4, 448],\n",
              " [3663, 1, 5, 1940, 3388, 1, 2015, 16, 86, 582],\n",
              " [189, 8555, 2451, 293, 109, 744],\n",
              " [45, 675, 157, 184, 131, 482, 144, 2222],\n",
              " [91, 131, 4, 77, 70, 11, 1924, 40, 934, 76, 27, 1],\n",
              " [1508, 887, 38, 152, 229, 7070, 8556, 3941, 7071, 1, 4768, 1],\n",
              " [7, 1, 3664, 5339, 17, 1509, 9, 129],\n",
              " [47, 1, 670, 3, 7, 1, 14, 688],\n",
              " [1, 796, 2, 8557],\n",
              " [1, 4343, 1644, 3942, 164, 117, 639, 1777, 6, 102, 2123, 759],\n",
              " [21, 1941, 2614, 558, 2, 7072, 1241, 363, 432],\n",
              " [12, 262, 2452, 3943, 3164, 9, 1, 1699, 46, 1194, 8, 16, 1002, 57],\n",
              " [1243, 3165, 7073, 941, 2, 1, 3665, 847],\n",
              " [1, 810, 3389, 567, 981, 5, 147, 1],\n",
              " [47, 14, 948, 1, 282, 26, 3666, 2, 313, 480, 610],\n",
              " [1409, 150, 1, 16, 189, 1],\n",
              " [385, 44, 5340, 362, 464, 8558, 2754, 2615, 3, 2616, 1195, 1],\n",
              " [3166, 2792, 684, 1041, 9, 4, 8559, 830, 4, 364, 2793, 3389],\n",
              " [6038, 1, 6039],\n",
              " [1645, 2437, 1244, 2, 193, 332, 3, 530, 1],\n",
              " [1935, 2, 1, 1, 2453, 4769, 5, 6040, 588, 728, 6041, 7074],\n",
              " [110, 4770, 1572, 75, 1, 2966, 42, 4771, 362, 1218],\n",
              " [47, 14, 4772, 871, 370, 142, 643],\n",
              " [21, 260, 2016, 1, 3167, 531, 3, 288, 2454],\n",
              " [96, 2609, 1089, 8560, 471, 23, 9, 52, 27, 3944, 149, 376, 29, 2617, 2, 1],\n",
              " [1, 656, 2, 589, 78, 892, 2967],\n",
              " [8561,\n",
              "  558,\n",
              "  3945,\n",
              "  12,\n",
              "  3946,\n",
              "  28,\n",
              "  2223,\n",
              "  1510,\n",
              "  39,\n",
              "  340,\n",
              "  36,\n",
              "  26,\n",
              "  3937,\n",
              "  22,\n",
              "  26,\n",
              "  2017],\n",
              " [2455, 707, 740, 644, 761, 3375, 6, 831, 189, 917],\n",
              " [8562, 1239, 1, 1, 173, 1, 5291, 425, 8563],\n",
              " [13, 6042, 2750, 590, 949, 2, 419, 4344],\n",
              " [12, 7075, 164, 6016, 934, 2956, 1002],\n",
              " [532, 2324, 308, 2124, 2, 1857, 1443, 222, 63, 78, 8, 89, 1839],\n",
              " [84, 7076, 621, 2, 241, 20],\n",
              " [4345, 1, 1, 1033, 845, 5, 5341, 233, 2618, 983, 816, 784, 103, 274],\n",
              " [14, 37, 1, 1, 797, 1, 1573, 1245, 33, 65, 8564, 6043, 196, 235],\n",
              " [188, 135, 18, 520, 348, 118, 17, 362],\n",
              " [266, 1, 1271, 55, 113, 2, 375, 14, 6044, 1646, 6, 3661],\n",
              " [31, 618, 397, 1270, 1837, 2968, 233, 63, 89, 182, 582],\n",
              " [133, 2325, 23, 984, 1778, 2, 185, 33, 89, 61, 5342, 4, 1, 9, 1, 30, 22, 2],\n",
              " [533, 488, 1834, 2, 3947, 33, 476, 2108, 2018, 109, 229, 2, 63, 273],\n",
              " [12, 544, 492, 420, 1, 162, 5, 409, 4773],\n",
              " [1402, 884, 2456, 489, 521, 693, 4, 327, 143, 908, 143, 261],\n",
              " [1358, 3390, 6045, 8565, 474, 64, 8, 4346, 2, 323, 59],\n",
              " [1, 30, 1172, 4, 92, 97, 93, 277],\n",
              " [2019, 113, 7077, 2125, 82, 2, 479, 3, 3948, 5343],\n",
              " [365, 7078, 1489, 98, 3, 8566],\n",
              " [25, 2, 114, 1832, 5, 7, 2619, 699, 200, 139],\n",
              " [2969, 3949, 8567, 95, 3, 3391],\n",
              " [33, 100, 114, 58, 2, 46, 7, 1],\n",
              " [2020, 131, 251, 776, 3168, 87, 1461, 452, 3169],\n",
              " [683, 1322, 1354, 1, 3, 67, 1, 93, 712, 34, 1],\n",
              " [7079, 6046, 1693, 3170, 4774, 6, 287],\n",
              " [2326, 330, 8, 4, 3650, 6, 1, 1, 19, 892],\n",
              " [133,\n",
              "  1942,\n",
              "  6047,\n",
              "  160,\n",
              "  1410,\n",
              "  3,\n",
              "  1511,\n",
              "  384,\n",
              "  184,\n",
              "  46,\n",
              "  316,\n",
              "  2,\n",
              "  3339,\n",
              "  48,\n",
              "  222,\n",
              "  19,\n",
              "  243],\n",
              " [4, 102, 3950, 2620, 93, 19],\n",
              " [1171, 832, 2794, 1246, 75, 2319, 537],\n",
              " [1, 296, 12, 334, 3, 8568, 1, 1018, 1],\n",
              " [454, 1359, 2457, 1408, 312, 2, 55, 1, 1, 659],\n",
              " [2970, 7080, 1311, 1, 39, 645, 201, 4775, 19, 441],\n",
              " [1117, 3, 4, 1278, 14, 457, 2, 1, 6, 310, 57, 196, 5, 70],\n",
              " [438, 4347, 11, 95, 848, 52, 4776, 1, 8, 5344, 1, 2795, 51],\n",
              " [8569, 204, 4777, 1104, 116, 27, 172, 338, 73, 9, 7081, 1574],\n",
              " [5345, 423, 833, 6, 1639, 1, 8570],\n",
              " [8571, 14, 8572, 8573, 1, 390, 1943, 36, 5, 351, 458, 455, 1146],\n",
              " [2621, 263, 3171, 3, 60, 3667, 841],\n",
              " [559, 86, 1575, 1, 10, 468, 518, 834, 1],\n",
              " [1, 2971, 1, 1, 6048, 433, 21, 3172, 715],\n",
              " [6049, 1038, 1179, 3, 41, 51, 6050, 1, 2972, 6, 462, 10, 3668, 2973],\n",
              " [4348, 1244, 2, 7082, 3149, 1033, 2126, 1],\n",
              " [248, 135, 35, 157, 3, 198, 155, 93, 116, 641, 2, 2458],\n",
              " [531, 3, 12, 3173, 6051, 71, 279, 416, 355],\n",
              " [112, 1, 284, 1, 950, 10, 1944, 3, 178, 2622],\n",
              " [8574, 1, 1, 2, 849, 1, 1, 1512],\n",
              " [179, 16, 27, 100, 3174, 609],\n",
              " [25,\n",
              "  2,\n",
              "  839,\n",
              "  2,\n",
              "  4,\n",
              "  1858,\n",
              "  126,\n",
              "  68,\n",
              "  551,\n",
              "  4349,\n",
              "  1,\n",
              "  2459,\n",
              "  2,\n",
              "  757,\n",
              "  8575,\n",
              "  8,\n",
              "  2939,\n",
              "  5,\n",
              "  705],\n",
              " [1, 1, 7083, 8576, 54, 7, 4350, 217, 2098, 24, 1],\n",
              " [1, 1, 2460, 424, 23, 3, 968],\n",
              " [531, 651, 5, 8577, 140, 3175, 205],\n",
              " [12, 5346, 814, 6052, 2, 112, 700, 257, 951, 124],\n",
              " [5347, 360, 736, 44, 1, 1, 1, 254, 2, 2204, 31, 14],\n",
              " [1859, 3, 1, 8578, 22, 4778, 4779, 1149, 2796],\n",
              " [19, 2797, 946, 11, 1924, 7, 1574, 9, 3392, 845, 6, 754, 2798],\n",
              " [4780, 1196, 918, 4781, 3669, 843, 212, 47, 4780],\n",
              " [2021, 1089, 5327, 52, 2770, 2, 2461, 1322, 1, 10, 772, 2462],\n",
              " [21, 158, 2799, 2974, 559, 7084, 639],\n",
              " [3176, 1323, 1453, 1106, 1634, 216, 5, 598],\n",
              " [604, 6053, 1, 16, 835, 3, 1],\n",
              " [14, 341, 38, 697, 1576, 1, 22, 6, 1764, 5, 699],\n",
              " [47,\n",
              "  2975,\n",
              "  38,\n",
              "  41,\n",
              "  1324,\n",
              "  3,\n",
              "  65,\n",
              "  1450,\n",
              "  8,\n",
              "  59,\n",
              "  189,\n",
              "  14,\n",
              "  39,\n",
              "  304,\n",
              "  18,\n",
              "  28,\n",
              "  148,\n",
              "  69],\n",
              " [490, 1, 700, 1647, 6, 2022, 5348],\n",
              " [3951, 164, 790, 1197, 644],\n",
              " [1, 610, 339, 34, 105, 2784],\n",
              " [1779, 2763, 4351, 1, 2613, 2800, 1700, 446, 69],\n",
              " [297, 615, 473, 250, 114, 838, 2, 179, 61],\n",
              " [33, 38, 1459, 7, 1462, 1113, 2, 268],\n",
              " [124, 1, 4329, 8, 70, 1279],\n",
              " [14, 1198, 1, 5349, 279, 1325],\n",
              " [49, 1513, 203],\n",
              " [145, 948, 379, 337, 2, 6054, 2, 1, 1, 916, 7009, 1],\n",
              " [584, 167, 13, 5283, 1, 6, 655, 4352, 4353, 282, 2, 4354, 1280, 477],\n",
              " [4767, 4782, 52, 2327, 1940, 38, 713, 7, 1, 3, 8579],\n",
              " [1281, 55, 1577, 2328, 697, 6055, 3, 1196, 660],\n",
              " [88, 5350, 8580],\n",
              " [2976, 872, 8581, 13, 3915, 1, 2, 1860, 6, 2023, 361],\n",
              " [25, 2593, 970, 11, 1199, 268, 24, 7, 258, 268],\n",
              " [12, 751, 141, 929, 2977, 2, 589, 1411, 6, 169, 834],\n",
              " [56, 1, 16, 823, 946, 38, 28, 3393, 1, 202, 524, 207],\n",
              " [1053, 3, 8582, 2127, 1701, 2978, 2463, 4349, 27, 2949, 7, 2127, 1701],\n",
              " [87, 136, 81, 46, 33, 27, 186, 2, 2329, 4, 377, 5, 3952],\n",
              " [1247, 5351, 1, 101, 1456, 16, 4783],\n",
              " [49, 13, 6056, 1702, 914, 109, 40, 101, 2024, 63, 1564, 3953, 4784],\n",
              " [101, 1, 5, 4, 1],\n",
              " [4, 1, 1, 1360, 18, 181, 9, 146],\n",
              " [5352, 1, 1, 7085, 1031, 123, 4771, 306, 1361],\n",
              " [4, 3394, 1780, 7086, 2, 5, 588, 2, 1945, 4, 3176, 1, 1578],\n",
              " [188, 44, 61, 762, 8, 1, 263],\n",
              " [6057, 7087, 2979, 2320],\n",
              " [2801, 6058, 38, 41, 530, 646, 2, 1847, 3954, 4355, 1186, 3899],\n",
              " [395, 256, 327, 6, 676, 371, 1, 8, 2583, 3, 159, 1514],\n",
              " [121, 1859, 2962, 1049, 285, 48, 1, 253],\n",
              " [8583, 8584, 1703, 9, 6059, 669, 283, 3395, 21, 1013, 103],\n",
              " [647, 622, 33, 18, 146, 2, 118, 8, 2802, 119],\n",
              " [1362, 2224, 128, 7, 1, 15, 4785, 932],\n",
              " [1, 1, 368, 20, 1237, 123, 1, 282, 16, 7088, 8585],\n",
              " [1780, 888, 78, 8, 5353, 1, 646, 2, 863, 2115],\n",
              " [7089, 1, 3955, 59, 5354, 796, 2, 1, 1],\n",
              " [4786, 138, 1, 3670, 49, 13, 8586, 168, 919, 48, 895],\n",
              " [176, 4356, 27, 39, 24, 229, 57, 90, 34, 443],\n",
              " [12, 1019, 2583, 4787, 555, 183, 44, 61, 1, 2, 1921, 2430],\n",
              " [5355, 5, 7090, 2764, 351, 1, 8587, 2623, 223, 16, 1, 1772, 1],\n",
              " [568, 510, 10, 19, 952, 6, 50, 53, 285, 140, 528, 442],\n",
              " [1, 8588, 191, 745, 1630, 410],\n",
              " [99, 3671, 29, 109, 2225, 672, 115, 8589],\n",
              " [4, 190, 2120, 3, 1009, 51],\n",
              " [210, 2099, 517, 173, 3380, 59, 17, 223, 1463],\n",
              " [106, 2464, 254, 2, 227, 31, 155, 24, 6060, 17, 1704, 57],\n",
              " [8590, 1, 1840, 570, 6, 436, 5, 4, 673],\n",
              " [266,\n",
              "  402,\n",
              "  3396,\n",
              "  113,\n",
              "  67,\n",
              "  39,\n",
              "  2980,\n",
              "  22,\n",
              "  2,\n",
              "  349,\n",
              "  205,\n",
              "  370,\n",
              "  97,\n",
              "  1705,\n",
              "  66,\n",
              "  7,\n",
              "  4788,\n",
              "  9,\n",
              "  6061,\n",
              "  1],\n",
              " [197, 4789, 1142, 7091, 1, 108, 2025, 27, 227],\n",
              " [3956, 6, 7, 2128],\n",
              " [104, 81, 701, 446, 21, 4790, 2, 3397, 458],\n",
              " [33, 18, 105, 93, 83, 18, 182, 7, 8591, 28, 75, 36, 4791],\n",
              " [2, 629, 127, 29, 2, 629, 301, 139],\n",
              " [136, 81, 1049, 830, 48, 388, 336, 5, 12, 873, 395],\n",
              " [1946, 73, 4792, 1926, 252, 874, 2624, 1, 3, 257, 951],\n",
              " [875, 9, 71, 2451, 31, 1, 6062],\n",
              " [117, 385, 103, 7, 190, 1363, 22, 313, 6, 47, 14],\n",
              " [7092, 2458, 97, 1, 8592, 1, 1],\n",
              " [3177, 3398, 2803, 1, 17, 8593, 95, 2618, 3399, 1, 8, 7093],\n",
              " [168, 4357, 246, 1945, 1200, 354, 1248, 909, 394, 13, 11, 130],\n",
              " [11, 2200, 8551, 6, 4, 598, 1, 1010, 1578],\n",
              " [47, 14, 130, 2, 199, 1201, 9, 2804, 28, 7, 685],\n",
              " [183, 1181, 8594, 123, 1150, 2791, 132],\n",
              " [647, 1781, 382, 504, 2465, 114, 2625, 1249, 3957, 2626, 1, 1055],\n",
              " [1, 8595, 5, 4, 3178],\n",
              " [2761, 36, 41, 3, 1, 12, 1, 1515, 1],\n",
              " [80, 5356, 2, 866],\n",
              " [50, 53, 1, 387, 1579, 1782, 2, 681, 1196, 1, 2318, 1],\n",
              " [1151, 1620, 1, 415, 1, 276, 410, 935, 1, 9, 1322, 7094, 4358],\n",
              " [355, 205, 1, 15, 1836, 1, 15, 4793, 574, 238],\n",
              " [1780, 37, 4794, 2, 162, 4, 328, 677, 1759, 6, 65, 1759],\n",
              " [4795, 9, 4, 742, 1],\n",
              " [794, 1, 16, 94, 2466, 648, 25, 281, 2026, 2, 399, 169],\n",
              " [1, 218, 16, 4, 1, 12, 302, 365, 1639],\n",
              " [13, 1326, 2, 7095, 1227, 104, 48, 1280, 477, 1202, 1516, 777, 27],\n",
              " [200, 5279, 1282, 4796, 655, 568, 5, 31, 2749],\n",
              " [4, 887, 3672, 10, 4, 499, 313, 10, 8596],\n",
              " [7, 794, 9, 4359, 8597, 1, 7096, 7097, 1, 59, 4797, 16, 2954, 304, 4360, 72],\n",
              " [45, 1848, 1220, 2626, 4, 1195, 3400, 3, 242, 161],\n",
              " [4, 1, 1, 30, 1, 10, 6063],\n",
              " [13, 11, 215, 5, 4, 1436, 9, 109, 75, 4, 1],\n",
              " [412, 502, 715, 22, 17, 1934, 115, 7, 50, 53, 689, 5357, 9, 40],\n",
              " [47, 56, 1517, 29, 2, 398, 286, 2317, 28, 108, 46, 1, 223, 371, 220],\n",
              " [1, 596, 5282, 6027, 5358, 42, 4361, 874, 8598],\n",
              " [3958, 1861, 3959, 3179, 278, 3180, 3, 2432, 3181, 1],\n",
              " [1, 4, 587, 115, 3, 289],\n",
              " [4, 330, 129, 1103, 3, 1045, 1706],\n",
              " [1566, 1, 391, 1, 3673, 115, 1, 8599, 20, 490, 44, 61, 275, 10, 1947, 6064],\n",
              " [1, 1, 1327, 50, 53, 1, 896],\n",
              " [36, 7, 2004, 9, 3401, 468, 1783, 28, 810, 1, 11, 850, 1],\n",
              " [7, 12, 3674, 1008, 256, 33, 100, 114, 58, 401, 7, 1464, 282],\n",
              " [112, 1283, 18, 246, 538, 15, 156, 3, 4, 365, 1, 953],\n",
              " [2805, 7098, 2457, 1, 1049, 6065, 21, 2027, 1, 3675, 1, 506],\n",
              " [55, 177, 245, 977, 358, 6066, 16, 3182, 2976, 1, 206],\n",
              " [365, 3960, 911, 362, 10, 8518, 1762, 8600, 3, 2330],\n",
              " [168, 1409, 6067, 1, 167, 6, 938, 6067],\n",
              " [427, 3, 13, 3183, 1, 1056, 38, 65, 848, 658, 6, 18],\n",
              " [28, 208, 15, 28, 41, 132, 5, 4362],\n",
              " [336, 783, 104, 81, 8, 3961, 851, 1115],\n",
              " [77, 6068, 167, 60, 1, 3, 641, 1518, 1, 1],\n",
              " [1, 8601, 316, 3, 86, 1, 1519, 2112, 6, 95, 6069, 2, 5359],\n",
              " [12, 2129, 3676, 6070, 2627, 3, 1364, 1],\n",
              " [184, 579, 268, 2, 3677, 8602, 79, 276, 10, 2203, 501],\n",
              " [115, 7, 286, 1, 611, 134, 6, 18, 4, 438, 1507, 52],\n",
              " [3668, 1, 763, 209, 507, 3184, 985, 7099, 8, 7100],\n",
              " [1707, 539, 8603, 552, 786, 1152, 160, 590, 8604, 2, 532],\n",
              " [1, 2, 2467, 1, 1, 3678, 2, 2467],\n",
              " [7, 5360, 6, 79, 102, 315, 79, 66, 1916, 24, 4, 328, 279, 18],\n",
              " [4, 2331, 3, 115, 1],\n",
              " [649, 558, 4798, 26, 205, 2, 1, 3356, 1708, 797, 92, 3962, 76, 2612],\n",
              " [68, 1686, 3, 6071, 23, 21, 29, 5361, 309, 1149, 2796, 499, 313, 6, 310, 51],\n",
              " [3402, 540, 2332, 21, 764, 1, 783, 1, 1],\n",
              " [3963, 560, 2, 677, 1034, 37, 36, 515, 400, 54, 3390, 1142],\n",
              " [7101, 8605, 1, 30, 709, 3, 1, 26, 2806, 8606, 358, 1709, 1643],\n",
              " [369, 30, 642, 6, 2807, 1046, 29, 114, 1768, 4, 1020, 3964],\n",
              " [281, 5, 94, 6072, 1454, 8, 25, 533, 9, 1, 549, 5362],\n",
              " [461, 310, 666, 3, 4363, 29, 7102, 301, 3, 1, 205],\n",
              " [77, 70, 350, 403, 1, 8607, 3185, 7, 1784, 3, 3965],\n",
              " [2028, 2130, 986, 1, 1, 325, 1057, 1, 2, 192, 2611, 2, 93, 464],\n",
              " [413, 103, 5, 2333, 3, 3679, 907, 1198, 954, 2, 1, 4364],\n",
              " [557, 2808, 454, 1, 8, 575, 6073, 1, 64, 2029],\n",
              " [8608, 3, 12, 5363, 1, 1520, 911, 4, 276, 3, 1],\n",
              " [14, 6074, 5364, 58, 219],\n",
              " [41, 117, 1, 1, 4313, 1, 3966, 42, 4, 852, 3371, 518],\n",
              " [8609, 4799, 3403, 1311, 8610, 1, 1785, 8, 4365, 983],\n",
              " [13, 11, 1090, 2306, 116, 6075, 6076],\n",
              " [1250, 3, 1, 955, 1, 8611, 15, 2450, 1, 5365],\n",
              " [1, 1, 3179, 2030, 4, 1, 5, 1365, 5366, 1, 1627],\n",
              " [547, 1, 12, 2954, 304, 491, 268, 1, 745],\n",
              " [1153, 203, 2628, 196, 7, 569, 8612],\n",
              " [569, 398, 1948, 3182, 5, 580, 38, 362, 1353, 10, 94],\n",
              " [1, 37, 1, 21, 13, 3186, 6, 956, 876, 1083, 4366, 22, 207],\n",
              " [112, 4800, 4801, 131, 482, 1091, 1, 5, 617, 7103],\n",
              " [6077, 1182, 1648, 1786, 4, 673, 41, 56, 1, 7, 4367, 3404, 548],\n",
              " [369, 2625, 97, 214, 682, 5, 2334, 23, 3, 628, 6, 192, 180, 4368, 127, 209],\n",
              " [12, 1019, 3405, 491, 2629, 830, 4, 92, 2, 7, 12, 2017, 5, 1710],\n",
              " [842, 110, 2226, 324, 245, 48, 6078, 5367, 1313, 1],\n",
              " [79, 247, 618, 957, 3406],\n",
              " [1195, 4802, 3, 501, 54, 5368, 2468, 3, 66],\n",
              " [163, 8613, 1242, 2, 46, 237, 1, 517, 122, 20, 3407],\n",
              " [984, 2630, 4369, 636, 5369, 2630, 37, 8614, 5370, 2335],\n",
              " [4, 1, 3187, 334, 195, 57, 38, 319],\n",
              " [19, 138, 24, 1092, 18, 78, 15, 1, 7, 1649, 643],\n",
              " [5, 4, 1328, 90, 13, 186, 206, 638, 2131, 8615, 2, 428, 330, 2588],\n",
              " [4, 1172, 583, 2322, 6079],\n",
              " [1707, 539, 296, 12, 221, 2, 1562, 5, 657, 3, 155, 21, 211, 1, 51, 16, 158],\n",
              " [19, 844, 765, 11, 7, 577, 591, 6080, 76, 27, 455],\n",
              " [51, 1, 22, 26, 1039, 20, 119, 413, 7, 1251],\n",
              " [2469, 2470, 2099, 4370, 5, 141, 393, 3188, 1, 21, 2016],\n",
              " [8616, 1847, 2769, 4803, 1, 1329, 86],\n",
              " [1, 1079, 226, 810, 1580, 611, 36, 101, 9, 77],\n",
              " [163, 99, 8617, 177, 1787, 44, 61, 8618, 539, 6, 55, 57, 5, 99, 276],\n",
              " [502, 1, 556, 3189, 2, 940, 8619, 1, 3967, 2, 4, 8620, 6, 1058, 8621],\n",
              " [6, 635, 357, 5985, 459, 2, 1],\n",
              " [1, 1, 2, 24, 1493, 5, 285, 28, 555, 209, 275, 7104],\n",
              " [184, 450, 211, 104, 446, 18, 450, 19],\n",
              " [576, 2, 1, 1, 20, 559, 51],\n",
              " [8622, 1, 1327, 102, 4804, 5, 429, 6, 1, 600, 64, 1173, 1, 7105],\n",
              " [2227, 8623, 2132, 417, 12, 183, 1521, 2320, 8624],\n",
              " [1, 8625, 1, 1400, 2809, 1398, 2, 1, 101, 416, 355],\n",
              " [110, 3408, 3680, 5, 734, 3, 3681, 101, 262, 1034, 684],\n",
              " [6, 7, 55, 57, 1, 798, 2810, 5, 1330],\n",
              " [641, 8626, 8, 3900, 1650, 68, 489, 3900, 1, 7, 8, 853, 1],\n",
              " [3968, 1565, 1, 1, 1, 16, 3968, 1565, 1174],\n",
              " [106, 6081, 28, 54, 227, 18, 1180, 8627, 155],\n",
              " [133, 2031, 2, 940, 17, 197, 5, 1197, 173, 1145, 22, 8, 6082, 202, 1183],\n",
              " [13, 8628, 21, 220, 20, 1, 78, 42, 1203, 2980, 590, 724],\n",
              " [47, 3682, 62, 803, 6083, 1, 3401, 1, 897, 952, 3, 434, 34, 483, 5],\n",
              " [1465,\n",
              "  137,\n",
              "  3409,\n",
              "  11,\n",
              "  1573,\n",
              "  1,\n",
              "  2471,\n",
              "  8,\n",
              "  166,\n",
              "  2472,\n",
              "  1,\n",
              "  124,\n",
              "  7106,\n",
              "  20,\n",
              "  5371,\n",
              "  7107],\n",
              " [502, 7108, 3190, 4280, 2, 4354, 182, 3190],\n",
              " [98, 125, 386, 27, 35, 1021, 1, 28, 442, 39, 319, 4805, 82],\n",
              " [260, 16, 1, 7109, 555, 215, 178, 139, 1949, 3969],\n",
              " [842, 5372, 1, 494, 813, 6, 2032, 846, 721, 334],\n",
              " [1442, 845, 1788, 1, 2, 3410, 6, 1],\n",
              " [480, 1223, 1059, 2, 71, 24, 1284, 1, 311],\n",
              " [262, 4371, 42, 1, 2629, 4298, 379, 1252, 2, 7110],\n",
              " [793, 2470, 1, 1, 13, 256, 798, 1522, 1, 2, 153, 2228],\n",
              " [605, 315, 36, 1003, 380, 2, 6084, 707, 208, 8, 770],\n",
              " [690, 4372, 10, 898, 175, 1],\n",
              " [98, 6085, 3, 122, 8629, 283, 22, 1118, 1, 1651, 5, 123, 3175, 3191],\n",
              " [1, 671, 3938, 3411, 1450, 1],\n",
              " [2133, 3, 3970, 3970, 1, 4373, 2, 1, 608, 8630],\n",
              " [1454, 120, 538, 97, 491, 67, 10, 7111, 8, 1352, 11, 148],\n",
              " [4, 1, 1, 1315, 4806, 6, 4, 55, 57, 5, 247, 103],\n",
              " [30, 88, 512, 4, 459, 3, 166, 201, 1281],\n",
              " [273, 11, 561, 6086, 17, 2033],\n",
              " [1, 8631, 1],\n",
              " [297, 4772, 22, 178, 3192, 37, 7112, 42, 1, 8632, 1523],\n",
              " [6087, 3, 3683, 612, 3971, 69, 5, 6088, 6089],\n",
              " [2631, 3972, 466, 8633, 4312, 33, 3412, 11],\n",
              " [65, 1, 570, 2, 2811, 7, 7113, 583, 149],\n",
              " [47, 7114, 108, 58, 7, 617, 5373],\n",
              " [1190, 1, 5374, 1, 1711, 7115, 6090, 5, 5375, 390, 2034],\n",
              " [4807, 473, 843, 1039, 29, 870, 6, 67, 37, 184, 58, 5376],\n",
              " [1110, 5377, 5, 3413, 3414, 3, 734, 5378, 14, 5, 641, 1060],\n",
              " [1, 12, 1, 381, 27, 35, 510],\n",
              " [68, 3973, 23, 1, 1, 1010, 21, 8634, 1789],\n",
              " [104, 8635, 3684, 1, 9, 1038, 443, 16, 1561],\n",
              " [421, 6091, 253, 5379, 1435, 209, 2, 407, 3193, 1, 1524, 44],\n",
              " [1, 3974, 2115, 120, 538, 62, 41, 616, 107, 196, 214, 1862, 8, 4374],\n",
              " [25, 2, 4808, 6982, 15, 4, 180],\n",
              " [14, 445, 476, 134, 3112, 23, 8, 311],\n",
              " [200, 5380, 6, 7, 1790, 288, 1350],\n",
              " [458, 5381, 2, 24, 5, 1275, 1950],\n",
              " [56, 648, 1525, 885, 2782, 5382, 3975, 23, 3, 1, 3194, 5, 1253, 3, 122, 4764],\n",
              " [2981, 5383, 1769, 7116, 7, 550, 5384, 42, 3363, 6092],\n",
              " [490, 44, 61, 1, 71, 4809, 66, 850, 124, 1581],\n",
              " [746, 7117, 1915, 161, 10, 2812, 2229],\n",
              " [86, 2813, 1, 2, 5992, 947, 8636, 1753, 3, 1, 2768, 1],\n",
              " [56, 974, 512, 755, 143, 1219, 64, 26, 152, 7118],\n",
              " [2230, 2035, 10, 2780, 52, 1, 198, 11, 1172, 4, 621],\n",
              " [7119, 778, 637, 119, 7120, 1],\n",
              " [14, 10, 1582, 739, 64, 1119, 7121, 643],\n",
              " [557, 1254, 22, 3415, 1],\n",
              " [4810, 3, 1, 372, 1],\n",
              " [137, 681, 1526, 3368, 60, 180, 230, 329, 10, 1],\n",
              " [2231, 1931, 1, 1327, 21, 8637, 6093],\n",
              " [4811, 270, 1120, 7, 104, 2, 1, 7, 1652, 2, 1, 3, 1],\n",
              " [43, 62, 41, 16, 77, 3976, 224, 2, 74, 311],\n",
              " [1787, 44, 61, 2, 227, 458, 2632, 1061, 374],\n",
              " [530, 1, 411, 42, 3977, 2, 2443, 1],\n",
              " [1255,\n",
              "  3,\n",
              "  438,\n",
              "  619,\n",
              "  2982,\n",
              "  97,\n",
              "  175,\n",
              "  261,\n",
              "  2,\n",
              "  199,\n",
              "  4311,\n",
              "  2,\n",
              "  4311,\n",
              "  10,\n",
              "  3195,\n",
              "  3196],\n",
              " [624, 170, 808, 2, 5385, 2100, 1256, 3197, 2945],\n",
              " [21, 7, 3416, 3, 7122, 50, 4773, 272, 7123, 3, 8638, 7124],\n",
              " [45, 7125, 11, 152, 163, 2, 4375, 10, 77, 1653],\n",
              " [1285, 22, 10, 4, 3417, 26, 7, 1505],\n",
              " [4, 2232, 92, 3685, 54, 227, 4376, 2473, 6094],\n",
              " [1, 120, 920, 2, 63, 2308, 8, 7126],\n",
              " [1692, 320, 73, 114, 184, 58, 13],\n",
              " [33, 88, 118, 109, 744, 17, 4, 12, 77, 70, 1, 3978],\n",
              " [6095, 3418, 14, 2233, 3198, 8639, 10, 1, 1],\n",
              " [1522,\n",
              "  41,\n",
              "  39,\n",
              "  888,\n",
              "  18,\n",
              "  42,\n",
              "  424,\n",
              "  6,\n",
              "  128,\n",
              "  72,\n",
              "  1153,\n",
              "  203,\n",
              "  1,\n",
              "  3686,\n",
              "  90,\n",
              "  1,\n",
              "  5,\n",
              "  2474,\n",
              "  4283],\n",
              " [1, 8640, 6096, 42, 1, 1],\n",
              " [84, 8641, 1654, 15, 4, 365, 6097, 1],\n",
              " [247, 1, 3, 115, 3199, 123, 4, 1527],\n",
              " [133, 1, 20, 1655, 704, 4812],\n",
              " [45, 899, 958, 987, 39, 6098, 5, 51, 279, 7, 56],\n",
              " [136, 1502, 1321, 113, 7127, 562, 974, 141],\n",
              " [687, 10, 1, 1, 1, 3, 8642],\n",
              " [854, 782, 971, 48, 8643, 1856, 2, 569, 788, 708, 47],\n",
              " [1505, 167, 8, 73, 3, 1036, 3687, 8644, 15, 2134, 1, 21, 1690],\n",
              " [47, 210, 39, 111, 112, 135, 5, 1],\n",
              " [4, 2464, 567, 500, 520, 1],\n",
              " [2624, 5386, 8, 955, 2198, 281, 6994, 8645, 6, 386, 1, 2, 8487],\n",
              " [1656, 126, 6099, 2, 3688, 257, 5387, 394, 97, 1017, 64, 1650, 1135, 52],\n",
              " [795, 1170, 8646, 1, 2336, 248, 303, 1, 1046, 1103, 3, 1755],\n",
              " [13, 8647, 7128, 1504, 1, 6, 4813, 4377, 7129, 1],\n",
              " [50, 53, 1438, 1062, 3979, 3, 1580, 8, 657, 2106],\n",
              " [513, 1791, 128, 1630, 234, 4378, 494, 1466, 752, 2, 333, 13, 2475],\n",
              " [201, 1195, 6100, 2234, 1, 1309, 6093, 28, 4287, 908],\n",
              " [863, 3683, 9, 2135, 8, 4, 1247, 1252, 2, 4814, 2014, 3200],\n",
              " [1933, 1505, 3689, 256, 157, 212, 988, 191, 34, 1331],\n",
              " [870, 1, 323, 87, 8648, 234, 113, 276],\n",
              " [12, 2129, 3980, 5, 2613, 779, 28, 1, 1657, 2337, 1],\n",
              " [630, 1121, 3, 280, 26, 97, 2003, 137, 1, 4812, 3, 2036, 3941, 44],\n",
              " [62, 41, 5, 597, 403, 25, 2028, 1, 71, 461, 1510, 142, 1353],\n",
              " [955, 2198, 52, 49, 13, 11, 7, 1, 3, 55, 2209],\n",
              " [1, 444, 585, 198, 4815, 4346, 6, 897, 129, 2983],\n",
              " [1, 7130, 172, 181, 18, 2, 2235, 23, 17, 7, 7131, 6101, 3338, 36, 526, 1465],\n",
              " [133, 5381, 26, 415, 1712, 67, 5, 328, 391, 541],\n",
              " [47, 14, 1, 21, 8649, 8650, 6102, 588],\n",
              " [4, 200, 190, 631, 508, 623, 2, 24, 1412],\n",
              " [505, 4816, 5, 1144, 1467, 577, 2037, 1, 1792, 10, 8651, 596, 3201],\n",
              " [77, 435, 1, 472, 1, 5388, 363, 4379],\n",
              " [3157, 813, 52, 62, 41, 75, 381, 4817, 16, 1951, 3690, 3419, 149],\n",
              " [5389, 1934, 69, 780, 111, 8, 265, 256],\n",
              " [7132, 36, 214, 688, 7, 1, 1, 3981],\n",
              " [526, 211, 49, 13, 989, 38, 7, 3202, 3, 7133, 1413, 2205, 8652],\n",
              " [213, 269, 195, 7134, 1],\n",
              " [2814, 2476, 4818, 2799, 3691, 76, 255, 8653],\n",
              " [3633,\n",
              "  16,\n",
              "  8654,\n",
              "  5390,\n",
              "  600,\n",
              "  1093,\n",
              "  8655,\n",
              "  138,\n",
              "  24,\n",
              "  2038,\n",
              "  2,\n",
              "  3420,\n",
              "  4819,\n",
              "  522,\n",
              "  52],\n",
              " [1, 678, 1063, 23, 1, 2338, 8, 1563, 51, 1583, 3, 3692],\n",
              " [624, 170, 729, 1, 8656, 4380, 21, 1, 6013, 1, 22, 1584],\n",
              " [4381, 3982, 52, 100, 4820, 1, 6, 7, 12, 458, 2, 193, 13],\n",
              " [2477, 4289, 1468, 2339, 3983, 1, 2, 651, 2478, 1658, 7135],\n",
              " [1632, 15, 949, 1, 16, 1, 1332, 20, 697, 94],\n",
              " [65, 113, 1, 5, 4, 484, 3, 13],\n",
              " [136, 81, 637, 2327, 1, 7136, 16, 8657, 51, 1286],\n",
              " [668, 5391, 68, 38, 7, 1, 601, 5, 4, 325, 1],\n",
              " [45, 3203, 282, 226],\n",
              " [281, 1062, 3, 1022, 6, 2633, 4821],\n",
              " [4, 2930, 38, 2463, 235, 5392, 8, 2479, 4822, 672, 3952],\n",
              " [346, 2340, 68, 551, 2, 2480, 82, 8, 4823, 1169],\n",
              " [1279, 205, 3, 1138, 585, 1561, 8658, 5393],\n",
              " [369, 5, 1094, 448, 8659, 12, 621, 173, 269, 2, 1315, 8660],\n",
              " [1, 8661, 3421, 17, 4382, 6, 1, 466, 3, 527, 7137],\n",
              " [698,\n",
              "  1,\n",
              "  5394,\n",
              "  109,\n",
              "  415,\n",
              "  73,\n",
              "  108,\n",
              "  199,\n",
              "  23,\n",
              "  3,\n",
              "  89,\n",
              "  92,\n",
              "  2,\n",
              "  2136,\n",
              "  7138,\n",
              "  61,\n",
              "  1,\n",
              "  58,\n",
              "  688],\n",
              " [193, 7139, 17, 4, 3204, 3, 2137, 2815, 2634],\n",
              " [542, 1585, 14, 2635, 1, 23, 3, 122, 21, 1287, 1, 3205, 246, 117, 229],\n",
              " [1095, 11, 4, 357, 425, 189, 210],\n",
              " [13,\n",
              "  6103,\n",
              "  141,\n",
              "  2138,\n",
              "  3,\n",
              "  3669,\n",
              "  887,\n",
              "  650,\n",
              "  802,\n",
              "  8,\n",
              "  543,\n",
              "  1366,\n",
              "  109,\n",
              "  34,\n",
              "  54,\n",
              "  112,\n",
              "  291],\n",
              " [1, 1793, 153, 31, 658, 23],\n",
              " [287, 1269, 210, 648, 2984, 1560, 759],\n",
              " [14, 1367, 7140, 937, 2, 24, 1288, 2139, 20, 3984],\n",
              " [5395, 44, 61, 38, 1, 7116, 8662, 8663, 3, 33, 202, 11],\n",
              " [1, 562, 506, 1154, 6, 1],\n",
              " [959, 1244, 2, 2626, 32, 5396, 15, 2302, 10, 3693, 1368, 1575],\n",
              " [1255, 1558, 21, 8664, 6104, 5, 2236],\n",
              " [2440, 8665, 7141, 1, 1, 16, 7, 317, 9, 69, 960, 1],\n",
              " [1410,\n",
              "  3,\n",
              "  1511,\n",
              "  3127,\n",
              "  930,\n",
              "  582,\n",
              "  2636,\n",
              "  1952,\n",
              "  8666,\n",
              "  2637,\n",
              "  4824,\n",
              "  3694,\n",
              "  171,\n",
              "  1863,\n",
              "  243],\n",
              " [632, 3645, 272, 3422, 175, 217, 491, 2341, 535, 1122, 5],\n",
              " [752, 1, 60, 3423, 576, 5, 7142, 374],\n",
              " [1369, 51, 1782, 2, 7, 94, 14],\n",
              " [77, 70, 2237, 11, 29, 4, 1, 1333, 2, 220, 223, 1],\n",
              " [4825, 921, 2, 1640, 23, 33, 1, 9, 6105, 1, 1107],\n",
              " [70, 320, 1227, 104, 2638, 2, 1659, 638, 2985, 621],\n",
              " [5397, 7143, 3410, 6106, 1, 1, 8, 2816],\n",
              " [377, 1220, 2928, 48, 41, 395, 2986, 49, 13, 1201],\n",
              " [2981, 494, 1466, 752, 1, 310, 234, 1791, 3695, 42, 367, 5379, 2, 536, 57],\n",
              " [25, 1064, 30, 6107, 23, 4, 2039, 5398, 6, 8667, 9, 4, 5399, 97, 2639],\n",
              " [1185,\n",
              "  3206,\n",
              "  2040,\n",
              "  939,\n",
              "  1754,\n",
              "  1,\n",
              "  16,\n",
              "  4,\n",
              "  1,\n",
              "  252,\n",
              "  753,\n",
              "  4,\n",
              "  111,\n",
              "  92,\n",
              "  143,\n",
              "  648,\n",
              "  25],\n",
              " [303, 2464, 254, 2, 332, 1],\n",
              " [98, 1561, 3, 35, 1, 471, 15, 1953, 269, 2, 63, 3140, 2, 1, 78],\n",
              " [1094, 331, 28, 132, 4, 626, 2987, 359, 899, 9, 2607],\n",
              " [1270, 1837, 384, 30, 3119, 23, 394, 1, 5, 137, 117, 5400, 11, 1],\n",
              " [98, 1, 30, 4, 1, 92, 3, 1, 27, 224, 3424],\n",
              " [25, 702, 2481, 716, 2, 74, 32, 400, 1, 7, 1, 2041],\n",
              " [96, 584, 5401, 73, 30, 3696, 79, 1, 48, 447, 1050],\n",
              " [1187, 661, 1518, 30, 7144, 20, 60, 650, 1175],\n",
              " [7145, 386, 2817, 269, 23, 617, 1, 16, 2238, 946],\n",
              " [119, 1404, 18, 1916, 46, 2042, 119, 103, 1310],\n",
              " [7146, 249, 2788, 39, 29, 921, 4, 945, 37, 368, 6108, 3697],\n",
              " [3425, 1, 11, 17, 4, 5402, 2009, 2482, 1954, 217, 1],\n",
              " [4826, 1, 1449, 5, 1777, 2, 2988, 22, 1195, 8668, 845],\n",
              " [1096, 3985, 346, 30, 1, 26, 1, 6, 4, 1],\n",
              " [160, 5403, 645, 10, 106, 84, 7147, 1135],\n",
              " [73, 5, 277, 2239, 7, 1, 8635, 373, 128, 1, 3426, 3905],\n",
              " [486, 799, 1688, 5, 4, 1528, 151, 7148, 9, 5404, 37, 1, 73, 2, 1945, 548],\n",
              " [1089, 8560, 1775, 1, 3698, 8669, 6, 13, 123, 126, 3, 4, 669],\n",
              " [863, 68, 990, 5, 62, 6109, 4383, 45, 143, 246, 340, 6, 206],\n",
              " [320, 253, 3699, 104, 108, 817, 1864, 116, 29, 4, 1843, 3, 299],\n",
              " [3427, 7149, 3696, 13, 88, 1, 8670, 1201, 3, 50, 53, 1635],\n",
              " [3428, 1, 1043, 659, 15, 6110, 8671, 459, 2, 24, 204, 42, 7, 190, 293],\n",
              " [2818, 10, 8672, 2036, 30, 40, 1020, 2, 796, 2, 4, 4827],\n",
              " [1362, 219, 3986, 1370, 2787],\n",
              " [184, 1065, 7, 3983, 8, 4828, 446, 18, 185, 168, 1, 1, 1274],\n",
              " [1687, 5405, 2819, 1, 8, 390, 21, 170, 3, 59, 121],\n",
              " [174, 33, 18, 146, 2, 118, 17, 447, 7150, 19, 44],\n",
              " [643,\n",
              "  1257,\n",
              "  2234,\n",
              "  309,\n",
              "  73,\n",
              "  921,\n",
              "  4829,\n",
              "  5,\n",
              "  356,\n",
              "  3924,\n",
              "  446,\n",
              "  1,\n",
              "  1,\n",
              "  222,\n",
              "  171,\n",
              "  4282],\n",
              " [1412, 245, 8673, 6, 433, 85, 97, 111, 986, 1, 41, 211],\n",
              " [373, 3, 311, 5406, 1, 74, 8674, 709],\n",
              " [3207, 685, 1, 142, 1, 3, 530, 1],\n",
              " [2, 682, 207],\n",
              " [4, 1047, 2483, 613, 2, 185, 31, 3429, 5, 4, 326],\n",
              " [3208, 128, 62, 573, 94, 105, 8675, 5, 676, 371],\n",
              " [7151, 8676, 11, 2989, 219, 826, 209, 10, 3987, 1],\n",
              " [1, 5407, 5, 3988, 1, 391, 394, 143, 376, 1, 1923],\n",
              " [16, 4, 835, 3, 452, 8581, 3, 195, 2327, 472, 1, 5, 4, 2820],\n",
              " [13, 2640, 16, 447, 3700, 28, 108, 179, 561, 58, 33, 346, 46, 5, 800],\n",
              " [278, 1450, 2342, 1515, 1056, 437, 4, 57, 9, 7152],\n",
              " [562, 266, 8677, 52, 1, 46, 2, 1189, 3430, 21, 2043, 257, 603, 891],\n",
              " [4384, 3701, 417, 12, 8678, 5277, 3209],\n",
              " [5408, 465, 2641, 8679, 2, 271, 159, 4385, 2343],\n",
              " [486, 799, 186, 3989, 3, 206, 26, 3431, 192, 1586, 128],\n",
              " [2344, 2240, 5409, 20, 170, 34, 71, 2821, 6, 126, 389],\n",
              " [285, 48, 638, 3432, 1494, 1, 4830, 1529, 599, 149],\n",
              " [1, 1, 8680, 1794, 362, 464],\n",
              " [7, 147, 4386, 17, 25, 2, 961, 7, 8523],\n",
              " [4831, 3175, 503, 474, 2, 1, 1107, 1023, 1237, 52],\n",
              " [1, 5, 4334, 16, 4, 283, 3, 6111, 243],\n",
              " [449, 30, 4, 766, 369, 318, 54, 238, 375, 5, 2807],\n",
              " [414, 3702, 8681, 300, 314, 5, 1334, 6112],\n",
              " [1865, 1153, 203, 1834, 2, 1, 15, 3433, 6113],\n",
              " [3402, 637, 8682, 1660, 6114, 594],\n",
              " [1172, 1587, 2140, 47, 1],\n",
              " [1441, 4832, 1469],\n",
              " [452, 330, 99, 1, 138, 69, 679, 29, 1790, 7153, 253],\n",
              " [1, 658, 900, 1911, 4387, 901, 8683, 1, 585],\n",
              " [1, 9, 4, 1, 516, 82, 2241, 7154, 359, 101, 77, 1],\n",
              " [98, 1, 407, 470, 1021, 92, 2, 3210, 1052, 2642],\n",
              " [49, 13, 2628, 34, 38, 4, 8684, 6115, 2, 4833, 26, 495, 1246, 1],\n",
              " [705, 3990, 2483, 20, 495, 9, 1289, 1394, 21, 8685, 6116],\n",
              " [1414, 3991, 2990, 1, 1, 104, 6, 283, 3, 66],\n",
              " [724, 769, 7155, 11, 226, 155, 291, 1, 6, 8686, 9, 1],\n",
              " [1, 1866, 132, 25, 1, 3434, 1447, 1123, 2043, 63, 5410, 8, 73],\n",
              " [60, 187, 7, 29, 109, 1, 294, 8, 4, 1781],\n",
              " [2484, 1, 4834, 7156, 5, 59, 1009, 1923],\n",
              " [4835, 1269, 143, 111, 8687, 2, 139, 4738, 8688, 537],\n",
              " [1243, 3165, 556, 4732, 3, 2819, 3211],\n",
              " [8689, 31, 1795, 5, 364],\n",
              " [1084, 263, 82, 892, 7157, 150, 4388, 3391, 167],\n",
              " [1, 12, 3703, 69, 2006, 5, 1, 1470],\n",
              " [7158,\n",
              "  1867,\n",
              "  29,\n",
              "  194,\n",
              "  130,\n",
              "  2,\n",
              "  4375,\n",
              "  269,\n",
              "  2,\n",
              "  7159,\n",
              "  13,\n",
              "  3704,\n",
              "  37,\n",
              "  39,\n",
              "  24,\n",
              "  411,\n",
              "  2,\n",
              "  2345,\n",
              "  5,\n",
              "  550,\n",
              "  592],\n",
              " [4, 357, 11, 1],\n",
              " [174, 7, 1, 5411, 286, 2924, 6, 4836, 4837],\n",
              " [49, 13, 11, 1, 2, 24, 128, 593, 3, 113, 369, 131],\n",
              " [300, 855, 2643, 682, 10, 55, 1371, 3, 2644, 5, 248, 433],\n",
              " [3705, 377, 4838, 6, 8690, 507, 2, 193, 251, 177, 7101, 8605, 104],\n",
              " [248, 44, 61, 1066, 616, 2, 36, 24, 1, 38, 5412, 7, 316, 298],\n",
              " [19, 5324, 2141, 2991, 11, 1, 2482],\n",
              " [1471, 133, 29, 197, 4789],\n",
              " [407, 675, 3649, 178, 1110, 67, 414, 5, 1, 1],\n",
              " [250, 272, 2142, 815, 3, 55, 5413, 188, 889],\n",
              " [2485, 8691, 3992, 64, 20, 165, 1145, 4, 1, 1770, 8692],\n",
              " [19, 11, 33, 1067, 85, 18, 579, 1, 6117, 2, 1631, 31, 6118, 5414],\n",
              " [3212,\n",
              "  1155,\n",
              "  3435,\n",
              "  10,\n",
              "  3993,\n",
              "  3213,\n",
              "  157,\n",
              "  2,\n",
              "  3436,\n",
              "  2645,\n",
              "  65,\n",
              "  2822,\n",
              "  1135,\n",
              "  108,\n",
              "  1624,\n",
              "  107],\n",
              " [1713, 1588, 63, 4, 227, 97, 146, 1258, 2, 571, 7160],\n",
              " [6119, 120, 747, 1],\n",
              " [168, 1796, 1259, 2, 4, 2480, 5, 4, 628, 3437, 20, 741, 5415],\n",
              " [110, 1276, 714, 21, 124, 2310, 2, 132, 678, 1, 14, 5, 3438, 42, 523],\n",
              " [1171, 3403, 4365, 983, 5416, 600, 1202, 8693],\n",
              " [423, 37, 1290, 5417, 1699, 18, 338, 7161, 541, 72, 1955],\n",
              " [77, 70, 1868, 2, 1168, 231, 413, 725, 1227, 1589, 4389],\n",
              " [96, 404, 1626, 2, 513, 865, 2143, 6, 2346, 3994, 9, 1],\n",
              " [1, 1415, 7162, 15, 99, 394, 143, 38, 209, 899],\n",
              " [502, 39, 1, 104, 2823, 1, 34, 11, 1],\n",
              " [1334, 369, 39, 63, 2, 2144, 8, 1, 985],\n",
              " [4, 102, 1, 1360, 2, 74, 4, 95, 3, 31, 1024],\n",
              " [117, 436, 444, 1, 443, 3, 1, 501],\n",
              " [2824, 1449, 3439, 316, 195, 55, 3214, 2427, 169, 12, 1],\n",
              " [1156, 1519, 1, 5418, 769, 3, 1, 653, 1, 621, 58, 535, 1],\n",
              " [1441, 121, 5, 12, 302, 1, 1575, 2133],\n",
              " [240, 1587, 504, 2, 259, 5419, 379, 771],\n",
              " [3215, 2646, 1, 38, 2044, 210, 673, 2242, 10, 32, 517, 90, 3387],\n",
              " [2980, 7163, 695, 468, 3205, 8, 1097, 2825],\n",
              " [1452, 1995, 336, 1, 3995, 1530, 1, 1, 28, 196, 1530, 1],\n",
              " [8539, 1175, 714, 3, 50, 53, 389, 3, 2486],\n",
              " [3169, 3, 2423, 8694, 359, 1, 1714, 1472, 2, 3436, 33, 454, 1, 455, 58],\n",
              " [1, 165, 3996, 28, 1, 1, 3, 4839],\n",
              " [430, 809, 461, 5420, 8695, 169, 76, 1, 1715],\n",
              " [8696, 2145, 15, 1, 2, 6120],\n",
              " [33, 80, 3216, 21, 103, 3, 2243, 6, 79, 7164],\n",
              " [1, 2116, 4, 1956, 1],\n",
              " [8697, 6121, 4390, 922, 23, 1644, 3942, 6, 2487, 2, 306, 893, 10, 1],\n",
              " [3440, 1869, 3706, 3707, 6048, 506, 873, 4391],\n",
              " [104, 2823, 4392, 6122, 22, 8698, 22, 7165, 331, 15, 1416],\n",
              " [60, 1716, 466, 989, 11, 1870, 3, 5421, 1, 72, 148, 4840, 1157, 1332],\n",
              " [766, 4382, 6, 1917, 220, 2647, 10, 163, 1, 2010, 1],\n",
              " [4, 2812, 8699, 35, 4, 92, 1251, 1, 9, 40],\n",
              " [902, 2347, 7166, 1, 12, 1],\n",
              " [488, 3708, 2826, 1797, 78, 122],\n",
              " [189, 378, 1056, 7, 3997],\n",
              " [1871, 7, 4359, 3352, 75, 737, 152, 1, 6, 4775],\n",
              " [3998, 4393, 4841, 1, 6123, 8, 1186],\n",
              " [8700, 144, 855, 2, 413, 44, 61, 37, 36, 691, 145, 7, 3709, 5, 325, 3, 1],\n",
              " [2648, 781, 3, 3441, 944, 1, 355, 20, 386, 94, 1, 5, 3183, 3, 1364],\n",
              " [231, 1, 1],\n",
              " [364, 35, 17, 4, 1],\n",
              " [165, 856, 3999, 818, 7, 245, 3, 1654, 2, 688],\n",
              " [700, 2348, 6990, 552, 1],\n",
              " [119, 420, 2618, 135, 88, 120, 227, 116, 1, 17],\n",
              " [14, 1, 20, 1, 1, 307, 4, 2488, 212, 35, 51, 3, 119, 2017, 275],\n",
              " [1, 405, 2349, 507],\n",
              " [262, 914, 6124, 164, 2442, 2350, 17, 101, 483, 16, 1590, 1531],\n",
              " [119, 3, 6125, 8701, 1169],\n",
              " [1, 7045, 2, 74, 1, 553, 258],\n",
              " [13,\n",
              "  8702,\n",
              "  2641,\n",
              "  26,\n",
              "  7167,\n",
              "  1,\n",
              "  3,\n",
              "  357,\n",
              "  2209,\n",
              "  2931,\n",
              "  128,\n",
              "  2,\n",
              "  4842,\n",
              "  6126,\n",
              "  148,\n",
              "  2,\n",
              "  1],\n",
              " [1068, 1260, 209, 3927, 178, 5, 792, 20, 176, 676],\n",
              " [597, 8703, 768, 2, 162, 274, 3710, 1, 4843, 8639, 83, 4394],\n",
              " [2120, 4395, 9, 1, 4, 415, 2120, 80, 46, 1204],\n",
              " [12, 7168, 1, 8704, 2992, 6127, 6, 686, 5, 2489, 292],\n",
              " [84, 1012, 2, 63, 18, 15, 4396, 2, 1],\n",
              " [37, 453, 18, 8, 248, 303],\n",
              " ...]"
            ]
          },
          "metadata": {
            "tags": []
          },
          "execution_count": 16
        }
      ]
    },
    {
      "cell_type": "code",
      "metadata": {
        "id": "kHn-3EnQmX5b"
      },
      "source": [
        "#padded_train"
      ],
      "execution_count": null,
      "outputs": []
    },
    {
      "cell_type": "code",
      "metadata": {
        "id": "rTgT-ThdSH3f"
      },
      "source": [
        "vocab_size = 10000 # corpus size\n",
        "embedding_size = 8 # no. of features\n",
        "max_length = 16\n",
        "trunc_type='post'\n",
        "padding_type = 'post'\n",
        "oov_tok = \"<OOV>\" # out of vocab\n",
        "training_size = 20000"
      ],
      "execution_count": null,
      "outputs": []
    },
    {
      "cell_type": "code",
      "metadata": {
        "id": "MKt9XyjIOUDR"
      },
      "source": [
        "training_sentences = sentences[0:training_size]\n",
        "testing_sentences = sentences[training_size:]\n",
        "training_labels = labels[0:training_size]\n",
        "testing_labels = labels[training_size:]"
      ],
      "execution_count": null,
      "outputs": []
    },
    {
      "cell_type": "code",
      "metadata": {
        "id": "NWf9UVPZOT88"
      },
      "source": [
        "tokenizer = Tokenizer(num_words=vocab_size, oov_token=oov_tok)\n",
        "tokenizer.fit_on_texts(training_sentences)\n",
        "\n",
        "word_index = tokenizer.word_index\n",
        "\n",
        "training_sequences = tokenizer.texts_to_sequences(training_sentences)\n",
        "training_padded = pad_sequences(training_sequences, maxlen=max_length, padding=padding_type, truncating=trunc_type)\n",
        "\n",
        "testing_sequences = tokenizer.texts_to_sequences(testing_sentences)\n",
        "testing_padded = pad_sequences(testing_sequences, maxlen=max_length, padding=padding_type, truncating=trunc_type)"
      ],
      "execution_count": null,
      "outputs": []
    },
    {
      "cell_type": "code",
      "metadata": {
        "id": "xfgvYemgO6zY"
      },
      "source": [
        "training_padded = np.array(training_padded)\n",
        "training_labels = np.array(training_labels)\n",
        "testing_padded = np.array(testing_padded)\n",
        "testing_labels = np.array(testing_labels)"
      ],
      "execution_count": null,
      "outputs": []
    },
    {
      "cell_type": "code",
      "metadata": {
        "colab": {
          "base_uri": "https://localhost:8080/"
        },
        "id": "eywcOrHOmq7e",
        "outputId": "95ce1d6f-aa8e-4fc8-9493-2bd7d725db68"
      },
      "source": [
        "model = tf.keras.Sequential([\n",
        "    tf.keras.layers.Embedding(vocab_size, embedding_size, input_length=max_length),\n",
        "    tf.keras.layers.Bidirectional(tf.keras.layers.LSTM(64,  return_sequences=True)),\n",
        "    tf.keras.layers.Bidirectional(tf.keras.layers.LSTM(32)),\n",
        "    tf.keras.layers.Dense(64, activation='relu'),\n",
        "    tf.keras.layers.Dropout(0.5),\n",
        "    tf.keras.layers.Dense(1, activation='sigmoid')\n",
        "])\n",
        "model.compile(loss=tf.keras.losses.BinaryCrossentropy(),\n",
        "              optimizer=tf.keras.optimizers.Adam(1e-5),\n",
        "              metrics=['accuracy'])\n",
        "model.summary()"
      ],
      "execution_count": null,
      "outputs": [
        {
          "output_type": "stream",
          "text": [
            "Model: \"sequential\"\n",
            "_________________________________________________________________\n",
            "Layer (type)                 Output Shape              Param #   \n",
            "=================================================================\n",
            "embedding (Embedding)        (None, 16, 8)             80000     \n",
            "_________________________________________________________________\n",
            "bidirectional (Bidirectional (None, 16, 128)           37376     \n",
            "_________________________________________________________________\n",
            "bidirectional_1 (Bidirection (None, 64)                41216     \n",
            "_________________________________________________________________\n",
            "dense (Dense)                (None, 64)                4160      \n",
            "_________________________________________________________________\n",
            "dropout (Dropout)            (None, 64)                0         \n",
            "_________________________________________________________________\n",
            "dense_1 (Dense)              (None, 1)                 65        \n",
            "=================================================================\n",
            "Total params: 162,817\n",
            "Trainable params: 162,817\n",
            "Non-trainable params: 0\n",
            "_________________________________________________________________\n"
          ],
          "name": "stdout"
        }
      ]
    },
    {
      "cell_type": "code",
      "metadata": {
        "colab": {
          "base_uri": "https://localhost:8080/"
        },
        "id": "Tkqt2GZMmtZ2",
        "outputId": "52047530-4d38-4094-e933-7801bc4f47dd"
      },
      "source": [
        "num_epochs = 10\n",
        "history = model.fit(training_padded, training_labels, epochs=num_epochs, validation_data=(testing_padded, testing_labels), verbose=1)\n",
        "\n",
        "#verbose=0 will show you nothing (silent)\n",
        "\n",
        "# verbose=1 will show you an animated progress bar like this:\n",
        "\n",
        "#progres_bar : [=========>......]\n",
        "\n",
        "#verbose=2 will just mention the number of epoch like this:\n",
        "\n",
        "# 1/10.."
      ],
      "execution_count": null,
      "outputs": [
        {
          "output_type": "stream",
          "text": [
            "Epoch 1/10\n",
            "625/625 [==============================] - 23s 29ms/step - loss: 0.6913 - accuracy: 0.5546 - val_loss: 0.6890 - val_accuracy: 0.5633\n",
            "Epoch 2/10\n",
            "625/625 [==============================] - 16s 26ms/step - loss: 0.6871 - accuracy: 0.5603 - val_loss: 0.6843 - val_accuracy: 0.5633\n",
            "Epoch 3/10\n",
            "625/625 [==============================] - 16s 26ms/step - loss: 0.6825 - accuracy: 0.5603 - val_loss: 0.6798 - val_accuracy: 0.5633\n",
            "Epoch 4/10\n",
            "625/625 [==============================] - 16s 26ms/step - loss: 0.6756 - accuracy: 0.5604 - val_loss: 0.6673 - val_accuracy: 0.5637\n",
            "Epoch 5/10\n",
            "625/625 [==============================] - 16s 26ms/step - loss: 0.6252 - accuracy: 0.6209 - val_loss: 0.5689 - val_accuracy: 0.7180\n",
            "Epoch 6/10\n",
            "625/625 [==============================] - 16s 26ms/step - loss: 0.5275 - accuracy: 0.7556 - val_loss: 0.5167 - val_accuracy: 0.7518\n",
            "Epoch 7/10\n",
            "625/625 [==============================] - 16s 26ms/step - loss: 0.4824 - accuracy: 0.7744 - val_loss: 0.4910 - val_accuracy: 0.7585\n",
            "Epoch 8/10\n",
            "625/625 [==============================] - 17s 26ms/step - loss: 0.4538 - accuracy: 0.7885 - val_loss: 0.4739 - val_accuracy: 0.7715\n",
            "Epoch 9/10\n",
            "625/625 [==============================] - 16s 26ms/step - loss: 0.4350 - accuracy: 0.8011 - val_loss: 0.4614 - val_accuracy: 0.7760\n",
            "Epoch 10/10\n",
            "625/625 [==============================] - 17s 26ms/step - loss: 0.4176 - accuracy: 0.8116 - val_loss: 0.4518 - val_accuracy: 0.7848\n"
          ],
          "name": "stdout"
        }
      ]
    },
    {
      "cell_type": "code",
      "metadata": {
        "id": "D2m-gFv-m3Ca"
      },
      "source": [
        "import matplotlib.pyplot as plt\n",
        "\n",
        "def plot_graphs(history, string):\n",
        "  plt.plot(history.history[string])\n",
        "  plt.plot(history.history['val_'+string])\n",
        "  plt.xlabel(\"Epochs\")\n",
        "  plt.ylabel(string)\n",
        "  plt.legend([string, 'val_'+string])\n",
        "  plt.show()"
      ],
      "execution_count": null,
      "outputs": []
    },
    {
      "cell_type": "code",
      "metadata": {
        "colab": {
          "base_uri": "https://localhost:8080/",
          "height": 279
        },
        "id": "kGYUz3AByTQo",
        "outputId": "c27c175e-f18e-4b2b-ff2c-418cccad8725"
      },
      "source": [
        "plot_graphs(history, 'accuracy')"
      ],
      "execution_count": null,
      "outputs": [
        {
          "output_type": "display_data",
          "data": {
            "image/png": "[encoded data removed]",
            "text/plain": [
              "<Figure size 432x288 with 1 Axes>"
            ]
          },
          "metadata": {
            "tags": [],
            "needs_background": "light"
          }
        }
      ]
    },
    {
      "cell_type": "code",
      "metadata": {
        "colab": {
          "base_uri": "https://localhost:8080/",
          "height": 280
        },
        "id": "nbIQj_3fyVo2",
        "outputId": "eefb4fc2-e38b-4d55-8c64-6bc37f34b87f"
      },
      "source": [
        "plot_graphs(history, 'loss')"
      ],
      "execution_count": null,
      "outputs": [
        {
          "output_type": "display_data",
          "data": {
            "image/png": "[encoded data removed]",
            "text/plain": [
              "<Figure size 432x288 with 1 Axes>"
            ]
          },
          "metadata": {
            "tags": [],
            "needs_background": "light"
          }
        }
      ]
    },
    {
      "cell_type": "code",
      "metadata": {
        "colab": {
          "base_uri": "https://localhost:8080/"
        },
        "id": "K7wY1cn6Wdvr",
        "outputId": "36586682-5a27-4e03-ceff-eff31bde6dc6"
      },
      "source": [
        "!mkdir -p saved_model_bi_lstm\n",
        "model.save('/content/drive/MyDrive/Sarcasm Detection - 8th Sem/English Models/saved_model_bi_lstm/my_model')"
      ],
      "execution_count": null,
      "outputs": [
        {
          "output_type": "stream",
          "text": [
            "WARNING:absl:Found untraced functions such as lstm_cell_1_layer_call_and_return_conditional_losses, lstm_cell_1_layer_call_fn, lstm_cell_2_layer_call_and_return_conditional_losses, lstm_cell_2_layer_call_fn, lstm_cell_4_layer_call_and_return_conditional_losses while saving (showing 5 of 20). These functions will not be directly callable after loading.\n"
          ],
          "name": "stderr"
        },
        {
          "output_type": "stream",
          "text": [
            "INFO:tensorflow:Assets written to: /content/drive/MyDrive/Sarcasm Detection - 8th Sem/English Models/saved_model_bi_lstm/my_model/assets\n"
          ],
          "name": "stdout"
        },
        {
          "output_type": "stream",
          "text": [
            "INFO:tensorflow:Assets written to: /content/drive/MyDrive/Sarcasm Detection - 8th Sem/English Models/saved_model_bi_lstm/my_model/assets\n"
          ],
          "name": "stderr"
        }
      ]
    },
    {
      "cell_type": "code",
      "metadata": {
        "colab": {
          "base_uri": "https://localhost:8080/"
        },
        "id": "Oz7g9GqOWdvu",
        "outputId": "e44451f8-62db-40af-ede4-6c5cf390c059"
      },
      "source": [
        "!ls '/content/drive/MyDrive/Sarcasm Detection - 8th Sem/English Models/saved_model_bi_lstm/my_model'"
      ],
      "execution_count": null,
      "outputs": [
        {
          "output_type": "stream",
          "text": [
            "assets\tkeras_metadata.pb  saved_model.pb  variables\n"
          ],
          "name": "stdout"
        }
      ]
    },
    {
      "cell_type": "code",
      "metadata": {
        "id": "WkdAV01eWdvu"
      },
      "source": [
        "new_model = tf.keras.models.load_model('/content/drive/MyDrive/Sarcasm Detection - 8th Sem/English Models/saved_model_bi_lstm/my_model')"
      ],
      "execution_count": null,
      "outputs": []
    },
    {
      "cell_type": "code",
      "metadata": {
        "colab": {
          "base_uri": "https://localhost:8080/"
        },
        "id": "Mrelwqf4Wdvv",
        "outputId": "d8ecb3e3-a59b-4e91-8f2b-c81352763f84"
      },
      "source": [
        "loss, acc = new_model.evaluate(testing_padded, testing_labels, verbose=1)\n",
        "print('Restored model, accuracy: {:5.2f}%'.format(100 * acc))"
      ],
      "execution_count": null,
      "outputs": [
        {
          "output_type": "stream",
          "text": [
            "210/210 [==============================] - 3s 7ms/step - loss: 0.4518 - accuracy: 0.7848\n",
            "Restored model, accuracy: 78.48%\n"
          ],
          "name": "stdout"
        }
      ]
    },
    {
      "cell_type": "code",
      "metadata": {
        "id": "na94Mq0TJDC5",
        "colab": {
          "base_uri": "https://localhost:8080/"
        },
        "outputId": "3b323fea-1c5c-4c0b-f22f-509f59cbaef7"
      },
      "source": [
        "model_2 = tf.keras.Sequential([\n",
        "    tf.keras.layers.Embedding(vocab_size, embedding_size, input_length=max_length),\n",
        "    tf.keras.layers.LSTM(64),\n",
        "    tf.keras.layers.Dense(64, activation='relu'),\n",
        "    tf.keras.layers.Dropout(0.5),\n",
        "    tf.keras.layers.Dense(1, activation='sigmoid')\n",
        "])\n",
        "model_2.compile(loss=tf.keras.losses.BinaryCrossentropy(),\n",
        "              optimizer=tf.keras.optimizers.Adam(1e-5),\n",
        "              metrics=['accuracy'])\n",
        "model_2.summary()"
      ],
      "execution_count": null,
      "outputs": [
        {
          "output_type": "stream",
          "text": [
            "Model: \"sequential_1\"\n",
            "_________________________________________________________________\n",
            "Layer (type)                 Output Shape              Param #   \n",
            "=================================================================\n",
            "embedding_1 (Embedding)      (None, 16, 8)             80000     \n",
            "_________________________________________________________________\n",
            "lstm_2 (LSTM)                (None, 64)                18688     \n",
            "_________________________________________________________________\n",
            "dense_2 (Dense)              (None, 64)                4160      \n",
            "_________________________________________________________________\n",
            "dropout_1 (Dropout)          (None, 64)                0         \n",
            "_________________________________________________________________\n",
            "dense_3 (Dense)              (None, 1)                 65        \n",
            "=================================================================\n",
            "Total params: 102,913\n",
            "Trainable params: 102,913\n",
            "Non-trainable params: 0\n",
            "_________________________________________________________________\n"
          ],
          "name": "stdout"
        }
      ]
    },
    {
      "cell_type": "code",
      "metadata": {
        "id": "cqLbhHrdJqkX",
        "colab": {
          "base_uri": "https://localhost:8080/"
        },
        "outputId": "f60e819e-3bf4-40f3-8710-552b81602b59"
      },
      "source": [
        "num_epochs = 10\n",
        "history_2 = model_2.fit(training_padded, training_labels, epochs=num_epochs, validation_data=(testing_padded, testing_labels), verbose=1)\n",
        "\n",
        "#verbose=0 will show you nothing (silent)\n",
        "\n",
        "# verbose=1 will show you an animated progress bar like this:\n",
        "\n",
        "#progres_bar : [=========>......]\n",
        "\n",
        "#verbose=2 will just mention the number of epoch like this:\n",
        "\n",
        "# 1/10.."
      ],
      "execution_count": null,
      "outputs": [
        {
          "output_type": "stream",
          "text": [
            "Epoch 1/10\n",
            "625/625 [==============================] - 8s 11ms/step - loss: 0.6917 - accuracy: 0.5533 - val_loss: 0.6904 - val_accuracy: 0.5633\n",
            "Epoch 2/10\n",
            "625/625 [==============================] - 6s 10ms/step - loss: 0.6894 - accuracy: 0.5604 - val_loss: 0.6880 - val_accuracy: 0.5633\n",
            "Epoch 3/10\n",
            "625/625 [==============================] - 6s 10ms/step - loss: 0.6870 - accuracy: 0.5603 - val_loss: 0.6856 - val_accuracy: 0.5633\n",
            "Epoch 4/10\n",
            "625/625 [==============================] - 6s 10ms/step - loss: 0.6851 - accuracy: 0.5603 - val_loss: 0.6834 - val_accuracy: 0.5633\n",
            "Epoch 5/10\n",
            "625/625 [==============================] - 6s 10ms/step - loss: 0.6831 - accuracy: 0.5603 - val_loss: 0.6809 - val_accuracy: 0.5633\n",
            "Epoch 6/10\n",
            "625/625 [==============================] - 6s 10ms/step - loss: 0.6792 - accuracy: 0.5603 - val_loss: 0.6742 - val_accuracy: 0.5633\n",
            "Epoch 7/10\n",
            "625/625 [==============================] - 6s 10ms/step - loss: 0.6596 - accuracy: 0.5634 - val_loss: 0.6285 - val_accuracy: 0.5976\n",
            "Epoch 8/10\n",
            "625/625 [==============================] - 6s 10ms/step - loss: 0.5679 - accuracy: 0.6921 - val_loss: 0.5350 - val_accuracy: 0.7466\n",
            "Epoch 9/10\n",
            "625/625 [==============================] - 6s 10ms/step - loss: 0.5029 - accuracy: 0.7769 - val_loss: 0.5019 - val_accuracy: 0.7638\n",
            "Epoch 10/10\n",
            "625/625 [==============================] - 6s 10ms/step - loss: 0.4677 - accuracy: 0.7922 - val_loss: 0.4799 - val_accuracy: 0.7751\n"
          ],
          "name": "stdout"
        }
      ]
    },
    {
      "cell_type": "code",
      "metadata": {
        "id": "2j6vEv5wJKQl"
      },
      "source": [
        "import matplotlib.pyplot as plt\n",
        "\n",
        "def plot_graphs(history, string):\n",
        "  plt.plot(history_2.history[string])\n",
        "  plt.plot(history_2.history['val_'+string])\n",
        "  plt.xlabel(\"Epochs\")\n",
        "  plt.ylabel(string)\n",
        "  plt.legend([string, 'val_'+string])\n",
        "  plt.show()"
      ],
      "execution_count": null,
      "outputs": []
    },
    {
      "cell_type": "code",
      "metadata": {
        "id": "-Nx91rYTJKQm",
        "colab": {
          "base_uri": "https://localhost:8080/",
          "height": 279
        },
        "outputId": "73ab6e2e-8bce-43cc-b8a8-8956bb235c35"
      },
      "source": [
        "plot_graphs(history_2, 'accuracy')"
      ],
      "execution_count": null,
      "outputs": [
        {
          "output_type": "display_data",
          "data": {
            "image/png": "[encoded data removed]",
            "text/plain": [
              "<Figure size 432x288 with 1 Axes>"
            ]
          },
          "metadata": {
            "tags": [],
            "needs_background": "light"
          }
        }
      ]
    },
    {
      "cell_type": "code",
      "metadata": {
        "id": "88N4Jk5oJKQo",
        "colab": {
          "base_uri": "https://localhost:8080/",
          "height": 281
        },
        "outputId": "160b9485-e51a-463b-9964-7a3b5069283e"
      },
      "source": [
        "plot_graphs(history_2, 'loss')"
      ],
      "execution_count": null,
      "outputs": [
        {
          "output_type": "display_data",
          "data": {
            "image/png": "[encoded data removed]",
            "text/plain": [
              "<Figure size 432x288 with 1 Axes>"
            ]
          },
          "metadata": {
            "tags": [],
            "needs_background": "light"
          }
        }
      ]
    },
    {
      "cell_type": "code",
      "metadata": {
        "id": "nvZS3asWWSx7",
        "colab": {
          "base_uri": "https://localhost:8080/"
        },
        "outputId": "7061a068-61aa-4c09-ecae-baf7559ce299"
      },
      "source": [
        "!mkdir -p saved_model_lstm\n",
        "model_2.save('/content/drive/MyDrive/Sarcasm Detection - 8th Sem/English Models/saved_model_lstm/my_model')"
      ],
      "execution_count": null,
      "outputs": [
        {
          "output_type": "stream",
          "text": [
            "WARNING:absl:Found untraced functions such as lstm_cell_12_layer_call_and_return_conditional_losses, lstm_cell_12_layer_call_fn, lstm_cell_12_layer_call_fn, lstm_cell_12_layer_call_and_return_conditional_losses, lstm_cell_12_layer_call_and_return_conditional_losses while saving (showing 5 of 5). These functions will not be directly callable after loading.\n"
          ],
          "name": "stderr"
        },
        {
          "output_type": "stream",
          "text": [
            "INFO:tensorflow:Assets written to: /content/drive/MyDrive/Sarcasm Detection - 8th Sem/English Models/saved_model_lstm/my_model/assets\n"
          ],
          "name": "stdout"
        },
        {
          "output_type": "stream",
          "text": [
            "INFO:tensorflow:Assets written to: /content/drive/MyDrive/Sarcasm Detection - 8th Sem/English Models/saved_model_lstm/my_model/assets\n"
          ],
          "name": "stderr"
        }
      ]
    },
    {
      "cell_type": "code",
      "metadata": {
        "id": "NZTTw6bJWSx9",
        "colab": {
          "base_uri": "https://localhost:8080/"
        },
        "outputId": "74118f69-6463-45ac-b45f-1c2d19f32df2"
      },
      "source": [
        "!ls '/content/drive/MyDrive/Sarcasm Detection - 8th Sem/English Models/saved_model_lstm/my_model'"
      ],
      "execution_count": null,
      "outputs": [
        {
          "output_type": "stream",
          "text": [
            "assets\tkeras_metadata.pb  saved_model.pb  variables\n"
          ],
          "name": "stdout"
        }
      ]
    },
    {
      "cell_type": "code",
      "metadata": {
        "id": "5RT42IDkWSx9"
      },
      "source": [
        "new_model_2 = tf.keras.models.load_model('/content/drive/MyDrive/Sarcasm Detection - 8th Sem/English Models/saved_model_lstm/my_model')"
      ],
      "execution_count": null,
      "outputs": []
    },
    {
      "cell_type": "code",
      "metadata": {
        "id": "R_1FCeojWSx-",
        "colab": {
          "base_uri": "https://localhost:8080/"
        },
        "outputId": "0dd3a134-94ad-4aab-a49d-02456bacb779"
      },
      "source": [
        "loss, acc = new_model_2.evaluate(testing_padded, testing_labels, verbose=1)\n",
        "print('Restored model, accuracy: {:5.2f}%'.format(100 * acc))"
      ],
      "execution_count": null,
      "outputs": [
        {
          "output_type": "stream",
          "text": [
            "210/210 [==============================] - 1s 3ms/step - loss: 0.4799 - accuracy: 0.7751\n",
            "Restored model, accuracy: 77.51%\n"
          ],
          "name": "stdout"
        }
      ]
    },
    {
      "cell_type": "code",
      "metadata": {
        "id": "LqSPuAADKHnY",
        "colab": {
          "base_uri": "https://localhost:8080/"
        },
        "outputId": "527dd464-ae53-44c5-a89e-220cbf9b5cf8"
      },
      "source": [
        "model_3 = tf.keras.Sequential([\n",
        "    tf.keras.layers.Embedding(vocab_size, embedding_size, input_length=max_length),\n",
        "    tf.keras.layers.SimpleRNN(64),\n",
        "    tf.keras.layers.Dense(64, activation='relu'),\n",
        "    tf.keras.layers.Dropout(0.5),\n",
        "    tf.keras.layers.Dense(1, activation='sigmoid')\n",
        "])\n",
        "model_3.compile(loss=tf.keras.losses.BinaryCrossentropy(),\n",
        "              optimizer=tf.keras.optimizers.Adam(1e-5),\n",
        "              metrics=['accuracy'])\n",
        "model_3.summary()"
      ],
      "execution_count": null,
      "outputs": [
        {
          "output_type": "stream",
          "text": [
            "Model: \"sequential_2\"\n",
            "_________________________________________________________________\n",
            "Layer (type)                 Output Shape              Param #   \n",
            "=================================================================\n",
            "embedding_2 (Embedding)      (None, 16, 8)             80000     \n",
            "_________________________________________________________________\n",
            "simple_rnn (SimpleRNN)       (None, 64)                4672      \n",
            "_________________________________________________________________\n",
            "dense_4 (Dense)              (None, 64)                4160      \n",
            "_________________________________________________________________\n",
            "dropout_2 (Dropout)          (None, 64)                0         \n",
            "_________________________________________________________________\n",
            "dense_5 (Dense)              (None, 1)                 65        \n",
            "=================================================================\n",
            "Total params: 88,897\n",
            "Trainable params: 88,897\n",
            "Non-trainable params: 0\n",
            "_________________________________________________________________\n"
          ],
          "name": "stdout"
        }
      ]
    },
    {
      "cell_type": "code",
      "metadata": {
        "id": "PfmqDVRyJuk2",
        "colab": {
          "base_uri": "https://localhost:8080/"
        },
        "outputId": "9bcb8ead-0194-46b3-8ce9-84f4b95d9ec1"
      },
      "source": [
        "num_epochs = 10\n",
        "history_3 = model_3.fit(training_padded, training_labels, epochs=num_epochs, validation_data=(testing_padded, testing_labels), verbose=1)\n",
        "\n",
        "#verbose=0 will show you nothing (silent)\n",
        "\n",
        "# verbose=1 will show you an animated progress bar like this:\n",
        "\n",
        "#progres_bar : [=========>......]\n",
        "\n",
        "#verbose=2 will just mention the number of epoch like this:\n",
        "\n",
        "# 1/10.."
      ],
      "execution_count": null,
      "outputs": [
        {
          "output_type": "stream",
          "text": [
            "Epoch 1/10\n",
            "625/625 [==============================] - 5s 6ms/step - loss: 0.6915 - accuracy: 0.5302 - val_loss: 0.6880 - val_accuracy: 0.5655\n",
            "Epoch 2/10\n",
            "625/625 [==============================] - 4s 6ms/step - loss: 0.6866 - accuracy: 0.5606 - val_loss: 0.6839 - val_accuracy: 0.5649\n",
            "Epoch 3/10\n",
            "625/625 [==============================] - 4s 6ms/step - loss: 0.6840 - accuracy: 0.5631 - val_loss: 0.6815 - val_accuracy: 0.5648\n",
            "Epoch 4/10\n",
            "625/625 [==============================] - 4s 6ms/step - loss: 0.6809 - accuracy: 0.5677 - val_loss: 0.6771 - val_accuracy: 0.5685\n",
            "Epoch 5/10\n",
            "625/625 [==============================] - 4s 6ms/step - loss: 0.6734 - accuracy: 0.5824 - val_loss: 0.6635 - val_accuracy: 0.5999\n",
            "Epoch 6/10\n",
            "625/625 [==============================] - 4s 6ms/step - loss: 0.6423 - accuracy: 0.6392 - val_loss: 0.6081 - val_accuracy: 0.6709\n",
            "Epoch 7/10\n",
            "625/625 [==============================] - 4s 6ms/step - loss: 0.5891 - accuracy: 0.6866 - val_loss: 0.5655 - val_accuracy: 0.6998\n",
            "Epoch 8/10\n",
            "625/625 [==============================] - 4s 6ms/step - loss: 0.5547 - accuracy: 0.7182 - val_loss: 0.5433 - val_accuracy: 0.7159\n",
            "Epoch 9/10\n",
            "625/625 [==============================] - 4s 6ms/step - loss: 0.5282 - accuracy: 0.7370 - val_loss: 0.5265 - val_accuracy: 0.7314\n",
            "Epoch 10/10\n",
            "625/625 [==============================] - 4s 6ms/step - loss: 0.5080 - accuracy: 0.7537 - val_loss: 0.5124 - val_accuracy: 0.7417\n"
          ],
          "name": "stdout"
        }
      ]
    },
    {
      "cell_type": "code",
      "metadata": {
        "id": "OFqlsh5NKQoh"
      },
      "source": [
        "import matplotlib.pyplot as plt\n",
        "\n",
        "def plot_graphs(history, string):\n",
        "  plt.plot(history_3.history[string])\n",
        "  plt.plot(history_3.history['val_'+string])\n",
        "  plt.xlabel(\"Epochs\")\n",
        "  plt.ylabel(string)\n",
        "  plt.legend([string, 'val_'+string])\n",
        "  plt.show()"
      ],
      "execution_count": null,
      "outputs": []
    },
    {
      "cell_type": "code",
      "metadata": {
        "id": "zWYA9rieKSMx",
        "colab": {
          "base_uri": "https://localhost:8080/",
          "height": 279
        },
        "outputId": "c568f830-4bcf-44b6-c0de-fde88bbea744"
      },
      "source": [
        "plot_graphs(history_3, 'accuracy')"
      ],
      "execution_count": null,
      "outputs": [
        {
          "output_type": "display_data",
          "data": {
            "image/png": "[encoded data removed]",
            "text/plain": [
              "<Figure size 432x288 with 1 Axes>"
            ]
          },
          "metadata": {
            "tags": [],
            "needs_background": "light"
          }
        }
      ]
    },
    {
      "cell_type": "code",
      "metadata": {
        "id": "cunAJfoTKTq5",
        "colab": {
          "base_uri": "https://localhost:8080/",
          "height": 283
        },
        "outputId": "6b591dfa-0bb3-462c-d9dc-32f5273e987a"
      },
      "source": [
        "plot_graphs(history_3, 'loss')"
      ],
      "execution_count": null,
      "outputs": [
        {
          "output_type": "display_data",
          "data": {
            "image/png": "[encoded data removed]",
            "text/plain": [
              "<Figure size 432x288 with 1 Axes>"
            ]
          },
          "metadata": {
            "tags": [],
            "needs_background": "light"
          }
        }
      ]
    },
    {
      "cell_type": "code",
      "metadata": {
        "colab": {
          "base_uri": "https://localhost:8080/"
        },
        "id": "jI1m0m7Phjpw",
        "outputId": "9391ea19-a3a2-4d24-9615-c618fb7809ab"
      },
      "source": [
        "!mkdir -p saved_model_rnn\n",
        "model_3.save('/content/drive/MyDrive/Sarcasm Detection - 8th Sem/English Models/saved_model_rnn/my_model')"
      ],
      "execution_count": null,
      "outputs": [
        {
          "output_type": "stream",
          "text": [
            "INFO:tensorflow:Assets written to: /content/drive/MyDrive/Sarcasm Detection - 8th Sem/English Models/saved_model_rnn/my_model/assets\n"
          ],
          "name": "stdout"
        },
        {
          "output_type": "stream",
          "text": [
            "INFO:tensorflow:Assets written to: /content/drive/MyDrive/Sarcasm Detection - 8th Sem/English Models/saved_model_rnn/my_model/assets\n"
          ],
          "name": "stderr"
        }
      ]
    },
    {
      "cell_type": "code",
      "metadata": {
        "colab": {
          "base_uri": "https://localhost:8080/"
        },
        "id": "XDFQ1ngThjpw",
        "outputId": "a2f2f7d7-2348-41aa-b48c-1cce503fa5c3"
      },
      "source": [
        "!ls '/content/drive/MyDrive/Sarcasm Detection - 8th Sem/English Models/saved_model_rnn/my_model'"
      ],
      "execution_count": null,
      "outputs": [
        {
          "output_type": "stream",
          "text": [
            "assets\tkeras_metadata.pb  saved_model.pb  variables\n"
          ],
          "name": "stdout"
        }
      ]
    },
    {
      "cell_type": "code",
      "metadata": {
        "id": "PaT1pyb1hjpx"
      },
      "source": [
        "new_model_3 = tf.keras.models.load_model('/content/drive/MyDrive/Sarcasm Detection - 8th Sem/English Models/saved_model_rnn/my_model')"
      ],
      "execution_count": null,
      "outputs": []
    },
    {
      "cell_type": "code",
      "metadata": {
        "colab": {
          "base_uri": "https://localhost:8080/"
        },
        "id": "GTxXwZpwhjpx",
        "outputId": "583e7ee1-dae2-403e-814b-66d95905950c"
      },
      "source": [
        "loss, acc = new_model_3.evaluate(testing_padded, testing_labels, verbose=1)\n",
        "print('Restored model, accuracy: {:5.2f}%'.format(100 * acc))"
      ],
      "execution_count": null,
      "outputs": [
        {
          "output_type": "stream",
          "text": [
            "210/210 [==============================] - 1s 2ms/step - loss: 0.5124 - accuracy: 0.7417\n",
            "Restored model, accuracy: 74.17%\n"
          ],
          "name": "stdout"
        }
      ]
    },
    {
      "cell_type": "code",
      "metadata": {
        "id": "3--lxCBrgcyL",
        "colab": {
          "base_uri": "https://localhost:8080/"
        },
        "outputId": "4af9b2a0-3d12-4852-865e-6b21b5b643f1"
      },
      "source": [
        "model_4 = tf.keras.Sequential([\n",
        "    tf.keras.layers.Embedding(vocab_size, embedding_size, input_length=max_length),\n",
        "    tf.keras.layers.Bidirectional(tf.keras.layers.LSTM(64)),\n",
        "    tf.keras.layers.Dense(64, activation='relu'),\n",
        "    tf.keras.layers.Dropout(0.5),\n",
        "    tf.keras.layers.Dense(1, activation='sigmoid')\n",
        "])\n",
        "model_4.compile(loss=tf.keras.losses.BinaryCrossentropy(),\n",
        "              optimizer=tf.keras.optimizers.Adam(1e-5),\n",
        "              metrics=['accuracy'])\n",
        "model_4.summary()"
      ],
      "execution_count": null,
      "outputs": [
        {
          "output_type": "stream",
          "text": [
            "Model: \"sequential_3\"\n",
            "_________________________________________________________________\n",
            "Layer (type)                 Output Shape              Param #   \n",
            "=================================================================\n",
            "embedding_3 (Embedding)      (None, 16, 8)             80000     \n",
            "_________________________________________________________________\n",
            "bidirectional_2 (Bidirection (None, 128)               37376     \n",
            "_________________________________________________________________\n",
            "dense_6 (Dense)              (None, 64)                8256      \n",
            "_________________________________________________________________\n",
            "dropout_3 (Dropout)          (None, 64)                0         \n",
            "_________________________________________________________________\n",
            "dense_7 (Dense)              (None, 1)                 65        \n",
            "=================================================================\n",
            "Total params: 125,697\n",
            "Trainable params: 125,697\n",
            "Non-trainable params: 0\n",
            "_________________________________________________________________\n"
          ],
          "name": "stdout"
        }
      ]
    },
    {
      "cell_type": "code",
      "metadata": {
        "id": "1pXI6grngcyT",
        "colab": {
          "base_uri": "https://localhost:8080/"
        },
        "outputId": "ca3f5c2c-f24b-4987-9222-d6f31e9b35cc"
      },
      "source": [
        "num_epochs = 10\n",
        "history_4 = model_4.fit(training_padded, training_labels, epochs=num_epochs, validation_data=(testing_padded, testing_labels), verbose=1)\n",
        "\n",
        "#verbose=0 will show you nothing (silent)\n",
        "\n",
        "# verbose=1 will show you an animated progress bar like this:\n",
        "\n",
        "#progres_bar : [=========>......]\n",
        "\n",
        "#verbose=2 will just mention the number of epoch like this:\n",
        "\n",
        "# 1/10.."
      ],
      "execution_count": null,
      "outputs": [
        {
          "output_type": "stream",
          "text": [
            "Epoch 1/10\n",
            "625/625 [==============================] - 12s 16ms/step - loss: 0.6911 - accuracy: 0.5573 - val_loss: 0.6893 - val_accuracy: 0.5633\n",
            "Epoch 2/10\n",
            "625/625 [==============================] - 9s 15ms/step - loss: 0.6880 - accuracy: 0.5603 - val_loss: 0.6862 - val_accuracy: 0.5633\n",
            "Epoch 3/10\n",
            "625/625 [==============================] - 9s 15ms/step - loss: 0.6856 - accuracy: 0.5603 - val_loss: 0.6836 - val_accuracy: 0.5633\n",
            "Epoch 4/10\n",
            "625/625 [==============================] - 9s 15ms/step - loss: 0.6835 - accuracy: 0.5603 - val_loss: 0.6812 - val_accuracy: 0.5633\n",
            "Epoch 5/10\n",
            "625/625 [==============================] - 9s 14ms/step - loss: 0.6808 - accuracy: 0.5602 - val_loss: 0.6779 - val_accuracy: 0.5633\n",
            "Epoch 6/10\n",
            "625/625 [==============================] - 9s 14ms/step - loss: 0.6760 - accuracy: 0.5604 - val_loss: 0.6713 - val_accuracy: 0.5633\n",
            "Epoch 7/10\n",
            "625/625 [==============================] - 9s 14ms/step - loss: 0.6624 - accuracy: 0.5656 - val_loss: 0.6438 - val_accuracy: 0.5879\n",
            "Epoch 8/10\n",
            "625/625 [==============================] - 9s 14ms/step - loss: 0.5788 - accuracy: 0.6961 - val_loss: 0.5127 - val_accuracy: 0.7664\n",
            "Epoch 9/10\n",
            "625/625 [==============================] - 9s 14ms/step - loss: 0.4798 - accuracy: 0.7860 - val_loss: 0.4705 - val_accuracy: 0.7712\n",
            "Epoch 10/10\n",
            "625/625 [==============================] - 9s 15ms/step - loss: 0.4458 - accuracy: 0.7969 - val_loss: 0.4514 - val_accuracy: 0.7807\n"
          ],
          "name": "stdout"
        }
      ]
    },
    {
      "cell_type": "code",
      "metadata": {
        "id": "MJt41aSRgcyT"
      },
      "source": [
        "import matplotlib.pyplot as plt\n",
        "\n",
        "def plot_graphs(history, string):\n",
        "  plt.plot(history_4.history[string])\n",
        "  plt.plot(history_4.history['val_'+string])\n",
        "  plt.xlabel(\"Epochs\")\n",
        "  plt.ylabel(string)\n",
        "  plt.legend([string, 'val_'+string])\n",
        "  plt.show()"
      ],
      "execution_count": null,
      "outputs": []
    },
    {
      "cell_type": "code",
      "metadata": {
        "id": "QgcEfK9OgcyU",
        "colab": {
          "base_uri": "https://localhost:8080/",
          "height": 279
        },
        "outputId": "7e63e5fe-dc17-4ef2-9f2d-b4ca57d95630"
      },
      "source": [
        "plot_graphs(history_4, 'accuracy')"
      ],
      "execution_count": null,
      "outputs": [
        {
          "output_type": "display_data",
          "data": {
            "image/png": "[encoded data removed]",
            "text/plain": [
              "<Figure size 432x288 with 1 Axes>"
            ]
          },
          "metadata": {
            "tags": [],
            "needs_background": "light"
          }
        }
      ]
    },
    {
      "cell_type": "code",
      "metadata": {
        "id": "QI6v8AtIgcyU",
        "colab": {
          "base_uri": "https://localhost:8080/",
          "height": 281
        },
        "outputId": "e7e188e3-e693-44e5-ab80-54f0e78f69c7"
      },
      "source": [
        "plot_graphs(history_4, 'loss')"
      ],
      "execution_count": null,
      "outputs": [
        {
          "output_type": "display_data",
          "data": {
            "image/png": "[encoded data removed]",
            "text/plain": [
              "<Figure size 432x288 with 1 Axes>"
            ]
          },
          "metadata": {
            "tags": [],
            "needs_background": "light"
          }
        }
      ]
    },
    {
      "cell_type": "code",
      "metadata": {
        "id": "ReF4r-Q7Xd5t",
        "colab": {
          "base_uri": "https://localhost:8080/"
        },
        "outputId": "250d78c4-7436-4eac-c9cc-4e59495fabba"
      },
      "source": [
        "!mkdir -p saved_model_bi_lstm_1\n",
        "model_4.save('/content/drive/MyDrive/Sarcasm Detection - 8th Sem/English Models/saved_model_bi_lstm_1/my_model')"
      ],
      "execution_count": null,
      "outputs": [
        {
          "output_type": "stream",
          "text": [
            "WARNING:absl:Found untraced functions such as lstm_cell_15_layer_call_and_return_conditional_losses, lstm_cell_15_layer_call_fn, lstm_cell_16_layer_call_and_return_conditional_losses, lstm_cell_16_layer_call_fn, lstm_cell_15_layer_call_fn while saving (showing 5 of 10). These functions will not be directly callable after loading.\n"
          ],
          "name": "stderr"
        },
        {
          "output_type": "stream",
          "text": [
            "INFO:tensorflow:Assets written to: /content/drive/MyDrive/Sarcasm Detection - 8th Sem/English Models/saved_model_bi_lstm_1/my_model/assets\n"
          ],
          "name": "stdout"
        },
        {
          "output_type": "stream",
          "text": [
            "INFO:tensorflow:Assets written to: /content/drive/MyDrive/Sarcasm Detection - 8th Sem/English Models/saved_model_bi_lstm_1/my_model/assets\n"
          ],
          "name": "stderr"
        }
      ]
    },
    {
      "cell_type": "code",
      "metadata": {
        "id": "9Gz5xO8OXd5v",
        "colab": {
          "base_uri": "https://localhost:8080/"
        },
        "outputId": "84d82d86-56fd-4282-9778-f6726657c051"
      },
      "source": [
        "!ls '/content/drive/MyDrive/Sarcasm Detection - 8th Sem/English Models/saved_model_bi_lstm_1/my_model'"
      ],
      "execution_count": null,
      "outputs": [
        {
          "output_type": "stream",
          "text": [
            "assets\tkeras_metadata.pb  saved_model.pb  variables\n"
          ],
          "name": "stdout"
        }
      ]
    },
    {
      "cell_type": "code",
      "metadata": {
        "id": "H7GK4fT3Xd5v"
      },
      "source": [
        "new_model_4 = tf.keras.models.load_model('/content/drive/MyDrive/Sarcasm Detection - 8th Sem/English Models/saved_model_bi_lstm_1/my_model')"
      ],
      "execution_count": null,
      "outputs": []
    },
    {
      "cell_type": "code",
      "metadata": {
        "id": "k1CqZy5SXd5w",
        "colab": {
          "base_uri": "https://localhost:8080/"
        },
        "outputId": "401c59a2-6b7c-47fc-c94a-c45a4577c17f"
      },
      "source": [
        "loss, acc = new_model_4.evaluate(testing_padded, testing_labels,verbose=1)\n",
        "print('Restored model, accuracy: {:5.2f}%'.format(100 * acc))"
      ],
      "execution_count": null,
      "outputs": [
        {
          "output_type": "stream",
          "text": [
            "210/210 [==============================] - 2s 4ms/step - loss: 0.4514 - accuracy: 0.7807\n",
            "Restored model, accuracy: 78.07%\n"
          ],
          "name": "stdout"
        }
      ]
    },
    {
      "cell_type": "code",
      "metadata": {
        "id": "eqY2GgYGjBJO"
      },
      "source": [],
      "execution_count": null,
      "outputs": []
    }
  ]
}